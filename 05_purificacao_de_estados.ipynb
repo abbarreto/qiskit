{
 "cells": [
  {
   "cell_type": "code",
   "execution_count": null,
   "id": "0a7aaf48",
   "metadata": {},
   "outputs": [],
   "source": [
    "%run init.ipynb"
   ]
  },
  {
   "cell_type": "markdown",
   "id": "c7c95895",
   "metadata": {},
   "source": [
    "# Purificação de estados\n",
    "\n",
    "## Decomposição de Schmidt\n",
    "O estado puro de um sistema de 2 quantons A e B, com dimensões $d_{A}$ e $d_{B}$, respectivamente, pode ser escrito em termos de bases ortonormais locais como\n",
    "$$|\\Psi\\rangle_{AB} = \\sum_{j=0}^{d_{A}-1}\\sum_{k=0}^{d_{B}-1}C_{j,k}|j\\rangle_{A}\\otimes|k\\rangle_{B}.$$\n",
    "\n",
    "O teorema da decomposição de Schmidt diz que podemos escrever estes estados em termos de bases ortonormais locais de forma que\n",
    "$$|\\Psi\\rangle_{AB} = \\sum_{j=0}^{\\min(d_{A},d_{B})-1}\\sqrt{\\lambda_{j}}|\\alpha_{j}\\rangle_{A}\\otimes|\\beta_{j}\\rangle_{B}.$$\n",
    "\n",
    "O operador densidade correspondente é\n",
    "$$\\rho_{AB} = |\\Psi\\rangle_{AB}\\langle\\Psi| = \\sum_{j,k}\\sqrt{\\lambda_{j}\\lambda_{k}}|\\alpha_{j}\\rangle_{A}\\langle\\alpha_{k}|\\otimes|\\beta_{j}\\rangle_{B}\\langle\\beta_{k}|.$$\n",
    "\n",
    "Usando o traço parcial\n",
    "$$Tr_{B}(|\\alpha\\rangle_{A}\\langle\\alpha'|\\otimes|\\beta\\rangle_{B}\\langle\\beta'|)=|\\alpha\\rangle_{A}\\langle\\alpha'|\\otimes_{B}\\langle\\beta'|\\beta\\rangle_{B},$$\n",
    "é fácil verificar que\n",
    "\\begin{align}\n",
    "& \\rho_{A} = \\sum_{j}\\lambda_{j}|\\alpha_{j}\\rangle_{A}\\langle\\alpha_{j}|, \\\\\n",
    "& \\rho_{B} = \\sum_{j}\\lambda_{j}|\\beta_{j}\\rangle_{B}\\langle\\beta_{j}|.\n",
    "\\end{align}"
   ]
  },
  {
   "cell_type": "markdown",
   "id": "be89cdf2",
   "metadata": {},
   "source": [
    "## Purificação\n",
    "Consideremos que queremos preparar um estado misto cuja decomposição espectral é\n",
    "$$\\rho_{A} = \\sum_{j}\\lambda_{j}|\\alpha_{j}\\rangle_{A}\\langle\\alpha_{j}|.$$\n",
    "Por causa da decomposição de Schmidt, sabemos que é possível usar um sistema auxiliar B para purificar A de forma que \n",
    "$$\\rho_{A}=Tr_{B}(|\\Psi\\rangle_{AB}\\langle\\Psi|)$$\n",
    "com\n",
    "$$|\\Psi\\rangle_{AB} = \\sum_{j=0}^{d_{A}-1}\\sqrt{\\lambda_{j}}|\\alpha_{j}\\rangle_{A}\\otimes|\\beta_{j}\\rangle_{B}.$$\n",
    "\n",
    "OBS. Obtemos o mesmo $\\rho_{A}$ se usarmos $|\\Psi\\rangle_{AB}$ ou $I\\otimes U_{B}|\\Psi\\rangle_{AB}$ para $U_{B}U_{B}^{\\dagger}=U_{B}^{\\dagger}U_{B}=I$ sendo uma transformação unitária."
   ]
  },
  {
   "cell_type": "code",
   "execution_count": null,
   "id": "a44c9841",
   "metadata": {},
   "outputs": [],
   "source": []
  }
 ],
 "metadata": {
  "kernelspec": {
   "display_name": "Python 3",
   "language": "python",
   "name": "python3"
  },
  "language_info": {
   "codemirror_mode": {
    "name": "ipython",
    "version": 3
   },
   "file_extension": ".py",
   "mimetype": "text/x-python",
   "name": "python",
   "nbconvert_exporter": "python",
   "pygments_lexer": "ipython3",
   "version": "3.8.11"
  }
 },
 "nbformat": 4,
 "nbformat_minor": 5
}
