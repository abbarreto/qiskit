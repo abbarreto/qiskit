{
 "cells": [
  {
   "cell_type": "code",
   "execution_count": 1,
   "id": "f5746826",
   "metadata": {},
   "outputs": [],
   "source": [
    "from qiskit import * # import tudo do qiskit"
   ]
  },
  {
   "cell_type": "code",
   "execution_count": 2,
   "id": "7ac4560d",
   "metadata": {},
   "outputs": [],
   "source": [
    "# Determina o número de qubits e de cbits a serem utilizados\n",
    "qr = QuantumRegister(2)\n",
    "cr = ClassicalRegister(2)\n",
    "\n",
    "# Constrói o circuito quântico\n",
    "qc = QuantumCircuit(qr, cr)"
   ]
  },
  {
   "cell_type": "code",
   "execution_count": 3,
   "id": "2239ed0b",
   "metadata": {},
   "outputs": [],
   "source": [
    "# para o circuitos quânticos ficarem mais apresentáveis\n",
    "%matplotlib inline "
   ]
  },
  {
   "cell_type": "code",
   "execution_count": 4,
   "id": "805d37fe",
   "metadata": {},
   "outputs": [
    {
     "data": {
      "image/png": "[encoded data removed]",
      "text/plain": [
       "<Figure size 129.533x204.68 with 1 Axes>"
      ]
     },
     "execution_count": 4,
     "metadata": {},
     "output_type": "execute_result"
    }
   ],
   "source": [
    "# desenha o circuito quântico\n",
    "qc.draw(output = 'mpl')"
   ]
  },
  {
   "cell_type": "code",
   "execution_count": 5,
   "id": "7abe2f6f",
   "metadata": {},
   "outputs": [],
   "source": [
    "# adiciona a porta lógica de Hadamard ao circuito, aplicada no qubit (registro quântico) 0\n",
    "qc.h(qr[0]); # tem que usar ; pra não dar aviso"
   ]
  },
  {
   "cell_type": "code",
   "execution_count": 10,
   "id": "a2e4f4e3",
   "metadata": {},
   "outputs": [
    {
     "data": {
      "image/png": "[encoded data removed]",
      "text/plain": [
       "<Figure size 159.633x204.68 with 1 Axes>"
      ]
     },
     "execution_count": 10,
     "metadata": {},
     "output_type": "execute_result"
    }
   ],
   "source": [
    "qc.draw(output = 'mpl') # o output = 'mpl' é para a figura ficar mais apresentável"
   ]
  },
  {
   "cell_type": "code",
   "execution_count": 11,
   "id": "99850776",
   "metadata": {},
   "outputs": [],
   "source": [
    "# adiciona uma controll-not ao circuito, com o controle sendo qr[0] e o target sendo qr[1]\n",
    "qc.cx(qr[0],qr[1]);"
   ]
  },
  {
   "cell_type": "code",
   "execution_count": 12,
   "id": "0939fff1",
   "metadata": {},
   "outputs": [
    {
     "data": {
      "image/png": "[encoded data removed]",
      "text/plain": [
       "<Figure size 219.833x204.68 with 1 Axes>"
      ]
     },
     "execution_count": 12,
     "metadata": {},
     "output_type": "execute_result"
    }
   ],
   "source": [
    "# é importante sempre mandar mostrar o circuito, pra ter certeza que é realmente o que queremos construir\n",
    "qc.draw(output = 'mpl')"
   ]
  },
  {
   "cell_type": "code",
   "execution_count": 13,
   "id": "c5263373",
   "metadata": {},
   "outputs": [],
   "source": [
    "# adiciona medidas em todos os qubits (a ser usada quando queremos acessar a distribuições de probabilidades)\n",
    "qc.measure(qr,cr);"
   ]
  },
  {
   "cell_type": "code",
   "execution_count": 14,
   "id": "16dd67ad",
   "metadata": {},
   "outputs": [
    {
     "data": {
      "image/png": "[encoded data removed]",
      "text/plain": [
       "<Figure size 340.233x204.68 with 1 Axes>"
      ]
     },
     "execution_count": 14,
     "metadata": {},
     "output_type": "execute_result"
    }
   ],
   "source": [
    "qc.draw(output = 'mpl')"
   ]
  },
  {
   "cell_type": "code",
   "execution_count": 15,
   "id": "08845f27",
   "metadata": {},
   "outputs": [],
   "source": [
    "# Determina o backend a ser usando, que poder ser um simulador ou um chip real\n",
    "# Neste caso escolhemos o simulador qasm_simulator\n",
    "simulator = Aer.get_backend('qasm_simulator')"
   ]
  },
  {
   "cell_type": "code",
   "execution_count": 16,
   "id": "e4275b27",
   "metadata": {},
   "outputs": [],
   "source": [
    "# número de medidas para estimativa de uma distribuição de probabilidades\n",
    "nshots = 8192"
   ]
  },
  {
   "cell_type": "code",
   "execution_count": 57,
   "id": "6af2f13c",
   "metadata": {},
   "outputs": [],
   "source": [
    "# executa o circuito qc no backend escolhido\n",
    "result = execute(qc, backend = simulator, shots = nshots).result()"
   ]
  },
  {
   "cell_type": "code",
   "execution_count": 19,
   "id": "78ffe26b",
   "metadata": {},
   "outputs": [
    {
     "ename": "AttributeError",
     "evalue": "module 'qiskit.result' has no attribute 'get_counts'",
     "output_type": "error",
     "traceback": [
      "\u001b[0;31m---------------------------------------------------------------------------\u001b[0m",
      "\u001b[0;31mAttributeError\u001b[0m                            Traceback (most recent call last)",
      "\u001b[0;32m<ipython-input-19-6a25a8ab2085>\u001b[0m in \u001b[0;36m<module>\u001b[0;34m\u001b[0m\n\u001b[1;32m      1\u001b[0m \u001b[0;31m# para visualizar o histograma da distribuição de probabilidades\u001b[0m\u001b[0;34m\u001b[0m\u001b[0;34m\u001b[0m\u001b[0;34m\u001b[0m\u001b[0m\n\u001b[1;32m      2\u001b[0m \u001b[0;32mfrom\u001b[0m \u001b[0mqiskit\u001b[0m\u001b[0;34m.\u001b[0m\u001b[0mtools\u001b[0m\u001b[0;34m.\u001b[0m\u001b[0mvisualization\u001b[0m \u001b[0;32mimport\u001b[0m \u001b[0mplot_histogram\u001b[0m\u001b[0;34m\u001b[0m\u001b[0;34m\u001b[0m\u001b[0m\n\u001b[0;32m----> 3\u001b[0;31m \u001b[0mplot_histogram\u001b[0m\u001b[0;34m(\u001b[0m\u001b[0mresult\u001b[0m\u001b[0;34m.\u001b[0m\u001b[0mget_counts\u001b[0m\u001b[0;34m(\u001b[0m\u001b[0mqc\u001b[0m\u001b[0;34m)\u001b[0m\u001b[0;34m)\u001b[0m\u001b[0;34m\u001b[0m\u001b[0;34m\u001b[0m\u001b[0m\n\u001b[0m",
      "\u001b[0;31mAttributeError\u001b[0m: module 'qiskit.result' has no attribute 'get_counts'"
     ]
    }
   ],
   "source": [
    "# para visualizar o histograma da distribuição de probabilidades\n",
    "from qiskit.tools.visualization import plot_histogram\n",
    "plot_histogram(result.get_counts(qc))"
   ]
  },
  {
   "cell_type": "code",
   "execution_count": 85,
   "id": "0a5e9aa7",
   "metadata": {},
   "outputs": [],
   "source": [
    "#provider = IBMQ.get_provider('ibm-q')\n",
    "provider = IBMQ.get_provider(hub = 'ibm-q-research-2', group = 'federal-uni-sant-1', project = 'main')"
   ]
  },
  {
   "cell_type": "code",
   "execution_count": 86,
   "id": "5f659d55",
   "metadata": {},
   "outputs": [
    {
     "data": {
      "text/plain": [
       "[<IBMQSimulator('ibmq_qasm_simulator') from IBMQ(hub='ibm-q-research-2', group='federal-uni-sant-1', project='main')>,\n",
       " <IBMQBackend('ibmqx2') from IBMQ(hub='ibm-q-research-2', group='federal-uni-sant-1', project='main')>,\n",
       " <IBMQBackend('ibmq_16_melbourne') from IBMQ(hub='ibm-q-research-2', group='federal-uni-sant-1', project='main')>,\n",
       " <IBMQBackend('ibmq_armonk') from IBMQ(hub='ibm-q-research-2', group='federal-uni-sant-1', project='main')>,\n",
       " <IBMQBackend('ibmq_athens') from IBMQ(hub='ibm-q-research-2', group='federal-uni-sant-1', project='main')>,\n",
       " <IBMQBackend('ibmq_rome') from IBMQ(hub='ibm-q-research-2', group='federal-uni-sant-1', project='main')>,\n",
       " <IBMQBackend('ibmq_santiago') from IBMQ(hub='ibm-q-research-2', group='federal-uni-sant-1', project='main')>,\n",
       " <IBMQBackend('ibmq_bogota') from IBMQ(hub='ibm-q-research-2', group='federal-uni-sant-1', project='main')>,\n",
       " <IBMQBackend('ibmq_casablanca') from IBMQ(hub='ibm-q-research-2', group='federal-uni-sant-1', project='main')>,\n",
       " <IBMQBackend('ibmq_lima') from IBMQ(hub='ibm-q-research-2', group='federal-uni-sant-1', project='main')>,\n",
       " <IBMQBackend('ibmq_belem') from IBMQ(hub='ibm-q-research-2', group='federal-uni-sant-1', project='main')>,\n",
       " <IBMQBackend('ibmq_quito') from IBMQ(hub='ibm-q-research-2', group='federal-uni-sant-1', project='main')>,\n",
       " <IBMQSimulator('simulator_statevector') from IBMQ(hub='ibm-q-research-2', group='federal-uni-sant-1', project='main')>,\n",
       " <IBMQSimulator('simulator_mps') from IBMQ(hub='ibm-q-research-2', group='federal-uni-sant-1', project='main')>,\n",
       " <IBMQSimulator('simulator_extended_stabilizer') from IBMQ(hub='ibm-q-research-2', group='federal-uni-sant-1', project='main')>,\n",
       " <IBMQSimulator('simulator_stabilizer') from IBMQ(hub='ibm-q-research-2', group='federal-uni-sant-1', project='main')>,\n",
       " <IBMQBackend('ibmq_manila') from IBMQ(hub='ibm-q-research-2', group='federal-uni-sant-1', project='main')>]"
      ]
     },
     "execution_count": 86,
     "metadata": {},
     "output_type": "execute_result"
    }
   ],
   "source": [
    "provider.backends()"
   ]
  },
  {
   "cell_type": "code",
   "execution_count": 87,
   "id": "f00da061",
   "metadata": {},
   "outputs": [],
   "source": [
    "#qcomp = provider.get_backend('ibmq_16_melbourne')\n",
    "qcomp = provider.get_backend('ibmq_belem')"
   ]
  },
  {
   "cell_type": "code",
   "execution_count": 88,
   "id": "38572d92",
   "metadata": {},
   "outputs": [
    {
     "data": {
      "text/plain": [
       "'ibmq_belem'"
      ]
     },
     "execution_count": 88,
     "metadata": {},
     "output_type": "execute_result"
    }
   ],
   "source": [
    "qcomp.name()"
   ]
  },
  {
   "cell_type": "code",
   "execution_count": 80,
   "id": "51dc247b",
   "metadata": {},
   "outputs": [],
   "source": [
    "job = execute(circuit, backend = qcomp, shots = nshots)"
   ]
  },
  {
   "cell_type": "code",
   "execution_count": 81,
   "id": "ed4594de",
   "metadata": {},
   "outputs": [],
   "source": [
    "from qiskit.tools.monitor import job_monitor"
   ]
  },
  {
   "cell_type": "code",
   "execution_count": 82,
   "id": "1127ac5f",
   "metadata": {},
   "outputs": [
    {
     "name": "stdout",
     "output_type": "stream",
     "text": [
      "Job Status: job has successfully run\n"
     ]
    }
   ],
   "source": [
    "job_monitor(job)"
   ]
  },
  {
   "cell_type": "code",
   "execution_count": 83,
   "id": "8441b516",
   "metadata": {},
   "outputs": [],
   "source": [
    "result = job.result()"
   ]
  },
  {
   "cell_type": "code",
   "execution_count": 84,
   "id": "5a1b1acb",
   "metadata": {},
   "outputs": [
    {
     "data": {
      "image/png": "[encoded data removed]",
      "text/plain": [
       "<Figure size 504x360 with 1 Axes>"
      ]
     },
     "execution_count": 84,
     "metadata": {},
     "output_type": "execute_result"
    }
   ],
   "source": [
    "plot_histogram(result.get_counts(circuit))"
   ]
  },
  {
   "cell_type": "code",
   "execution_count": null,
   "id": "f2c7727b",
   "metadata": {},
   "outputs": [],
   "source": []
  }
 ],
 "metadata": {
  "kernelspec": {
   "display_name": "Python 3",
   "language": "python",
   "name": "python3"
  },
  "language_info": {
   "codemirror_mode": {
    "name": "ipython",
    "version": 3
   },
   "file_extension": ".py",
   "mimetype": "text/x-python",
   "name": "python",
   "nbconvert_exporter": "python",
   "pygments_lexer": "ipython3",
   "version": "3.8.8"
  }
 },
 "nbformat": 4,
 "nbformat_minor": 5
}
