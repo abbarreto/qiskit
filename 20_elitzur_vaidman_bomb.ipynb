{
 "cells": [
  {
   "cell_type": "code",
   "execution_count": 1,
   "id": "2849a1d8",
   "metadata": {},
   "outputs": [],
   "source": [
    "%run init.ipynb"
   ]
  },
  {
   "cell_type": "code",
   "execution_count": 2,
   "id": "3c468330",
   "metadata": {},
   "outputs": [],
   "source": [
    "from qiskit import *"
   ]
  },
  {
   "cell_type": "markdown",
   "id": "9f4646af",
   "metadata": {},
   "source": [
    "# O experimento da bomba de Elitzur e Vaidman\n",
    "Consideremos o experimento de Mach-Zehnder, com uma bomba sensível a um único fóton colocada no caminho vertical, depois do espelho. Veja a figura abaixo.\n",
    "<img src = 'fig_bomba.png' width = '300'>"
   ]
  },
  {
   "cell_type": "markdown",
   "id": "80227f31",
   "metadata": {},
   "source": [
    "Ao passar pelo divisor de feixes, o fóton é colocado em um estado de superposição, seguindo pelos dois caminhos. A bomba funciona como um detector. Então, com probabilidade $1/2$ esta explodirá e com probabilidade 1/2 não acontecerá nada. \n",
    "\n",
    "No caso do estado de posição do fóton colapsar para o caminho onde a bomba não está, quando o fóton chegar ao segundo divisor de feixes, terá também 50% de chance de ser ou não ser refletido. Quando comparado ao caso em que a bomba não existe, para o qual \n",
    "$$Pr(1)=0, \\text{sem a bomba.}$$\n",
    "quando a bomba está presente, teremos uma probabilidade\n",
    "$$(1/2)(1/2) = 1/4 = Pr(1), \\text{com a bomba,}$$\n",
    "de detectarmos a bomba sem explodí-la.\n",
    "\n",
    "Esse efeito foi chamado de __medida livre de interação__, pois detectamos a presença da bomba sem o fóton ter interagido com ela (embora essa afirmação seja discutível). Também chama-se esse tipo de fenômeno de contra-factual. Alguns usam esse experimento para argumentar que a interpretação de muitos mundos de Everett seria adequada para explicar o que acontece aqui (a bomba explode, mas as vezes explode em outro universo)."
   ]
  },
  {
   "cell_type": "markdown",
   "id": "54a1efde",
   "metadata": {},
   "source": [
    "Vamos simular o processo de medida da bomba a tratando como um qubit que se emaranha com o fóton. Ou seja, identificamos\n",
    "\\begin{cases}\n",
    "|0\\rangle \\equiv \\text{ bomba não explodiu}, \\\\\n",
    "|1\\rangle \\equiv \\text{ bomba explodiu}.\n",
    "\\end{cases}\n",
    "Inicialmente a bomba está no estado $|0\\rangle$. O processo de medida da bomba atua como a placa de quarto de onda, que vimos quando da discussão sobre o apagador quântico. Ou seja\n",
    "$$U_{b} = |0\\rangle\\langle0|\\otimes I + |1\\rangle\\langle 1|\\otimes X.$$\n",
    "Como o estado do fóton imediatamente antes da bomba é\n",
    "$$(-|0\\rangle+i|1\\rangle)/\\sqrt{2},$$\n",
    "depois que a bomba atua, teremos o estado\n",
    "$$U_{b}(-|0\\rangle_{f}+i|1\\rangle_{f})|0\\rangle_{b}/\\sqrt{2} = (-|00\\rangle_{fb}+i|11\\rangle_{fb})/\\sqrt{2}.$$\n",
    "Finalmente, atuando o último divisor de feixes obteremos o estado\n",
    "\\begin{align}\n",
    "& \\frac{1}{2}\\big(-(|0\\rangle_{f}+i|1\\rangle_{f})|0\\rangle_{b}+i(i|0\\rangle_{f}+|1\\rangle_{f})|1\\rangle_{b})\\big) \\\\\n",
    "& = \\frac{1}{2}\\big(-|00\\rangle_{fb}-i|10\\rangle_{fb}-|01\\rangle_{fb}+i|11\\rangle_{fb}\\big).\n",
    "\\end{align}\n",
    "Assim, a probabilidade de do fóton chegar em D1 e a bomba não explodir é\n",
    "$$Pr(10) = |c_{10}|^{2} = |-i/2|^{2} = \\frac{1}{4}.$$\n",
    "\n",
    "Abaixo está a implementação do experimento da bomba de Elitzur-Vaidman usando o IBMQ."
   ]
  },
  {
   "cell_type": "code",
   "execution_count": 33,
   "id": "8f2e69ea",
   "metadata": {},
   "outputs": [
    {
     "name": "stderr",
     "output_type": "stream",
     "text": [
      "ibmqfactory.load_account:WARNING:2022-01-11 18:24:31,565: Credentials are already in use. The existing account in the session will be replaced.\n"
     ]
    }
   ],
   "source": [
    "from qiskit.ignis.verification.tomography import state_tomography_circuits, StateTomographyFitter\n",
    "nshots = 8192\n",
    "qiskit.IBMQ.load_account()\n",
    "provider = qiskit.IBMQ.get_provider(hub = 'ibm-q-research-2', group = 'federal-uni-sant-1', project = 'main')\n",
    "simulator = Aer.get_backend('qasm_simulator')\n",
    "device = provider.get_backend('ibmq_bogota')\n",
    "from qiskit.tools.monitor import job_monitor\n",
    "from qiskit.tools.visualization import plot_histogram"
   ]
  },
  {
   "cell_type": "code",
   "execution_count": 28,
   "id": "1f727ec3",
   "metadata": {},
   "outputs": [
    {
     "data": {
      "text/html": [
       "<pre style=\"word-wrap: normal;white-space: pre;background: #fff0;line-height: 1.1;font-family: &quot;Courier New&quot;,Courier,monospace\">     ┌───┐┌───┐┌───┐\n",
       "q_0: ┤ S ├┤ H ├┤ S ├\n",
       "     └───┘└───┘└───┘</pre>"
      ],
      "text/plain": [
       "     ┌───┐┌───┐┌───┐\n",
       "q_0: ┤ S ├┤ H ├┤ S ├\n",
       "     └───┘└───┘└───┘"
      ]
     },
     "execution_count": 28,
     "metadata": {},
     "output_type": "execute_result"
    }
   ],
   "source": [
    "def qc_df():\n",
    "    qc = QuantumCircuit(1, name = 'DF')\n",
    "    qc.s(0); qc.h(0); qc.s(0)\n",
    "    return qc\n",
    "qc_df_ = qc_df(); qc_df_.draw()"
   ]
  },
  {
   "cell_type": "code",
   "execution_count": 40,
   "id": "860254ef",
   "metadata": {},
   "outputs": [
    {
     "data": {
      "text/html": [
       "<pre style=\"word-wrap: normal;white-space: pre;background: #fff0;line-height: 1.1;font-family: &quot;Courier New&quot;,Courier,monospace\">          \n",
       "q_0: ──■──\n",
       "     ┌─┴─┐\n",
       "q_1: ┤ X ├\n",
       "     └───┘</pre>"
      ],
      "text/plain": [
       "          \n",
       "q_0: ──■──\n",
       "     ┌─┴─┐\n",
       "q_1: ┤ X ├\n",
       "     └───┘"
      ]
     },
     "execution_count": 40,
     "metadata": {},
     "output_type": "execute_result"
    }
   ],
   "source": [
    "def qc_bomb():\n",
    "    qc = QuantumCircuit(2, name='bomba')\n",
    "    qc.cx(0,1)\n",
    "    return qc\n",
    "qc_bomb_ = qc_bomb(); qc_bomb_.draw()"
   ]
  },
  {
   "cell_type": "code",
   "execution_count": 41,
   "id": "5fe6a0f0",
   "metadata": {},
   "outputs": [
    {
     "data": {
      "text/html": [
       "<pre style=\"word-wrap: normal;white-space: pre;background: #fff0;line-height: 1.1;font-family: &quot;Courier New&quot;,Courier,monospace\">     ┌───┐┌───┐\n",
       "q_0: ┤ Z ├┤ Y ├\n",
       "     └───┘└───┘</pre>"
      ],
      "text/plain": [
       "     ┌───┐┌───┐\n",
       "q_0: ┤ Z ├┤ Y ├\n",
       "     └───┘└───┘"
      ]
     },
     "execution_count": 41,
     "metadata": {},
     "output_type": "execute_result"
    }
   ],
   "source": [
    "def qc_espelho():\n",
    "    qc = QuantumCircuit(1, name='espelho')\n",
    "    qc.z(0); qc.y(0)\n",
    "    return qc\n",
    "qc_espelho_ = qc_espelho(); qc_espelho_.draw()"
   ]
  },
  {
   "cell_type": "code",
   "execution_count": 42,
   "id": "4971cd95",
   "metadata": {},
   "outputs": [
    {
     "data": {
      "text/html": [
       "<pre style=\"word-wrap: normal;white-space: pre;background: #fff0;line-height: 1.1;font-family: &quot;Courier New&quot;,Courier,monospace\">     ┌────┐┌─────────┐┌────────┐┌────┐ ░ ┌─┐   \n",
       "q_0: ┤ DF ├┤ espelho ├┤0       ├┤ DF ├─░─┤M├───\n",
       "     └────┘└─────────┘│  bomba │└────┘ ░ └╥┘┌─┐\n",
       "q_1: ─────────────────┤1       ├───────░──╫─┤M├\n",
       "                      └────────┘       ░  ║ └╥┘\n",
       "c: 2/═════════════════════════════════════╩══╩═\n",
       "                                          0  1 </pre>"
      ],
      "text/plain": [
       "     ┌────┐┌─────────┐┌────────┐┌────┐ ░ ┌─┐   \n",
       "q_0: ┤ DF ├┤ espelho ├┤0       ├┤ DF ├─░─┤M├───\n",
       "     └────┘└─────────┘│  bomba │└────┘ ░ └╥┘┌─┐\n",
       "q_1: ─────────────────┤1       ├───────░──╫─┤M├\n",
       "                      └────────┘       ░  ║ └╥┘\n",
       "c: 2/═════════════════════════════════════╩══╩═\n",
       "                                          0  1 "
      ]
     },
     "execution_count": 42,
     "metadata": {},
     "output_type": "execute_result"
    }
   ],
   "source": [
    "qc = QuantumCircuit(2, 2)\n",
    "qc_df_ = qc_df(); qc.append(qc_df_, [0])\n",
    "qc_espelho_ = qc_espelho(); qc.append(qc_espelho_, [0])\n",
    "qc_bomb_ = qc_bomb(); qc.append(qc_bomb_, [0,1])\n",
    "qc.append(qc_df_, [0]); qc.barrier()\n",
    "qc.measure([0,1],[0,1])\n",
    "qc.draw()"
   ]
  },
  {
   "cell_type": "code",
   "execution_count": 43,
   "id": "e89ab224",
   "metadata": {},
   "outputs": [
    {
     "data": {
      "image/png": "[encoded data removed]",
      "text/plain": [
       "<Figure size 504x360 with 1 Axes>"
      ]
     },
     "execution_count": 43,
     "metadata": {},
     "output_type": "execute_result"
    }
   ],
   "source": [
    "job = qiskit.execute(qc, backend = simulator, shots = nshots)\n",
    "plot_histogram(job.result().get_counts(qc))"
   ]
  },
  {
   "cell_type": "code",
   "execution_count": 44,
   "id": "f4634315",
   "metadata": {},
   "outputs": [
    {
     "name": "stdout",
     "output_type": "stream",
     "text": [
      "61def0fd87d4f857d12400e2\n",
      "Job Status: job has successfully run\n"
     ]
    }
   ],
   "source": [
    "job = qiskit.execute(qc, backend = device, shots = nshots)\n",
    "print(job.job_id()); job_monitor(job)"
   ]
  },
  {
   "cell_type": "code",
   "execution_count": 45,
   "id": "0e1a7adb",
   "metadata": {},
   "outputs": [
    {
     "data": {
      "image/png": "[encoded data removed]",
      "text/plain": [
       "<Figure size 504x360 with 1 Axes>"
      ]
     },
     "execution_count": 45,
     "metadata": {},
     "output_type": "execute_result"
    }
   ],
   "source": [
    "plot_histogram(job.result().get_counts(qc))"
   ]
  },
  {
   "cell_type": "markdown",
   "id": "84b7f64f",
   "metadata": {},
   "source": [
    "Esse conceito de medida livre de interação é realmente interessante. Podemos pensar e.g. e fazer uma imagem de raios X \"sem\" jogar raiox X sobre a amostra (evitando câncer, por exemplo). A seguir discutiremos uma maneira de chegar mais próximo do \"sem\". \n",
    "\n",
    "## Divisor de feixes geral\n",
    "Ao invés de considerar um divisor de feixes (DF) com refletividade 50%, vamos considerar um divisor de feixes com uma refletividade geral (DFG). Temos que\n",
    "\\begin{cases}\n",
    "R^{2} = \\text{ probabilidade do fóton ser refletido} = \\text{ taxa temporal de fótons refletidos}, \\\\\n",
    "T^{2} = \\text{ probabilidade do fóton ser transmitido} = \\text{ taxa temporal de fótons transmitidos}.\n",
    "\\end{cases}\n",
    "Devemos ter portanto\n",
    "$$R^{2}+T^{2}=1.$$\n",
    "\n",
    "Neste caso geral, o efeito do DFG será\n",
    "\\begin{cases}\n",
    "|0\\rangle \\rightarrow T|0\\rangle+iR|1\\rangle, \\\\\n",
    "|1\\rangle \\rightarrow T|1\\rangle+iR|0\\rangle.\n",
    "\\end{cases}\n",
    "Com isso, vem que\n",
    "\\begin{align}\n",
    "U_{dfg}|\\psi\\rangle & = \\begin{bmatrix}U_{11}&U_{12}\\\\U_{21}&U_{22}\\end{bmatrix}\\begin{bmatrix}c_{0}\\\\c_{1}\\end{bmatrix} \\\\\n",
    "& = c_{0}U_{dfg}|0\\rangle + c_{1}U_{dfg}|1\\rangle =  c_{0}(T|0\\rangle+iR|1\\rangle) + c_{1}(T|1\\rangle+iR|0\\rangle) \\\\\n",
    "& = (Tc_{0}+iRc_{1})|0\\rangle + (iRc_{0}+Tc_{1})|1\\rangle = \\begin{bmatrix}Tc_{0}+iRc_{1}\\\\iRc_{0}+Tc_{1}\\end{bmatrix}.\n",
    "\\end{align}\n",
    "Portanto\n",
    "$$U_{dfg} \\doteq \\begin{bmatrix}T&iR\\\\iR&T\\end{bmatrix} =: \\begin{bmatrix}\\cos\\theta&i\\sin\\theta\\\\i\\sin\\theta&\\cos\\theta\\end{bmatrix} = U_{dfg}(\\theta).$$"
   ]
  },
  {
   "cell_type": "code",
   "execution_count": 47,
   "id": "f9b4af4b",
   "metadata": {},
   "outputs": [
    {
     "data": {
      "image/png": "[encoded data removed]",
      "text/latex": [
       "$\\displaystyle \\left( \\left[\\begin{matrix}1.0 R^{2} + T^{2} & 0\\\\0 & 1.0 R^{2} + T^{2}\\end{matrix}\\right], \\  \\left[\\begin{matrix}1.0 R^{2} + T^{2} & 0\\\\0 & 1.0 R^{2} + T^{2}\\end{matrix}\\right]\\right)$"
      ],
      "text/plain": [
       "⎛⎡     2    2             ⎤  ⎡     2    2             ⎤⎞\n",
       "⎜⎢1.0⋅R  + T        0     ⎥  ⎢1.0⋅R  + T        0     ⎥⎟\n",
       "⎜⎢                        ⎥, ⎢                        ⎥⎟\n",
       "⎜⎢                  2    2⎥  ⎢                  2    2⎥⎟\n",
       "⎝⎣     0       1.0⋅R  + T ⎦  ⎣     0       1.0⋅R  + T ⎦⎠"
      ]
     },
     "execution_count": 47,
     "metadata": {},
     "output_type": "execute_result"
    }
   ],
   "source": [
    "T, R = symbols('T R'); Udfg = Matrix([[T,1j*R],[1j*R,T]]); Udfgd = Matrix([[T,-1j*R],[-1j*R,T]])\n",
    "Udfg*Udfgd, Udfgd*Udfg # ok, é unitária"
   ]
  },
  {
   "cell_type": "markdown",
   "id": "ea47fe36",
   "metadata": {},
   "source": [
    "Claro, teremos o caso especial \n",
    "$$U_{df} = U_{dfg}(\\theta = \\pi/4) = U_{dfg}(T = R = 1/\\sqrt{2}).$$\n",
    "\n",
    "Ademais, como \n",
    "$$RX(\\theta) = e^{-iX\\theta/2} = \\begin{bmatrix}\\cos(\\theta/2)&-i\\sin(\\theta/2)\\\\-i\\sin(\\theta/2)&\\cos(\\theta/2)\\end{bmatrix},$$\n",
    "temos que\n",
    "$$ U_{dfg}(\\theta) = RX(-2\\theta).$$"
   ]
  },
  {
   "cell_type": "markdown",
   "id": "75a36e7a",
   "metadata": {},
   "source": [
    "### Mach-Zehnder com divisor de feixes geral\n",
    "Considere o interferômetro de Mach-Zehnder (IMZ) da figura abaixo, mas os divisores de feixes (DFs) gerais.\n",
    "<img src='fig_imz.png' width='300'>\n",
    "Teremos a seguinte sequência de estados\n",
    "\\begin{align}\n",
    "& |0\\rangle \\stackrel{DFG}{\\longrightarrow} \\cos\\theta|0\\rangle + i\\sin\\theta|1\\rangle  \\\\\n",
    "& \\stackrel{E}{\\longrightarrow} i\\cos\\theta|1\\rangle + i^{2}\\sin\\theta|0\\rangle \\\\\n",
    "& \\stackrel{\\phi}{\\longrightarrow} ie^{i\\phi}\\cos\\theta|1\\rangle - \\sin\\theta|0\\rangle \\\\\n",
    "& \\stackrel{DFG}{\\longrightarrow} ie^{i\\phi}\\cos\\theta(\\cos\\theta|1\\rangle+i\\sin\\theta|0\\rangle) - \\sin\\theta(\\cos\\theta|0\\rangle+i\\sin\\theta|1\\rangle) \\\\\n",
    "& = -\\sin\\theta\\cos\\theta(1+e^{i\\phi})|0\\rangle +i\\big(e^{i\\phi}\\cos^{2}\\theta-\\sin^{2}\\theta\\big)|1\\rangle.\n",
    "\\end{align}\n",
    "Assim\n",
    "$$Pr(D_{0}) = \\sin^{2}\\theta\\cos^{2}\\theta|1+e^{i\\phi}|^{2} = 2\\sin^{2}\\theta\\cos^{2}\\theta(1+\\cos\\phi)$$\n",
    "e\n",
    "\\begin{align}\n",
    "V = \\frac{P_{\\max}-P_{\\min}}{P_{\\max}+P_{\\min}} = \\frac{2\\sin^{2}\\theta\\cos^{2}\\theta - 0}{2\\sin^{2}\\theta\\cos^{2}\\theta + 0}.\n",
    "\\end{align}"
   ]
  },
  {
   "cell_type": "markdown",
   "id": "5c752eed",
   "metadata": {},
   "source": [
    "## Diminuindo a probabilidade da bomba explodir\n",
    "\n",
    "Para referência, se aplicarmos 2 vezes o DFG, teremos\n",
    "\\begin{align}\n",
    "U_{dfg}(\\theta)U_{dfg}(\\phi) & = \\begin{bmatrix}\\cos\\theta&i\\sin\\theta\\\\i\\sin\\theta&\\cos\\theta\\end{bmatrix}\\begin{bmatrix}\\cos\\phi&i\\sin\\phi\\\\i\\sin\\phi&\\cos\\phi\\end{bmatrix} \\\\\n",
    "& = \\begin{bmatrix}\\cos\\theta\\cos\\phi-\\sin\\theta\\sin\\phi & i(\\sin\\theta\\cos\\phi+\\cos\\theta\\sin\\phi) \\\\ i(\\sin\\theta\\cos\\phi+\\cos\\theta\\sin\\phi) & \\cos\\theta\\cos\\phi-\\sin\\theta\\sin\\phi\\end{bmatrix} \\\\\n",
    "& = \\begin{bmatrix} \\cos(\\theta+\\phi) & i\\sin(\\theta+\\phi) \\\\ i\\sin(\\theta+\\phi) & \\cos(\\theta+\\phi) \\end{bmatrix}  = U_{dfg}(\\theta+\\phi).\n",
    "\\end{align}\n",
    "OBS: Embora isso não pareça importar aqui, observo que $U_{dfg}(\\theta)$ formam um grupo $\\big(e=U_{dfg}(0)$, $U_{dfg}^{-1}(\\theta)=U_{dfg}(-\\theta)\\big)$. <br>\n",
    "Para o DF, teremos\n",
    "$$U_{df}U_{df} = U_{dfg}(\\pi/4)U_{dfg}(\\pi/4) = U_{dfg}(\\pi/2).$$\n",
    "Notemos que essas são as duas operações mais importantes no IMZ, uma cria superposição e a outra faz com que haja interferência entre os diferentes caminhos. "
   ]
  },
  {
   "cell_type": "code",
   "execution_count": null,
   "id": "ba58aa41",
   "metadata": {},
   "outputs": [],
   "source": []
  }
 ],
 "metadata": {
  "kernelspec": {
   "display_name": "Python 3 (ipykernel)",
   "language": "python",
   "name": "python3"
  },
  "language_info": {
   "codemirror_mode": {
    "name": "ipython",
    "version": 3
   },
   "file_extension": ".py",
   "mimetype": "text/x-python",
   "name": "python",
   "nbconvert_exporter": "python",
   "pygments_lexer": "ipython3",
   "version": "3.8.8"
  }
 },
 "nbformat": 4,
 "nbformat_minor": 5
}
