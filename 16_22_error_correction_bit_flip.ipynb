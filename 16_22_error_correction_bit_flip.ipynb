{
 "cells": [
  {
   "cell_type": "code",
   "execution_count": 1,
   "id": "67d37275",
   "metadata": {},
   "outputs": [],
   "source": [
    "%run init.ipynb"
   ]
  },
  {
   "cell_type": "markdown",
   "id": "29cb5263",
   "metadata": {},
   "source": [
    "# Correção de erros clássicos\n",
    "\n",
    "## Código clássico de repetição\n",
    "Consideremos bits clássicos com probabilidade de transição\n",
    "\\begin{align}\n",
    "& Pr(0\\rightarrow 1) = Pr(1\\rightarrow 0) = p, \\\\\n",
    "& Pr(0\\rightarrow 0) = Pr(1\\rightarrow 1) = 1-p,\n",
    "\\end{align}\n",
    "com $p\\in[0,1]$.\n",
    "\n",
    "Uma maneira simples de identificar e corrigir erros é usar repetição. Ou seja, usamos a codificação nos bits lógicos\n",
    "\\begin{align}\n",
    "& 0\\rightarrow 000 = 0_{L}, \\\\\n",
    "& 1\\rightarrow 111 = 1_{L},\n",
    "\\end{align}\n",
    "em que $j_{L}$ é chamado de bit lógico. Para identificar o erro, medimos os três bits e usamos o voto da maioria. Por exemplo, se medimos\n",
    "$$010 \\rightarrow\\text{ corrige } \\rightarrow 000=0_{L}.$$\n",
    "Se medimos e.g.\n",
    "$$110 \\rightarrow\\text{ corrige } \\rightarrow 111=1_{L}.$$\n",
    "\n",
    "A probabilidade do protocolo dar errado, ou seja, de 2 ou mais bits serem invertidos é\n",
    "\\begin{align}\n",
    "p_{e} & = pp(1-p)+p(1-p)p+(1-p)pp+ppp = 3p^{2}(1-p)+p^{3} \\\\\n",
    "& = 3p^{2}-2p^{3},\n",
    "\\end{align}\n",
    "em que estamos assumindo que os erros são independentes para cada bit. O código de repetição é vantajoso sempre que\n",
    "\\begin{align}\n",
    "& p_{e}<p \\ \\therefore\\ 3p^{2}-2p^{3}<p\\ \\therefore\\ -2p^{2}+3p-1<0 \\\\\n",
    "& \\ \\therefore\\ \\frac{-3\\pm\\sqrt{9-4(-2)(-1)}}{2(-2)} = \\frac{-3\\pm1}{-4} = 1/2 \\text{ ou } 1.\n",
    "\\end{align}\n",
    "Ou seja, sempre que $p<1/2$. No entanto, pela forma do gráfico abaixo, vemos que uma vantagem significativa é obtida com a aplicação do protocolo de correção de erro somente para pequenos valores de $p$, até $\\approx 0.05$."
   ]
  },
  {
   "cell_type": "code",
   "execution_count": 4,
   "id": "628a019e",
   "metadata": {
    "scrolled": true
   },
   "outputs": [
    {
     "data": {
      "image/png": "[encoded data removed]",
      "text/plain": [
       "<Figure size 500x300 with 1 Axes>"
      ]
     },
     "metadata": {
      "needs_background": "light"
     },
     "output_type": "display_data"
    }
   ],
   "source": [
    "matplotlib.rcParams.update({'font.size':12}); plt.figure(figsize = (5,3), dpi = 100)\n",
    "p = np.arange(0,1.01,0.01)\n",
    "plt.plot(p, p, label = r'$p$'); plt.plot(p, 3*p**2-2*p**3, label = r'$p_{e}$')\n",
    "plt.xlim(0,1); plt.ylim(-0.01,1.01); plt.legend(); plt.xlabel('p'); plt.show()"
   ]
  },
  {
   "cell_type": "markdown",
   "id": "58a058b9",
   "metadata": {},
   "source": [
    "# Correção de erros quânticos\n",
    "Códigos de correção de erros quânticos são fundamentalmente diferentes dos códigos clássicos, por várias razões. Primeiramente, o teorema da __não clonagem__ impede que se faça cópias de estados quaisquer não conhecidos. Ou seja, se o estado do qubit é $|\\psi\\rangle$, em geral\n",
    "$$\\nexists\\ U \\ |\\ U|\\psi\\rangle|\\alpha\\rangle=|\\psi\\rangle|\\psi\\rangle\\ \\forall |\\psi\\rangle,$$\n",
    "em que $|\\alpha\\rangle$ é um estado inicial do sistema auxiliar. Além disso, erros quânticos são __contínuos__, mais que discretos, e podem levar e.g. o estado $|0\\rangle$ e uma superposição qualquer $c_{0}|0\\rangle + c_{1}|1\\rangle$, ou, de forma mais geral, a um operador densidade $\\rho$ qualquer:\n",
    "$$|\\psi\\rangle\\rightarrow\\text{ erro }\\rightarrow \\rho=(I+xX+yY+zZ)/2 \\text{ com }x,y,z\\in\\mathbb{R}\\ |\\ \\rho\\ge\\mathbb{O}.$$\n",
    "Outra diferença fundamental é que __não podemos medir__ um qubit, para obter informação sobre seu estado, sem perturbá-lo. Isso por causa do colapso da função de onda:\n",
    "$$|\\psi\\rangle\\rightarrow \\text{ mede } O \\rightarrow \\text{ estado colapsa para } |o_{1}\\rangle \\text{ ou } |o_{2}\\rangle.$$"
   ]
  },
  {
   "cell_type": "markdown",
   "id": "7f2ce2ae",
   "metadata": {},
   "source": [
    "##  Erro de inversão de bit quântico\n",
    "### Codificação\n",
    "Afortunadamente, esse _emaranhamento_ entre qubit e ambiente, que causa os erros quânticos, pode ser combatido usando emaranhamento. Vamos começar nossa análise de correção de erros quânticos considerando o erro de inversão de bit. Nesse caso a operação de inversão de bit, a porta $X$, é aplicada com probabilidade $p$. E não acontece nada com o qubit com probabilidade $1-p$, para $p\\in[0,1]$. Ou seja,\n",
    "$$\\rho \\rightarrow \\text{ erro de inversão de bit }\\rightarrow (1-p)\\rho +pX\\rho X = \\Lambda_{bf}(\\rho).$$\n",
    "\n",
    "Para corrigir esses erros, começamos fazendo a seguinte codificação com 3 qubits:\n",
    "$$|\\psi\\rangle = c_{0}|0\\rangle+c_{1}|1\\rangle \\longrightarrow c_{0}|000\\rangle+c_{1}|111\\rangle = c_{0}|0_{L}\\rangle+c_{1}|1_{L}\\rangle = |\\Psi\\rangle,$$\n",
    "em que $|j_{L}\\rangle$ é chamado de qubit lógico. Esse estado codificado por ser preparado usando duas NOT controladas:\n",
    "\\begin{align}\n",
    "|\\Psi\\rangle & = C_{x}^{12}C_{x}^{01}|\\psi\\rangle|0\\rangle|0\\rangle = C_{x}^{12}C_{x}^{01}(c_{0}|000\\rangle+c_{1}|100\\rangle) \\\\\n",
    "& = C_{x}^{12}(c_{0}|000\\rangle+c_{1}|110\\rangle) = c_{0}|000\\rangle+c_{1}|111\\rangle.\n",
    "\\end{align}\n",
    "Veja o circuito abaixo.\n",
    "\n",
    "OBS: Assim como no caso clássico, podemos melhorar nosso protocolo de correção de erros usando mais redundância, ou seja, usando mais bits no caso clássico e emaranhando mais qubits no caso quântico.\n",
    "\n",
    "__Exercício:__ Verifique que $|\\Psi\\rangle = C_{x}^{01}C_{x}^{02}|\\psi\\rangle|0\\rangle|0\\rangle$."
   ]
  },
  {
   "cell_type": "code",
   "execution_count": 5,
   "id": "1015449c",
   "metadata": {},
   "outputs": [],
   "source": [
    "from qiskit import *"
   ]
  },
  {
   "cell_type": "code",
   "execution_count": 8,
   "id": "9ae6a8fd",
   "metadata": {},
   "outputs": [
    {
     "data": {
      "image/png": "[encoded data removed]",
      "text/plain": [
       "<Figure size 327.397x204.68 with 1 Axes>"
      ]
     },
     "execution_count": 8,
     "metadata": {},
     "output_type": "execute_result"
    }
   ],
   "source": [
    "def qc_coding_bf(th, ph):\n",
    "    qc = QuantumCircuit(3, name = 'Coding BF')\n",
    "    qc.u(th, ph, 0, 0)\n",
    "    qc.barrier()\n",
    "    qc.cx(0,1); qc.cx(1,2)\n",
    "    return qc\n",
    "qc_coding_bf_ = qc_coding_bf(math.pi, math.pi/4); qc_coding_bf_.draw(output = 'mpl')"
   ]
  },
  {
   "cell_type": "markdown",
   "id": "3ffaed3b",
   "metadata": {},
   "source": [
    "### Detecção de erros (diagnóstico de síndrome)\n",
    "Pode-se perceber que os possíveis erros em um único qubit podem ser identificados usando medidas de observáveis globais que possuem os seguintes projetores construídos a partir de seus autovetores:\n",
    "\\begin{align}\n",
    "& P_{0} = |000\\rangle\\langle 000| + |111\\rangle\\langle 111| \\text{, nenhum erro}; \\\\\n",
    "& P_{1} = |100\\rangle\\langle 100| + |011\\rangle\\langle 011| \\text{, BF no 1º qubit}; \\\\\n",
    "& P_{2} = |010\\rangle\\langle 010| + |101\\rangle\\langle 101| \\text{, BF no 2º qubit}; \\\\\n",
    "& P_{3} = |001\\rangle\\langle 001| + |110\\rangle\\langle 110| \\text{, BF no 3º qubit}.\n",
    "\\end{align}\n",
    "\n",
    "Se nenhum erro ocorreu, então\n",
    "\\begin{align}\n",
    "Pr(P_{0}|\\Psi) & = Tr(|\\Psi\\rangle\\langle\\Psi|P_{0}) = \\langle\\Psi|P_{0}|\\Psi\\rangle \\\\\n",
    "& = (c_{0}^{*}\\langle 000|+c_{1}^{*}\\langle 111|)(|000\\rangle\\langle 000| + |111\\rangle\\langle 111|)(c_{0}|000\\rangle+c_{1}|111\\rangle) \\\\\n",
    "& = |c_{0}|^{2} + |c_{1}|^{2} = 1,\n",
    "\\end{align}\n",
    "e $Pr(P_{1})=Pr(P_{2})=Pr(P_{3})=0$.\n",
    "\n",
    "Se a inversão de bit ocorreu no 1º qubit, i.e., \n",
    "$$|\\Psi\\rangle\\rightarrow |\\Psi'\\rangle=c_{0}|100\\rangle+c_{1}|011\\rangle,$$\n",
    "então\n",
    "\\begin{align}\n",
    "Pr(P_{1}|\\Psi') & = Tr(|\\Psi'\\rangle\\langle\\Psi'|P_{1}) = \\langle\\Psi'|P_{1}|\\Psi'\\rangle \\\\\n",
    "& = (c_{0}^{*}\\langle 100|+c_{1}^{*}\\langle 011|)(|100\\rangle\\langle 100| + |011\\rangle\\langle 011|)(c_{0}|100\\rangle+c_{1}|011\\rangle) \\\\\n",
    "& = |c_{0}|^{2} + |c_{1}|^{2} = 1,\n",
    "\\end{align}\n",
    "e $Pr(P_{0})=Pr(P_{2})=Pr(P_{3})=0$.\n",
    "\n",
    "__Exercício:__ Verifique que se a inversão de bit ocorreu no 2º qubit, i.e., $|\\Psi\\rangle\\rightarrow |\\Psi''\\rangle=c_{0}|010\\rangle+c_{1}|101\\rangle$, então  $Pr(P_{2}|\\Psi'') =1$. Verifique também que se a inversão de bit ocorreu no 3º qubit, i.e., $|\\Psi\\rangle\\rightarrow |\\Psi'''\\rangle=c_{0}|001\\rangle+c_{1}|110\\rangle$, então  $Pr(P_{3}|\\Psi''') =1$."
   ]
  },
  {
   "cell_type": "markdown",
   "id": "60c142e2",
   "metadata": {},
   "source": [
    "Uma observação importante aqui é que a medida de síndrome não perturba o estado do sistema, pois só nos informa qual erro ocorreu, não fornecendo nenhuma informação sobre o estado do sistema (i.e., sobre $c_{0}$ e $c_{1}$). Isso vale tanto para medida seletiva quanto para medida não seletiva.\n",
    "\n",
    "### Recuperação do estado (correção do erro)\n",
    "Uma vez identificado o erro que ocorreu, para recuperar o estado original, aplicamos $X$ no qubit correspondente:\n",
    "\\begin{align}\n",
    "& \\text{Resultado} \\ \\therefore\\  \\text{Operação}\\\\\n",
    "& P_{0} \\ \\therefore\\ I\\otimes I\\otimes I, \\\\\n",
    "& P_{1} \\ \\therefore\\ X\\otimes I\\otimes I, \\\\\n",
    "& P_{2} \\ \\therefore\\ I\\otimes X\\otimes I, \\\\\n",
    "& P_{3} \\ \\therefore\\ I\\otimes I\\otimes X.\n",
    "\\end{align}\n",
    "Por exemplo, se a inversão ocorreu no 3º qubit, obteremos $P_{3}$ e aplicamos\n",
    "\\begin{align}\n",
    "I\\otimes I\\otimes X|\\Psi'''\\rangle & = c_{0}I\\otimes I\\otimes X|001\\rangle + c_{1}I\\otimes I\\otimes X|110\\rangle \\\\\n",
    "& = c_{0}|000\\rangle + c_{1}|111\\rangle = |\\Psi\\rangle.\n",
    "\\end{align}"
   ]
  },
  {
   "cell_type": "markdown",
   "id": "1be18e68",
   "metadata": {},
   "source": [
    "Sobre a implementação de fato dos projetores $\\{P_{j}\\}_{j=0}^{3}$, começamos notando que para medidas do observável $Z$ dos dois primeiros qubits, teremos que\n",
    "\\begin{align}\n",
    "Z_{0}Z_{1} & \\equiv Z\\otimes Z\\otimes I \\\\\n",
    "& = (|0\\rangle\\langle 0|-|1\\rangle\\langle 1|)\\otimes(|0\\rangle\\langle 0|-|1\\rangle\\langle 1|)\\otimes I \\\\\n",
    "& = \\big((+1)(|00\\rangle\\langle 00|+|11\\rangle\\langle 11|) + (-1)(|01\\rangle\\langle 01|+|10\\rangle\\langle 10|)\\big)\\otimes I.\n",
    "\\end{align}\n",
    "Ou seja, se ao medir $Z_{0}Z_{1}$ obtemos $+1$, descobrimos que os qubits 0 e 1 possuem o mesmo valor. Se obtemos $-1$, descobrimos que esses qubits possuem valores diferentes.\n",
    "\n",
    "O análogo segue para medidas de $Z$ dos dois últimos qubits:\n",
    "\\begin{align}\n",
    "Z_{1}Z_{2} & \\equiv I\\otimes Z\\otimes Z \\\\\n",
    "& = I\\otimes (|0\\rangle\\langle 0|-|1\\rangle\\langle 1|)\\otimes(|0\\rangle\\langle 0|-|1\\rangle\\langle 1|) \\\\\n",
    "& = I\\otimes \\big((+1)(|00\\rangle\\langle 00|+|11\\rangle\\langle 11|) + (-1)(|01\\rangle\\langle 01|+|10\\rangle\\langle 10|)\\big).\n",
    "\\end{align}\n",
    "Ou seja, se ao medir $Z_{1}Z_{2}$ obtemos $+1$, descobrimos que os qubits 1 e 2 possuem o mesmo valor. Se obtemos $-1$, descobrimos que esses qubits possuem valores diferentes.\n",
    "\n",
    "Por conseguinte, medindo $Z_{0}Z_{1}$ e $Z_{1}Z_{2}$ em sequência descobrimos se e qual errou ocorreu, e assim podemos corrigí-lo. Por exemplo, se a inversão de bit ocorreu no 2º qubit, $|\\Psi\\rangle\\rightarrow|\\Psi''\\rangle=c_{0}|010\\rangle+c_{1}|101\\rangle$, ao medir $Z_{0}Z_{1}$ descobriremos que os qubits 0 e 1 possuem valores diferentes  e ao medir $Z_{1}Z_{2}$ descobriremos que os qubits 1 e 2 também possuem valores diferentes. Note que em nenhum momento descobrimos qual é o valor, somente temos acesso a se os valores são iguais ou diferentes. Nesse exemplo, como o 2º qubit tem valor diferente do 1º e do 3º, o erro ocorreu nele. Aplicando $X$ no 2º qubit, corrigimos esse erro.\n",
    "\n",
    "OBS: No IBMQ, o que temos disponível são medidas de $Z$ individuais para cada qubit. O nosso desafio na sequência é entender como implementar medidas que informam somente a paridade dos qubits, e não seu valor (para que não ocorra o colapso da função de onda)."
   ]
  },
  {
   "cell_type": "markdown",
   "id": "8caa50d2",
   "metadata": {},
   "source": [
    "Seguindo, vamos verificar que uma medida do observável $Z_{0}Z_{1}=Z\\otimes Z\\otimes I$ seguinda de uma medida de $Z_{1}Z_{2}=I\\otimes Z\\otimes Z$ corresponde de fato a uma medida projetiva com os projetores $\\{P_{0},P_{1},P_{2},P_{3}\\}$. Consideremos que o estado antes da medida é $|\\tilde{\\Psi}\\rangle$. Ao medir $Z_{0}Z_{1}$, dependendo do resultado obtido, teremos os seguintes estados pós-medida:\n",
    "\\begin{align}\n",
    "+1 \\ \\therefore\\ |\\tilde{\\Psi}\\rangle\\rightarrow |\\tilde{\\Psi}_{+1}\\rangle \\propto \\big((|00\\rangle\\langle 00|+|11\\rangle\\langle 11|)\\otimes I\\big)|\\tilde{\\Psi}\\rangle, \\\\\n",
    "-1 \\ \\therefore |\\tilde{\\Psi}\\rangle\\rightarrow |\\tilde{\\Psi}_{-1}\\rangle \\propto \\big((|01\\rangle\\langle 01|+|10\\rangle\\langle 10|)\\otimes I\\big)|\\tilde{\\Psi}\\rangle\n",
    "\\end{align}\n",
    "\n",
    "Seguindo, para o estado pós-medida $|\\tilde{\\Psi}_{+1}\\rangle$, se medimos $Z_{1}Z_{2}$, teremos os seguintes estados pós-medida:\n",
    "\\begin{align}\n",
    "& +1\\ \\therefore\\ |\\tilde{\\Psi}_{+1}\\rangle\\rightarrow \\\\\n",
    "& |\\tilde{\\Psi}_{+1,+1}\\rangle \\propto \\big(I\\otimes(|00\\rangle\\langle 00|+|11\\rangle\\langle 11|)\\big)|\\tilde{\\Psi}_{+1}\\rangle \\\\\n",
    "& = \\big(I\\otimes(|00\\rangle\\langle 00|+|11\\rangle\\langle 11|)\\big)\\big((|00\\rangle\\langle 00|+|11\\rangle\\langle 11|)\\otimes I\\big)|\\tilde{\\Psi}\\rangle \\\\\n",
    "& = \\big(I\\otimes|0\\rangle\\langle 0|\\otimes|0\\rangle\\langle 0|+I\\otimes|1\\rangle\\langle 1|\\otimes|1\\rangle\\langle 1|\\big)\\big(|0\\rangle\\langle 0|\\otimes|0\\rangle\\langle 0|\\otimes I+|1\\rangle\\langle 1|\\otimes|1\\rangle\\langle 1|\\otimes I\\big)|\\tilde{\\Psi}\\rangle \\\\\n",
    "& = \\big(|0\\rangle\\langle 0|\\otimes|0\\rangle\\langle 0|\\otimes|0\\rangle\\langle 0| + 0 + 0 +|1\\rangle\\langle 1|\\otimes|1\\rangle\\langle 1|\\otimes|1\\rangle\\langle 1|\\big)|\\tilde{\\Psi}\\rangle \\\\\n",
    "& = \\big(|000\\rangle\\langle 000|+|111\\rangle\\langle 111|\\big)|\\tilde{\\Psi}\\rangle \\\\\n",
    "& = P_{0}|\\tilde{\\Psi}\\rangle.\n",
    "\\end{align}\n",
    "\n",
    "__Exercício:__ De forma análoga, verifique que \n",
    "$$|\\tilde{\\Psi}_{+1,-1}\\rangle \\propto P_{3}|\\tilde{\\Psi}\\rangle.$$"
   ]
  },
  {
   "cell_type": "markdown",
   "id": "041edf6b",
   "metadata": {},
   "source": [
    "Para o estado pós-medida $|\\tilde{\\Psi}_{-1}\\rangle$, se medimos $Z_{1}Z_{2}$, teremos os seguintes estados pós-medida:\n",
    "\\begin{align}\n",
    "& +1\\ \\therefore\\ |\\tilde{\\Psi}_{-1}\\rangle\\rightarrow \\\\\n",
    "& |\\tilde{\\Psi}_{-1,+1}\\rangle \\propto \\big(I\\otimes(|00\\rangle\\langle 00|+|11\\rangle\\langle 11|)\\big)|\\tilde{\\Psi}_{-1}\\rangle \\\\\n",
    "& = \\big(I\\otimes(|00\\rangle\\langle 00|+|11\\rangle\\langle 11|)\\big)\\big((|01\\rangle\\langle 01|+|10\\rangle\\langle 10|)\\otimes I\\big)|\\tilde{\\Psi}\\rangle \\\\\n",
    "& = \\big(I\\otimes|0\\rangle\\langle 0|\\otimes|0\\rangle\\langle 0|+I\\otimes|1\\rangle\\langle 1|\\otimes|1\\rangle\\langle 1|\\big)\\big(|0\\rangle\\langle 0|\\otimes|1\\rangle\\langle 1|\\otimes I+|1\\rangle\\langle 1|\\otimes|0\\rangle\\langle 0|\\otimes I\\big)|\\tilde{\\Psi}\\rangle \\\\\n",
    "& = \\big(0 + |1\\rangle\\langle 1|\\otimes|0\\rangle\\langle 0|\\otimes|0\\rangle\\langle 0| +|0\\rangle\\langle 0|\\otimes|1\\rangle\\langle 1|\\otimes|1\\rangle\\langle 1| + 0\\big)|\\tilde{\\Psi}\\rangle \\\\\n",
    "& = \\big(|100\\rangle\\langle 100|+|011\\rangle\\langle 011|\\big)|\\tilde{\\Psi}\\rangle \\\\\n",
    "& = P_{1}|\\tilde{\\Psi}\\rangle.\n",
    "\\end{align}\n",
    "\n",
    "__Exercício:__ De forma análoga, verifique que \n",
    "$$|\\tilde{\\Psi}_{-1,-1}\\rangle \\propto P_{2}|\\tilde{\\Psi}\\rangle.$$"
   ]
  },
  {
   "cell_type": "markdown",
   "id": "f9ff5088",
   "metadata": {},
   "source": [
    "Fica a questão de como implementar essas medidas de paridade no IBMQ?"
   ]
  },
  {
   "cell_type": "markdown",
   "id": "49a19ee0",
   "metadata": {},
   "source": [
    "### Circuito geral para correção bit flip\n"
   ]
  },
  {
   "cell_type": "code",
   "execution_count": 51,
   "id": "f0bb3160",
   "metadata": {},
   "outputs": [
    {
     "data": {
      "image/png": "[encoded data removed]",
      "text/plain": [
       "<Figure size 1350.8x325.08 with 1 Axes>"
      ]
     },
     "execution_count": 51,
     "metadata": {},
     "output_type": "execute_result"
    }
   ],
   "source": [
    "qc = QuantumCircuit(5)\n",
    "th, ph, lb = math.pi/4, 0.0, 0.0; qc.u(th, ph, lb, [0]) # qubit state preparation\n",
    "qc.barrier()\n",
    "qc.cx([0], [1]); qc.cx([1], [2]) # encoding\n",
    "qc.barrier()\n",
    "qc.x([0])\n",
    "qc.barrier()\n",
    "qc.cx([0], [3]); qc.cx([1], [3]); qc.cx([1], [4]); qc.cx([2], [4]) # syndrome detection\n",
    "qc.barrier()\n",
    "qc.x([3]); qc.ccx([4], [3], [2]); qc.x([3]); qc.ccx([4], [3], [1]) # correction\n",
    "qc.x([4]); qc.ccx([4], [3], [0]); qc.x([4]) # correction\n",
    "qc.barrier()\n",
    "qc.reset([3]); qc.reset([4])\n",
    "qc.draw(output = 'mpl')"
   ]
  },
  {
   "cell_type": "markdown",
   "id": "3bc5172a",
   "metadata": {},
   "source": [
    "Vamos para as contas. Assumimos que o erro ocorreu no qubit 0:\n",
    "\\begin{align}\n",
    "& |\\psi\\rangle|0000\\rangle \\xrightarrow[]{C_{x}^{01}C_{x}^{12}} \\big(c_{0}|000\\rangle + c_{1}|111\\rangle\\big)|00\\rangle \\xrightarrow[]{X_{0}} \\big(c_{0}|100\\rangle + c_{1}|011\\rangle\\big)|00\\rangle \\\\\n",
    "& \\xrightarrow[]{C_{x}^{03}} \\big(c_{0}|1001\\rangle + c_{1}|0110\\rangle\\big)|0\\rangle \\xrightarrow[]{C_{x}^{13}} \\big(c_{0}|1001\\rangle + c_{1}|0111\\rangle\\big)|0\\rangle \\\\\n",
    "& \\xrightarrow[]{C_{x}^{14}} \\big(c_{0}|10010\\rangle + c_{1}|01111\\rangle\\big) \\xrightarrow[]{C_{x}^{24}} \\big(c_{0}|10010\\rangle + c_{1}|01110\\rangle\\big) \\\\\n",
    "&  \\xrightarrow[]{X_{3}} \\big(c_{0}|10000\\rangle + c_{1}|01100\\rangle\\big) \\xrightarrow[]{CC_{x}^{432}} \\big(c_{0}|10000\\rangle + c_{1}|01100\\rangle\\big) \\\\\n",
    "&  \\xrightarrow[]{X_{3}} \\big(c_{0}|10010\\rangle + c_{1}|01110\\rangle\\big)  \\xrightarrow[]{CC_{x}^{431}} \\big(c_{0}|10010\\rangle + c_{1}|01110\\rangle\\big) \\\\\n",
    "&   \\xrightarrow[]{X_{4}} \\big(c_{0}|10011\\rangle + c_{1}|01111\\rangle\\big)   \\xrightarrow[]{CC_{x}^{430}} \\big(c_{0}|00011\\rangle + c_{1}|11111\\rangle\\big)  \\\\\n",
    "&  \\xrightarrow[]{X_{4}} \\big(c_{0}|00010\\rangle + c_{1}|11110\\rangle\\big) = \\big(c_{0}|000\\rangle + c_{1}|111\\rangle\\big)|10\\rangle.\n",
    "\\end{align}"
   ]
  },
  {
   "cell_type": "markdown",
   "id": "cdeaafd8",
   "metadata": {},
   "source": [
    "##### Exercício\n",
    "Faça as contas para um bit flip no qubit 1.\n",
    "\n",
    "__OBS:__ Tem muitas questões que temos que ver aqui. Por exemplo, se o erro ocorrer em outro momento durante a execução do circuito, esse protocolo ainda funciona?"
   ]
  },
  {
   "cell_type": "markdown",
   "id": "11367cf4",
   "metadata": {},
   "source": [
    "### Sobre medidas de observáveis usando sistemas auxiliares\n",
    "#### Medida de $Z$\n",
    "Considere o circuito quântico abaixo. A porta $U$ é inserida somente para preparação do estado $|\\psi\\rangle$."
   ]
  },
  {
   "cell_type": "code",
   "execution_count": 10,
   "id": "b9138b43",
   "metadata": {},
   "outputs": [
    {
     "data": {
      "image/png": "[encoded data removed]",
      "text/plain": [
       "<Figure size 447.652x204.68 with 1 Axes>"
      ]
     },
     "execution_count": 10,
     "metadata": {},
     "output_type": "execute_result"
    }
   ],
   "source": [
    "qc = QuantumCircuit(2, 1)\n",
    "qc.u(1,2,3, [1])\n",
    "qc.barrier()\n",
    "qc.h([0]); qc.cz(0, 1); qc.h([0]); \n",
    "qc.measure(0,0); qc.draw(output = 'mpl')"
   ]
  },
  {
   "cell_type": "markdown",
   "id": "4505fbb0",
   "metadata": {},
   "source": [
    "Se começamos com o estado \n",
    "$$|\\psi_{0}\\rangle = |0\\rangle|\\psi\\rangle.$$\n",
    "Assim\n",
    "\\begin{align}\n",
    "|\\psi_{1}\\rangle & = (H\\otimes I)|\\psi_{0}\\rangle = |+\\rangle|\\psi\\rangle, \\\\\n",
    "|\\psi_{2}\\rangle & = C_{z}|\\psi_{1}\\rangle = C_{z}\\frac{1}{\\sqrt{2}}\\big(|0\\rangle+|1\\rangle\\big)\\big(c_{0}|0\\rangle+c_{1}|1\\rangle\\big) \\\\\n",
    "& = \\frac{1}{\\sqrt{2}}\\big(c_{0}C_{z}|00\\rangle+c_{0}C_{z}|10\\rangle+c_{1}C_{z}|01\\rangle+c_{1}C_{z}|11\\rangle\\big) \\\\\n",
    "& = \\frac{1}{\\sqrt{2}}\\big(c_{0}|00\\rangle+c_{0}|10\\rangle+c_{1}|01\\rangle-c_{1}|11\\rangle\\big), \\\\\n",
    "|\\psi_{3}\\rangle & = (H\\otimes I)|\\psi_{2}\\rangle = \\frac{1}{\\sqrt{2}}\\big(c_{0}|+0\\rangle+c_{0}|-0\\rangle+c_{1}|+1\\rangle-c_{1}|-1\\rangle\\big) \\\\\n",
    "&  = \\frac{1}{\\sqrt{2}}\\big(c_{0}(|+\\rangle+|-\\rangle)|0\\rangle + c_{1}(|+\\rangle-|-\\rangle)|1\\rangle\\big) = \\frac{1}{\\sqrt{2}}\\Big(c_{0}\\frac{2}{\\sqrt{2}}|0\\rangle|0\\rangle + c_{1}\\frac{2}{\\sqrt{2}}|1\\rangle|1\\rangle\\Big) \\\\\n",
    "& = c_{0}|00\\rangle + c_{1}|11\\rangle.\n",
    "\\end{align}\n",
    "Vemos com isso que esse circuito quântico implementa a medida (colapso) de $Z$ do 2º qubit através de medidas de $Z$ no 1º qubit.\n",
    "\n",
    "__Exercício:__ Verifique que a medida de $Z$ pode ser implementada também usando o circuito abaixo."
   ]
  },
  {
   "cell_type": "code",
   "execution_count": 12,
   "id": "0a37c366",
   "metadata": {},
   "outputs": [
    {
     "data": {
      "image/png": "[encoded data removed]",
      "text/plain": [
       "<Figure size 327.252x204.68 with 1 Axes>"
      ]
     },
     "execution_count": 12,
     "metadata": {},
     "output_type": "execute_result"
    }
   ],
   "source": [
    "qc = QuantumCircuit(2, 1); \n",
    "qc.u(1,2,3, 1); \n",
    "qc.barrier()\n",
    "qc.cx(1,0); qc.measure(0,0); qc.draw(output = 'mpl')"
   ]
  },
  {
   "cell_type": "markdown",
   "id": "9467e49d",
   "metadata": {},
   "source": [
    "#### Medida de $X$\n",
    "Para medidas de $X$, é conveniente escrever\n",
    "\\begin{align}\n",
    "|\\psi\\rangle & = c_{0}|0\\rangle + c_{1}|1\\rangle =  c_{0}\\frac{1}{\\sqrt{2}}(|+\\rangle+|-\\rangle) + c_{1}\\frac{1}{\\sqrt{2}}(|+\\rangle-|-\\rangle) \\\\\n",
    "& = \\frac{c_{0}+c_{1}}{\\sqrt{2}}|+\\rangle + \\frac{c_{0}-c_{1}}{\\sqrt{2}}|-\\rangle.\n",
    "\\end{align}\n",
    "Agora, consideremos o circuito quântico abaixo. "
   ]
  },
  {
   "cell_type": "code",
   "execution_count": 13,
   "id": "67d2658d",
   "metadata": {},
   "outputs": [
    {
     "data": {
      "image/png": "[encoded data removed]",
      "text/plain": [
       "<Figure size 447.652x204.68 with 1 Axes>"
      ]
     },
     "execution_count": 13,
     "metadata": {},
     "output_type": "execute_result"
    }
   ],
   "source": [
    "qc = QuantumCircuit(2, 1); \n",
    "qc.u(1,2,3, 1)\n",
    "qc.barrier()\n",
    "qc.h(0); qc.cx(0,1); qc.h(0); qc.measure(0,0); \n",
    "qc.draw(output = 'mpl')"
   ]
  },
  {
   "cell_type": "markdown",
   "id": "563988c0",
   "metadata": {},
   "source": [
    "Neste caso, teremos que\n",
    "\\begin{align}\n",
    "|\\psi_{1}\\rangle & = (H\\otimes I)|\\psi_{0}\\rangle = (H\\otimes I)(|0\\rangle\\otimes|\\psi\\rangle) = |+\\rangle|\\psi\\rangle, \\\\\n",
    "|\\psi_{2}\\rangle & = C_{x}^{01}|\\psi_{1}\\rangle = C_{x}^{01}\\frac{1}{\\sqrt{2}}\\big(|0\\rangle+|1\\rangle\\big)\\big(c_{0}|0\\rangle+c_{1}|1\\rangle\\big) \\\\\n",
    "& = \\frac{1}{\\sqrt{2}}\\big(c_{0}C_{x}^{01}|00\\rangle+c_{0}C_{x}^{01}|10\\rangle+c_{1}C_{x}^{01}|01\\rangle+c_{1}C_{x}^{01}|11\\rangle\\big) \\\\\n",
    "& = \\frac{1}{\\sqrt{2}}\\big(c_{0}|00\\rangle+c_{0}|11\\rangle+c_{1}|01\\rangle+c_{1}|10\\rangle\\big), \\\\\n",
    "|\\psi_{3}\\rangle & = (H\\otimes I)|\\psi_{2}\\rangle = \\frac{1}{\\sqrt{2}}\\big(c_{0}|+0\\rangle+c_{0}|-1\\rangle+c_{1}|+1\\rangle+c_{1}|-0\\rangle\\big) \\\\\n",
    "& = \\frac{1}{2}\\big(c_{0}(|0\\rangle+|1\\rangle)|0\\rangle+c_{0}(|0\\rangle-|1\\rangle)|1\\rangle+c_{1}(|0\\rangle+|1\\rangle)|1\\rangle+c_{1}(|0\\rangle-|1\\rangle)|0\\rangle\\big) \\\\\n",
    "& = \\frac{1}{2}\\big(c_{0}(|00\\rangle+|10\\rangle) + c_{0}(|01\\rangle-|11\\rangle) + c_{1}(|01\\rangle+|11\\rangle)+c_{1}(|00\\rangle-|10\\rangle)\\big) \\\\\n",
    "& = \\frac{1}{2}\\big( c_{0}|0\\rangle(|0\\rangle+|1\\rangle) + c_{0}|1\\rangle(|0\\rangle-|1\\rangle) + c_{1}|0\\rangle(|1\\rangle+|0\\rangle) + c_{1}|1\\rangle(|1\\rangle-|0\\rangle)\\big) \\\\\n",
    "& = \\frac{1}{\\sqrt{2}}\\big( (c_{0}+c_{1})|0\\rangle|+\\rangle + (c_{0}-c_{1})|1\\rangle|-\\rangle.\n",
    "\\end{align}\n",
    "Vemos com isso que esse circuito quântico implementa a medida (colapso) de $X$ do 2º qubit através de medidas de $Z$ no 1º qubit.\n",
    "\n",
    "__Exercício:__ Verifique que a medida de $X$ pode ser implementada também usando o circuito abaixo."
   ]
  },
  {
   "cell_type": "code",
   "execution_count": 14,
   "id": "799e1321",
   "metadata": {},
   "outputs": [
    {
     "data": {
      "image/png": "[encoded data removed]",
      "text/plain": [
       "<Figure size 447.652x204.68 with 1 Axes>"
      ]
     },
     "execution_count": 14,
     "metadata": {},
     "output_type": "execute_result"
    }
   ],
   "source": [
    "qc = QuantumCircuit(2, 1); \n",
    "qc.u(1,2,3, [1]); \n",
    "qc.barrier()\n",
    "qc.h(1); qc.cx(1,0); qc.h(1); qc.measure(0,0); \n",
    "qc.draw(output = 'mpl')"
   ]
  },
  {
   "cell_type": "markdown",
   "id": "4a77d78b",
   "metadata": {},
   "source": [
    "#### Medida de $\\hat{n}\\cdot\\vec{\\sigma}$\n",
    "Um observável qualquer de um qubit pode ser escrito como (__Exercício:__ Verifique)\n",
    "\\begin{align}\n",
    "\\hat{n}\\cdot\\vec{\\sigma} & = \\big(\\sin\\theta\\sin\\phi,\\sin\\theta\\cos\\phi,\\cos\\theta\\big)\\cdot(X,Y,Z) \\\\\n",
    "& = X\\sin\\theta\\sin\\phi + Y\\sin\\theta\\cos\\phi + Z\\cos\\theta \n",
    "= \\begin{bmatrix}\n",
    "\\cos\\theta & e^{-i\\phi}\\sin\\theta \\\\\n",
    "e^{i\\phi}\\sin\\theta & -\\cos\\theta \\\\\n",
    "\\end{bmatrix} \\\\\n",
    "& = U(2\\theta,\\phi,\\pi-\\phi).\n",
    "\\end{align}\n",
    "$\\hat{n}\\cdot\\vec{\\sigma}$ tem autovalores $\\pm 1$ com autovetores correspondentes:\n",
    "\\begin{cases}\n",
    "|n_{+}\\rangle = \\cos(\\theta/2)|0\\rangle + e^{i\\phi}\\sin(\\theta/2)|1\\rangle, \\\\\n",
    "|n_{-}\\rangle = e^{-i\\phi}\\sin(\\theta/2)|0\\rangle - \\cos(\\theta/2)|1\\rangle.\n",
    "\\end{cases}\n",
    "\n",
    "__Exercício:__ Verifique que\n",
    "\\begin{cases}\n",
    "|0\\rangle = \\cos(\\theta/2)|n_{+}\\rangle + e^{i\\phi}\\sin(\\theta/2)|n_{-}\\rangle, \\\\\n",
    "|1\\rangle = e^{-i\\phi}\\sin(\\theta/2)|n_{+}\\rangle - \\cos(\\theta/2)|n_{-}\\rangle.\n",
    "\\end{cases}\n",
    "\n",
    "\n",
    "Começamos notando que\n",
    "\\begin{align}\n",
    "|\\psi\\rangle & = c_{0}|0\\rangle + c_{1}|1\\rangle \\\\\n",
    "& = c_{0}\\big(\\cos(\\theta/2)|n_{+}\\rangle + e^{i\\phi}\\sin(\\theta/2)|n_{-}\\rangle\\big) + c_{1}\\big(e^{-i\\phi}\\sin(\\theta/2)|n_{+}\\rangle - \\cos(\\theta/2)|n_{-}\\rangle\\big) \\\\\n",
    "& = \\big(c_{0}\\cos(\\theta/2)+c_{1}e^{-i\\phi}\\sin(\\theta/2)\\big)|n_{+}\\rangle + \\big(c_{0}e^{i\\phi}\\sin(\\theta/2)-c_{1}\\cos(\\theta/2)\\big)|n_{-}\\rangle.\n",
    "\\end{align}\n",
    "\n",
    "Consideremos o circuito quântico abaixo."
   ]
  },
  {
   "cell_type": "code",
   "execution_count": 15,
   "id": "ca223d6a",
   "metadata": {},
   "outputs": [
    {
     "data": {
      "image/png": "[encoded data removed]",
      "text/plain": [
       "<Figure size 568.052x204.68 with 1 Axes>"
      ]
     },
     "execution_count": 15,
     "metadata": {},
     "output_type": "execute_result"
    }
   ],
   "source": [
    "qc = QuantumCircuit(2, 1); \n",
    "qc.u(0.1, 0.2, 0.3, [1])\n",
    "qc.barrier()\n",
    "qc.h(0); qc.cu(0.4, 0.5, 0.6, 0.0, [0], [1]); qc.h([0]); qc.measure([0], [0])\n",
    "qc.draw(output = 'mpl')"
   ]
  },
  {
   "cell_type": "markdown",
   "id": "db388b8e",
   "metadata": {},
   "source": [
    "Começamos com $|\\psi_{0}\\rangle=|0\\rangle|\\psi\\rangle$ e \n",
    "\\begin{align}\n",
    "|\\psi_{1}\\rangle & = (H\\otimes I)|\\psi_{0}\\rangle = |+\\rangle|\\psi\\rangle \\\\\n",
    "& = \\frac{1}{\\sqrt{2}}\\big(c_{0}|00\\rangle + c_{0}|10\\rangle + c_{1}|01\\rangle + c_{1}|11\\rangle \\big).\n",
    "\\end{align}\n",
    "Seguindo, usamos (__Exercício:__ Verifique) \n",
    "\\begin{align}\n",
    "& \\hat{n}\\cdot\\vec{\\sigma}|0\\rangle = \\cos\\theta|0\\rangle + e^{i\\phi}\\sin\\theta|1\\rangle, \\\\\n",
    "& \\hat{n}\\cdot\\vec{\\sigma}|1\\rangle = e^{-i\\phi}\\sin\\theta|0\\rangle - \\cos\\theta|1\\rangle,\n",
    "\\end{align}\n",
    "e aplicamos a porta controlada\n",
    "\\begin{align}\n",
    "|\\psi_{2}\\rangle & = C_{\\hat{n}\\cdot\\vec{\\sigma}}^{01}|\\psi_{1}\\rangle \\\\\n",
    "& = \\frac{1}{\\sqrt{2}}\\big(c_{0}|0\\rangle|0\\rangle + c_{0}|1\\rangle\\hat{n}\\cdot\\vec{\\sigma}|0\\rangle + c_{1}|0\\rangle|1\\rangle + c_{1}|1\\rangle\\hat{n}\\cdot\\vec{\\sigma}|1\\rangle \\big) \\\\\n",
    "& = \\frac{1}{\\sqrt{2}}\\big(c_{0}|0\\rangle|0\\rangle + c_{0}|1\\rangle(\\cos\\theta|0\\rangle + e^{i\\phi}\\sin\\theta|1\\rangle) + c_{1}|0\\rangle|1\\rangle + c_{1}|1\\rangle(e^{-i\\phi}\\sin\\theta|0\\rangle - \\cos\\theta|1\\rangle) \\big) \\\\\n",
    "& = \\frac{1}{\\sqrt{2}}\\Big(|0\\rangle(c_{0}|0\\rangle+c_{1}|1\\rangle)) + |1\\rangle\\big(c_{0}(\\cos\\theta|0\\rangle + e^{i\\phi}\\sin\\theta|1\\rangle)+c_{1}(e^{-i\\phi}\\sin\\theta|0\\rangle - \\cos\\theta|1\\rangle)\\big)\\Big).\n",
    "\\end{align}"
   ]
  },
  {
   "cell_type": "markdown",
   "id": "3db01705",
   "metadata": {},
   "source": [
    "\\begin{align}\n",
    "|\\psi_{3}\\rangle & = (H\\otimes I)|\\psi_{3}\\rangle \\\\\n",
    "& = \\frac{1}{\\sqrt{2}}\\Big(|+\\rangle(c_{0}|0\\rangle+c_{1}|1\\rangle)) + |-\\rangle\\big(c_{0}(\\cos\\theta|0\\rangle + e^{i\\phi}\\sin\\theta|1\\rangle)+c_{1}(e^{-i\\phi}\\sin\\theta|0\\rangle - \\cos\\theta|1\\rangle)\\big)\\Big) \\\\\n",
    "& = \\frac{1}{2}\\Big(|0\\rangle\\big(c_{0}|0\\rangle+c_{1}|1\\rangle+c_{0}(\\cos\\theta|0\\rangle + e^{i\\phi}\\sin\\theta|1\\rangle)+c_{1}(e^{-i\\phi}\\sin\\theta|0\\rangle - \\cos\\theta|1\\rangle)\\big)  \\Big)\\\\\n",
    "& = \\\\\n",
    "& = \\big(c_{0}\\cos(\\theta/2)+c_{1}e^{-i\\phi}\\sin(\\theta/2)\\big)|0\\rangle|n_{+}\\rangle + \\big(c_{0}e^{i\\phi}\\sin(\\theta/2)-c_{1}\\cos(\\theta/2)\\big)|1\\rangle|n_{-}\\rangle.\n",
    "\\end{align}"
   ]
  },
  {
   "cell_type": "markdown",
   "id": "436f971a",
   "metadata": {},
   "source": [
    "## Outra possibilidade\n"
   ]
  },
  {
   "cell_type": "code",
   "execution_count": 31,
   "id": "6cb2ba99",
   "metadata": {},
   "outputs": [
    {
     "data": {
      "image/png": "[encoded data removed]",
      "text/plain": [
       "<Figure size 568.197x204.68 with 1 Axes>"
      ]
     },
     "execution_count": 31,
     "metadata": {},
     "output_type": "execute_result"
    }
   ],
   "source": [
    "def qc_ec_bf():\n",
    "    qc = QuantumCircuit(3, name = 'EC_BF')\n",
    "    qc.cx([0], [1]); qc.cx([1], [2]) # encoding\n",
    "    qc.barrier(); qc.x([0]); qc.barrier()\n",
    "    qc.cx([0], [1]); qc.cx([1], [2]); qc.ccx([2], [1], [0]) # decoding and correction\n",
    "    return qc\n",
    "qc_ec_bf_ = qc_ec_bf(); qc_ec_bf_.draw(output = 'mpl')"
   ]
  },
  {
   "cell_type": "code",
   "execution_count": 33,
   "id": "df290ba7",
   "metadata": {},
   "outputs": [
    {
     "data": {
      "image/png": "[encoded data removed]",
      "text/latex": [
       "$\\displaystyle \\left[\\begin{matrix}0\\\\0\\\\c_{1}\\\\c_{0}\\\\0\\\\0\\\\0\\\\0\\end{matrix}\\right]$"
      ],
      "text/plain": [
       "⎡0 ⎤\n",
       "⎢  ⎥\n",
       "⎢0 ⎥\n",
       "⎢  ⎥\n",
       "⎢c₁⎥\n",
       "⎢  ⎥\n",
       "⎢c₀⎥\n",
       "⎢  ⎥\n",
       "⎢0 ⎥\n",
       "⎢  ⎥\n",
       "⎢0 ⎥\n",
       "⎢  ⎥\n",
       "⎢0 ⎥\n",
       "⎢  ⎥\n",
       "⎣0 ⎦"
      ]
     },
     "execution_count": 33,
     "metadata": {},
     "output_type": "execute_result"
    }
   ],
   "source": [
    "c0, c1 = symbols('c_0 c_1'); psi = Matrix([[c0],[c1]]); ket0 = Matrix([[1],[0]]); ket1 = Matrix([[0],[1]])\n",
    "Psi = tp(psi, tp(ket0, ket0));# psi, Psi\n",
    "CNOT01 = tp(proj(ket0), id(2)) + tp(proj(ket1), pauli(1)); CNOT01_ = tp(CNOT01, id(2))\n",
    "CNOT12 = tp(proj(ket0), id(2)) + tp(proj(ket1), pauli(1)); CNOT12_ = tp(id(2), CNOT12)\n",
    "Psie = CNOT12_*CNOT01_*Psi; #Psie\n",
    "CNOT10 = tp(id(2), proj(ket0)) + tp(pauli(1), proj(ket1));# CNOT10\n",
    "Toffoli210 = tp(id(4), proj(ket0)) + tp(CNOT10, proj(ket1)); #Toffoli210\n",
    "Error = tp(tp(pauli(1), id(2)), id(2))\n",
    "Toffoli210*CNOT12_*CNOT01_*Error*Psie"
   ]
  },
  {
   "cell_type": "markdown",
   "id": "39c52534",
   "metadata": {},
   "source": [
    "## Código de 2 qubits para o bit flip"
   ]
  },
  {
   "cell_type": "code",
   "execution_count": 35,
   "id": "72b71a5d",
   "metadata": {},
   "outputs": [
    {
     "data": {
      "image/png": "[encoded data removed]",
      "text/plain": [
       "<Figure size 628.252x144.48 with 1 Axes>"
      ]
     },
     "execution_count": 35,
     "metadata": {},
     "output_type": "execute_result"
    }
   ],
   "source": [
    "qc = QuantumCircuit(2)\n",
    "th, ph, lb = 0.1, 0.2, 0.3; qc.u(th, ph, lb, [0]) # state preparation\n",
    "qc.barrier()\n",
    "qc.cx([0], [1])\n",
    "qc.barrier()\n",
    "qc.x([0])\n",
    "qc.barrier()\n",
    "qc.cx([0], [1])\n",
    "qc.cx([1], [0])\n",
    "qc.draw(output = 'mpl')"
   ]
  },
  {
   "cell_type": "markdown",
   "id": "85644d14",
   "metadata": {},
   "source": [
    "Sequência de estados\n",
    "\\begin{align}\n",
    "& |\\psi\\rangle|0\\rangle \\xrightarrow[]{C_{x}^{01}} c_{0}|00\\rangle + c_{1}|11\\rangle \\\\\n",
    "& \\xrightarrow[]{X_{0}} c_{0}|10\\rangle + c_{1}|01\\rangle \\\\\n",
    "& \\xrightarrow[]{C_{x}^{01}} c_{0}|11\\rangle + c_{1}|01\\rangle = (c_{0}|1\\rangle + c_{1}|0\\rangle)|1\\rangle \\\\\n",
    "& \\xrightarrow[]{C_{x}^{10}} (c_{0}|0\\rangle + c_{1}|1\\rangle)|1\\rangle = |\\psi\\rangle|1\\rangle.\n",
    "\\end{align}\n",
    "Ou seja, o flip foi jogado para o sistema auxiliar. Se não aconteceu o flip no qubit 0, como o estado inicial do sistema auxiliar, o qubit 1, é $|0\\rangle$, não acontece nada com o estado do qubit 0. \n",
    "\n",
    "Se acontecer um flip no qubit 1, esse circuito não funciona."
   ]
  },
  {
   "cell_type": "code",
   "execution_count": null,
   "id": "12eb8880",
   "metadata": {},
   "outputs": [],
   "source": [
    "Testar se a taxa de flip diminui com esse protocolo"
   ]
  }
 ],
 "metadata": {
  "kernelspec": {
   "display_name": "Python 3 (ipykernel)",
   "language": "python",
   "name": "python3"
  },
  "language_info": {
   "codemirror_mode": {
    "name": "ipython",
    "version": 3
   },
   "file_extension": ".py",
   "mimetype": "text/x-python",
   "name": "python",
   "nbconvert_exporter": "python",
   "pygments_lexer": "ipython3",
   "version": "3.8.8"
  }
 },
 "nbformat": 4,
 "nbformat_minor": 5
}
