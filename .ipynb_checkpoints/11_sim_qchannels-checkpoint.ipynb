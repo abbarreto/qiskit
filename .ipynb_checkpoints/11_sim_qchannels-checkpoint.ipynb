{
 "cells": [
  {
   "cell_type": "code",
   "execution_count": 2,
   "metadata": {},
   "outputs": [],
   "source": [
    "%run init.ipynb"
   ]
  },
  {
   "cell_type": "markdown",
   "metadata": {},
   "source": [
    "# Kraus' representation\n",
    "For an initial state $\\rho_{0}^{S}\\otimes|0\\rangle_{A}\\langle 0|$ for system + ancilla and a unitary evolution $U_{SA}$, one can obtain the operator sum representation (https://arxiv.org/abs/1510.09081):\n",
    "\\begin{align}\n",
    "\\rho^{S} &= Tr_{A}(U_{SA}\\rho_{0}^{S}\\otimes|0\\rangle_{A}\\langle 0|U_{SA}^{\\dagger}) = \\sum_{k}E_{k}\\rho_{0}^{S}E_{k}^{\\dagger},\n",
    "\\end{align}\n",
    "where $E_{k}$ are the Kraus' operators with ${}_{S}\\langle m|E_{k}|n\\rangle_{S}={}_{S}\\langle m|\\otimes{}_{A}\\langle k|U_{SA}|n\\rangle_{S}\\otimes|0\\rangle_{A}.$ Besides, this representation can be obtained from the unitary mapping $$U_{SA}|\\psi\\rangle_{S}\\otimes|0\\rangle_{A} = \\sum_{k}E_{k}|\\psi\\rangle_{S}\\otimes|k\\rangle_{A}.$$"
   ]
  },
  {
   "cell_type": "markdown",
   "metadata": {},
   "source": [
    "## Simulation of quantum channels with a QC\n",
    "Following (http://arxiv.org/abs/1704.05593), let's start from an initial state $$|\\Psi_{0}\\rangle_{SA}=|\\psi\\rangle_{S}\\otimes|0\\rangle_{A},$$ and apply the following sequence of operations:\n",
    "1. A unitary operation $V$ on the ancillas:\n",
    "\\begin{align}\n",
    "|\\Psi_{1}\\rangle_{SA} &= \\mathbb{I}_{S}\\otimes V_{A}|\\psi\\rangle_{S}\\otimes|0\\rangle_{A} = |\\psi\\rangle_{S}\\otimes V_{A}|0\\rangle_{A} = |\\psi\\rangle_{S}\\otimes|C_{0}^{V_{A}}\\rangle_{A}\\\\\n",
    "&= |\\psi\\rangle_{S}\\otimes \\sum_{j=0}^{d-1}V_{j,0}^{A}|j\\rangle_{A} = \\sum_{j=0}^{d-1}V_{j,0}^{A}|\\psi\\rangle_{S}\\otimes|j\\rangle_{A},\n",
    "\\end{align}\n",
    "with $d=2^{n}$. Above we used \n",
    "$$(V_{A}|0\\rangle_{A})_{j}=\\sum_{k=0}^{d-1}V^{A}_{j,k}|0\\rangle_{A})_{k}=\\sum_{k=0}^{d-1}V^{A}_{j,k}\\delta_{0,k}=V^{A}_{j,0}.$$ \n",
    "We use the notation $|C_{j}^{M}\\rangle$ for the $j$-th column vector of a matrix $M$.\n",
    "\n",
    "2. A controlled unitary operation \n",
    "$$U_{c} = \\sum_{j=0}^{d-1}U_{j}^{S}\\otimes|j\\rangle_{A}\\langle j|:$$\n",
    "such that\n",
    "\\begin{align}\n",
    "|\\Psi_{2}\\rangle_{SA} &= U_{c}\\sum_{j=0}^{d-1}V_{j,0}^{A}|\\psi\\rangle_{S}\\otimes|j\\rangle_{A} = \\sum_{k=0}^{d-1}U_{k}^{S}\\otimes|k\\rangle_{A}\\langle k|\\sum_{j=0}^{d-1}V_{j,0}^{A}|\\psi\\rangle_{S}\\otimes|j\\rangle_{A} \\\\\n",
    "& = \\sum_{k=0}^{d-1}\\sum_{j=0}^{d-1}V_{j,0}^{A}U_{k}^{S}|\\psi\\rangle_{S}\\otimes|k\\rangle_{A}\\langle k|j\\rangle_{A} = \\sum_{j=0}^{d-1}V_{j,0}^{A}U_{j}^{S}|\\psi\\rangle_{S}\\otimes|j\\rangle_{A}.\n",
    "\\end{align}\n",
    "Remark. If all Kraus' operator of a given quantum operation are unitary, then we can stop here."
   ]
  },
  {
   "cell_type": "markdown",
   "metadata": {},
   "source": [
    "3. A unitary on the ancillas:\n",
    "\\begin{align}\n",
    "|\\Psi_{2}\\rangle_{SA} &= \\mathbb{I}_{S}\\otimes W_{A}|\\Psi_{2}\\rangle_{SA} = \\sum_{j=0}^{d-1}V_{j,0}^{A}U_{j}^{S}|\\psi\\rangle_{S}\\otimes W_{A}|j\\rangle_{A} = \\sum_{j=0}^{d-1}V_{j,0}^{A}U_{j}^{S}|\\psi\\rangle_{S}\\otimes |C_{j}^{W_{A}}\\rangle_{A} \\\\\n",
    "& = \\sum_{j=0}^{d-1}V_{j,0}^{A}U_{j}^{S}|\\psi\\rangle_{S}\\otimes \\sum_{k=0}^{d-1}W_{k,j}^{A}|k\\rangle_{A} = \\sum_{k=0}^{d-1}\\left(\\sum_{j=0}^{d-1}W_{k,j}^{A}V_{j,0}^{A}U_{j}^{S}\\right)|\\psi\\rangle_{S}\\otimes |k\\rangle_{A} \\\\\n",
    "& =: \\sum_{k=0}^{d-1}E_{k}^{S}|\\psi\\rangle_{S}\\otimes |k\\rangle_{A}.\n",
    "\\end{align}\n",
    "Above we used \n",
    "$$(W_{A}|j\\rangle_{A})_{k} = \\sum_{l=0}^{d-1}W^{A}_{k,l}(|j\\rangle_{A})_{l}= \\sum_{l=0}^{d-1}W^{A}_{k,l}\\delta_{j,l} = W^{A}_{k,j}.$$\n",
    "We also defined the Kraus' operators as linear combinations of the unitary operator $U_{j}^{S}$: $$E_{k}^{S} := \\sum_{j=0}^{d-1}W_{k,j}^{A}V_{j,0}^{A}U_{j}^{S}.$$\n",
    "\n",
    "OBS: For this protocol to be valid in general, the unitary opeators $U_{j}^{S}$ appearing in $U_{c}$ must form a __basis__ for the matrix space where $E_{k}$ are defined. If the system $\\mathcal{H}_{S}$ has dimension $d_{S}$, then there is $d_{S}^{2}$ basis elements $U_{j}$, i.e., $j=0,\\cdots,d_{S}^{2}-1$, and therefore $$d=d_{S}^{2}.$$"
   ]
  },
  {
   "cell_type": "markdown",
   "metadata": {},
   "source": [
    "Let's verify that the evolution above indeed gives the Kraus' operator sum representation:\n",
    "\\begin{align}\n",
    "\\rho^{S}_{2} &= Tr_{A}|\\Psi_{2}\\rangle_{SA}\\langle\\Psi_{2}| = Tr_{A}\\sum_{k=0}^{d-1}E_{k}^{S}|\\psi\\rangle_{S}\\otimes |k\\rangle_{A}\\sum_{l=0}^{d-1}\\langle\\psi|_{S}(E_{l}^{S})^{\\dagger}\\otimes \\langle l|_{A} \\\\\n",
    "& = Tr_{A}\\sum_{k,l=0}^{d-1}E_{k}^{S}|\\psi\\rangle_{S}\\langle\\psi|(E_{l}^{S})^{\\dagger}\\otimes |k\\rangle_{A}\\langle l| = \\sum_{k,l=0}^{d-1}E_{k}^{S}|\\psi\\rangle_{S}\\langle\\psi|(E_{l}^{S})^{\\dagger}\\otimes \\delta_{l,k} \\\\\n",
    "& = \\sum_{k=0}^{d-1}E_{k}^{S}|\\psi\\rangle_{S}\\langle\\psi|(E_{k}^{S})^{\\dagger}.\n",
    "\\end{align}\n",
    "By the linearity of these operations, this results is generalized for any initial state $\\rho_{0}^{S}=\\sum_{j}p_{j}|\\psi_{j}\\rangle_{S}\\langle\\psi_{j}|$ for $\\{p_{j}\\}$ a probability distribution.\n",
    "\n",
    "This protocol is illustrated in the figure below.\n",
    "<img src=\"fig_channel_sim.png\" width=\"600\">\n",
    "\n",
    "The trace-preserving property follows from:\n",
    "\\begin{align}\n",
    "\\sum_{k=0}^{d-1}(E_{k}^{S})^{\\dagger}E_{k}^{S} &= \\sum_{k=0}^{d-1}\\sum_{j=0}^{d-1}(W_{k,j}^{A}V_{j,0}^{A}U_{j}^{S})^{\\dagger}\\sum_{l=0}^{d-1}W_{k,l}^{A}V_{j,0}^{A}U_{l}^{S} = \\sum_{j,l=0}^{d-1}\\sum_{k=0}^{d-1}(W_{k,j}^{A})^{*}W_{k,l}^{A}V_{j,0}^{A}(V_{j,0}^{A})^{*}(U_{j}^{S})^{\\dagger}U_{l}^{S} \\\\\n",
    "& = \\sum_{j,l=0}^{d-1}\\sum_{k=0}^{d-1}(W^{\\dagger}_{A})_{j,k}W_{k,l}^{A}V_{j,0}^{A}(V_{j,0}^{A})^{*}(U_{j}^{S})^{\\dagger}U_{l}^{S} = \\sum_{j,l=0}^{d-1}(W^{\\dagger}_{A}W_{A})_{j,l}(V_{j,0}^{A})^{*}V_{j,0}^{A}(U_{j}^{S})^{\\dagger}U_{l}^{S} \\\\\n",
    "& = \\sum_{j,l=0}^{d-1}\\delta_{j,l}V_{j,0}^{A}(V_{j,0}^{A})^{*}(U_{j}^{S})^{\\dagger}U_{l}^{S}  = \\sum_{j=0}^{d-1}(V^{\\dagger}_{A})_{0,j}V_{j,0}^{A}(U_{j}^{S})^{\\dagger}U_{j}^{S} = \\sum_{j=0}^{d-1}(V^{\\dagger}_{A})_{0,j}V_{j,0}^{A}\\mathbb{I}_{S} \\\\\n",
    "& = (V^{\\dagger}_{A}V_{A})_{0,0}\\mathbb{I}_{S} = \\mathbb{I}_{S}.\n",
    "\\end{align}"
   ]
  },
  {
   "cell_type": "markdown",
   "metadata": {},
   "source": [
    "OBS: We observe also that for an orthonormal basis of matrices $B_{j}$ we can write any matrix as $$A=\\sum_{j}c_{j}B_{j}$$ with $$c_{j}=\\langle B_{j}|A\\rangle_{HS}=Tr(B_{j}^{\\dagger}A).$$\n",
    "\n",
    "OBS: To see that $U_{c} = \\sum_{j=0}^{d-1}U_{j}^{S}\\otimes|j\\rangle_{A}\\langle j|$ can ideed be implemented as shown in the figure, let's consider the case $d=2$. In this case\n",
    "$$C_{U_{0}} = |0\\rangle\\langle 0|\\otimes U_{0} + |1\\rangle\\langle 1|\\otimes I$$\n",
    "and \n",
    "$$C_{U_{1}} = |0\\rangle\\langle 0|\\otimes I + |1\\rangle\\langle 1|\\otimes U_{1}$$\n",
    "such that\n",
    "\\begin{align}\n",
    "& C_{U_{0}}C_{U_{1}} = (|0\\rangle\\langle 0|\\otimes U_{0} + |1\\rangle\\langle 1|\\otimes I)(|0\\rangle\\langle 0|\\otimes I + |1\\rangle\\langle 1|\\otimes U_{1}) \\\\\n",
    "& = |0\\rangle\\langle 0|\\otimes U_{0}+0+0+|1\\rangle\\langle 1|\\otimes U_{1} = U_{c}.\n",
    "\\end{align}\n",
    "\n",
    "### Example: Phase damping\n",
    "The Kraus' operators for this channel can be written as \n",
    "$$E_{0} = \\begin{bmatrix}1&0\\\\0&\\sqrt{1-\\lambda}\\end{bmatrix},\\ E_{1} = \\begin{bmatrix}0&0\\\\0&\\sqrt{\\lambda}\\end{bmatrix}$$ \n",
    "with $\\lambda\\in[0,1].$ For a qubit, we shall use the Pauli matrices to form an orthonormal basis (that are unitary and hermitian): $$\\left\\{\\frac{\\sigma_{0}}{\\sqrt{2}},\\frac{\\sigma_{1}}{\\sqrt{2}},\\frac{\\sigma_{2}}{\\sqrt{2}},\\frac{\\sigma_{3}}{\\sqrt{2}}\\right\\}.$$ "
   ]
  },
  {
   "cell_type": "code",
   "execution_count": 3,
   "metadata": {},
   "outputs": [
    {
     "data": {
      "image/png": "[encoded data removed]",
      "text/latex": [
       "$\\displaystyle \\left[\\begin{matrix}1 & 0\\\\0 & \\sqrt{1 - \\lambda}\\end{matrix}\\right]$"
      ],
      "text/plain": [
       "⎡1      0    ⎤\n",
       "⎢            ⎥\n",
       "⎢     _______⎥\n",
       "⎣0  ╲╱ 1 - λ ⎦"
      ]
     },
     "execution_count": 3,
     "metadata": {},
     "output_type": "execute_result"
    }
   ],
   "source": [
    "lbda = symbols('lambda', real=True); E0 = Matrix([[1,0],[0,sqrt(1-lbda)]]); E0"
   ]
  },
  {
   "cell_type": "code",
   "execution_count": 4,
   "metadata": {},
   "outputs": [
    {
     "data": {
      "image/png": "[encoded data removed]",
      "text/latex": [
       "$\\displaystyle \\left( \\frac{\\sqrt{2} \\left(\\sqrt{1 - \\lambda} + 1\\right)}{2}, \\  0, \\  0, \\  \\frac{\\sqrt{2} \\left(1 - \\sqrt{1 - \\lambda}\\right)}{2}\\right)$"
      ],
      "text/plain": [
       "⎛   ⎛  _______    ⎞           ⎛      _______⎞⎞\n",
       "⎜√2⋅⎝╲╱ 1 - λ  + 1⎠        √2⋅⎝1 - ╲╱ 1 - λ ⎠⎟\n",
       "⎜──────────────────, 0, 0, ──────────────────⎟\n",
       "⎝        2                         2         ⎠"
      ]
     },
     "execution_count": 4,
     "metadata": {},
     "output_type": "execute_result"
    }
   ],
   "source": [
    "# coefficients of the expansion of E0 in the Pauli basis\n",
    "c0 = trace((id(2)/sqrt(2))*E0); c1 = trace((pauli(1)/sqrt(2))*E0)\n",
    "c2 = trace((pauli(2)/sqrt(2))*E0); c3 = trace((pauli(3)/sqrt(2))*E0)\n",
    "simplify(c0), simplify(c1), simplify(c2), simplify(c3)"
   ]
  },
  {
   "cell_type": "markdown",
   "metadata": {},
   "source": [
    "So, we have \n",
    "\\begin{align}\n",
    "E_{0} &= c_{0}\\frac{\\sigma_{0}}{\\sqrt{2}} + c_{1}\\frac{\\sigma_{1}}{\\sqrt{2}} + c_{2}\\frac{\\sigma_{2}}{\\sqrt{2}} + c_{3}\\frac{\\sigma_{3}}{\\sqrt{2}} \\\\\n",
    "& = \\frac{1+\\sqrt{1-\\lambda}}{\\sqrt{2}}\\frac{\\sigma_{0}}{\\sqrt{2}} + 0\\frac{\\sigma_{1}}{\\sqrt{2}} + 0\\frac{\\sigma_{2}}{\\sqrt{2}} + \\frac{1-\\sqrt{1-\\lambda}}{\\sqrt{2}}\\frac{\\sigma_{3}}{\\sqrt{2}} \\\\\n",
    "& = \\frac{1+\\sqrt{1-\\lambda}}{2}\\sigma_{0} + \\frac{1-\\sqrt{1-\\lambda}}{2}\\sigma_{3}.\n",
    "\\end{align}\n",
    "\n",
    "From $E_{k}^{S} := \\sum_{j=0}^{d-1}W_{k,j}^{A}V_{j,0}^{A}U_{j}^{S}$ we have \n",
    "\\begin{align}\n",
    "E_{0} &= \\sum_{j=0}^{3}W_{0,j}^{A}V_{j,0}^{A}U_{j}^{S} = W_{0,0}^{A}V_{0,0}^{A}U_{0}^{S} + W_{0,1}^{A}V_{1,0}^{A}U_{1}^{S} + W_{0,2}^{A}V_{2,0}^{A}U_{2}^{S}+ W_{0,3}^{A}V_{3,0}^{A}U_{3}^{S} \\\\\n",
    "&  = W_{0,0}^{A}V_{0,0}^{A}\\sigma_{0} + W_{0,1}^{A}V_{1,0}^{A}\\sigma_{1} + W_{0,2}^{A}V_{2,0}^{A}\\sigma_{2}+ W_{0,3}^{A}V_{3,0}^{A}\\sigma_{3}.\n",
    "\\end{align}\n",
    "So, we can set\n",
    "$$W_{0,0}^{A}=V_{0,0}^{A}=\\sqrt{\\frac{1+\\sqrt{1-\\lambda}}{2}}, \\ W_{0,3}^{A}=V_{3,0}^{A}=\\sqrt{\\frac{1-\\sqrt{1-\\lambda}}{2}}.$$"
   ]
  },
  {
   "cell_type": "code",
   "execution_count": 5,
   "metadata": {},
   "outputs": [
    {
     "data": {
      "image/png": "[encoded data removed]",
      "text/latex": [
       "$\\displaystyle \\left[\\begin{matrix}0 & 0\\\\0 & \\sqrt{\\lambda}\\end{matrix}\\right]$"
      ],
      "text/plain": [
       "⎡0  0 ⎤\n",
       "⎢     ⎥\n",
       "⎣0  √λ⎦"
      ]
     },
     "execution_count": 5,
     "metadata": {},
     "output_type": "execute_result"
    }
   ],
   "source": [
    "E1 = Matrix([[0,0],[0,sqrt(lbda)]]); E1"
   ]
  },
  {
   "cell_type": "code",
   "execution_count": 6,
   "metadata": {},
   "outputs": [
    {
     "data": {
      "image/png": "[encoded data removed]",
      "text/latex": [
       "$\\displaystyle \\left( \\frac{\\sqrt{2} \\sqrt{\\lambda}}{2}, \\  0, \\  0, \\  - \\frac{\\sqrt{2} \\sqrt{\\lambda}}{2}\\right)$"
      ],
      "text/plain": [
       "⎛√2⋅√λ        -√2⋅√λ ⎞\n",
       "⎜─────, 0, 0, ───────⎟\n",
       "⎝  2             2   ⎠"
      ]
     },
     "execution_count": 6,
     "metadata": {},
     "output_type": "execute_result"
    }
   ],
   "source": [
    "# coefficients for the expansion of E1 in the Pauli basis\n",
    "c0 = trace((id(2)/sqrt(2))*E1); c1 = trace((pauli(1)/sqrt(2))*E1)\n",
    "c2 = trace((pauli(2)/sqrt(2))*E1); c3 = trace((pauli(3)/sqrt(2))*E1)\n",
    "simplify(c0), simplify(c1), simplify(c2), simplify(c3)"
   ]
  },
  {
   "cell_type": "markdown",
   "metadata": {},
   "source": [
    "So $$E_{1}= \\frac{\\sqrt{\\lambda}}{2}\\sigma_{0} - \\frac{\\sqrt{\\lambda}}{2}\\sigma_{3}.$$ As\n",
    "\\begin{align}\n",
    "E_{1} & = W_{1,0}^{A}V_{0,0}^{A}\\sigma_{0} + W_{1,1}^{A}V_{1,0}^{A}\\sigma_{1} + W_{1,2}^{A}V_{2,0}^{A}\\sigma_{2}+ W_{1,3}^{A}V_{3,0}^{A}\\sigma_{3}\n",
    "\\end{align}\n",
    "we see we can set\n",
    "$$W_{1,0}^{A}=\\sqrt{\\frac{1-\\sqrt{1-\\lambda}}{2}}, \\ W_{1,3}^{A}=\\sqrt{\\frac{1+\\sqrt{1-\\lambda}}{2}}.$$\n",
    "With this, we get\n",
    "\\begin{align}\n",
    "V_{A} \\doteq \\begin{bmatrix} \\sqrt{\\frac{1+\\sqrt{1-\\lambda}}{2}} &0&0&\\sqrt{\\frac{1-\\sqrt{1-\\lambda}}{2}} \\\\ 0&1&0&0 \\\\ 0&0&1&0 \\\\ \\sqrt{\\frac{1-\\sqrt{1-\\lambda}}{2}} &0&0&-\\sqrt{\\frac{1+\\sqrt{1-\\lambda}}{2}}\\end{bmatrix},\\  W_{A} \\doteq \\begin{bmatrix} 0&1&0&0 \\\\ \\sqrt{\\frac{1-\\sqrt{1-\\lambda}}{2}} &0&0&\\sqrt{\\frac{1+\\sqrt{1-\\lambda}}{2}} \\\\ 0&0&1&0 \\\\ \\sqrt{\\frac{1+\\sqrt{1-\\lambda}}{2}}&0&0&-\\sqrt{\\frac{1-\\sqrt{1-\\lambda}}{2}}\\end{bmatrix}.\n",
    "\\end{align}"
   ]
  },
  {
   "cell_type": "markdown",
   "metadata": {},
   "source": [
    "Solving the system of nonlinear equations with Sympy\n",
    "\\begin{equation}\n",
    "\\begin{cases}\n",
    "|V_{0,0}^{A}|^{2}+|V_{1,0}^{A}|^{2}+|V_{2,0}^{A}|^{2}+|V_{3,0}^{A}|^{2}=1, \\\\\n",
    "|W_{0,0}^{A}|^{2}+|W_{0,1}^{A}|^{2}+|W_{0,2}^{A}|^{2}+|W_{0,3}^{A}|^{2}=1, \\\\\n",
    "|W_{1,0}^{A}|^{2}+|W_{1,1}^{A}|^{2}+|W_{1,2}^{A}|^{2}+|W_{1,3}^{A}|^{2}=1, \\\\\n",
    "(W_{1,0}^{A})^{*}W_{0,0}^{A}+(W_{1,1}^{A})^{*}W_{0,1}^{A}+(W_{1,2}^{A})^{*}W_{0,2}^{A}+(W_{1,3}^{A})^{*}W_{0,3}^{A}=0, \\\\\n",
    "W_{0,0}^{A}V_{0,0}^{A} = \\frac{1+\\sqrt{1-\\lambda}}{2}, \\ W_{0,1}^{A}V_{1,0}^{A} = 0, \\ W_{0,2}^{A}V_{2,0}^{A} = 0, \\ W_{0,3}^{A}V_{3,0}^{A} = \\frac{1-\\sqrt{1-\\lambda}}{2}, \\\\\n",
    "W_{1,0}^{A}V_{0,0}^{A} = \\frac{\\sqrt{\\lambda}}{2}, \\ W_{1,1}^{A}V_{1,0}^{A} = 0, \\ W_{1,2}^{A}V_{2,0}^{A} = 0, \\ W_{1,3}^{A}V_{3,0}^{A} = -\\frac{\\sqrt{\\lambda}}{2}.\n",
    "\\end{cases}\n",
    "\\end{equation}"
   ]
  },
  {
   "cell_type": "code",
   "execution_count": 27,
   "metadata": {},
   "outputs": [],
   "source": [
    "V00,V10,V20,V30,W00,W01,W02,W03,W10,W11,W12,W13=symbols('V00 V10 V20 V30 W00 W01 W02 W03 W10 W11 W12 W13',real=True)\n",
    "#nonlinsolve([V00**2+V10**2+V20**2+V30**2-1, W00**2+W01**2+W02**2+W03**2-1,\n",
    "#             W10**2+W11**2+W12**2+W13**2-1,W10*W00+W11*W01+W12*W02+W13*W03,\n",
    "#             W00*V00-(1+sqrt(1-lbda))/2, W01*V10, W02*V20, W03*V30-(1-sqrt(1-lbda))/2,\n",
    "#             W10*V00-sqrt(lbda)/2, W11*V10, W12*V20, W13*V30+sqrt(lbda)/2],\n",
    "#            [V00,V10,V20,V30,W00,W01,W02,W03,W10,W11,W12,W13])\n",
    "# took too long for solving (did not return any result)"
   ]
  },
  {
   "cell_type": "markdown",
   "metadata": {},
   "source": [
    "#### Verifications"
   ]
  },
  {
   "cell_type": "code",
   "execution_count": 7,
   "metadata": {},
   "outputs": [
    {
     "data": {
      "image/png": "[encoded data removed]",
      "text/latex": [
       "$\\displaystyle \\left[\\begin{matrix}\\sqrt{\\frac{\\sqrt{1 - \\lambda}}{2} + \\frac{1}{2}} & 0 & 0 & \\sqrt{\\frac{1}{2} - \\frac{\\sqrt{1 - \\lambda}}{2}}\\\\0 & 1 & 0 & 0\\\\0 & 0 & 1 & 0\\\\\\sqrt{\\frac{1}{2} - \\frac{\\sqrt{1 - \\lambda}}{2}} & 0 & 0 & - \\sqrt{\\frac{\\sqrt{1 - \\lambda}}{2} + \\frac{1}{2}}\\end{matrix}\\right]$"
      ],
      "text/plain": [
       "⎡     _______________             _______________ ⎤\n",
       "⎢    ╱   _______                 ╱       _______  ⎥\n",
       "⎢   ╱  ╲╱ 1 - λ    1            ╱  1   ╲╱ 1 - λ   ⎥\n",
       "⎢  ╱   ───────── + ─   0  0    ╱   ─ - ─────────  ⎥\n",
       "⎢╲╱        2       2         ╲╱    2       2      ⎥\n",
       "⎢                                                 ⎥\n",
       "⎢         0            1  0            0          ⎥\n",
       "⎢                                                 ⎥\n",
       "⎢         0            0  1            0          ⎥\n",
       "⎢                                                 ⎥\n",
       "⎢     _______________              _______________⎥\n",
       "⎢    ╱       _______              ╱   _______     ⎥\n",
       "⎢   ╱  1   ╲╱ 1 - λ              ╱  ╲╱ 1 - λ    1 ⎥\n",
       "⎢  ╱   ─ - ─────────   0  0  -  ╱   ───────── + ─ ⎥\n",
       "⎣╲╱    2       2              ╲╱        2       2 ⎦"
      ]
     },
     "execution_count": 7,
     "metadata": {},
     "output_type": "execute_result"
    }
   ],
   "source": [
    "V = Matrix([[sqrt((1+sqrt(1-lbda))/2),0,0,sqrt((1-sqrt(1-lbda))/2)],[0,1,0,0],[0,0,1,0],\n",
    "            [sqrt((1-sqrt(1-lbda))/2),0,0,-sqrt((1+sqrt(1-lbda))/2)]])\n",
    "V"
   ]
  },
  {
   "cell_type": "code",
   "execution_count": 8,
   "metadata": {},
   "outputs": [
    {
     "data": {
      "image/png": "[encoded data removed]",
      "text/latex": [
       "$\\displaystyle \\left( \\left[\\begin{matrix}1 & 0 & 0 & 0\\\\0 & 1 & 0 & 0\\\\0 & 0 & 1 & 0\\\\0 & 0 & 0 & 1\\end{matrix}\\right], \\  \\left[\\begin{matrix}1 & 0 & 0 & 0\\\\0 & 1 & 0 & 0\\\\0 & 0 & 1 & 0\\\\0 & 0 & 0 & 1\\end{matrix}\\right]\\right)$"
      ],
      "text/plain": [
       "⎛⎡1  0  0  0⎤  ⎡1  0  0  0⎤⎞\n",
       "⎜⎢          ⎥  ⎢          ⎥⎟\n",
       "⎜⎢0  1  0  0⎥  ⎢0  1  0  0⎥⎟\n",
       "⎜⎢          ⎥, ⎢          ⎥⎟\n",
       "⎜⎢0  0  1  0⎥  ⎢0  0  1  0⎥⎟\n",
       "⎜⎢          ⎥  ⎢          ⎥⎟\n",
       "⎝⎣0  0  0  1⎦  ⎣0  0  0  1⎦⎠"
      ]
     },
     "execution_count": 8,
     "metadata": {},
     "output_type": "execute_result"
    }
   ],
   "source": [
    "V*V.T, V.T*V # verification of unitarity"
   ]
  },
  {
   "cell_type": "code",
   "execution_count": 9,
   "metadata": {},
   "outputs": [
    {
     "data": {
      "image/png": "[encoded data removed]",
      "text/latex": [
       "$\\displaystyle \\left[\\begin{matrix}0 & 1 & 0 & 0\\\\\\sqrt{\\frac{1}{2} - \\frac{\\sqrt{1 - \\lambda}}{2}} & 0 & 0 & \\sqrt{\\frac{\\sqrt{1 - \\lambda}}{2} + \\frac{1}{2}}\\\\0 & 0 & 1 & 0\\\\\\sqrt{\\frac{\\sqrt{1 - \\lambda}}{2} + \\frac{1}{2}} & 0 & 0 & - \\sqrt{\\frac{1}{2} - \\frac{\\sqrt{1 - \\lambda}}{2}}\\end{matrix}\\right]$"
      ],
      "text/plain": [
       "⎡         0            1  0            0          ⎤\n",
       "⎢                                                 ⎥\n",
       "⎢     _______________             _______________ ⎥\n",
       "⎢    ╱       _______             ╱   _______      ⎥\n",
       "⎢   ╱  1   ╲╱ 1 - λ             ╱  ╲╱ 1 - λ    1  ⎥\n",
       "⎢  ╱   ─ - ─────────   0  0    ╱   ───────── + ─  ⎥\n",
       "⎢╲╱    2       2             ╲╱        2       2  ⎥\n",
       "⎢                                                 ⎥\n",
       "⎢         0            0  1            0          ⎥\n",
       "⎢                                                 ⎥\n",
       "⎢     _______________              _______________⎥\n",
       "⎢    ╱   _______                  ╱       _______ ⎥\n",
       "⎢   ╱  ╲╱ 1 - λ    1             ╱  1   ╲╱ 1 - λ  ⎥\n",
       "⎢  ╱   ───────── + ─   0  0  -  ╱   ─ - ───────── ⎥\n",
       "⎣╲╱        2       2          ╲╱    2       2     ⎦"
      ]
     },
     "execution_count": 9,
     "metadata": {},
     "output_type": "execute_result"
    }
   ],
   "source": [
    "W = Matrix([[0,1,0,0],[sqrt((1-sqrt(1-lbda))/2),0,0,sqrt((1+sqrt(1-lbda))/2)],[0,0,1,0],\n",
    "            [sqrt((1+sqrt(1-lbda))/2),0,0,-sqrt((1-sqrt(1-lbda))/2)]])\n",
    "W"
   ]
  },
  {
   "cell_type": "code",
   "execution_count": 10,
   "metadata": {},
   "outputs": [
    {
     "data": {
      "image/png": "[encoded data removed]",
      "text/latex": [
       "$\\displaystyle \\left( \\left[\\begin{matrix}1 & 0 & 0 & 0\\\\0 & 1 & 0 & 0\\\\0 & 0 & 1 & 0\\\\0 & 0 & 0 & 1\\end{matrix}\\right], \\  \\left[\\begin{matrix}1 & 0 & 0 & 0\\\\0 & 1 & 0 & 0\\\\0 & 0 & 1 & 0\\\\0 & 0 & 0 & 1\\end{matrix}\\right]\\right)$"
      ],
      "text/plain": [
       "⎛⎡1  0  0  0⎤  ⎡1  0  0  0⎤⎞\n",
       "⎜⎢          ⎥  ⎢          ⎥⎟\n",
       "⎜⎢0  1  0  0⎥  ⎢0  1  0  0⎥⎟\n",
       "⎜⎢          ⎥, ⎢          ⎥⎟\n",
       "⎜⎢0  0  1  0⎥  ⎢0  0  1  0⎥⎟\n",
       "⎜⎢          ⎥  ⎢          ⎥⎟\n",
       "⎝⎣0  0  0  1⎦  ⎣0  0  0  1⎦⎠"
      ]
     },
     "execution_count": 10,
     "metadata": {},
     "output_type": "execute_result"
    }
   ],
   "source": [
    "W*W.T, W.T*W # verification of unitarity"
   ]
  },
  {
   "cell_type": "code",
   "execution_count": 11,
   "metadata": {},
   "outputs": [
    {
     "data": {
      "image/png": "[encoded data removed]",
      "text/latex": [
       "$\\displaystyle \\left[\\begin{matrix}r_{00} & r_{01}\\\\r_{10} & r_{11}\\end{matrix}\\right]$"
      ],
      "text/plain": [
       "⎡r₀₀  r₀₁⎤\n",
       "⎢        ⎥\n",
       "⎣r₁₀  r₁₁⎦"
      ]
     },
     "execution_count": 11,
     "metadata": {},
     "output_type": "execute_result"
    }
   ],
   "source": [
    "r00,r01,r10,r11 = symbols('r00,r01,r10,r11',real=True)\n",
    "rhoS0 = Matrix([[r00,r01],[r10,r11]])\n",
    "rhoS0 # initial state"
   ]
  },
  {
   "cell_type": "code",
   "execution_count": 12,
   "metadata": {},
   "outputs": [
    {
     "data": {
      "image/png": "[encoded data removed]",
      "text/latex": [
       "$\\displaystyle \\left[\\begin{matrix}r_{00} & r_{01} \\sqrt{1 - \\lambda}\\\\r_{10} \\sqrt{1 - \\lambda} & r_{11}\\end{matrix}\\right]$"
      ],
      "text/plain": [
       "⎡                     _______⎤\n",
       "⎢     r₀₀       r₀₁⋅╲╱ 1 - λ ⎥\n",
       "⎢                            ⎥\n",
       "⎢      _______               ⎥\n",
       "⎣r₁₀⋅╲╱ 1 - λ        r₁₁     ⎦"
      ]
     },
     "execution_count": 12,
     "metadata": {},
     "output_type": "execute_result"
    }
   ],
   "source": [
    "rhoS = E0*rhoS0*E0 + E1*rhoS0*E1; simplify(rhoS) # evolved state using the Kraus' operators"
   ]
  },
  {
   "cell_type": "code",
   "execution_count": 14,
   "metadata": {},
   "outputs": [],
   "source": [
    "# Outside these functions, initialize: rhos = zeros(ds,ds), s=A,B\n",
    "def ptraceA(da, db, rho):\n",
    "    rhoB = zeros(db,db)\n",
    "    for j in range(0, db):\n",
    "        for k in range(0, db):\n",
    "            for l in range(0, da):\n",
    "                rhoB[j,k] += rho[l*db+j,l*db+k]\n",
    "    return rhoB\n",
    "\n",
    "def ptraceB(da, db, rho):\n",
    "    rhoA = zeros(da,da)\n",
    "    for j in range(0, da):\n",
    "        for k in range(0, da):\n",
    "            for l in range(0, db):\n",
    "                rhoA[j,k] += rho[j*db+l,k*db+l]\n",
    "    return rhoA"
   ]
  },
  {
   "cell_type": "code",
   "execution_count": 15,
   "metadata": {},
   "outputs": [
    {
     "data": {
      "image/png": "[encoded data removed]",
      "text/latex": [
       "$\\displaystyle \\left[\\begin{matrix}r_{00} & r_{01} \\sqrt{1 - \\lambda}\\\\r_{10} \\sqrt{1 - \\lambda} & r_{11}\\end{matrix}\\right]$"
      ],
      "text/plain": [
       "⎡                     _______⎤\n",
       "⎢     r₀₀       r₀₁⋅╲╱ 1 - λ ⎥\n",
       "⎢                            ⎥\n",
       "⎢      _______               ⎥\n",
       "⎣r₁₀⋅╲╱ 1 - λ        r₁₁     ⎦"
      ]
     },
     "execution_count": 15,
     "metadata": {},
     "output_type": "execute_result"
    }
   ],
   "source": [
    "# tests the circuit for the PDC\n",
    "rhoSA0 = tp(rhoS0,proj(cb(4,0)))#; rhoSA0 \n",
    "rhoSA1 = tp(id(2),V)*rhoSA0*tp(id(2),V.T)#; rhoSA1\n",
    "Uc = tp(id(2),proj(cb(4,0))) + tp(id(2),proj(cb(4,1))) + tp(id(2),proj(cb(4,2))) + tp(pauli(3),proj(cb(4,3)))\n",
    "#Uc*Uc.T, Uc.T*Uc\n",
    "rhoSA2 = Uc*rhoSA1*Uc.T; #rhoSA2\n",
    "rhoS = ptraceB(2, 4, rhoSA2); simplify(rhoS) # ok!"
   ]
  },
  {
   "cell_type": "markdown",
   "metadata": {},
   "source": [
    "#### Alternative: 2-dimensional ancilla\n",
    "In (http://arxiv.org/abs/1704.05593), instead of the unitary operators above, the authors used\n",
    "\\begin{align}\n",
    "V_{A} = W_{A} = \\begin{bmatrix} \\sqrt{\\frac{1+\\sqrt{1-\\lambda}}{2}} &\\sqrt{\\frac{1-\\sqrt{1-\\lambda}}{2}}  \\\\ \\sqrt{\\frac{1-\\sqrt{1-\\lambda}}{2}}&-\\sqrt{\\frac{1+\\sqrt{1-\\lambda}}{2}}\\end{bmatrix}.\n",
    "\\end{align}\n",
    "Let's verify if it works."
   ]
  },
  {
   "cell_type": "code",
   "execution_count": 16,
   "metadata": {},
   "outputs": [
    {
     "data": {
      "image/png": "[encoded data removed]",
      "text/latex": [
       "$\\displaystyle \\left[\\begin{matrix}\\sqrt{\\frac{\\sqrt{1 - \\lambda}}{2} + \\frac{1}{2}} & \\sqrt{\\frac{1}{2} - \\frac{\\sqrt{1 - \\lambda}}{2}}\\\\\\sqrt{\\frac{1}{2} - \\frac{\\sqrt{1 - \\lambda}}{2}} & - \\sqrt{\\frac{\\sqrt{1 - \\lambda}}{2} + \\frac{1}{2}}\\end{matrix}\\right]$"
      ],
      "text/plain": [
       "⎡     _______________       _______________ ⎤\n",
       "⎢    ╱   _______           ╱       _______  ⎥\n",
       "⎢   ╱  ╲╱ 1 - λ    1      ╱  1   ╲╱ 1 - λ   ⎥\n",
       "⎢  ╱   ───────── + ─     ╱   ─ - ─────────  ⎥\n",
       "⎢╲╱        2       2   ╲╱    2       2      ⎥\n",
       "⎢                                           ⎥\n",
       "⎢     _______________        _______________⎥\n",
       "⎢    ╱       _______        ╱   _______     ⎥\n",
       "⎢   ╱  1   ╲╱ 1 - λ        ╱  ╲╱ 1 - λ    1 ⎥\n",
       "⎢  ╱   ─ - ─────────   -  ╱   ───────── + ─ ⎥\n",
       "⎣╲╱    2       2        ╲╱        2       2 ⎦"
      ]
     },
     "execution_count": 16,
     "metadata": {},
     "output_type": "execute_result"
    }
   ],
   "source": [
    "V = Matrix([[sqrt((1+sqrt(1-lbda))/2),sqrt((1-sqrt(1-lbda))/2)],\n",
    "            [sqrt((1-sqrt(1-lbda))/2),-sqrt((1+sqrt(1-lbda))/2)]])\n",
    "W = V; V"
   ]
  },
  {
   "cell_type": "code",
   "execution_count": 17,
   "metadata": {},
   "outputs": [
    {
     "data": {
      "image/png": "[encoded data removed]",
      "text/latex": [
       "$\\displaystyle \\left[\\begin{matrix}r_{00} & r_{01} \\sqrt{1 - \\lambda}\\\\r_{10} \\sqrt{1 - \\lambda} & r_{11}\\end{matrix}\\right]$"
      ],
      "text/plain": [
       "⎡                     _______⎤\n",
       "⎢     r₀₀       r₀₁⋅╲╱ 1 - λ ⎥\n",
       "⎢                            ⎥\n",
       "⎢      _______               ⎥\n",
       "⎣r₁₀⋅╲╱ 1 - λ        r₁₁     ⎦"
      ]
     },
     "execution_count": 17,
     "metadata": {},
     "output_type": "execute_result"
    }
   ],
   "source": [
    "# tests the (http://arxiv.org/abs/1704.05593) circuit\n",
    "rhoSA0 = tp(rhoS0,proj(cb(2,0))); rhoSA0 \n",
    "rhoSA1 = tp(id(2),V)*rhoSA0*tp(id(2),V.T); rhoSA1\n",
    "Uc = tp(id(2),proj(cb(2,0))) + tp(pauli(3),proj(cb(2,1))); Uc, Uc*Uc.T, Uc.T*Uc\n",
    "rhoSA2 = Uc*rhoSA1*Uc.T; rhoSA2\n",
    "rhoS = ptraceB(2, 2, rhoSA2); simplify(rhoS) # also works!"
   ]
  },
  {
   "cell_type": "markdown",
   "metadata": {},
   "source": [
    "## Sobre a implementação do phase damping no IBMQ\n",
    "If we set \n",
    "$$V_{A} = W_{A} = \\begin{bmatrix} \\sqrt{\\frac{1+\\sqrt{1-\\lambda}}{2}} &\\sqrt{\\frac{1-\\sqrt{1-\\lambda}}{2}}  \\\\ \\sqrt{\\frac{1-\\sqrt{1-\\lambda}}{2}}&-\\sqrt{\\frac{1+\\sqrt{1-\\lambda}}{2}}\\end{bmatrix}:=U_{3}(\\theta,\\phi,\\xi) = \\begin{bmatrix}\\cos(\\theta/2) & -e^{i\\xi}\\sin(\\theta/2) \\\\ e^{i\\phi}\\sin(\\theta/2) & e^{i(\\phi+\\xi)}\\cos(\\theta/2) \\end{bmatrix},$$\n",
    "we must have\n",
    "\\begin{align}\n",
    "& \\theta = 2\\arccos\\sqrt{\\frac{1+\\sqrt{1-\\lambda}}{2}} = 2\\arcsin\\sqrt{\\frac{1-\\sqrt{1-\\lambda}}{2}}, \\\\\n",
    "& \\phi = 0, \\\\\n",
    "& \\xi = \\pi.\n",
    "\\end{align}"
   ]
  },
  {
   "cell_type": "code",
   "execution_count": 24,
   "metadata": {},
   "outputs": [
    {
     "data": {
      "image/png": "[encoded data removed]",
      "text/plain": [
       "<Figure size 432x288 with 1 Axes>"
      ]
     },
     "metadata": {
      "needs_background": "light"
     },
     "output_type": "display_data"
    }
   ],
   "source": [
    "lb = np.arange(0,1.01,0.01); th = 2*np.arccos(np.sqrt((1+np.sqrt(1-lb))/2))\n",
    "th_ = 2*np.arcsin(np.sqrt((1-np.sqrt(1-lb))/2))\n",
    "plt.plot(lb,th); plt.plot(lb, th_, '*') \n",
    "plt.xlabel(r'$\\lambda$'); plt.ylabel(r'$\\theta$'); plt.show()"
   ]
  },
  {
   "cell_type": "code",
   "execution_count": 28,
   "metadata": {},
   "outputs": [],
   "source": [
    "# phase damping channel, exact\n",
    "def phase_damping(rho, lb):\n",
    "    E0 = Matrix([[1,0],[0,sqrt(1-lb)]]); E1 = Matrix([[0,0],[0,sqrt(lb)]])\n",
    "    return E0*rho*E0 + E1*rho*E1"
   ]
  },
  {
   "cell_type": "code",
   "execution_count": 29,
   "metadata": {},
   "outputs": [
    {
     "data": {
      "image/png": "[encoded data removed]",
      "text/latex": [
       "$\\displaystyle \\left( \\left[\\begin{matrix}\\frac{1}{2} & \\frac{1}{2}\\\\\\frac{1}{2} & \\frac{1}{2}\\end{matrix}\\right], \\  \\left[\\begin{matrix}\\frac{1}{2} & \\frac{\\sqrt{1 - \\lambda}}{2}\\\\\\frac{\\sqrt{1 - \\lambda}}{2} & \\frac{1}{2}\\end{matrix}\\right]\\right)$"
      ],
      "text/plain": [
       "⎛            ⎡             _______⎤⎞\n",
       "⎜            ⎢           ╲╱ 1 - λ ⎥⎟\n",
       "⎜            ⎢   1/2     ─────────⎥⎟\n",
       "⎜⎡1/2  1/2⎤  ⎢               2    ⎥⎟\n",
       "⎜⎢        ⎥, ⎢                    ⎥⎟\n",
       "⎜⎣1/2  1/2⎦  ⎢  _______           ⎥⎟\n",
       "⎜            ⎢╲╱ 1 - λ            ⎥⎟\n",
       "⎜            ⎢─────────     1/2   ⎥⎟\n",
       "⎝            ⎣    2               ⎦⎠"
      ]
     },
     "execution_count": 29,
     "metadata": {},
     "output_type": "execute_result"
    }
   ],
   "source": [
    "lb = symbols('lambda')\n",
    "psi = (cb(2,0)+cb(2,1))/sqrt(2); rho = proj(psi); rhopd = phase_damping(rho, lb)\n",
    "rho, rhopd"
   ]
  },
  {
   "cell_type": "code",
   "execution_count": 30,
   "metadata": {},
   "outputs": [],
   "source": [
    "def coh_l1(rho):\n",
    "    d = rho.shape[0]; C = 0\n",
    "    for j in range(0, d-1):\n",
    "        for k in range(j+1, d):\n",
    "            C += abs(rho[j,k])\n",
    "    return 2*C"
   ]
  },
  {
   "cell_type": "code",
   "execution_count": 31,
   "metadata": {},
   "outputs": [
    {
     "data": {
      "image/png": "[encoded data removed]",
      "text/latex": [
       "$\\displaystyle \\left|{\\sqrt{1 - \\lambda}}\\right|$"
      ],
      "text/plain": [
       "│  _______│\n",
       "│╲╱ 1 - λ │"
      ]
     },
     "execution_count": 31,
     "metadata": {},
     "output_type": "execute_result"
    }
   ],
   "source": [
    "coh = coh_l1(rhopd); coh"
   ]
  },
  {
   "cell_type": "code",
   "execution_count": 50,
   "metadata": {},
   "outputs": [],
   "source": [
    "# simulation\n",
    "from qiskit import *"
   ]
  },
  {
   "cell_type": "code",
   "execution_count": 68,
   "metadata": {},
   "outputs": [
    {
     "data": {
      "text/html": [
       "<pre style=\"word-wrap: normal;white-space: pre;background: #fff0;line-height: 1.1;font-family: &quot;Courier New&quot;,Courier,monospace\">       ┌───┐\n",
       "q20_0: ┤ H ├\n",
       "       └───┘</pre>"
      ],
      "text/plain": [
       "       ┌───┐\n",
       "q20_0: ┤ H ├\n",
       "       └───┘"
      ]
     },
     "execution_count": 68,
     "metadata": {},
     "output_type": "execute_result"
    }
   ],
   "source": [
    "def state_prep():\n",
    "    qr = QuantumRegister(1); qc = QuantumCircuit(qr, name = 'state_prep')\n",
    "    qc.h(qr[0])\n",
    "    return qc\n",
    "qc_sp = state_prep(); qc_sp.draw()"
   ]
  },
  {
   "cell_type": "code",
   "execution_count": 67,
   "metadata": {},
   "outputs": [
    {
     "data": {
      "text/html": [
       "<pre style=\"word-wrap: normal;white-space: pre;background: #fff0;line-height: 1.1;font-family: &quot;Courier New&quot;,Courier,monospace\">                                      \n",
       "q19_0: ───────────────■───────────────\n",
       "       ┌────────────┐ │ ┌────────────┐\n",
       "q19_1: ┤ U(π/4,0,π) ├─■─┤ U(π/4,0,π) ├\n",
       "       └────────────┘   └────────────┘</pre>"
      ],
      "text/plain": [
       "                                      \n",
       "q19_0: ───────────────■───────────────\n",
       "       ┌────────────┐ │ ┌────────────┐\n",
       "q19_1: ┤ U(π/4,0,π) ├─■─┤ U(π/4,0,π) ├\n",
       "       └────────────┘   └────────────┘"
      ]
     },
     "execution_count": 67,
     "metadata": {},
     "output_type": "execute_result"
    }
   ],
   "source": [
    "def qc_sim_pd(lb):\n",
    "    qr = QuantumRegister(2); qc = QuantumCircuit(qr, name = 'pd_sim')\n",
    "    th = 2*math.acos(math.sqrt((1+math.sqrt(1-lb))/2))\n",
    "    qc.u(th, 0, math.pi, qr[1]); qc.cz(qr[0],qr[1]); qc.u(th, 0, math.pi, qr[1])\n",
    "    return qc\n",
    "lb = 0.5; qc_pd = qc_sim_pd(lb); qc_pd.draw()"
   ]
  },
  {
   "cell_type": "code",
   "execution_count": 70,
   "metadata": {},
   "outputs": [
    {
     "data": {
      "text/html": [
       "<pre style=\"word-wrap: normal;white-space: pre;background: #fff0;line-height: 1.1;font-family: &quot;Courier New&quot;,Courier,monospace\">       ┌────────────┐ ░ ┌─────────┐ ░ \n",
       "q24_0: ┤ state_prep ├─░─┤0        ├─░─\n",
       "       └────────────┘ ░ │  pd_sim │ ░ \n",
       "q24_1: ───────────────░─┤1        ├─░─\n",
       "                      ░ └─────────┘ ░ </pre>"
      ],
      "text/plain": [
       "       ┌────────────┐ ░ ┌─────────┐ ░ \n",
       "q24_0: ┤ state_prep ├─░─┤0        ├─░─\n",
       "       └────────────┘ ░ │  pd_sim │ ░ \n",
       "q24_1: ───────────────░─┤1        ├─░─\n",
       "                      ░ └─────────┘ ░ "
      ]
     },
     "execution_count": 70,
     "metadata": {},
     "output_type": "execute_result"
    }
   ],
   "source": [
    "qr = QuantumRegister(2); qc = QuantumCircuit(qr)\n",
    "qc_sp = state_prep(); qc.append(qc_sp, [qr[0]]); qc.barrier()\n",
    "lb = 0; qc_pd = qc_sim_pd(lb); qc.append(qc_pd, [qr[0],qr[1]]); qc.barrier()\n",
    "qc.draw()"
   ]
  },
  {
   "cell_type": "code",
   "execution_count": 83,
   "metadata": {},
   "outputs": [
    {
     "name": "stderr",
     "output_type": "stream",
     "text": [
      "ibmqfactory.load_account:WARNING:2021-11-24 15:56:57,311: Credentials are already in use. The existing account in the session will be replaced.\n"
     ]
    }
   ],
   "source": [
    "from qiskit.ignis.verification.tomography import state_tomography_circuits, StateTomographyFitter\n",
    "nshots = 8192\n",
    "qiskit.IBMQ.load_account()\n",
    "provider = qiskit.IBMQ.get_provider(hub='ibm-q', group='open', project='main')\n",
    "device = provider.get_backend('ibmq_belem')\n",
    "from qiskit.tools.monitor import job_monitor"
   ]
  },
  {
   "cell_type": "code",
   "execution_count": 84,
   "metadata": {},
   "outputs": [
    {
     "name": "stdout",
     "output_type": "stream",
     "text": [
      "619e8b078b720e600e1175fe\n",
      "Job Status: job has successfully run\n",
      "619e8b2a53ac6c207cd5b505\n",
      "Job Status: job has successfully run\n",
      "619e8b635297ba6976ece146\n",
      "Job Status: job has successfully run\n",
      "619e8b8d53ac6c1621d5b506\n",
      "Job Status: job has successfully run\n",
      "619e8bc81db79f02fada5587\n",
      "Job Status: job has successfully run\n",
      "619e8c1996d31930445237ac\n",
      "Job Status: job has successfully run\n",
      "619e8c3453ac6cbed5d5b509\n",
      "Job Status: job has successfully run\n",
      "619e8c6d96d31953475237af\n",
      "Job Status: job has successfully run\n",
      "619e8c9753ac6c1bf2d5b50c\n",
      "Job Status: job has successfully run\n",
      "619e8ceb8982d9b14b33a9d5\n",
      "Job Status: job has successfully run\n",
      "619e8d358982d92a1b33a9db\n",
      "Job Status: job has successfully run\n",
      "619e8d658b720e84bd11760b\n",
      "Job Status: job has successfully run\n",
      "619e8db9a6df2a0c9fb94faa\n",
      "Job Status: job has successfully run\n",
      "619e8e0996d319582c5237b7\n",
      "Job Status: job has successfully run\n",
      "619e8e60580e759df0150f74\n",
      "Job Status: job has successfully run\n",
      "619e8ea68b720e2c48117614\n",
      "Job Status: job has successfully run\n",
      "619e8f028b720e01f6117616\n",
      "Job Status: job has successfully run\n",
      "619e8f50a6df2a4892b94fb4\n",
      "Job Status: job has successfully run\n",
      "619e8f9a1db79f3e84da55a3\n",
      "Job Status: job has successfully run\n",
      "619e8ff0a6df2a0ebbb94fba\n",
      "Job Status: job has successfully run\n",
      "619e90435297ba81cfece168\n",
      "Job Status: job has successfully run\n"
     ]
    }
   ],
   "source": [
    "lb = np.arange(0,1.05,0.05); d = lb.shape[0]; Cteo = np.zeros(d); Csim = np.zeros(d); Cexp = np.zeros(d)\n",
    "for j in range(0, d):\n",
    "    Cteo[j] = np.abs(math.sqrt(1-lb[j])) # theoretical\n",
    "    qr = QuantumRegister(2); qc = QuantumCircuit(qr)\n",
    "    qc_sp = state_prep(); qc.append(qc_sp, [qr[0]]) # state preparation\n",
    "    qc_pd = qc_sim_pd(lb[j]); qc.append(qc_pd, [qr[0],qr[1]]) # apply sim phase damping \n",
    "    qstc = state_tomography_circuits(qc, qr[0]) # circuit for state tomography\n",
    "    job = qiskit.execute(qstc, Aer.get_backend('qasm_simulator'), shots=nshots)\n",
    "    qstf = StateTomographyFitter(job.result(), qstc); rho = qstf.fit(method='lstsq')\n",
    "    Csim[j] = coh_l1(rho)\n",
    "    # 1st I did the simulation, only afterwards I added the code for the experiments\n",
    "    job = qiskit.execute(qstc, backend = device, shots = nshots)\n",
    "    print(job.job_id()); job_monitor(job)\n",
    "    qstf = StateTomographyFitter(job.result(), qstc); rho = qstf.fit(method='lstsq')\n",
    "    Cexp[j] = coh_l1(rho)"
   ]
  },
  {
   "cell_type": "code",
   "execution_count": 85,
   "metadata": {},
   "outputs": [
    {
     "data": {
      "image/png": "[encoded data removed]",
      "text/plain": [
       "<Figure size 600x400 with 1 Axes>"
      ]
     },
     "metadata": {
      "needs_background": "light"
     },
     "output_type": "display_data"
    }
   ],
   "source": [
    "matplotlib.rcParams.update({'font.size':12}); plt.figure(figsize = (6,4), dpi = 100)\n",
    "plt.plot(lb, Cteo, label = r'$C_{teo}$'); plt.plot(lb, Csim, 'o', label = r'$C_{sim}$')\n",
    "plt.plot(lb, Cexp, '*', label = r'$C_{exp}$')\n",
    "plt.legend(); plt.xlabel(r'$\\lambda$'); plt.show()"
   ]
  },
  {
   "cell_type": "markdown",
   "metadata": {},
   "source": [
    "## Exercise\n",
    "Make the same kind of plot for the simulation of the amplitude damping channel. See (http://arxiv.org/abs/1704.05593)."
   ]
  },
  {
   "cell_type": "code",
   "execution_count": null,
   "metadata": {},
   "outputs": [],
   "source": []
  }
 ],
 "metadata": {
  "kernelspec": {
   "display_name": "Python 3",
   "language": "python",
   "name": "python3"
  },
  "language_info": {
   "codemirror_mode": {
    "name": "ipython",
    "version": 3
   },
   "file_extension": ".py",
   "mimetype": "text/x-python",
   "name": "python",
   "nbconvert_exporter": "python",
   "pygments_lexer": "ipython3",
   "version": "3.8.8"
  }
 },
 "nbformat": 4,
 "nbformat_minor": 4
}
