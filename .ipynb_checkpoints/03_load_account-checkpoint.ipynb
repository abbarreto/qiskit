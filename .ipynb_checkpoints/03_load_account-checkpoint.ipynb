{
 "cells": [
  {
   "cell_type": "code",
   "execution_count": 35,
   "id": "03e1d09a",
   "metadata": {},
   "outputs": [],
   "source": [
    "# importa o qiskit, cujas funcoes podemos entao usar\n",
    "import qiskit\n"
   ]
  },
  {
   "cell_type": "code",
   "execution_count": null,
   "id": "3e29f09a",
   "metadata": {},
   "outputs": [],
   "source": [
    "# para ver que versoes das ferramentas do qiskit temos instaladas\n",
    "qiskit.__qiskit_version__"
   ]
  },
  {
   "cell_type": "code",
   "execution_count": 36,
   "id": "1f6f7da4",
   "metadata": {},
   "outputs": [],
   "source": [
    "# determina o API token a ser usado\n",
    "qiskit.IBMQ.save_account('c3abc4f5e279bf0f21119ed5d30806ba3f6aed40fdf881bf182fc59c8aca0b0746bb8dfa73a4b92af86d3d7705101e36633b4f23854bdbac6f2f94304c5d524c', \n",
    "                  overwrite = True)"
   ]
  },
  {
   "cell_type": "code",
   "execution_count": null,
   "id": "45df71a4",
   "metadata": {},
   "outputs": [],
   "source": [
    "# conecta meu computador com minha conta IBMQ na nuvem\n",
    "qiskit.IBMQ.load_account();"
   ]
  },
  {
   "cell_type": "code",
   "execution_count": null,
   "id": "f81f2805",
   "metadata": {},
   "outputs": [],
   "source": [
    "# determina qual das minhas \"contas\" vou usar. \n",
    "#provider = qiskit.IBMQ.get_provider(hub='ibm-q', group='open', project='main')\n",
    "provider = qiskit.IBMQ.get_provider(hub = 'ibm-q-research-2', group = 'federal-uni-sant-1', project = 'main')"
   ]
  },
  {
   "cell_type": "code",
   "execution_count": null,
   "id": "cedf8fdd",
   "metadata": {},
   "outputs": [],
   "source": [
    "# mostra quais beckends posso utilizar\n",
    "provider.backends()"
   ]
  },
  {
   "cell_type": "code",
   "execution_count": null,
   "id": "575d962c",
   "metadata": {},
   "outputs": [],
   "source": [
    "# utilizado para obter informacoes sobre um determinado backend\n",
    "simulator = provider.get_backend('ibmq_qasm_simulator')\n",
    "device = provider.get_backend('ibmq_belem')"
   ]
  },
  {
   "cell_type": "code",
   "execution_count": null,
   "id": "77202ede",
   "metadata": {},
   "outputs": [],
   "source": [
    "from qiskit.tools.monitor import backend_overview, backend_monitor"
   ]
  },
  {
   "cell_type": "code",
   "execution_count": null,
   "id": "ba24054f",
   "metadata": {},
   "outputs": [],
   "source": [
    "# para ter um panorama do tipo e status dos backends disponiveis\n",
    "backend_overview()"
   ]
  },
  {
   "cell_type": "code",
   "execution_count": null,
   "id": "41cef668",
   "metadata": {},
   "outputs": [],
   "source": [
    "# informacao detalhada sobre um determinado backend\n",
    "backend_monitor(device)"
   ]
  },
  {
   "cell_type": "code",
   "execution_count": null,
   "id": "f2b21d0a",
   "metadata": {},
   "outputs": [],
   "source": []
  }
 ],
 "metadata": {
  "kernelspec": {
   "display_name": "Python 3",
   "language": "python",
   "name": "python3"
  },
  "language_info": {
   "codemirror_mode": {
    "name": "ipython",
    "version": 3
   },
   "file_extension": ".py",
   "mimetype": "text/x-python",
   "name": "python",
   "nbconvert_exporter": "python",
   "pygments_lexer": "ipython3",
   "version": "3.8.8"
  }
 },
 "nbformat": 4,
 "nbformat_minor": 5
}
