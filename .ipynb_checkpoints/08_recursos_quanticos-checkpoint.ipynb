{
 "cells": [
  {
   "cell_type": "code",
   "execution_count": 1,
   "id": "609c573d",
   "metadata": {},
   "outputs": [],
   "source": [
    "%run init.ipynb\n",
    "%run 08_gellmann.ipynb"
   ]
  },
  {
   "cell_type": "markdown",
   "id": "a18ba15d",
   "metadata": {},
   "source": [
    "# Recursos quânticos\n",
    "\n",
    "## Coerência quântica\n",
    "Mede a quantidade de superposição em relação aos autovetores de um observável (base ortonormal). Um exemplo seria a função baseada na norma $l_{1}$ (https://arxiv.org/abs/1609.02439):\n",
    "$$C(\\rho) = \\sum_{j\\ne k}|\\rho_{j,k}|.$$\n",
    "\n",
    "Como exemplo, consideremos o observável \n",
    "$$\\sigma_{z} = |0\\rangle\\langle 0|-|1\\rangle\\langle 1|,$$\n",
    "ou, de forma equivalente, a base ortonormal \n",
    "$$\\{|0\\rangle,|1\\rangle\\}.$$\n",
    "Teremos\n",
    "\\begin{align}\n",
    "& C(|0\\rangle) = C(|1\\rangle) = C(p_{0}|0\\rangle\\langle 0|+p_{1}|1\\rangle\\langle 1|) = 0, \\\\\n",
    "& C(|+\\rangle) = C(|-\\rangle) = C(|\\oplus\\rangle) = C((|0\\rangle+e^{i\\phi}|1\\rangle)/\\sqrt{2}) = 1.\n",
    "\\end{align}"
   ]
  },
  {
   "cell_type": "code",
   "execution_count": 2,
   "id": "a0761ad2",
   "metadata": {},
   "outputs": [],
   "source": [
    "def coh_l1(rho):\n",
    "    d = rho.shape[0]; C = 0\n",
    "    for j in range(0,d-1):\n",
    "        for k in range(j+1,d):\n",
    "            C += np.abs(rho[j,k])\n",
    "    return 2*C"
   ]
  },
  {
   "cell_type": "code",
   "execution_count": 3,
   "id": "0f6ea0b5",
   "metadata": {},
   "outputs": [
    {
     "data": {
      "text/plain": [
       "(array([[1, 0],\n",
       "        [0, 0]]),\n",
       " 0)"
      ]
     },
     "execution_count": 3,
     "metadata": {},
     "output_type": "execute_result"
    }
   ],
   "source": [
    "rho = np.array([[1,0],[0,0]]); rho, coh_l1(rho)"
   ]
  },
  {
   "cell_type": "code",
   "execution_count": 4,
   "id": "d3ee94a6",
   "metadata": {},
   "outputs": [
    {
     "data": {
      "text/plain": [
       "(array([[0.5, 0.5],\n",
       "        [0.5, 0.5]]),\n",
       " 1.0)"
      ]
     },
     "execution_count": 4,
     "metadata": {},
     "output_type": "execute_result"
    }
   ],
   "source": [
    "rho = np.array([[1,1],[1,1]])/2; rho, coh_l1(rho)"
   ]
  },
  {
   "cell_type": "markdown",
   "id": "85a5399a",
   "metadata": {},
   "source": [
    "## Informação mútua\n",
    "Mede a quantidade total de correlações em um sistema bipartido (https://arxiv.org/abs/quant-ph/0410091):\n",
    "$$I(\\rho_{AB}) = S(\\rho_{A}) + S(\\rho_{B}) - S(\\rho_{AB}),$$ \n",
    "em \n",
    "$$S(\\rho)=-Tr(\\rho\\log_{2}(\\rho))$$\n",
    "é a entropia de von Neumann (https://doi.org/10.1590/S1806-11173711701). Usaremos também a entropia de Shannon de uma distribuição de probabilidades $\\{p_{j}\\}$:\n",
    "$$H(\\vec{p}) = -\\sum_{j}p_{j}\\log_{2}(p_{j}).$$"
   ]
  },
  {
   "cell_type": "code",
   "execution_count": 7,
   "id": "0cb5a4df",
   "metadata": {},
   "outputs": [],
   "source": [
    "def mutual_info(da, db, rhoAB):\n",
    "    rhoA = pTraceR_num(da, db, rhoAB); Sa = von_neumann_num(rhoA)\n",
    "    rhoB = pTraceL_num(da, db, rhoAB); Sb = von_neumann_num(rhoB)\n",
    "    Sab = von_neumann_num(rhoAB) \n",
    "    return Sa + Sb - Sab"
   ]
  },
  {
   "cell_type": "code",
   "execution_count": 6,
   "id": "9f873ee6",
   "metadata": {},
   "outputs": [],
   "source": [
    "def shannon_num(pv):\n",
    "    d = pv.shape[0]; SE = 0.0; j = -1\n",
    "    while (j < d-1):\n",
    "        j = j + 1\n",
    "        if pv[j] > 10**-15 and pv[j] < (1.0-10**-15):\n",
    "            SE -= pv[j]*math.log(pv[j], 2)\n",
    "    return SE"
   ]
  },
  {
   "cell_type": "code",
   "execution_count": 10,
   "id": "7e22bb87",
   "metadata": {},
   "outputs": [],
   "source": [
    "import scipy.linalg.lapack as lapak\n",
    "def von_neumann_num(rho):\n",
    "    d = rho.shape[0]; b = lapak.zheevd(rho)\n",
    "    return shannon_num(b[0])"
   ]
  },
  {
   "cell_type": "code",
   "execution_count": 11,
   "id": "64f2a026",
   "metadata": {},
   "outputs": [],
   "source": [
    "def pTraceL_num(dl, dr, rhoLR):\n",
    "    rhoR = np.zeros((dr, dr), dtype=complex)\n",
    "    for j in range(0, dr):\n",
    "        for k in range(j, dr):\n",
    "            for l in range(0, dl):\n",
    "                rhoR[j,k] += rhoLR[l*dr+j,l*dr+k]\n",
    "            if j != k:\n",
    "                rhoR[k,j] = np.conj(rhoR[j,k])\n",
    "    return rhoR\n",
    "def pTraceR_num(dl, dr, rhoLR):\n",
    "    rhoL = np.zeros((dl, dl), dtype=complex)\n",
    "    for j in range(0, dl):\n",
    "        for k in range(j, dl):\n",
    "            for l in range(0, dr):\n",
    "                rhoL[j,k] += rhoLR[j*dr+l,k*dr+l]\n",
    "        if j != k:\n",
    "            rhoL[k,j] = np.conj(rhoL[j,k])\n",
    "    return rhoL"
   ]
  },
  {
   "cell_type": "markdown",
   "id": "48c1d906",
   "metadata": {},
   "source": [
    "Como exemplos consideremos os estados \n",
    "$$|\\Psi_{p}\\rangle=|00\\rangle,$$\n",
    "$$\\rho_{mc} = 0.5|00\\rangle\\langle 00|+0.5|11\\rangle\\langle 11|$$\n",
    "e\n",
    "$$|\\Psi_{mq}\\rangle = (|00\\rangle+|11\\rangle)/\\sqrt{2}.$$"
   ]
  },
  {
   "cell_type": "code",
   "execution_count": 12,
   "id": "be110a11",
   "metadata": {},
   "outputs": [
    {
     "data": {
      "image/png": "[encoded data removed]",
      "text/latex": [
       "$\\displaystyle \\left( \\left[\\begin{matrix}1 & 0 & 0 & 0\\\\0 & 0 & 0 & 0\\\\0 & 0 & 0 & 0\\\\0 & 0 & 0 & 0\\end{matrix}\\right], \\  0.0\\right)$"
      ],
      "text/plain": [
       "⎛⎡1  0  0  0⎤     ⎞\n",
       "⎜⎢          ⎥     ⎟\n",
       "⎜⎢0  0  0  0⎥     ⎟\n",
       "⎜⎢          ⎥, 0.0⎟\n",
       "⎜⎢0  0  0  0⎥     ⎟\n",
       "⎜⎢          ⎥     ⎟\n",
       "⎝⎣0  0  0  0⎦     ⎠"
      ]
     },
     "execution_count": 12,
     "metadata": {},
     "output_type": "execute_result"
    }
   ],
   "source": [
    "rho = proj(tp(cb(2,0),cb(2,0))); rho, mutual_info(2, 2, rho)"
   ]
  },
  {
   "cell_type": "code",
   "execution_count": 13,
   "id": "3c62466c",
   "metadata": {},
   "outputs": [
    {
     "data": {
      "image/png": "[encoded data removed]",
      "text/latex": [
       "$\\displaystyle \\left( \\left[\\begin{matrix}0.5 & 0 & 0 & 0\\\\0 & 0 & 0 & 0\\\\0 & 0 & 0 & 0\\\\0 & 0 & 0 & 0.5\\end{matrix}\\right], \\  1.0\\right)$"
      ],
      "text/plain": [
       "⎛⎡0.5  0  0   0 ⎤     ⎞\n",
       "⎜⎢              ⎥     ⎟\n",
       "⎜⎢ 0   0  0   0 ⎥     ⎟\n",
       "⎜⎢              ⎥, 1.0⎟\n",
       "⎜⎢ 0   0  0   0 ⎥     ⎟\n",
       "⎜⎢              ⎥     ⎟\n",
       "⎝⎣ 0   0  0  0.5⎦     ⎠"
      ]
     },
     "execution_count": 13,
     "metadata": {},
     "output_type": "execute_result"
    }
   ],
   "source": [
    "rho = 0.5*proj(tp(cb(2,0),cb(2,0))) + 0.5*proj(tp(cb(2,1),cb(2,1))); rho, mutual_info(2, 2, rho)"
   ]
  },
  {
   "cell_type": "code",
   "execution_count": 14,
   "id": "75e5d204",
   "metadata": {},
   "outputs": [
    {
     "data": {
      "image/png": "[encoded data removed]",
      "text/latex": [
       "$\\displaystyle \\left( \\left[\\begin{matrix}0.5 & 0 & 0 & 0.5\\\\0 & 0 & 0 & 0\\\\0 & 0 & 0 & 0\\\\0.5 & 0 & 0 & 0.5\\end{matrix}\\right], \\  2.0\\right)$"
      ],
      "text/plain": [
       "⎛⎡0.5  0  0  0.5⎤     ⎞\n",
       "⎜⎢              ⎥     ⎟\n",
       "⎜⎢ 0   0  0   0 ⎥     ⎟\n",
       "⎜⎢              ⎥, 2.0⎟\n",
       "⎜⎢ 0   0  0   0 ⎥     ⎟\n",
       "⎜⎢              ⎥     ⎟\n",
       "⎝⎣0.5  0  0  0.5⎦     ⎠"
      ]
     },
     "execution_count": 14,
     "metadata": {},
     "output_type": "execute_result"
    }
   ],
   "source": [
    "psi = (1/math.sqrt(2))*(tp(cb(2,0),cb(2,0))+tp(cb(2,1),cb(2,1)))\n",
    "rho = proj(psi); rho, mutual_info(2, 2, rho)"
   ]
  },
  {
   "cell_type": "markdown",
   "id": "66f7dd86",
   "metadata": {},
   "source": [
    "## Discórdia quântica\n",
    "É uma medida de correlações quânticas que mede a quantidade mínima de correlações que são destruídas por medidas não reveladas de observáveis locais. A definição original de Zurek é (https://arxiv.org/abs/1703.10542)\n",
    "$$D_{A}(\\rho_{AB}) = I(\\rho_{AB})-\\max_{\\Pi_{A}}I(\\Pi_{A}(\\rho_{AB})),$$\n",
    "em que \n",
    "$$\\Pi_{A}(\\rho_{AB}) = \\sum_{j=1}^{d_{A}}\\Pi_{j}^{A}\\otimes I_{B}\\rho_{AB}\\Pi_{j}^{A}\\otimes I_{B}.$$\n",
    "De forma análoga, pode-se definir $D_{B}$ e $D_{AB}$.\n",
    "\n",
    "Este problema de optimização não foi resolvido nem para estados gerais de 2 qubits. Existe uma fórmula analítica somente para estados do tipo X, com algumas controvérsias (https://arxiv.org/abs/1306.0228).\n",
    "\n",
    "### Discórdia de Hellinger\n",
    "É uma \"boa\" medida de discórdia quântica com solução analítica para sistemas $2\\text{x}d$. Para um sistema qubit-qudit ($d_{a}=2$), para $Tr(\\gamma_{j}\\gamma_{k})=d\\delta_{j,k}$, e para\n",
    "\\begin{equation}\n",
    "\\sqrt{\\rho} = \\frac{1}{\\sqrt{d_{a}d_{b}}}\\left(t_{0}\\mathbb{I}_{a}\\otimes\\mathbb{I}_{b}+\\vec{x}\\cdot\\vec{\\sigma}\\otimes\\mathbb{I}_{b}+\\mathbb{I}_{a}\\otimes\\vec{y}\\cdot\\vec{\\gamma}+\\sum_{j=1}^{d_{a}^{2}-1}\\sum_{k=1}^{d_{b}^{2}-1}T_{j,k}\\sigma_{j}\\otimes\\Gamma_{k}\\right)\n",
    "\\end{equation}\n",
    "temos (https://arxiv.org/abs/1510.06995)\n",
    "\\begin{equation}\n",
    "D_{A}^{he}(\\rho)=2-2\\sqrt{t_{0}^{2}+||\\vec{y}||^{2}+k_{\\max}},\n",
    "\\end{equation}\n",
    "com $k_{\\max}$ sendo o maior autovalor de \n",
    "$$K=\\vec{x}\\vec{x}^{T}+TT^{T}.$$ \n",
    "Para obtermos $D_{he}(\\rho)\\in[0,1]$, dividimos a expressão acima pelo seu valor máximo $2-2\\sqrt{d_{a}}$."
   ]
  },
  {
   "cell_type": "code",
   "execution_count": 43,
   "id": "36ac796b",
   "metadata": {},
   "outputs": [],
   "source": [
    "import scipy\n",
    "def hellinger(da, db, rhoAB):\n",
    "    M = scipy.linalg.sqrtm(rhoAB)\n",
    "    A = pTraceR_num(da, db, M); bva = bloch_vector(A)/math.sqrt(2*db)\n",
    "    B = pTraceL_num(da, db, M); bvb = bloch_vector(B)/2\n",
    "    cm = corr_mat(da, db, M)/2; ev = lapak.zheevd(bva*bva.T+cm*cm.T)\n",
    "    D_he = 2 - 2*math.sqrt((np.trace(A)/math.sqrt(2*db))**2 + (scipy.linalg.norm(bvb))**2 + max(ev[0].real))\n",
    "    D_he = D_he/(2 - 2/math.sqrt(da))\n",
    "    return D_he"
   ]
  },
  {
   "cell_type": "code",
   "execution_count": 44,
   "id": "6b7e5b2d",
   "metadata": {},
   "outputs": [
    {
     "data": {
      "text/plain": [
       "array([[1.+0.j, 0.+0.j],\n",
       "       [0.+0.j, 0.+1.j]])"
      ]
     },
     "execution_count": 44,
     "metadata": {},
     "output_type": "execute_result"
    }
   ],
   "source": [
    "# teste para a raiz quadrada de matriz calculada usando scipy\n",
    "A = np.array([[1,0],[0,-1]]); Asr = scipy.linalg.sqrtm(A); Asr # raiz quadrada (testes)\n",
    "#Asr*Asr"
   ]
  },
  {
   "cell_type": "markdown",
   "id": "24aec3da",
   "metadata": {},
   "source": [
    "## Emaranhamento quântico\n",
    "Lembremos da decomposição de Schmidt. Estados puros não emaranhados, ou separáveis, são definidos por\n",
    "$$|\\Psi^{sep}\\rangle = |\\psi\\rangle_{A}\\otimes|\\phi\\rangle_{B}.$$\n",
    "Para estados puros bipartidos, uma boa medida é a entropia de emaranhamento\n",
    "$$E_{E}(|\\Psi\\rangle_{AB}) = S(\\rho_{A}) = S(\\rho_{B}),$$\n",
    "com $\\rho_{A}=Tr_{B}(|\\Psi\\rangle_{AB}\\langle\\Psi|)$ e o análogo para $\\rho_{B}.$\n",
    "\n",
    "Para estados mistos, bipartidos, estados separáveis são definidos por\n",
    "$$\\rho_{AB}^{sep} = \\sum_{j}p_{j}\\rho_{j}^{A}\\otimes\\rho_{j}^{B},$$\n",
    "com $\\{p_{j}\\}$ sendo uma distribuição de probabilidades e $\\rho_{j}^{A}$ e $\\rho_{j}^{B}$ são operadores densidade válidos. Neste caso, podemos usar a decomposição em estados puros\n",
    "$$\\rho_{AB} = \\sum_{j}p_{j}|\\Psi_{j}\\rangle_{AB}\\langle\\Psi_{j}|,$$\n",
    "com $|\\Psi_{j}\\rangle_{AB}$ sendo estados puros válidos e $\\{p_{j}\\}$ é uma distribuição de probabilidades. Uma boa medida de emaranhamento neste caso é o __emaranhamento de formação__\n",
    "$$E_{f}(\\rho_{AB}) = \\min_{\\{p_{j},|\\Psi_{j}\\rangle_{AB}\\}}\\sum_{j}p_{j}E_{e}(|\\Psi_{j}\\rangle_{AB}).$$"
   ]
  },
  {
   "cell_type": "markdown",
   "id": "ebdf72b2",
   "metadata": {},
   "source": [
    "Wootters resolveu este problema de optimização para 2 qubits, obtendo\n",
    "$$E_{f}(\\rho_{AB}) = H((1\\pm\\sqrt{1-E_{c}^{2}})/2)$$\n",
    "e a concurrence é\n",
    "$$E_{c} = E_{c}(\\rho_{AB}) = \\max(0,\\sqrt{\\lambda_{1}}-\\sqrt{\\lambda_{2}}-\\sqrt{\\lambda_{3}}-\\sqrt{\\lambda_{4}}$$\n",
    "com $\\{\\lambda_{j}\\}$ sendo os autovalores, arranjados em ordem decrescente, da matriz\n",
    "$$R = \\sqrt{\\rho_{AB}}\\tilde{\\rho}_{AB}\\sqrt{\\rho_{AB}}$$\n",
    "com\n",
    "$$\\tilde{\\rho}_{AB} = (\\sigma_{y}\\otimes\\sigma_{y})\\rho_{AB}^{*}(\\sigma_{y}\\otimes\\sigma_{y})$$\n",
    "e $\\rho_{AB}^{*}$ é o complexo conjugado de $\\rho_{AB}$, calculado na base padrão."
   ]
  },
  {
   "cell_type": "code",
   "execution_count": 45,
   "id": "55dda20d",
   "metadata": {},
   "outputs": [],
   "source": [
    "def Pauli(j):\n",
    "    if j == 0:\n",
    "        return np.array([[1,0],[0,1]])\n",
    "    elif j == 1:\n",
    "        return np.array([[0,1],[1,0]])\n",
    "    elif j == 2:\n",
    "        return np.array([[0,-1j],[1j,0]])\n",
    "    elif j == 3:\n",
    "        return np.array([[1,0],[0,-1]])"
   ]
  },
  {
   "cell_type": "code",
   "execution_count": 56,
   "id": "18bdeaa0",
   "metadata": {},
   "outputs": [
    {
     "data": {
      "text/plain": [
       "((array([-1.,  1.]),\n",
       "  array([[-0.70710678+0.j,  0.70710678+0.j],\n",
       "         [ 0.70710678+0.j,  0.70710678+0.j]]),\n",
       "  0),\n",
       " array([-1.,  1.]),\n",
       " -1.0,\n",
       " array([-0.70710678+0.j,  0.70710678+0.j]),\n",
       " (-0.7071067811865475+0j))"
      ]
     },
     "execution_count": 56,
     "metadata": {},
     "output_type": "execute_result"
    }
   ],
   "source": [
    "ev = lapak.zheevd(Pauli(1)); ev, ev[0], ev[0][0], ev[1][0], ev[1][0][0]"
   ]
  },
  {
   "cell_type": "code",
   "execution_count": 87,
   "id": "8a36444b",
   "metadata": {},
   "outputs": [],
   "source": [
    "def Econcurrence(rho):\n",
    "    R = rho@tp(Pauli(2),Pauli(2))@np.matrix.conjugate(rho)@tp(Pauli(2),Pauli(2))\n",
    "    ev = lapak.zheevd(R)\n",
    "    evm = max(abs(ev[0][0]), abs(ev[0][1]), abs(ev[0][2]), abs(ev[0][3]))\n",
    "    Ec = 2*math.sqrt(abs(evm)) - math.sqrt(abs(ev[0][0])) - math.sqrt(abs(ev[0][1]))\\\n",
    "    - math.sqrt(abs(ev[0][2])) - math.sqrt(abs(ev[0][3]))\n",
    "    if Ec < 0.0:\n",
    "        Ec = 0.0\n",
    "    return Ec"
   ]
  },
  {
   "cell_type": "code",
   "execution_count": 88,
   "id": "971bd18f",
   "metadata": {},
   "outputs": [],
   "source": [
    "# Emaranhamento de formação\n",
    "def Eof(rho):\n",
    "    Ec = Econcurrence(rho)\n",
    "    pv = np.zeros(2); pv[0] = (1+math.sqrt(1-Ec**2))/2; pv[1] = 1 - pv[0]\n",
    "    return shannon_num(pv)"
   ]
  },
  {
   "cell_type": "code",
   "execution_count": 74,
   "id": "f54c0ef8",
   "metadata": {},
   "outputs": [
    {
     "data": {
      "image/png": "[encoded data removed]",
      "text/latex": [
       "$\\displaystyle 2$"
      ],
      "text/plain": [
       "2"
      ]
     },
     "execution_count": 74,
     "metadata": {},
     "output_type": "execute_result"
    }
   ],
   "source": [
    "pv=np.array([1,2]); pv.shape"
   ]
  },
  {
   "cell_type": "markdown",
   "id": "a106401a",
   "metadata": {},
   "source": [
    "Relação entre o emaranhamento de formação e a concurrence"
   ]
  },
  {
   "cell_type": "code",
   "execution_count": 86,
   "id": "ceae73c2",
   "metadata": {},
   "outputs": [
    {
     "data": {
      "image/png": "[encoded data removed]",
      "text/plain": [
       "<Figure size 432x288 with 1 Axes>"
      ]
     },
     "metadata": {
      "needs_background": "light"
     },
     "output_type": "display_data"
    }
   ],
   "source": [
    "x = np.arange(10**-3,1,0.01); p0 = (1 + np.sqrt(1-x**2))/2; p1 = 1 - p0\n",
    "ef = np.zeros(x.shape[0]); ef = -p0*np.log2(p0) - p1*np.log2(p1)\n",
    "plt.plot(x , ef); plt.xlabel(r'$E_{c}$'); plt.ylabel(r'$E_{f}$'); plt.show()"
   ]
  },
  {
   "cell_type": "markdown",
   "id": "6c8566af",
   "metadata": {},
   "source": [
    "## Estados de Werner de 1 qubits\n",
    "$$\\rho_{AB}^{w} = (1-w)\\frac{I_{AB}}{4} + w|\\Phi_{+}\\rangle_{AB}\\langle\\Phi_{+}|.$$"
   ]
  },
  {
   "cell_type": "code",
   "execution_count": 89,
   "id": "aebf1dca",
   "metadata": {},
   "outputs": [
    {
     "data": {
      "text/plain": [
       "array([[0.5, 0. , 0. , 0.5],\n",
       "       [0. , 0. , 0. , 0. ],\n",
       "       [0. , 0. , 0. , 0. ],\n",
       "       [0.5, 0. , 0. , 0.5]])"
      ]
     },
     "execution_count": 89,
     "metadata": {},
     "output_type": "execute_result"
    }
   ],
   "source": [
    "def rho_werner(w):\n",
    "    rho = np.zeros((4,4), dtype = complex)\n",
    "    rho = ((1-w)/4)*np.array([[1,0,0,0],[0,1,0,0],[0,0,1,0],[0,0,0,1]])\n",
    "    rho =+ (w/2)*np.array([[1,0,0,1],[0,0,0,0],[0,0,0,0],[1,0,0,1]])\n",
    "    return rho\n",
    "rho_werner(1)"
   ]
  },
  {
   "cell_type": "code",
   "execution_count": 92,
   "id": "0b98543b",
   "metadata": {},
   "outputs": [
    {
     "name": "stderr",
     "output_type": "stream",
     "text": [
      "/tmp/ipykernel_298064/3957048202.py:7: ComplexWarning: Casting complex values to real discards the imaginary part\n",
      "  D_he = 2 - 2*math.sqrt((np.trace(A)/math.sqrt(2*db))**2 + (scipy.linalg.norm(bvb))**2 + max(ev[0].real))\n"
     ]
    }
   ],
   "source": [
    "w = np.arange(0, 1.05, 0.05); C = np.zeros(w.shape[0]); MI = np.zeros(w.shape[0]); D = np.zeros(w.shape[0])\n",
    "Ec = np.zeros(w.shape[0]); Ef = np.zeros(w.shape[0])\n",
    "for j in range(0, w.shape[0]):\n",
    "    rho = rho_werner(w[j]); C[j] = coh_l1(rho); MI[j] = mutual_info(2, 2, rho)/2\n",
    "    D[j] = hellinger(2, 2, rho); Ec[j] = Econcurrence(rho); Ef[j] = Eof(rho)"
   ]
  },
  {
   "cell_type": "code",
   "execution_count": 101,
   "id": "39485d16",
   "metadata": {},
   "outputs": [
    {
     "data": {
      "image/png": "[encoded data removed]",
      "text/plain": [
       "<Figure size 600x400 with 1 Axes>"
      ]
     },
     "metadata": {
      "needs_background": "light"
     },
     "output_type": "display_data"
    }
   ],
   "source": [
    "matplotlib.rcParams.update({'font.size':12})\n",
    "plt.figure(figsize = (6,4), dpi = 100)\n",
    "plt.plot(w, C, label = r'$C$'); plt.plot(w, MI, label = r'$I/2$'); \n",
    "#plt.plot(w, D, label = r'$D_{A}^{he}$')\n",
    "plt.plot(w, Ec, '*', label = r'$E_{c}$'); plt.plot(w, Ef, '-.', label = r'$E_{f}$')\n",
    "plt.xlabel(r'$w$'); plt.legend(); plt.show()"
   ]
  },
  {
   "cell_type": "code",
   "execution_count": null,
   "id": "f10dc686",
   "metadata": {},
   "outputs": [],
   "source": []
  }
 ],
 "metadata": {
  "kernelspec": {
   "display_name": "Python 3 (ipykernel)",
   "language": "python",
   "name": "python3"
  },
  "language_info": {
   "codemirror_mode": {
    "name": "ipython",
    "version": 3
   },
   "file_extension": ".py",
   "mimetype": "text/x-python",
   "name": "python",
   "nbconvert_exporter": "python",
   "pygments_lexer": "ipython3",
   "version": "3.8.11"
  }
 },
 "nbformat": 4,
 "nbformat_minor": 5
}
