{
 "cells": [
  {
   "cell_type": "code",
   "execution_count": 2,
   "id": "9bb7c614",
   "metadata": {},
   "outputs": [],
   "source": [
    "%run init.ipynb"
   ]
  },
  {
   "cell_type": "markdown",
   "id": "87114fba",
   "metadata": {},
   "source": [
    "# Algumas portas lógicas do IBMQ\n",
    "\n",
    "A descrição das portas lógicas do IBMQ pode ser encontrada em https://qiskit.org/documentation/apidoc/circuit_library.html."
   ]
  },
  {
   "cell_type": "markdown",
   "id": "dbfd9c06",
   "metadata": {},
   "source": [
    "## Sobre kets\n",
    "\n",
    "### Base computacional\n",
    "$$|0\\rangle = \\begin{bmatrix} 1 \\\\ 0 \\end{bmatrix}, |1\\rangle = \\begin{bmatrix} 0 \\\\ 1 \\end{bmatrix}$$\n",
    "\n",
    "### Estado geral\n",
    "$$|\\psi\\rangle = \\begin{bmatrix} c_{0} \\\\ c_{1} \\end{bmatrix} = c_{0}\\begin{bmatrix} 1 \\\\ 0 \\end{bmatrix}+c_{1}\\begin{bmatrix} 0 \\\\ 1 \\end{bmatrix} = c_{0}|0\\rangle+c_{1}|1\\rangle$$ com $c_{j}\\in\\mathbb{C}$\n",
    "\n",
    "### Produto tensorial\n",
    "$$|\\psi\\rangle\\otimes|\\psi'\\rangle = \\begin{bmatrix} c_{0} \\\\ c_{1} \\end{bmatrix}\\otimes\\begin{bmatrix} c_{0}' \\\\ c_{1}' \\end{bmatrix} = \\begin{bmatrix} c_{0}c_{0}' \\\\ c_{0}c_{1}' \\\\ c_{1}c_{0}' \\\\ c_{1}c_{1}' \\end{bmatrix}$$"
   ]
  },
  {
   "cell_type": "markdown",
   "id": "ecc26769",
   "metadata": {},
   "source": [
    "## Portas lógicas de 1 qubit\n",
    "\n",
    "### NOT ou X\n",
    "$$X=\\begin{bmatrix}0&1\\\\1&0\\end{bmatrix}$$\n",
    "Assim $X|0\\rangle=|1\\rangle$ e $X|1\\rangle=|0\\rangle$\n",
    "\n",
    "### Y\n",
    "$$Y=\\begin{bmatrix}0&-i\\\\i&0\\end{bmatrix}$$\n",
    "Assim $Y|0\\rangle=i|1\\rangle$ e $Y|1\\rangle=-i|0\\rangle$\n",
    "\n",
    "### Z\n",
    "$$Z=\\begin{bmatrix}1&0\\\\0&-1\\end{bmatrix}$$\n",
    "Assim $Z|0\\rangle=|0\\rangle$ e $Z|1\\rangle=-|1\\rangle$"
   ]
  },
  {
   "cell_type": "markdown",
   "id": "8d242ebc",
   "metadata": {},
   "source": [
    "### Porta de Hadamard\n",
    "Muda da base $\\{|0\\rangle,|1\\rangle\\}$ para a base $\\{|+\\rangle,|-\\rangle\\}$, em que $|\\pm\\rangle=(|0\\rangle\\pm|1\\rangle)/\\sqrt{2}$, e vice-versa:\n",
    "$$H = \\frac{1}{\\sqrt{2}}\\begin{bmatrix}1&1\\\\1&-1\\end{bmatrix}$$\n",
    "\n",
    "### Porta $U3$ (rotação geral)\n",
    "\\begin{align}\n",
    "U3(\\theta,\\phi,\\lambda) & = RZ(\\phi)RX(-\\pi/2)RZ(\\theta)RX(\\pi/2)RZ(\\lambda) \\\\\n",
    "& = \\begin{bmatrix} \\cos(\\theta/2) & -e^{i\\lambda}\\sin(\\theta/2) \\\\ e^{i\\phi}\\sin(\\theta/2) & e^{i(\\phi+\\lambda)}\\cos(\\theta/2) \\end{bmatrix}\n",
    "\\end{align}\n",
    "Assim, e.g.,\n",
    "\\begin{align}\n",
    "& U_{3}|0\\rangle = \\cos(\\theta/2)|0\\rangle + e^{i\\phi}\\sin(\\theta/2)|1\\rangle, \\\\\n",
    "& U_{3}|1\\rangle = -e^{i\\lambda}\\sin(\\theta/2)|0\\rangle + e^{i(\\phi+\\lambda)}\\cos(\\theta/2)|1\\rangle.\n",
    "\\end{align}"
   ]
  },
  {
   "cell_type": "markdown",
   "id": "30b8d20b",
   "metadata": {},
   "source": [
    "### Porta $S$ ($S^{\\dagger}$)\n",
    "Essa porta lógica é representada matricialmente por\n",
    "\\begin{align}\n",
    "S = \\begin{bmatrix}1&0\\\\0&i\\end{bmatrix}\\ \\therefore\\ S^{\\dagger} = \\begin{bmatrix}1&0\\\\0&-i\\end{bmatrix},\n",
    "\\end{align}\n",
    "e induz uma fase $\\pi/2$ no estado $|1\\rangle$:\n",
    "\\begin{align}\n",
    "S|0\\rangle=|0\\rangle, S|1\\rangle=i|1\\rangle = e^{i\\pi/2}|1\\rangle.\n",
    "\\end{align}\n",
    "\n",
    "### Porta de fase $P$\n",
    "Essa porta lógica é representada matricialmente por\n",
    "\\begin{align}\n",
    "P(\\theta) = \\begin{bmatrix}1&0\\\\0&e^{i\\theta}\\end{bmatrix}\n",
    "\\end{align}\n",
    "e induz uma fase $\\theta$ no estado $|1\\rangle$:\n",
    "\\begin{align}\n",
    "P(\\theta)|0\\rangle=|0\\rangle, P(\\theta)|1\\rangle = e^{i\\theta}|1\\rangle.\n",
    "\\end{align}"
   ]
  },
  {
   "cell_type": "markdown",
   "id": "431c67a6",
   "metadata": {},
   "source": [
    "## Medidas\n",
    "\n",
    "### Medidas na base $\\{|0\\rangle,|1\\rangle\\}$\n",
    "Medidas nessa base, usualmente chamada de base $Z$, são implementadas diretamente no IBMQ.\n",
    "\n",
    "### Medidas na base $\\{|+\\rangle,|-\\rangle\\}$\n",
    "Notamos que\n",
    "\\begin{align}\n",
    "Pr(+|\\psi) = |\\langle +|\\psi\\rangle|^{2} \\equiv |\\langle 0|H|\\psi\\rangle|^{2} =: |\\langle 0|\\psi'\\rangle|^{2} = Pr(0|\\psi')\n",
    "\\end{align}\n",
    "Vemos facilmente que o análog vale para $Pr(-|\\psi)=Pr(1|\\psi')$, com $$|\\psi'\\rangle=H|\\psi\\rangle.$$\n",
    "Portanto, medidas na base $\\{|0\\rangle,|1\\rangle\\}$, usualmente chamada de base $X$, são implementadas aplicando-se uma porta de Hadamard e subsequentemente fzendo-se medida na base $Z$.\n",
    "\n",
    "### Medidas na base $\\{|\\oplus\\rangle,|\\ominus\\rangle\\}$\n",
    "Temos que\n",
    "\\begin{align}\n",
    "& S|+\\rangle = (S|0\\rangle+S|1\\rangle)/\\sqrt{2} = (|0\\rangle+i|1\\rangle)/\\sqrt{2} = |\\oplus\\rangle \\ \\therefore \\langle\\oplus|=\\langle+|S^{\\dagger}=\\langle 0|HS^{\\dagger}, \\\\\n",
    "& S|-\\rangle = (S|0\\rangle-S|1\\rangle)/\\sqrt{2} = (|0\\rangle-i|1\\rangle)/\\sqrt{2} = |\\ominus\\rangle \\ \\therefore \\langle\\ominus|=\\langle-|S^{\\dagger}=\\langle 1|HS^{\\dagger}.\n",
    "\\end{align}\n",
    "Vem assim que\n",
    "\\begin{align}\n",
    "Pr(\\oplus|\\psi) = |\\langle\\oplus|\\psi\\rangle|^{2} \\equiv |\\langle 0|HS^{\\dagger}|\\psi\\rangle|^{2} =: |\\langle 0|\\psi'\\rangle|^{2} = Pr(0|\\psi')\n",
    "\\end{align}\n",
    "com \n",
    "$$|\\psi'\\rangle = HS^{\\dagger}|\\psi\\rangle.$$\n",
    "Analogamente, $Pr(\\ominus|\\psi)=Pr(1|\\psi')$."
   ]
  },
  {
   "cell_type": "markdown",
   "id": "c23d9f90",
   "metadata": {},
   "source": [
    "## Portas lógicas de 2 ou mais qubits\n",
    "\n",
    "### Control-Not (CNOT=CX)\n",
    "\\begin{align}\n",
    "CNOT_{c\\rightarrow t} = |0\\rangle\\langle 0|\\otimes \\mathbb{I} +  |1\\rangle\\langle 1|\\otimes X\n",
    "\\end{align}\n",
    "Ação da CNOT_12\n",
    "\\begin{align}\n",
    "& CNOT_{c\\rightarrow t}|0\\rangle\\otimes|0\\rangle = |0\\rangle\\langle 0||0\\rangle\\otimes \\mathbb{I}|0\\rangle +  |1\\rangle\\langle 1||0\\rangle\\otimes X|0\\rangle = |0\\rangle\\otimes|0\\rangle, \\\\\n",
    "& CNOT_{c\\rightarrow t}|0\\rangle\\otimes|1\\rangle = |0\\rangle\\otimes|1\\rangle, \\\\\n",
    "& CNOT_{c\\rightarrow t}|1\\rangle\\otimes|0\\rangle = |1\\rangle\\otimes|1\\rangle, \\\\\n",
    "& CNOT_{c\\rightarrow t}|1\\rangle\\otimes|1\\rangle = |1\\rangle\\otimes|0\\rangle.\n",
    "\\end{align}\n",
    "Ou seja,\n",
    "$$CNOT_{c\\rightarrow t}|j\\rangle\\otimes|k\\rangle = |j\\rangle\\otimes|j\\oplus k\\rangle$$\n",
    "\n",
    "__Exercício:__ Descreva explicitamente a ação da CNOT na base computacional."
   ]
  },
  {
   "cell_type": "code",
   "execution_count": 9,
   "id": "e881ec6c",
   "metadata": {},
   "outputs": [
    {
     "data": {
      "image/png": "[encoded data removed]",
      "text/latex": [
       "$\\displaystyle \\left[\\begin{matrix}1 & 0 & 0 & 0\\\\0 & 1 & 0 & 0\\\\0 & 0 & 0 & 1\\\\0 & 0 & 1 & 0\\end{matrix}\\right]$"
      ],
      "text/plain": [
       "⎡1  0  0  0⎤\n",
       "⎢          ⎥\n",
       "⎢0  1  0  0⎥\n",
       "⎢          ⎥\n",
       "⎢0  0  0  1⎥\n",
       "⎢          ⎥\n",
       "⎣0  0  1  0⎦"
      ]
     },
     "execution_count": 9,
     "metadata": {},
     "output_type": "execute_result"
    }
   ],
   "source": [
    "CX_12 = tp(proj(cb(2,0)),id(2)) + tp(proj(cb(2,1)),pauli(1)); CX_12"
   ]
  },
  {
   "cell_type": "markdown",
   "id": "5454d8b7",
   "metadata": {},
   "source": [
    "### SWAP (troca)\n",
    "\n",
    "$$SWAP = CNOT_{12}\\ CNOT_{21}\\ CNOT_{12}$$\n",
    "\n",
    "#### Exemplo\n",
    "Considera $|\\Psi\\rangle = (a_{0}|0\\rangle+a_{1}|1\\rangle)\\otimes(b_{0}|0\\rangle+b_{1}|1\\rangle) = a_{0}b_{0}|00\\rangle + a_{0}b_{1}|01\\rangle + a_{1}b_{0}|10\\rangle + a_{1}b_{1}|11\\rangle$. Teremos\n",
    "\\begin{align}\n",
    "SWAP|\\Psi\\rangle & = a_{0}b_{0}CNOT_{12}\\ CNOT_{21}\\ CNOT_{12}|00\\rangle + a_{0}b_{1}CNOT_{12}\\ CNOT_{21}\\ CNOT_{12}|01\\rangle \\\\\n",
    "& \\ + a_{1}b_{0}CNOT_{12}\\ CNOT_{21}\\ CNOT_{12}|10\\rangle + a_{1}b_{1}CNOT_{12}\\ CNOT_{21}\\ CNOT_{12}|11\\rangle \\\\\n",
    "& = a_{0}b_{0}CNOT_{12}\\ CNOT_{21}|00\\rangle + a_{0}b_{1}CNOT_{12}\\ CNOT_{21}|01\\rangle \\\\\n",
    "& \\ + a_{1}b_{0}CNOT_{12}\\ CNOT_{21}|11\\rangle + a_{1}b_{1}CNOT_{12}\\ CNOT_{21}|10\\rangle \\\\\n",
    "& = a_{0}b_{0}CNOT_{12}|00\\rangle + a_{0}b_{1}CNOT_{12}|11\\rangle + a_{1}b_{0}CNOT_{12}|01\\rangle + a_{1}b_{1}CNOT_{12}|10\\rangle \\\\\n",
    "& = a_{0}b_{0}|00\\rangle + a_{0}b_{1}|10\\rangle + a_{1}b_{0}|01\\rangle + a_{1}b_{1}|11\\rangle \\\\\n",
    "& = (b_{0}|0\\rangle + b_{1}|1\\rangle)\\otimes a_{0}|0\\rangle + (b_{0}|0\\rangle + b_{1}|1\\rangle)\\otimes a_{1}|1\\rangle \\\\\n",
    "& = (b_{0}|0\\rangle + b_{1}|1\\rangle)\\otimes(a_{0}|0\\rangle + a_{1}|1\\rangle).\n",
    "\\end{align}"
   ]
  },
  {
   "cell_type": "code",
   "execution_count": 8,
   "id": "e4c34499",
   "metadata": {},
   "outputs": [
    {
     "data": {
      "image/png": "[encoded data removed]",
      "text/latex": [
       "$\\displaystyle \\left[\\begin{matrix}1 & 0 & 0 & 0\\\\0 & 0 & 0 & 1\\\\0 & 0 & 1 & 0\\\\0 & 1 & 0 & 0\\end{matrix}\\right]$"
      ],
      "text/plain": [
       "⎡1  0  0  0⎤\n",
       "⎢          ⎥\n",
       "⎢0  0  0  1⎥\n",
       "⎢          ⎥\n",
       "⎢0  0  1  0⎥\n",
       "⎢          ⎥\n",
       "⎣0  1  0  0⎦"
      ]
     },
     "execution_count": 8,
     "metadata": {},
     "output_type": "execute_result"
    }
   ],
   "source": [
    "CX_21 = tp(id(2),proj(cb(2,0))) + tp(pauli(1),proj(cb(2,1))); CX_21"
   ]
  },
  {
   "cell_type": "code",
   "execution_count": 9,
   "id": "afcef796",
   "metadata": {},
   "outputs": [
    {
     "data": {
      "image/png": "[encoded data removed]",
      "text/latex": [
       "$\\displaystyle \\left[\\begin{matrix}1 & 0 & 0 & 0\\\\0 & 0 & 1 & 0\\\\0 & 1 & 0 & 0\\\\0 & 0 & 0 & 1\\end{matrix}\\right]$"
      ],
      "text/plain": [
       "⎡1  0  0  0⎤\n",
       "⎢          ⎥\n",
       "⎢0  0  1  0⎥\n",
       "⎢          ⎥\n",
       "⎢0  1  0  0⎥\n",
       "⎢          ⎥\n",
       "⎣0  0  0  1⎦"
      ]
     },
     "execution_count": 9,
     "metadata": {},
     "output_type": "execute_result"
    }
   ],
   "source": [
    "SWAP = CX_12*CX_21*CX_12; SWAP"
   ]
  },
  {
   "cell_type": "markdown",
   "id": "998ab8ad",
   "metadata": {},
   "source": [
    "### Z controlada\n",
    "$$C_{Z}^{1\\rightarrow 2} = |0\\rangle\\langle 0|\\otimes \\mathbb{I} +  |1\\rangle\\langle 1|\\otimes Z$$\n",
    "Pode-se verificar que $C_{Z}^{1\\rightarrow 2}=C_{Z}^{2\\rightarrow 1}=:C_{Z}.$\n",
    "\n",
    "Lembrado, $X$ troca estados da base computacional e $Z$ faz isso para a base $\\{|+\\rangle,|-\\rangle\\}$. Podemos assim obter a Cx da Cz e vice versa. Por exemplo, se mudamos para a base $\\{|+\\rangle,|-\\rangle\\}$, aplicamos Cz e voltamos para a base computacional, isso será equivalente a uma CNOT na base padrão:\n",
    "$$C_{X}^{1\\rightarrow 2} = (I\\otimes H)C_{Z}^{1\\rightarrow 2}(I\\otimes H).$$\n",
    "Do mesmo modo\n",
    "$$C_{Z} = (I\\otimes H)C_{X}^{1\\rightarrow 2}(I\\otimes H).$$"
   ]
  },
  {
   "cell_type": "code",
   "execution_count": 6,
   "id": "a91e5943",
   "metadata": {},
   "outputs": [
    {
     "data": {
      "image/png": "[encoded data removed]",
      "text/latex": [
       "$\\displaystyle \\left( \\left[\\begin{matrix}1 & 0 & 0 & 0\\\\0 & 1 & 0 & 0\\\\0 & 0 & 1 & 0\\\\0 & 0 & 0 & -1\\end{matrix}\\right], \\  \\left[\\begin{matrix}1 & 0 & 0 & 0\\\\0 & 1 & 0 & 0\\\\0 & 0 & 1 & 0\\\\0 & 0 & 0 & -1\\end{matrix}\\right]\\right)$"
      ],
      "text/plain": [
       "⎛⎡1  0  0  0 ⎤  ⎡1  0  0  0 ⎤⎞\n",
       "⎜⎢           ⎥  ⎢           ⎥⎟\n",
       "⎜⎢0  1  0  0 ⎥  ⎢0  1  0  0 ⎥⎟\n",
       "⎜⎢           ⎥, ⎢           ⎥⎟\n",
       "⎜⎢0  0  1  0 ⎥  ⎢0  0  1  0 ⎥⎟\n",
       "⎜⎢           ⎥  ⎢           ⎥⎟\n",
       "⎝⎣0  0  0  -1⎦  ⎣0  0  0  -1⎦⎠"
      ]
     },
     "execution_count": 6,
     "metadata": {},
     "output_type": "execute_result"
    }
   ],
   "source": [
    "Cz = tp(proj(cb(2,0)), id(2)) + tp(proj(cb(2,1)), pauli(3)); Cz_12 = Cz\n",
    "Cz_21 = tp(id(2),proj(cb(2,0))) + tp(pauli(3),proj(cb(2,1)))\n",
    "Cz_12, Cz_21"
   ]
  },
  {
   "cell_type": "code",
   "execution_count": 8,
   "id": "a1c68fd5",
   "metadata": {},
   "outputs": [
    {
     "data": {
      "image/png": "[encoded data removed]",
      "text/latex": [
       "$\\displaystyle \\left[\\begin{matrix}\\frac{\\sqrt{2}}{2} & \\frac{\\sqrt{2}}{2}\\\\\\frac{\\sqrt{2}}{2} & - \\frac{\\sqrt{2}}{2}\\end{matrix}\\right]$"
      ],
      "text/plain": [
       "⎡√2   √2 ⎤\n",
       "⎢──   ── ⎥\n",
       "⎢2    2  ⎥\n",
       "⎢        ⎥\n",
       "⎢√2  -√2 ⎥\n",
       "⎢──  ────⎥\n",
       "⎣2    2  ⎦"
      ]
     },
     "execution_count": 8,
     "metadata": {},
     "output_type": "execute_result"
    }
   ],
   "source": [
    "H = (1/sqrt(2))*Matrix([[1,1],[1,-1]]); H"
   ]
  },
  {
   "cell_type": "code",
   "execution_count": 10,
   "id": "cec0cc6c",
   "metadata": {},
   "outputs": [
    {
     "data": {
      "image/png": "[encoded data removed]",
      "text/latex": [
       "$\\displaystyle \\left[\\begin{matrix}1 & 0 & 0 & 0\\\\0 & 1 & 0 & 0\\\\0 & 0 & 0 & 1\\\\0 & 0 & 1 & 0\\end{matrix}\\right]$"
      ],
      "text/plain": [
       "⎡1  0  0  0⎤\n",
       "⎢          ⎥\n",
       "⎢0  1  0  0⎥\n",
       "⎢          ⎥\n",
       "⎢0  0  0  1⎥\n",
       "⎢          ⎥\n",
       "⎣0  0  1  0⎦"
      ]
     },
     "execution_count": 10,
     "metadata": {},
     "output_type": "execute_result"
    }
   ],
   "source": [
    "Cx12 = tp(id(2),H)*Cz*tp(id(2),H); Cx12"
   ]
  },
  {
   "cell_type": "code",
   "execution_count": 11,
   "id": "f823f470",
   "metadata": {},
   "outputs": [
    {
     "data": {
      "image/png": "[encoded data removed]",
      "text/latex": [
       "$\\displaystyle \\left[\\begin{matrix}1 & 0 & 0 & 0\\\\0 & 0 & 0 & 1\\\\0 & 0 & 1 & 0\\\\0 & 1 & 0 & 0\\end{matrix}\\right]$"
      ],
      "text/plain": [
       "⎡1  0  0  0⎤\n",
       "⎢          ⎥\n",
       "⎢0  0  0  1⎥\n",
       "⎢          ⎥\n",
       "⎢0  0  1  0⎥\n",
       "⎢          ⎥\n",
       "⎣0  1  0  0⎦"
      ]
     },
     "execution_count": 11,
     "metadata": {},
     "output_type": "execute_result"
    }
   ],
   "source": [
    "Cx21 = tp(H,id(2))*Cz*tp(H,id(2)); Cx21"
   ]
  },
  {
   "cell_type": "code",
   "execution_count": 13,
   "id": "fac84600",
   "metadata": {},
   "outputs": [
    {
     "data": {
      "image/png": "[encoded data removed]",
      "text/latex": [
       "$\\displaystyle \\left[\\begin{matrix}1 & 0 & 0 & 0\\\\0 & 0 & 0 & 1\\\\0 & 0 & 1 & 0\\\\0 & 1 & 0 & 0\\end{matrix}\\right]$"
      ],
      "text/plain": [
       "⎡1  0  0  0⎤\n",
       "⎢          ⎥\n",
       "⎢0  0  0  1⎥\n",
       "⎢          ⎥\n",
       "⎢0  0  1  0⎥\n",
       "⎢          ⎥\n",
       "⎣0  1  0  0⎦"
      ]
     },
     "execution_count": 13,
     "metadata": {},
     "output_type": "execute_result"
    }
   ],
   "source": [
    "CX_21 = tp(id(2),proj(cb(2,0))) + tp(pauli(1),proj(cb(2,1))); CX_21"
   ]
  },
  {
   "cell_type": "code",
   "execution_count": 14,
   "id": "b8fce4f1",
   "metadata": {},
   "outputs": [
    {
     "data": {
      "image/png": "[encoded data removed]",
      "text/latex": [
       "$\\displaystyle \\left[\\begin{matrix}1 & 0 & 0 & 0\\\\0 & 1 & 0 & 0\\\\0 & 0 & 1 & 0\\\\0 & 0 & 0 & -1\\end{matrix}\\right]$"
      ],
      "text/plain": [
       "⎡1  0  0  0 ⎤\n",
       "⎢           ⎥\n",
       "⎢0  1  0  0 ⎥\n",
       "⎢           ⎥\n",
       "⎢0  0  1  0 ⎥\n",
       "⎢           ⎥\n",
       "⎣0  0  0  -1⎦"
      ]
     },
     "execution_count": 14,
     "metadata": {},
     "output_type": "execute_result"
    }
   ],
   "source": [
    "Cz12 = tp(id(2),H)*Cx12*tp(id(2),H); Cz12"
   ]
  },
  {
   "cell_type": "code",
   "execution_count": 15,
   "id": "365ae6cb",
   "metadata": {},
   "outputs": [
    {
     "data": {
      "image/png": "[encoded data removed]",
      "text/latex": [
       "$\\displaystyle \\left[\\begin{matrix}1 & 0 & 0 & 0\\\\0 & 1 & 0 & 0\\\\0 & 0 & 1 & 0\\\\0 & 0 & 0 & -1\\end{matrix}\\right]$"
      ],
      "text/plain": [
       "⎡1  0  0  0 ⎤\n",
       "⎢           ⎥\n",
       "⎢0  1  0  0 ⎥\n",
       "⎢           ⎥\n",
       "⎢0  0  1  0 ⎥\n",
       "⎢           ⎥\n",
       "⎣0  0  0  -1⎦"
      ]
     },
     "execution_count": 15,
     "metadata": {},
     "output_type": "execute_result"
    }
   ],
   "source": [
    "Cz21 = tp(id(2),H)*Cx21*tp(id(2),H); Cz12"
   ]
  },
  {
   "cell_type": "markdown",
   "id": "ff795a64",
   "metadata": {},
   "source": [
    "U controlada\n",
    "$$CU(\\theta,\\phi,\\lambda,\\gamma) = |0\\rangle\\langle 0 |\\otimes I + |1\\rangle\\langle 1|\\otimes e^{i\\gamma}U(\\theta,\\phi,\\lambda).$$"
   ]
  },
  {
   "cell_type": "code",
   "execution_count": null,
   "id": "8c68ebc1",
   "metadata": {},
   "outputs": [],
   "source": []
  }
 ],
 "metadata": {
  "kernelspec": {
   "display_name": "Python 3",
   "language": "python",
   "name": "python3"
  },
  "language_info": {
   "codemirror_mode": {
    "name": "ipython",
    "version": 3
   },
   "file_extension": ".py",
   "mimetype": "text/x-python",
   "name": "python",
   "nbconvert_exporter": "python",
   "pygments_lexer": "ipython3",
   "version": "3.8.8"
  }
 },
 "nbformat": 4,
 "nbformat_minor": 5
}
