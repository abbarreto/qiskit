{
 "cells": [
  {
   "cell_type": "markdown",
   "id": "39950d90",
   "metadata": {},
   "source": [
    "# Temas para os trabalhos/seminários\n",
    "\n",
    "* __Said__: Violação das desigualdades de Bell.\n",
    "\n",
    "* __Diego__: Complementariedade.\n",
    "\n",
    "* __Marcos__: Medidas não reveladas.\n",
    "\n",
    "* __Tiago__: Redes neurais quânticas.\n",
    "\n",
    "* __Rene__: QAOA.\n",
    "\n",
    "* __Vitor__: Swap de emaranhamento.\n",
    "\n",
    "* __Douglas__: Distribuição de emaranhamento.\n",
    "\n",
    "* __Isabella__: Teleportação.\n",
    "\n",
    "* __João__: Compilador.\n",
    "\n",
    "* "
   ]
  },
  {
   "cell_type": "code",
   "execution_count": null,
   "id": "6e9fe8ed",
   "metadata": {},
   "outputs": [],
   "source": []
  }
 ],
 "metadata": {
  "kernelspec": {
   "display_name": "Python 3",
   "language": "python",
   "name": "python3"
  },
  "language_info": {
   "codemirror_mode": {
    "name": "ipython",
    "version": 3
   },
   "file_extension": ".py",
   "mimetype": "text/x-python",
   "name": "python",
   "nbconvert_exporter": "python",
   "pygments_lexer": "ipython3",
   "version": "3.8.8"
  }
 },
 "nbformat": 4,
 "nbformat_minor": 5
}
