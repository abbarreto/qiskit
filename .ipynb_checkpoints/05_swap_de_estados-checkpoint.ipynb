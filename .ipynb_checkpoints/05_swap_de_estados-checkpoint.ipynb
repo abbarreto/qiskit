{
 "cells": [
  {
   "cell_type": "code",
   "execution_count": 6,
   "id": "85ecd02e",
   "metadata": {},
   "outputs": [],
   "source": [
    "%run init.ipynb"
   ]
  },
  {
   "cell_type": "code",
   "execution_count": 37,
   "id": "6f1c4f0b",
   "metadata": {},
   "outputs": [],
   "source": [
    "from qiskit import *"
   ]
  },
  {
   "cell_type": "markdown",
   "id": "2517df65",
   "metadata": {},
   "source": [
    "# Troca de estados quânticos\n",
    "\n",
    "## Matriz densidade de 2 qubits"
   ]
  },
  {
   "cell_type": "code",
   "execution_count": 15,
   "id": "0f431365",
   "metadata": {},
   "outputs": [
    {
     "data": {
      "image/png": "[encoded data removed]",
      "text/latex": [
       "$\\displaystyle \\left[\\begin{matrix}0.25 z_{a} + 0.25 z_{b} + 0.25 zz + 0.25 & 0.25 x_{b} - 0.25 i xy - 0.25 i y_{b} + 0.25 zx & 0.25 x_{a} + 0.25 xz - 0.25 i y_{a} - 0.25 i yz & 0.25 xx - 0.25 i xy - 0.25 i yx - 0.25 yy\\\\0.25 x_{b} + 0.25 i xy + 0.25 i y_{b} + 0.25 zx & 0.25 z_{a} - 0.25 z_{b} - 0.25 zz + 0.25 & 0.25 xx + 0.25 i xy - 0.25 i yx + 0.25 yy & 0.25 x_{a} - 0.25 xz - 0.25 i y_{a} + 0.25 i yz\\\\0.25 x_{a} + 0.25 xz + 0.25 i y_{a} + 0.25 i yz & 0.25 xx - 0.25 i xy + 0.25 i yx + 0.25 yy & - 0.25 z_{a} + 0.25 z_{b} - 0.25 zz + 0.25 & 0.25 x_{b} + 0.25 i xy - 0.25 i y_{b} - 0.25 zx\\\\0.25 xx + 0.25 i xy + 0.25 i yx - 0.25 yy & 0.25 x_{a} - 0.25 xz + 0.25 i y_{a} - 0.25 i yz & 0.25 x_{b} - 0.25 i xy + 0.25 i y_{b} - 0.25 zx & - 0.25 z_{a} - 0.25 z_{b} + 0.25 zz + 0.25\\end{matrix}\\right]$"
      ],
      "text/plain": [
       "⎡    0.25⋅zₐ + 0.25⋅z_b + 0.25⋅zz + 0.25      0.25⋅x_b - 0.25⋅ⅈ⋅xy - 0.25⋅ⅈ⋅y_\n",
       "⎢                                                                             \n",
       "⎢0.25⋅x_b + 0.25⋅ⅈ⋅xy + 0.25⋅ⅈ⋅y_b + 0.25⋅zx      0.25⋅zₐ - 0.25⋅z_b - 0.25⋅zz\n",
       "⎢                                                                             \n",
       "⎢ 0.25⋅xₐ + 0.25⋅xz + 0.25⋅ⅈ⋅yₐ + 0.25⋅ⅈ⋅yz    0.25⋅xx - 0.25⋅ⅈ⋅xy + 0.25⋅ⅈ⋅yx\n",
       "⎢                                                                             \n",
       "⎣ 0.25⋅xx + 0.25⋅ⅈ⋅xy + 0.25⋅ⅈ⋅yx - 0.25⋅yy    0.25⋅xₐ - 0.25⋅xz + 0.25⋅ⅈ⋅yₐ -\n",
       "\n",
       "b + 0.25⋅zx   0.25⋅xₐ + 0.25⋅xz - 0.25⋅ⅈ⋅yₐ - 0.25⋅ⅈ⋅yz    0.25⋅xx - 0.25⋅ⅈ⋅xy\n",
       "                                                                              \n",
       " + 0.25       0.25⋅xx + 0.25⋅ⅈ⋅xy - 0.25⋅ⅈ⋅yx + 0.25⋅yy    0.25⋅xₐ - 0.25⋅xz -\n",
       "                                                                              \n",
       " + 0.25⋅yy      -0.25⋅zₐ + 0.25⋅z_b - 0.25⋅zz + 0.25      0.25⋅x_b + 0.25⋅ⅈ⋅xy\n",
       "                                                                              \n",
       " 0.25⋅ⅈ⋅yz   0.25⋅x_b - 0.25⋅ⅈ⋅xy + 0.25⋅ⅈ⋅y_b - 0.25⋅zx     -0.25⋅zₐ - 0.25⋅z\n",
       "\n",
       " - 0.25⋅ⅈ⋅yx - 0.25⋅yy ⎤\n",
       "                       ⎥\n",
       " 0.25⋅ⅈ⋅yₐ + 0.25⋅ⅈ⋅yz ⎥\n",
       "                       ⎥\n",
       " - 0.25⋅ⅈ⋅y_b - 0.25⋅zx⎥\n",
       "                       ⎥\n",
       "_b + 0.25⋅zz + 0.25    ⎦"
      ]
     },
     "execution_count": 15,
     "metadata": {},
     "output_type": "execute_result"
    }
   ],
   "source": [
    "X = Matrix([[0,1],[1,0]]); Y = Matrix([[0,-1j],[1j,0]]); Z = Matrix([[1,0],[0,-1]]); I = Matrix([[1,0],[0,1]])\n",
    "xa,ya,za,xb,yb,zb = symbols('x_a y_a z_a x_b y_b z_b')\n",
    "xx,xy,xz,yx,yy,yz,zx,zy,zz = symbols('xx xy xz yx yy yz zx zy zz')\n",
    "rho_ab = (1/4)*(tp(I,I) + xa*tp(X,I) + ya*tp(Y,I) + za*tp(Z,I) + xb*tp(I,X) + yb*tp(I,Y) + zb*tp(I,Z))\n",
    "rho_ab += (1/4)*(xx*tp(X,X) + xy*tp(X,Y) + xz*tp(X,Z) + yx*tp(Y,X) + yy*tp(Y,Y) + yz*tp(Y,Z))\n",
    "rho_ab += (1/4)*(zx*tp(Z,X) + xy*tp(Z,Y) + zz*tp(Z,Z))\n",
    "rho_ab"
   ]
  },
  {
   "cell_type": "code",
   "execution_count": 16,
   "id": "4296491b",
   "metadata": {},
   "outputs": [
    {
     "data": {
      "image/png": "[encoded data removed]",
      "text/latex": [
       "$\\displaystyle 1.0$"
      ],
      "text/plain": [
       "1.00000000000000"
      ]
     },
     "execution_count": 16,
     "metadata": {},
     "output_type": "execute_result"
    }
   ],
   "source": [
    "trace(rho_ab)"
   ]
  },
  {
   "cell_type": "markdown",
   "id": "ce196aa3",
   "metadata": {},
   "source": [
    "## Traço parcial e matriz densidade reduzida\n",
    "\n",
    "A função traço parcial é definida por\n",
    "\\begin{align}\n",
    "& \\rho_{a} = \\sum_{j=1}^{d_{b}}(I\\otimes\\langle j|)\\rho_{ab}(I\\otimes|j\\rangle), \\\\\n",
    "& \\rho_{b} = \\sum_{j=1}^{d_{a}}(\\langle j|\\otimes I)\\rho_{ab}(|j\\rangle\\otimes I).\n",
    "\\end{align}"
   ]
  },
  {
   "cell_type": "code",
   "execution_count": 21,
   "id": "9b3e6cc7",
   "metadata": {},
   "outputs": [],
   "source": [
    "def ptraceA(da, db, rho):\n",
    "    rhoB = zeros(db,db)\n",
    "    for j in range(0, db):\n",
    "        for k in range(0, db):\n",
    "            for l in range(0, da):\n",
    "                rhoB[j,k] += rho[l*db+j,l*db+k]\n",
    "    return rhoB\n",
    "def ptraceB(da, db, rho):\n",
    "    rhoA = zeros(da,da)\n",
    "    for j in range(0, da):\n",
    "        for k in range(0, da):\n",
    "            for l in range(0, db):\n",
    "                rhoA[j,k] += rho[j*db+l,k*db+l]\n",
    "    return rhoA"
   ]
  },
  {
   "cell_type": "code",
   "execution_count": 19,
   "id": "817b4996",
   "metadata": {},
   "outputs": [
    {
     "data": {
      "image/png": "[encoded data removed]",
      "text/latex": [
       "$\\displaystyle \\left[\\begin{matrix}0.5 z_{a} + 0.5 & 0.5 x_{a} - 0.5 i y_{a}\\\\0.5 x_{a} + 0.5 i y_{a} & 0.5 - 0.5 z_{a}\\end{matrix}\\right]$"
      ],
      "text/plain": [
       "⎡  0.5⋅zₐ + 0.5     0.5⋅xₐ - 0.5⋅ⅈ⋅yₐ⎤\n",
       "⎢                                    ⎥\n",
       "⎣0.5⋅xₐ + 0.5⋅ⅈ⋅yₐ    0.5 - 0.5⋅zₐ   ⎦"
      ]
     },
     "execution_count": 19,
     "metadata": {},
     "output_type": "execute_result"
    }
   ],
   "source": [
    "rho_a = ptraceB(2, 2, rho_ab); rho_a"
   ]
  },
  {
   "cell_type": "code",
   "execution_count": 20,
   "id": "a1561d19",
   "metadata": {},
   "outputs": [
    {
     "data": {
      "image/png": "[encoded data removed]",
      "text/latex": [
       "$\\displaystyle \\left[\\begin{matrix}0.5 z_{b} + 0.5 & 0.5 x_{b} - 0.5 i y_{b}\\\\0.5 x_{b} + 0.5 i y_{b} & 0.5 - 0.5 z_{b}\\end{matrix}\\right]$"
      ],
      "text/plain": [
       "⎡   0.5⋅z_b + 0.5     0.5⋅x_b - 0.5⋅ⅈ⋅y_b⎤\n",
       "⎢                                        ⎥\n",
       "⎣0.5⋅x_b + 0.5⋅ⅈ⋅y_b     0.5 - 0.5⋅z_b   ⎦"
      ]
     },
     "execution_count": 20,
     "metadata": {},
     "output_type": "execute_result"
    }
   ],
   "source": [
    "rho_b = ptraceA(2, 2, rho_ab); rho_b"
   ]
  },
  {
   "cell_type": "markdown",
   "id": "c8c53b2e",
   "metadata": {},
   "source": [
    "Ou seja\n",
    "\\begin{align}\n",
    "& \\rho_{a} = \\frac{1}{2}\\big(I+x_{a}X+y_{a}Y+z_{a}Z\\big), \\\\\n",
    "& \\rho_{b} = \\frac{1}{2}\\big(I+x_{b}X+y_{b}Y+z_{b}Z\\big).\n",
    "\\end{align}"
   ]
  },
  {
   "cell_type": "markdown",
   "id": "8d12afd1",
   "metadata": {},
   "source": [
    "## Aplicando a SWAP"
   ]
  },
  {
   "cell_type": "code",
   "execution_count": 25,
   "id": "f994d7f9",
   "metadata": {},
   "outputs": [
    {
     "data": {
      "image/png": "[encoded data removed]",
      "text/latex": [
       "$\\displaystyle \\left( \\left[\\begin{matrix}1\\\\0\\end{matrix}\\right], \\  \\left[\\begin{matrix}0\\\\1\\end{matrix}\\right], \\  \\left[\\begin{matrix}1 & 0\\\\0 & 1\\end{matrix}\\right], \\  \\left[\\begin{matrix}0 & 1\\\\1 & 0\\end{matrix}\\right], \\  \\left[\\begin{matrix}1 & 0\\\\0 & 0\\end{matrix}\\right], \\  \\left[\\begin{matrix}1\\\\0\\\\0\\\\0\\end{matrix}\\right]\\right)$"
      ],
      "text/plain": [
       "⎛                                  ⎡1⎤⎞\n",
       "⎜                                  ⎢ ⎥⎟\n",
       "⎜⎡1⎤  ⎡0⎤  ⎡1  0⎤  ⎡0  1⎤  ⎡1  0⎤  ⎢0⎥⎟\n",
       "⎜⎢ ⎥, ⎢ ⎥, ⎢    ⎥, ⎢    ⎥, ⎢    ⎥, ⎢ ⎥⎟\n",
       "⎜⎣0⎦  ⎣1⎦  ⎣0  1⎦  ⎣1  0⎦  ⎣0  0⎦  ⎢0⎥⎟\n",
       "⎜                                  ⎢ ⎥⎟\n",
       "⎝                                  ⎣0⎦⎠"
      ]
     },
     "execution_count": 25,
     "metadata": {},
     "output_type": "execute_result"
    }
   ],
   "source": [
    "# alguns resultados prontos que usare de init.ipynb\n",
    "cb(2,0), cb(2,1), id(2), pauli(1), proj(cb(2,0)), tp(cb(2,0),cb(2,0))"
   ]
  },
  {
   "cell_type": "code",
   "execution_count": 27,
   "id": "e87a00f3",
   "metadata": {},
   "outputs": [
    {
     "data": {
      "image/png": "[encoded data removed]",
      "text/latex": [
       "$\\displaystyle \\left[\\begin{matrix}1 & 0 & 0 & 0\\\\0 & 1 & 0 & 0\\\\0 & 0 & 0 & 1\\\\0 & 0 & 1 & 0\\end{matrix}\\right]$"
      ],
      "text/plain": [
       "⎡1  0  0  0⎤\n",
       "⎢          ⎥\n",
       "⎢0  1  0  0⎥\n",
       "⎢          ⎥\n",
       "⎢0  0  0  1⎥\n",
       "⎢          ⎥\n",
       "⎣0  0  1  0⎦"
      ]
     },
     "execution_count": 27,
     "metadata": {},
     "output_type": "execute_result"
    }
   ],
   "source": [
    "CX_ab = tp(proj(cb(2,0)),id(2)) + tp(proj(cb(2,1)),pauli(1)); CX_ab"
   ]
  },
  {
   "cell_type": "code",
   "execution_count": 29,
   "id": "2a3de697",
   "metadata": {},
   "outputs": [
    {
     "data": {
      "image/png": "[encoded data removed]",
      "text/latex": [
       "$\\displaystyle \\left[\\begin{matrix}1 & 0 & 0 & 0\\\\0 & 0 & 0 & 1\\\\0 & 0 & 1 & 0\\\\0 & 1 & 0 & 0\\end{matrix}\\right]$"
      ],
      "text/plain": [
       "⎡1  0  0  0⎤\n",
       "⎢          ⎥\n",
       "⎢0  0  0  1⎥\n",
       "⎢          ⎥\n",
       "⎢0  0  1  0⎥\n",
       "⎢          ⎥\n",
       "⎣0  1  0  0⎦"
      ]
     },
     "execution_count": 29,
     "metadata": {},
     "output_type": "execute_result"
    }
   ],
   "source": [
    "CX_ba = tp(id(2),proj(cb(2,0))) + tp(pauli(1),proj(cb(2,1))); CX_ba"
   ]
  },
  {
   "cell_type": "code",
   "execution_count": 31,
   "id": "17def523",
   "metadata": {},
   "outputs": [
    {
     "data": {
      "image/png": "[encoded data removed]",
      "text/latex": [
       "$\\displaystyle \\left[\\begin{matrix}1 & 0 & 0 & 0\\\\0 & 0 & 1 & 0\\\\0 & 1 & 0 & 0\\\\0 & 0 & 0 & 1\\end{matrix}\\right]$"
      ],
      "text/plain": [
       "⎡1  0  0  0⎤\n",
       "⎢          ⎥\n",
       "⎢0  0  1  0⎥\n",
       "⎢          ⎥\n",
       "⎢0  1  0  0⎥\n",
       "⎢          ⎥\n",
       "⎣0  0  0  1⎦"
      ]
     },
     "execution_count": 31,
     "metadata": {},
     "output_type": "execute_result"
    }
   ],
   "source": [
    "SWAP = CX_ab*CX_ba*CX_ab; SWAP"
   ]
  },
  {
   "cell_type": "code",
   "execution_count": 32,
   "id": "07cb39d0",
   "metadata": {},
   "outputs": [
    {
     "data": {
      "image/png": "[encoded data removed]",
      "text/latex": [
       "$\\displaystyle \\left[\\begin{matrix}1 & 0 & 0 & 0\\\\0 & 0 & 1 & 0\\\\0 & 1 & 0 & 0\\\\0 & 0 & 0 & 1\\end{matrix}\\right]$"
      ],
      "text/plain": [
       "⎡1  0  0  0⎤\n",
       "⎢          ⎥\n",
       "⎢0  0  1  0⎥\n",
       "⎢          ⎥\n",
       "⎢0  1  0  0⎥\n",
       "⎢          ⎥\n",
       "⎣0  0  0  1⎦"
      ]
     },
     "execution_count": 32,
     "metadata": {},
     "output_type": "execute_result"
    }
   ],
   "source": [
    "SWAP = CX_ba*CX_ab*CX_ba; SWAP"
   ]
  },
  {
   "cell_type": "markdown",
   "id": "da8980ee",
   "metadata": {},
   "source": [
    "$$\\rho_{ab}^{swap} = (SWAP)\\rho_{ab}(SWAP)^{\\dagger}$$"
   ]
  },
  {
   "cell_type": "code",
   "execution_count": 33,
   "id": "6dfc5a97",
   "metadata": {},
   "outputs": [],
   "source": [
    "rho_ab_swap = SWAP*rho_ab*SWAP # pois a SWAP é hermitiana"
   ]
  },
  {
   "cell_type": "code",
   "execution_count": 34,
   "id": "3b2aa67a",
   "metadata": {},
   "outputs": [
    {
     "data": {
      "image/png": "[encoded data removed]",
      "text/latex": [
       "$\\displaystyle \\left[\\begin{matrix}0.5 z_{b} + 0.5 & 0.5 x_{b} - 0.5 i y_{b}\\\\0.5 x_{b} + 0.5 i y_{b} & 0.5 - 0.5 z_{b}\\end{matrix}\\right]$"
      ],
      "text/plain": [
       "⎡   0.5⋅z_b + 0.5     0.5⋅x_b - 0.5⋅ⅈ⋅y_b⎤\n",
       "⎢                                        ⎥\n",
       "⎣0.5⋅x_b + 0.5⋅ⅈ⋅y_b     0.5 - 0.5⋅z_b   ⎦"
      ]
     },
     "execution_count": 34,
     "metadata": {},
     "output_type": "execute_result"
    }
   ],
   "source": [
    "rho_a_swap = ptraceB(2, 2, rho_ab_swap); rho_a_swap"
   ]
  },
  {
   "cell_type": "code",
   "execution_count": 35,
   "id": "a4cd8060",
   "metadata": {},
   "outputs": [
    {
     "data": {
      "image/png": "[encoded data removed]",
      "text/latex": [
       "$\\displaystyle \\left[\\begin{matrix}0.5 z_{a} + 0.5 & 0.5 x_{a} - 0.5 i y_{a}\\\\0.5 x_{a} + 0.5 i y_{a} & 0.5 - 0.5 z_{a}\\end{matrix}\\right]$"
      ],
      "text/plain": [
       "⎡  0.5⋅zₐ + 0.5     0.5⋅xₐ - 0.5⋅ⅈ⋅yₐ⎤\n",
       "⎢                                    ⎥\n",
       "⎣0.5⋅xₐ + 0.5⋅ⅈ⋅yₐ    0.5 - 0.5⋅zₐ   ⎦"
      ]
     },
     "execution_count": 35,
     "metadata": {},
     "output_type": "execute_result"
    }
   ],
   "source": [
    "rho_b_swap = ptraceA(2, 2, rho_ab_swap); rho_b_swap"
   ]
  },
  {
   "cell_type": "markdown",
   "id": "34ec5d80",
   "metadata": {},
   "source": [
    "Ou seja\n",
    "$$\\rho_{a}^{swap}=\\rho_{b} \\text{ e } \\rho_{b}^{swap}=\\rho_{a}.$$"
   ]
  },
  {
   "cell_type": "markdown",
   "id": "42eb331e",
   "metadata": {},
   "source": [
    "### Traço parcial calculado numericamente"
   ]
  },
  {
   "cell_type": "code",
   "execution_count": 52,
   "id": "061cde64",
   "metadata": {},
   "outputs": [],
   "source": [
    "def pTraceL_num(dl, dr, rhoLR):\n",
    "    # Returns the left partial trace over the 'left' subsystem of rhoLR\n",
    "    rhoR = np.zeros((dr, dr), dtype=complex)\n",
    "    for j in range(0, dr):\n",
    "        for k in range(j, dr):\n",
    "            for l in range(0, dl):\n",
    "                rhoR[j,k] += rhoLR[l*dr+j,l*dr+k]\n",
    "            if j != k:\n",
    "                rhoR[k,j] = np.conj(rhoR[j,k])\n",
    "    return rhoR\n",
    "\n",
    "\n",
    "def pTraceR_num(dl, dr, rhoLR):\n",
    "    # Returns the right partial trace over the 'right' subsystem of rhoLR\n",
    "    rhoL = np.zeros((dl, dl), dtype=complex)\n",
    "    for j in range(0, dl):\n",
    "        for k in range(j, dl):\n",
    "            for l in range(0, dr):\n",
    "                rhoL[j,k] += rhoLR[j*dr+l,k*dr+l]\n",
    "        if j != k:\n",
    "            rhoL[k,j] = np.conj(rhoL[j,k])\n",
    "    return rhoL"
   ]
  },
  {
   "cell_type": "markdown",
   "id": "25c8a859",
   "metadata": {},
   "source": [
    "## Simulação e implementação experimental da troca de estados\n",
    "\n",
    "Vamos considerar \n",
    "\\begin{align}\n",
    "& \\rho_{a} = |0\\rangle\\langle 0| = \\begin{bmatrix}1&0\\\\0&0 \\end{bmatrix}, \\\\\n",
    "& \\rho_{b} = |\\oplus\\rangle\\langle \\oplus| = \\begin{bmatrix}1/2&-i/2\\\\i/2&1/2 \\end{bmatrix}.\n",
    "\\end{align}"
   ]
  },
  {
   "cell_type": "markdown",
   "id": "e86bf32f",
   "metadata": {},
   "source": [
    "### Simulação"
   ]
  },
  {
   "cell_type": "code",
   "execution_count": 138,
   "id": "829606a6",
   "metadata": {},
   "outputs": [],
   "source": [
    "qr = QuantumRegister(2); qc = QuantumCircuit(qr)"
   ]
  },
  {
   "cell_type": "markdown",
   "id": "678c4ad8",
   "metadata": {},
   "source": [
    "#### Preparação dos estados"
   ]
  },
  {
   "cell_type": "code",
   "execution_count": 139,
   "id": "2498eb9f",
   "metadata": {},
   "outputs": [
    {
     "data": {
      "image/png": "[encoded data removed]",
      "text/plain": [
       "<Figure size 246.521x144.48 with 1 Axes>"
      ]
     },
     "execution_count": 139,
     "metadata": {},
     "output_type": "execute_result"
    }
   ],
   "source": [
    "qc.h(qr[1]); qc.s(qr[1]); qc.draw(output='mpl')"
   ]
  },
  {
   "cell_type": "markdown",
   "id": "464aae71",
   "metadata": {},
   "source": [
    "##### Para a TEQ do circuito acima"
   ]
  },
  {
   "cell_type": "code",
   "execution_count": 140,
   "id": "f8c4fe65",
   "metadata": {},
   "outputs": [],
   "source": [
    "from qiskit.ignis.verification.tomography import state_tomography_circuits, StateTomographyFitter\n",
    "nshots = 8192\n",
    "qstc = state_tomography_circuits(qc, [qr[0],qr[1]]); # circuito para TEQ\n",
    "job = qiskit.execute(qstc, Aer.get_backend('qasm_simulator'), shots=nshots) # executa no simulador\n",
    "qstf = StateTomographyFitter(job.result(), qstc) # ajusta os dados\n",
    "rhoBA = qstf.fit(method='lstsq'); rhoBA # extrai o operador densidade"
   ]
  },
  {
   "cell_type": "markdown",
   "id": "81b287be",
   "metadata": {},
   "source": [
    "Aqui aparece a questão da ordem trocada dos qubits ($\\rho\\equiv\\rho_{BA}$)"
   ]
  },
  {
   "cell_type": "code",
   "execution_count": 143,
   "id": "48fd8214",
   "metadata": {},
   "outputs": [
    {
     "data": {
      "text/plain": [
       "array([[9.99234111e-01+0.j        , 2.70437536e-03-0.00062879j],\n",
       "       [2.70437536e-03+0.00062879j, 7.65889282e-04+0.j        ]])"
      ]
     },
     "execution_count": 143,
     "metadata": {},
     "output_type": "execute_result"
    }
   ],
   "source": [
    "rhoA = pTraceL_num(2, 2, rhoBA); rhoA"
   ]
  },
  {
   "cell_type": "code",
   "execution_count": 144,
   "id": "ca1c1749",
   "metadata": {},
   "outputs": [
    {
     "data": {
      "text/plain": [
       "array([[ 0.49635471+0.j        , -0.00085638-0.49922934j],\n",
       "       [-0.00085638+0.49922934j,  0.50364529+0.j        ]])"
      ]
     },
     "execution_count": 144,
     "metadata": {},
     "output_type": "execute_result"
    }
   ],
   "source": [
    "rhoB = pTraceR_num(2, 2, rhoBA); rhoB"
   ]
  },
  {
   "cell_type": "markdown",
   "id": "43ff681c",
   "metadata": {},
   "source": [
    "#### Fazendo o swap dos estados"
   ]
  },
  {
   "cell_type": "code",
   "execution_count": 145,
   "id": "ca462ac1",
   "metadata": {},
   "outputs": [
    {
     "data": {
      "image/png": "[encoded data removed]",
      "text/plain": [
       "<Figure size 366.921x144.48 with 1 Axes>"
      ]
     },
     "execution_count": 145,
     "metadata": {},
     "output_type": "execute_result"
    }
   ],
   "source": [
    "qc.cx(qr[0],qr[1]); qc.cx(qr[0],qr[1]); qc.draw(output='mpl')"
   ]
  },
  {
   "cell_type": "markdown",
   "id": "84de83f0",
   "metadata": {},
   "source": [
    "##### Retirando uma porta lógica (errada) do circuito\n",
    "Dá pra fazer isso iniciando o circuito do zero ou usando os comandos a seguir."
   ]
  },
  {
   "cell_type": "code",
   "execution_count": 149,
   "id": "0c581195",
   "metadata": {},
   "outputs": [
    {
     "data": {
      "text/plain": [
       "[(<qiskit.circuit.library.standard_gates.h.HGate object at 0x7feaa2010460>, [Qubit(QuantumRegister(2, 'q655'), 1)], []), (<qiskit.circuit.library.standard_gates.s.SGate object at 0x7feaa2010880>, [Qubit(QuantumRegister(2, 'q655'), 1)], []), (<qiskit.circuit.library.standard_gates.x.CXGate object at 0x7fea9f7d6a60>, [Qubit(QuantumRegister(2, 'q655'), 0), Qubit(QuantumRegister(2, 'q655'), 1)], []), (<qiskit.circuit.library.standard_gates.x.CXGate object at 0x7fea9f7d6fd0>, [Qubit(QuantumRegister(2, 'q655'), 0), Qubit(QuantumRegister(2, 'q655'), 1)], [])]"
      ]
     },
     "execution_count": 149,
     "metadata": {},
     "output_type": "execute_result"
    }
   ],
   "source": [
    "# data contém todas as portas lógicas do cicuito quântico em uma lista (ou dicionário)\n",
    "data = qc.data; data"
   ]
  },
  {
   "cell_type": "code",
   "execution_count": 150,
   "id": "f4a74565",
   "metadata": {},
   "outputs": [
    {
     "name": "stdout",
     "output_type": "stream",
     "text": [
      "(<qiskit.circuit.library.standard_gates.x.CXGate object at 0x7fea9f7d6fd0>, [Qubit(QuantumRegister(2, 'q655'), 0), Qubit(QuantumRegister(2, 'q655'), 1)], [])\n"
     ]
    }
   ],
   "source": [
    "# imprime uma componente de qc.data\n",
    "print( data[3] )"
   ]
  },
  {
   "cell_type": "code",
   "execution_count": 151,
   "id": "5bdfe896",
   "metadata": {},
   "outputs": [
    {
     "data": {
      "text/plain": [
       "(<qiskit.circuit.library.standard_gates.x.CXGate at 0x7fea9f7d6fd0>,\n",
       " [Qubit(QuantumRegister(2, 'q655'), 0), Qubit(QuantumRegister(2, 'q655'), 1)],\n",
       " [])"
      ]
     },
     "execution_count": 151,
     "metadata": {},
     "output_type": "execute_result"
    }
   ],
   "source": [
    "# deleta uma componente de data\n",
    "data.pop(3)"
   ]
  },
  {
   "cell_type": "code",
   "execution_count": 152,
   "id": "501279ad",
   "metadata": {},
   "outputs": [
    {
     "data": {
      "image/png": "[encoded data removed]",
      "text/plain": [
       "<Figure size 306.721x144.48 with 1 Axes>"
      ]
     },
     "execution_count": 152,
     "metadata": {},
     "output_type": "execute_result"
    }
   ],
   "source": [
    "# agora o circuit está como queremos\n",
    "qc.draw(output='mpl')"
   ]
  },
  {
   "cell_type": "markdown",
   "id": "94d8ff5f",
   "metadata": {},
   "source": [
    "#### Voltando ao swap dos estados"
   ]
  },
  {
   "cell_type": "code",
   "execution_count": 153,
   "id": "6239fa0d",
   "metadata": {},
   "outputs": [
    {
     "data": {
      "image/png": "[encoded data removed]",
      "text/plain": [
       "<Figure size 366.921x144.48 with 1 Axes>"
      ]
     },
     "execution_count": 153,
     "metadata": {},
     "output_type": "execute_result"
    }
   ],
   "source": [
    "qc.cx(qr[1],qr[0]); qc.draw(output='mpl')"
   ]
  },
  {
   "cell_type": "code",
   "execution_count": 154,
   "id": "c67b99e4",
   "metadata": {},
   "outputs": [
    {
     "data": {
      "image/png": "[encoded data removed]",
      "text/plain": [
       "<Figure size 427.121x144.48 with 1 Axes>"
      ]
     },
     "execution_count": 154,
     "metadata": {},
     "output_type": "execute_result"
    }
   ],
   "source": [
    "qc.cx(qr[0],qr[1]); qc.draw(output='mpl')"
   ]
  },
  {
   "cell_type": "code",
   "execution_count": 155,
   "id": "9eb15049",
   "metadata": {},
   "outputs": [
    {
     "data": {
      "text/plain": [
       "array([[ 5.00088031e-01+0.00000000e+00j, -3.39300178e-03-4.99202543e-01j,\n",
       "        -4.32362222e-04+1.02426751e-03j, -5.09848655e-03+1.47753728e-03j],\n",
       "       [-3.39300178e-03+4.99202543e-01j,  4.99348175e-01+0.00000000e+00j,\n",
       "        -7.54588368e-04-8.68062614e-04j, -1.87214576e-03-5.35859041e-03j],\n",
       "       [-4.32362222e-04-1.02426751e-03j, -7.54588368e-04+8.68062614e-04j,\n",
       "         2.55492535e-04+0.00000000e+00j,  4.34294469e-06-2.43304087e-04j],\n",
       "       [-5.09848655e-03-1.47753728e-03j, -1.87214576e-03+5.35859041e-03j,\n",
       "         4.34294469e-06+2.43304087e-04j,  3.08302043e-04+0.00000000e+00j]])"
      ]
     },
     "execution_count": 155,
     "metadata": {},
     "output_type": "execute_result"
    }
   ],
   "source": [
    "qstc = state_tomography_circuits(qc, [qr[0],qr[1]]); # circuito para TEQ\n",
    "job = qiskit.execute(qstc, Aer.get_backend('qasm_simulator'), shots=nshots) # executa no simulador\n",
    "qstf = StateTomographyFitter(job.result(), qstc) # ajusta os dados\n",
    "rhoBA = qstf.fit(method='lstsq'); # extrai o operador densidade"
   ]
  },
  {
   "cell_type": "code",
   "execution_count": 156,
   "id": "9baaa85c",
   "metadata": {},
   "outputs": [
    {
     "data": {
      "text/plain": [
       "array([[ 0.50034352+0.j        , -0.00338866-0.49944585j],\n",
       "       [-0.00338866+0.49944585j,  0.49965648+0.j        ]])"
      ]
     },
     "execution_count": 156,
     "metadata": {},
     "output_type": "execute_result"
    }
   ],
   "source": [
    "rhoA = pTraceL_num(2, 2, rhoBA); rhoA"
   ]
  },
  {
   "cell_type": "code",
   "execution_count": 157,
   "id": "2c4375fb",
   "metadata": {},
   "outputs": [
    {
     "data": {
      "text/plain": [
       "array([[ 9.99436205e-01+0.j        , -2.30450798e-03-0.00433432j],\n",
       "       [-2.30450798e-03+0.00433432j,  5.63794579e-04+0.j        ]])"
      ]
     },
     "execution_count": 157,
     "metadata": {},
     "output_type": "execute_result"
    }
   ],
   "source": [
    "rhoB = pTraceR_num(2, 2, rhoBA); rhoB"
   ]
  },
  {
   "cell_type": "markdown",
   "id": "e7026d61",
   "metadata": {},
   "source": [
    "### Experimento"
   ]
  },
  {
   "cell_type": "markdown",
   "id": "efca88c2",
   "metadata": {},
   "source": [
    "##### Preparação dos estados"
   ]
  },
  {
   "cell_type": "code",
   "execution_count": 158,
   "id": "7bf91aeb",
   "metadata": {},
   "outputs": [
    {
     "data": {
      "image/png": "[encoded data removed]",
      "text/plain": [
       "<Figure size 259.211x144.48 with 1 Axes>"
      ]
     },
     "execution_count": 158,
     "metadata": {},
     "output_type": "execute_result"
    }
   ],
   "source": [
    "qr = QuantumRegister(2); qc = QuantumCircuit(qr)\n",
    "qc.h(qr[1]); qc.s(qr[1]); qc.draw(output='mpl')"
   ]
  },
  {
   "cell_type": "code",
   "execution_count": 159,
   "id": "cf86ce67",
   "metadata": {},
   "outputs": [],
   "source": [
    "qiskit.IBMQ.load_account();\n",
    "provider = IBMQ.get_provider(hub = 'ibm-q-research-2', group = 'federal-uni-sant-1', project = 'main')\n",
    "device = provider.get_backend('ibmq_belem')\n",
    "from qiskit.tools.monitor import job_monitor"
   ]
  },
  {
   "cell_type": "code",
   "execution_count": 160,
   "id": "5b6e9eb8",
   "metadata": {},
   "outputs": [
    {
     "name": "stdout",
     "output_type": "stream",
     "text": [
      "617aa47a173a3f0b2afebe9e\n",
      "Job Status: job has successfully run\n"
     ]
    }
   ],
   "source": [
    "qstc = state_tomography_circuits(qc, [qr[0],qr[1]]); # circuito para TEQ\n",
    "job = qiskit.execute(qstc, backend = device, shots = nshots)\n",
    "print(job.job_id()); job_monitor(job)"
   ]
  },
  {
   "cell_type": "code",
   "execution_count": 161,
   "id": "1c0ce69a",
   "metadata": {},
   "outputs": [
    {
     "data": {
      "text/plain": [
       "array([[0.99328346+0.j        , 0.01534465-0.05475171j],\n",
       "       [0.01534465+0.05475171j, 0.00671654+0.j        ]])"
      ]
     },
     "execution_count": 161,
     "metadata": {},
     "output_type": "execute_result"
    }
   ],
   "source": [
    "qstf = StateTomographyFitter(job.result(), qstc) # ajusta os dados\n",
    "rhoBA = qstf.fit(method='lstsq'); # extrai o operador densidade\n",
    "rhoA = pTraceL_num(2, 2, rhoBA); rhoA"
   ]
  },
  {
   "cell_type": "code",
   "execution_count": 162,
   "id": "74e8de51",
   "metadata": {},
   "outputs": [
    {
     "data": {
      "text/plain": [
       "array([[0.51875243+0.j        , 0.01710343-0.48787993j],\n",
       "       [0.01710343+0.48787993j, 0.48124757+0.j        ]])"
      ]
     },
     "execution_count": 162,
     "metadata": {},
     "output_type": "execute_result"
    }
   ],
   "source": [
    "rhoB = pTraceR_num(2, 2, rhoBA); rhoB"
   ]
  },
  {
   "cell_type": "markdown",
   "id": "35766009",
   "metadata": {},
   "source": [
    "##### Troca dos estados"
   ]
  },
  {
   "cell_type": "code",
   "execution_count": 163,
   "id": "74f12d49",
   "metadata": {},
   "outputs": [
    {
     "data": {
      "image/png": "[encoded data removed]",
      "text/plain": [
       "<Figure size 439.811x144.48 with 1 Axes>"
      ]
     },
     "execution_count": 163,
     "metadata": {},
     "output_type": "execute_result"
    }
   ],
   "source": [
    "qc.cx(qr[0],qr[1]); qc.cx(qr[1],qr[0]); qc.cx(qr[0],qr[1]); qc.draw(output='mpl')"
   ]
  },
  {
   "cell_type": "code",
   "execution_count": null,
   "id": "36dd42fc",
   "metadata": {},
   "outputs": [
    {
     "name": "stdout",
     "output_type": "stream",
     "text": [
      "617aa598bc988489825f95d5\n",
      "Job Status: job is queued (1)     "
     ]
    }
   ],
   "source": [
    "qstc = state_tomography_circuits(qc, [qr[0],qr[1]]); # circuito para TEQ\n",
    "job = qiskit.execute(qstc, backend = device, shots = nshots)\n",
    "print(job.job_id()); job_monitor(job)"
   ]
  },
  {
   "cell_type": "code",
   "execution_count": null,
   "id": "8efb05cf",
   "metadata": {},
   "outputs": [],
   "source": [
    "qstf = StateTomographyFitter(job.result(), qstc) # ajusta os dados\n",
    "rhoBA = qstf.fit(method='lstsq'); # extrai o operador densidade\n",
    "rhoA = pTraceL_num(2, 2, rhoBA); rhoA"
   ]
  },
  {
   "cell_type": "code",
   "execution_count": null,
   "id": "24a9623b",
   "metadata": {},
   "outputs": [],
   "source": [
    "rhoB = pTraceR_num(2, 2, rhoBA); rhoB"
   ]
  }
 ],
 "metadata": {
  "kernelspec": {
   "display_name": "Python 3",
   "language": "python",
   "name": "python3"
  },
  "language_info": {
   "codemirror_mode": {
    "name": "ipython",
    "version": 3
   },
   "file_extension": ".py",
   "mimetype": "text/x-python",
   "name": "python",
   "nbconvert_exporter": "python",
   "pygments_lexer": "ipython3",
   "version": "3.8.8"
  }
 },
 "nbformat": 4,
 "nbformat_minor": 5
}
