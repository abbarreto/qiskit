{
 "cells": [
  {
   "cell_type": "markdown",
   "id": "39950d90",
   "metadata": {},
   "source": [
    "# Temas para os trabalhos/seminários\n",
    "\n",
    "* _Douglas_: Distribuição de emaranhamento.\n",
    "\n",
    "* _Marcelo_: Criptografia quântica.\n",
    "\n",
    "* _Said_: Violação das desigualdades de Bell.\n",
    "\n",
    "* _Tiago_: Redes neurais quânticas (convolução).\n",
    "\n",
    "* _Diego_: Complementariedade no apagador quântico.\n",
    "\n",
    "* _Vitor_: Swap de emaranhamento.\n",
    "\n",
    "* _Lucas_: Redes neurais quânticas (planaltos estéreis).\n",
    "\n",
    "* __Marcos__: Medidas não reveladas.\n",
    "\n",
    "* _Rene_: QAOA.\n",
    "\n",
    "* _Isabella_: Teleportação.\n",
    "\n",
    "* _João_: Compilador.\n",
    "\n",
    "* _Victor_: Codificação superdensa."
   ]
  },
  {
   "cell_type": "markdown",
   "id": "69e5969e",
   "metadata": {},
   "source": [
    "## Outros temas\n",
    "* Algoritmos de Bernstein-Vazirani, Simon, Shor, ...\n",
    "* Estados aleatórios\n",
    "* Máquinas de clonar\n",
    "* Química quântica\n",
    "* Redes neurais artificiais quânticas\n",
    "* Jogos quânticos\n",
    "* POVMs\n",
    "* Quantum annealing (Traveling salesman, ...)\n",
    "* Optimização (VQA, QAOA, ...)\n",
    "* Correção de erros\n",
    "* Mitigação de erros\n",
    "* Quantum walks\n",
    "* Quantum Monte Carlo\n",
    "* DQC1\n",
    "* Distilação de emaranhamento"
   ]
  },
  {
   "cell_type": "code",
   "execution_count": null,
   "id": "ac82e90a",
   "metadata": {},
   "outputs": [],
   "source": []
  }
 ],
 "metadata": {
  "kernelspec": {
   "display_name": "Python 3 (ipykernel)",
   "language": "python",
   "name": "python3"
  },
  "language_info": {
   "codemirror_mode": {
    "name": "ipython",
    "version": 3
   },
   "file_extension": ".py",
   "mimetype": "text/x-python",
   "name": "python",
   "nbconvert_exporter": "python",
   "pygments_lexer": "ipython3",
   "version": "3.8.8"
  }
 },
 "nbformat": 4,
 "nbformat_minor": 5
}
