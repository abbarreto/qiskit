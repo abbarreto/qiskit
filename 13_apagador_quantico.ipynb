{
 "cells": [
  {
   "cell_type": "code",
   "execution_count": 2,
   "id": "ae78d77c",
   "metadata": {},
   "outputs": [],
   "source": [
    "%run init.ipynb"
   ]
  },
  {
   "cell_type": "markdown",
   "id": "d06ed120",
   "metadata": {},
   "source": [
    "# Apagador quântico\n",
    "\n",
    "## Obtendo a informação de caminho\n",
    "O princípio de complementariedade de Bohr diz que não podemos observar o comportamento ondulatório do quanton (as oscilações no gráfico das probabilidades para o interferômetro de Mach-Zehnder (IMZ)) e saber seu caminho usando um único arranjo experimental. Se sabemos por qual caminho o quanton rumou, temos que $Pr(D_{0})=Pr(D_{1})=1/2\\ \\forall \\phi$. Para observarmos o padrão de interferência com máxima visibilidade, não podemos ter nenhuma informação de caminho. \n",
    "\n",
    "Podemos obter informação de caminho fazendo uma medida (forte ou fraca) em um dos caminhos, depois do primeiro divisor de feixes. Podemos obter informação de caminho também emaranhando o quanton com outro quanton auxiliar (_emaranhamento_ parcial seria equivalente à menor intensidade das medidas!?). Por agora, vamos seguir essa última possibilidade aqui. \n",
    "\n",
    "OBS: Seria interessante fazer essas medidas fracas usando o protocolo do Marcos. Pode ser uma ideia para \"completar\" o paper... Temos que ver ainda como implementar isso no IBMQ...\n",
    "\n",
    "Vamos utilizar o interferômetro de Mach-Zehnder agora com o 1º divisor de feixes trocado por um __divisor de feixes polarizador (DFP)__. O DFP deixa passar fótons com uma certa polarização, digamos horizontal, e reflete fótons com polarização ortogonal à 1ª, que seria vertical neste caso. Em equações\n",
    "\\begin{align}\n",
    "& U_{dfp}|H\\rangle|0\\rangle = |H\\rangle|0\\rangle, U_{dfp}|V\\rangle|0\\rangle = i|V\\rangle|1\\rangle, \\\\\n",
    "& U_{dfp}|H\\rangle|1\\rangle = i|H\\rangle|0\\rangle, U_{dfp}|V\\rangle|1\\rangle = |V\\rangle|1\\rangle.\n",
    "\\end{align}\n",
    "Veja a figura abaixo.\n",
    "<img src='fig_dfp.png' width = '300'>"
   ]
  },
  {
   "cell_type": "markdown",
   "id": "cc50ede5",
   "metadata": {},
   "source": [
    "Então, para estados de superposição da polarização, o DFP pode criar emaranhamento entre os graus de liberdade de polarização e modos espaciais do fóton:\n",
    "\\begin{align}\n",
    "U_{dfp}|\\psi\\rangle|0\\rangle & = U_{dfp}(c_{H}|H\\rangle+c_{V}|V\\rangle)|0\\rangle  = c_{H}U_{dfp}|H\\rangle|0\\rangle+c_{V}U_{dfp}|V\\rangle|0\\rangle \\\\\n",
    "& = c_{H}|H\\rangle|0\\rangle + ic_{V}|V\\rangle|1\\rangle.\n",
    "\\end{align}\n",
    "\n",
    "<img src = 'fig_imz_dfp.png' width = '300'>\n",
    "\n",
    "Vemos com isso que podemos acessar a informação sobre por qual caminho o fóton seguiu através desse seu outro grau de liberdade, a sua polarização. Isso nos indica que a visibilidade do padrão de interferência, no IMZ (veja a figura acima), deve ser nula. Vamos fazer as contas:\n",
    "\\begin{align}\n",
    "|\\psi_{0}\\rangle &= (c_{H}|H\\rangle + c_{V}|V\\rangle)|0\\rangle, \\\\\n",
    "|\\psi_{1}\\rangle &= U_{dfp}|\\psi_{0}\\rangle = c_{H}|H\\rangle|0\\rangle + ic_{V}|V\\rangle|1\\rangle, \\\\\n",
    "|\\psi_{2}\\rangle &= U_{e}|\\psi_{1}\\rangle =  ic_{H}|H\\rangle|1\\rangle + iic_{V}|V\\rangle|0\\rangle =  ic_{H}|H\\rangle|1\\rangle - c_{V}|V\\rangle|0\\rangle, \\\\\n",
    "|\\psi_{3}\\rangle &= U_{\\phi}|\\psi_{2}\\rangle =  ie^{i\\phi}c_{H}|H\\rangle|1\\rangle - c_{V}|V\\rangle|0\\rangle, \\\\\n",
    "|\\psi_{4}\\rangle &= U_{df}|\\psi_{3}\\rangle =  ie^{i\\phi}c_{H}|H\\rangle(i|0\\rangle+|1\\rangle)/\\sqrt{2} - c_{V}|V\\rangle(|0\\rangle+i|1\\rangle)/\\sqrt{2}.\n",
    "\\end{align}"
   ]
  },
  {
   "cell_type": "markdown",
   "id": "cfa3602b",
   "metadata": {},
   "source": [
    "O operador densidade correspondente é\n",
    "\\begin{align}\n",
    "\\rho_{4} &= |\\psi_{4}\\rangle\\langle\\psi_{4}| \\\\\n",
    "& = |c_{H}|^{2}|H\\rangle\\langle H|(i|0\\rangle+|1\\rangle)(-i\\langle 0|+\\langle 1|)/2 + |c_{V}|^{2}|V\\rangle\\langle V|(|0\\rangle+i|1\\rangle)(\\langle 0|-i\\langle 1|)/2 \\\\\n",
    "& + \\big(A|H\\rangle\\langle V| + t.c.\\big).\n",
    "\\end{align}\n",
    "Se tomamos o traço parcial sobre o grau de liberdade de polarização, obteremos o operador densidade reduzido do grau de liberdade espacial:\n",
    "\\begin{align}\n",
    "\\rho_{4}^{e} &= Tr_{p}(\\rho_{4}) \\\\\n",
    "& = |c_{H}|^{2}(i|0\\rangle+|1\\rangle)(-i\\langle 0|+\\langle 1|)/2 + |c_{V}|^{2}(|0\\rangle+i|1\\rangle)(\\langle 0|-i\\langle 1|)/2 \\\\\n",
    "&= ((|c_{H}|^{2}+|c_{V}|^{2})/2)|0\\rangle\\langle 0| + E|1\\rangle\\langle 1| + \\big(C|0\\rangle\\langle 1|+ t.c.\\big) \\\\\n",
    "&= (1/2)|0\\rangle\\langle 0| + E|1\\rangle\\langle 1| + \\big(C|0\\rangle\\langle 1|+ t.c.\\big)\n",
    "\\end{align}\n",
    "\n",
    "A probabilidade que nos interessa é então\n",
    "$$Pr(0) = \\langle 0|\\rho_{4}^{e}|0\\rangle = 1/2.$$\n",
    "Por conseguinte, $V=0$. \n",
    "\n",
    "Note que isso ocorre para qualquer que seja a quantidade de emaranhamento criado. Esse resultado é esperado pois mesmo que o estado de entrada seja $|\\psi_{0}\\rangle=|H,0\\rangle$ saberemos que o caminho tomado logo depois do DFP é o horizontal. Se houver superposição inicial de polarização, não conhecemos o caminho, por causa da superposição quântica, mas esta informação está disponível, uma vez que podemos descobrir esse caminho colocando um DFP entre o DFP existente e o espelho."
   ]
  },
  {
   "cell_type": "markdown",
   "id": "b1911dac",
   "metadata": {},
   "source": [
    "### Implementação no IBMQ\n",
    "\n",
    "Primeiramente, temos que obter a matriz para a transformação unitária implementada pelo DFP. Para um estado qualquer, teremos\n",
    "\\begin{align}\n",
    "U_{dfp}|\\Psi\\rangle & = c_{H0}U_{dfp}|H0\\rangle + c_{H1}U_{dfp}|H1\\rangle + c_{V0}U_{dfp}|V0\\rangle + c_{V1}U_{dfp}|V1\\rangle \\\\\n",
    "& = c_{H0}|H0\\rangle + ic_{H1}|H0\\rangle + ic_{V0}|V1\\rangle + c_{V1}|V1\\rangle \\\\\n",
    "& = \\begin{bmatrix} c_{H0}+ ic_{H1} \\\\ 0 \\\\ 0 \\\\ ic_{V0}+c_{V1} \\end{bmatrix} = U_{dfp}\\begin{bmatrix} c_{H0} \\\\ c_{H1} \\\\ c_{V0} \\\\ c_{V1} \\end{bmatrix} = \\begin{bmatrix}1&i&0&0  \\\\ 0&0&0&0 \\\\ 0&0&0&0 \\\\ 0&0&i&1 \\\\  \\end{bmatrix}\\begin{bmatrix} c_{H0} \\\\ c_{H1} \\\\ c_{V0} \\\\ c_{V1} \\end{bmatrix}.\n",
    "\\end{align}"
   ]
  },
  {
   "cell_type": "markdown",
   "id": "9caf33f8",
   "metadata": {},
   "source": [
    "Mas essa matriz, obviamente, não é unitária. Mas, com a ajuda do código abaixo, vemos que o DFP é representado pela seguinte matriz unitária:\n",
    "$$U_{dfp} \\doteq \\frac{1}{\\sqrt{2}}\\begin{bmatrix} 1&i&0&0 \\\\ i&1&0&0 \\\\ 0&0&1&i \\\\ 0&0&i&1 \\end{bmatrix} = C_{U_{df}}^{12}(X\\otimes I)C_{U_{df}}^{12}(X\\otimes I),$$\n",
    "com\n",
    "$$C_{U_{df}}^{12} = |0\\rangle\\langle 0|\\otimes I + |1\\rangle\\langle 1|\\otimes U_{df}$$\n",
    "e \n",
    "$$U_{df} \\doteq \\frac{1}{\\sqrt{2}}\\begin{bmatrix}1&i \\\\ i&1 \\end{bmatrix}.$$\n",
    "A representação matricial é feita na base padrão \n",
    "$$\\{|H0\\rangle,|H1\\rangle,|V0\\rangle,|V1\\rangle\\}=:\\{|00\\rangle,|01\\rangle,|10\\rangle,|11\\rangle\\},$$\n",
    "em que definimos\n",
    "$$|0\\rangle:=|H\\rangle \\text{ e } |1\\rangle:=|V\\rangle.$$\n",
    "\n",
    "Vale notar que\n",
    "\\begin{equation}\n",
    "U_{dfp}|\\Psi\\rangle = \\frac{1}{\\sqrt{2}}\\begin{bmatrix}1&i&0&0  \\\\ i&1&0&0 \\\\ 0&0&1&i \\\\ 0&0&i&1 \\\\  \\end{bmatrix}\\begin{bmatrix} c_{H0} \\\\ c_{H1} \\\\ c_{V0} \\\\ c_{V1} \\end{bmatrix} = \\frac{1}{\\sqrt{2}}\\begin{bmatrix} c_{H0}+ ic_{H1} \\\\ ic_{H0} + c_{H1} \\\\ c_{V0}+ic_{V1} \\\\ ic_{V0}+c_{V1} \\end{bmatrix}.\n",
    "\\end{equation}"
   ]
  },
  {
   "cell_type": "code",
   "execution_count": 5,
   "id": "994cdfb4",
   "metadata": {},
   "outputs": [
    {
     "data": {
      "image/png": "[encoded data removed]",
      "text/latex": [
       "$\\displaystyle \\left[\\begin{matrix}\\frac{\\sqrt{2}}{2} & 0.5 \\sqrt{2} i & 0 & 0\\\\0.5 \\sqrt{2} i & \\frac{\\sqrt{2}}{2} & 0 & 0\\\\0 & 0 & \\frac{\\sqrt{2}}{2} & 0.5 \\sqrt{2} i\\\\0 & 0 & 0.5 \\sqrt{2} i & \\frac{\\sqrt{2}}{2}\\end{matrix}\\right]$"
      ],
      "text/plain": [
       "⎡   √2                                 ⎤\n",
       "⎢   ──     0.5⋅√2⋅ⅈ     0         0    ⎥\n",
       "⎢   2                                  ⎥\n",
       "⎢                                      ⎥\n",
       "⎢             √2                       ⎥\n",
       "⎢0.5⋅√2⋅ⅈ     ──        0         0    ⎥\n",
       "⎢             2                        ⎥\n",
       "⎢                                      ⎥\n",
       "⎢                       √2             ⎥\n",
       "⎢   0         0         ──     0.5⋅√2⋅ⅈ⎥\n",
       "⎢                       2              ⎥\n",
       "⎢                                      ⎥\n",
       "⎢                                 √2   ⎥\n",
       "⎢   0         0      0.5⋅√2⋅ⅈ     ──   ⎥\n",
       "⎣                                 2    ⎦"
      ]
     },
     "execution_count": 5,
     "metadata": {},
     "output_type": "execute_result"
    }
   ],
   "source": [
    "Udfp = (1/sqrt(2))*Matrix([[1,1j,0,0],[1j,1,0,0],[0,0,1,1j],[0,0,1j,1]]); Udfp\n"
   ]
  },
  {
   "cell_type": "code",
   "execution_count": 6,
   "id": "70642c12",
   "metadata": {},
   "outputs": [
    {
     "data": {
      "image/png": "[encoded data removed]",
      "text/latex": [
       "$\\displaystyle \\left( \\left[\\begin{matrix}1.0 & 0 & 0 & 0\\\\0 & 1.0 & 0 & 0\\\\0 & 0 & 1.0 & 0\\\\0 & 0 & 0 & 1.0\\end{matrix}\\right], \\  \\left[\\begin{matrix}1.0 & 0 & 0 & 0\\\\0 & 1.0 & 0 & 0\\\\0 & 0 & 1.0 & 0\\\\0 & 0 & 0 & 1.0\\end{matrix}\\right]\\right)$"
      ],
      "text/plain": [
       "⎛⎡1.0   0    0    0 ⎤  ⎡1.0   0    0    0 ⎤⎞\n",
       "⎜⎢                  ⎥  ⎢                  ⎥⎟\n",
       "⎜⎢ 0   1.0   0    0 ⎥  ⎢ 0   1.0   0    0 ⎥⎟\n",
       "⎜⎢                  ⎥, ⎢                  ⎥⎟\n",
       "⎜⎢ 0    0   1.0   0 ⎥  ⎢ 0    0   1.0   0 ⎥⎟\n",
       "⎜⎢                  ⎥  ⎢                  ⎥⎟\n",
       "⎝⎣ 0    0    0   1.0⎦  ⎣ 0    0    0   1.0⎦⎠"
      ]
     },
     "execution_count": 6,
     "metadata": {},
     "output_type": "execute_result"
    }
   ],
   "source": [
    "Udfp*conjugate(Udfp), conjugate(Udfp)*Udfp"
   ]
  },
  {
   "cell_type": "code",
   "execution_count": 16,
   "id": "b583282a",
   "metadata": {},
   "outputs": [
    {
     "data": {
      "image/png": "[encoded data removed]",
      "text/latex": [
       "$\\displaystyle \\left[\\begin{matrix}\\frac{\\sqrt{2}}{2} & 0.5 \\sqrt{2} i\\\\0.5 \\sqrt{2} i & \\frac{\\sqrt{2}}{2}\\end{matrix}\\right]$"
      ],
      "text/plain": [
       "⎡   √2             ⎤\n",
       "⎢   ──     0.5⋅√2⋅ⅈ⎥\n",
       "⎢   2              ⎥\n",
       "⎢                  ⎥\n",
       "⎢             √2   ⎥\n",
       "⎢0.5⋅√2⋅ⅈ     ──   ⎥\n",
       "⎣             2    ⎦"
      ]
     },
     "execution_count": 16,
     "metadata": {},
     "output_type": "execute_result"
    }
   ],
   "source": [
    "Udf = (1/sqrt(2))*Matrix([[1,1j],[1j,1]]); Udf"
   ]
  },
  {
   "cell_type": "code",
   "execution_count": 19,
   "id": "e22eb437",
   "metadata": {},
   "outputs": [
    {
     "data": {
      "image/png": "[encoded data removed]",
      "text/latex": [
       "$\\displaystyle \\left( \\left[\\begin{matrix}1 & 0 & 0 & 0\\\\0 & 1 & 0 & 0\\\\0 & 0 & \\frac{\\sqrt{2}}{2} & 0.5 \\sqrt{2} i\\\\0 & 0 & 0.5 \\sqrt{2} i & \\frac{\\sqrt{2}}{2}\\end{matrix}\\right], \\  \\left[\\begin{matrix}\\frac{\\sqrt{2}}{2} & 0.5 \\sqrt{2} i & 0 & 0\\\\0.5 \\sqrt{2} i & \\frac{\\sqrt{2}}{2} & 0 & 0\\\\0 & 0 & 1 & 0\\\\0 & 0 & 0 & 1\\end{matrix}\\right], \\  \\left[\\begin{matrix}\\frac{\\sqrt{2}}{2} & 0.5 \\sqrt{2} i & 0 & 0\\\\0.5 \\sqrt{2} i & \\frac{\\sqrt{2}}{2} & 0 & 0\\\\0 & 0 & \\frac{\\sqrt{2}}{2} & 0.5 \\sqrt{2} i\\\\0 & 0 & 0.5 \\sqrt{2} i & \\frac{\\sqrt{2}}{2}\\end{matrix}\\right]\\right)$"
      ],
      "text/plain": [
       "⎛                                                        ⎡   √2               \n",
       "⎜                                                        ⎢   ──     0.5⋅√2⋅ⅈ  \n",
       "⎜⎡1  0     0         0    ⎤  ⎡   √2                   ⎤  ⎢   2                \n",
       "⎜⎢                        ⎥  ⎢   ──     0.5⋅√2⋅ⅈ  0  0⎥  ⎢                    \n",
       "⎜⎢0  1     0         0    ⎥  ⎢   2                    ⎥  ⎢             √2     \n",
       "⎜⎢                        ⎥  ⎢                        ⎥  ⎢0.5⋅√2⋅ⅈ     ──     \n",
       "⎜⎢         √2             ⎥  ⎢             √2         ⎥  ⎢             2      \n",
       "⎜⎢0  0     ──     0.5⋅√2⋅ⅈ⎥, ⎢0.5⋅√2⋅ⅈ     ──     0  0⎥, ⎢                    \n",
       "⎜⎢         2              ⎥  ⎢             2          ⎥  ⎢                    \n",
       "⎜⎢                        ⎥  ⎢                        ⎥  ⎢   0         0      \n",
       "⎜⎢                   √2   ⎥  ⎢   0         0      1  0⎥  ⎢                    \n",
       "⎜⎢0  0  0.5⋅√2⋅ⅈ     ──   ⎥  ⎢                        ⎥  ⎢                    \n",
       "⎜⎣                   2    ⎦  ⎣   0         0      0  1⎦  ⎢                    \n",
       "⎜                                                        ⎢   0         0      \n",
       "⎝                                                        ⎣                    \n",
       "\n",
       "                  ⎤⎞\n",
       "   0         0    ⎥⎟\n",
       "                  ⎥⎟\n",
       "                  ⎥⎟\n",
       "                  ⎥⎟\n",
       "   0         0    ⎥⎟\n",
       "                  ⎥⎟\n",
       "                  ⎥⎟\n",
       "   √2             ⎥⎟\n",
       "   ──     0.5⋅√2⋅ⅈ⎥⎟\n",
       "   2              ⎥⎟\n",
       "                  ⎥⎟\n",
       "             √2   ⎥⎟\n",
       "0.5⋅√2⋅ⅈ     ──   ⎥⎟\n",
       "             2    ⎦⎠"
      ]
     },
     "execution_count": 19,
     "metadata": {},
     "output_type": "execute_result"
    }
   ],
   "source": [
    "X = Matrix([[0,1],[1,0]])\n",
    "C_Udf_12 = tp(proj(cb(2,0)),id(2)) + tp(proj(cb(2,1)),Udf)\n",
    "C_Udf_12, tp(X,id(2))*C_Udf_12*tp(X,id(2)), C_Udf_12*tp(X,id(2))*C_Udf_12*tp(X,id(2))"
   ]
  },
  {
   "cell_type": "markdown",
   "id": "89bd0b15",
   "metadata": {},
   "source": [
    "### Como implementar $C_{U_{df}}^{12}$?\n",
    "Para\n",
    "$$U = e^{i\\alpha}AXBXC$$\n",
    "com \n",
    "$$ABC = I,$$\n",
    "pode-se escrever\n",
    "$$C_{U}^{12} = (I\\otimes C)C_{X}^{12}(I\\otimes B)C_{X}^{12}(P(\\alpha)\\otimes A).$$\n",
    "\n",
    "Com o código abaixo verifica-se que\n",
    "$$U_{df} = U(\\pi,-\\pi/2,\\pi/2)SXHXS$$"
   ]
  },
  {
   "cell_type": "code",
   "execution_count": 62,
   "id": "f4f0a353",
   "metadata": {},
   "outputs": [
    {
     "data": {
      "image/png": "[encoded data removed]",
      "text/latex": [
       "$\\displaystyle \\left[\\begin{matrix}0.5 \\sqrt{2} & 0.5 \\sqrt{2} i\\\\0.5 \\sqrt{2} i & 0.5 \\sqrt{2}\\end{matrix}\\right]$"
      ],
      "text/plain": [
       "⎡ 0.5⋅√2   0.5⋅√2⋅ⅈ⎤\n",
       "⎢                  ⎥\n",
       "⎣0.5⋅√2⋅ⅈ   0.5⋅√2 ⎦"
      ]
     },
     "execution_count": 62,
     "metadata": {},
     "output_type": "execute_result"
    }
   ],
   "source": [
    "def P(al):\n",
    "    return Matrix([[1,0],[0,cos(al)+1j*sin(al)]])\n",
    "S = Matrix([[1,0],[0,1j]]); Sd = Matrix([[1,0],[0,-1j]]); H = (1/sqrt(2))*Matrix([[1,1],[1,-1]])\n",
    "X = Matrix([[0,1],[1,0]]); Y = Matrix([[0,-1j],[1j,0]]); Z = Matrix([[1,0],[0,-1]])\n",
    "def U(th,ph,lb):\n",
    "    return Matrix([[cos(th/2),-(cos(lb)+1j*sin(lb))*sin(th/2)],[(cos(ph)+1j*sin(ph))*sin(th/2),cos(th/2)]])\n",
    "th, ph, lb = symbols('theta phi lambda')\n",
    "U(pi,-pi/2,pi/2)*S*X*H*X*S"
   ]
  },
  {
   "cell_type": "code",
   "execution_count": 65,
   "id": "ce987828",
   "metadata": {},
   "outputs": [
    {
     "data": {
      "image/png": "[encoded data removed]",
      "text/latex": [
       "$\\displaystyle \\left[\\begin{matrix}0.5 \\sqrt{2} & - 0.5 \\sqrt{2} i\\\\- 0.5 \\sqrt{2} i & 0.5 \\sqrt{2}\\end{matrix}\\right]$"
      ],
      "text/plain": [
       "⎡ 0.5⋅√2    -0.5⋅√2⋅ⅈ⎤\n",
       "⎢                    ⎥\n",
       "⎣-0.5⋅√2⋅ⅈ   0.5⋅√2  ⎦"
      ]
     },
     "execution_count": 65,
     "metadata": {},
     "output_type": "execute_result"
    }
   ],
   "source": [
    "A = U(pi,-pi/2,pi/2)*S; B = H; C = S; A*B*C"
   ]
  },
  {
   "cell_type": "code",
   "execution_count": 38,
   "id": "41767c84",
   "metadata": {},
   "outputs": [
    {
     "data": {
      "image/png": "[encoded data removed]",
      "text/latex": [
       "$\\displaystyle \\left( \\left[\\begin{matrix}a & b\\\\c & d\\end{matrix}\\right], \\  \\left[\\begin{matrix}x & y\\\\z & w\\end{matrix}\\right], \\  \\left[\\begin{matrix}a x + b z & a y + b w\\\\c x + d z & c y + d w\\end{matrix}\\right]\\right)$"
      ],
      "text/plain": [
       "⎛⎡a  b⎤  ⎡x  y⎤  ⎡a⋅x + b⋅z  a⋅y + b⋅w⎤⎞\n",
       "⎜⎢    ⎥, ⎢    ⎥, ⎢                    ⎥⎟\n",
       "⎝⎣c  d⎦  ⎣z  w⎦  ⎣c⋅x + d⋅z  c⋅y + d⋅w⎦⎠"
      ]
     },
     "execution_count": 38,
     "metadata": {},
     "output_type": "execute_result"
    }
   ],
   "source": [
    "a,b,c,d, x, y, z, w = symbols('a,b,c,d, x, y, z, w')\n",
    "A = Matrix([[a,b],[c,d]]); B = Matrix([[x,y],[z,w]]); A, B, A*B"
   ]
  },
  {
   "cell_type": "code",
   "execution_count": 42,
   "id": "273e0b5a",
   "metadata": {},
   "outputs": [
    {
     "data": {
      "image/png": "[encoded data removed]",
      "text/latex": [
       "$\\displaystyle \\left\\{ w : 0.0, \\  x : 0.0, \\  y : - 1.0 i, \\  z : - 1.0 i\\right\\}$"
      ],
      "text/plain": [
       "{w: 0.0, x: 0.0, y: -1.0⋅ⅈ, z: -1.0⋅ⅈ}"
      ]
     },
     "execution_count": 42,
     "metadata": {},
     "output_type": "execute_result"
    }
   ],
   "source": [
    "a = -1/sqrt(2); b = 1j/sqrt(2); c = b; d = a\n",
    "solve([a*x+b*z+a, a*y+b*w-b, c*x+d*z-c, c*y+d*w+d], [x,y,z,w])"
   ]
  },
  {
   "cell_type": "markdown",
   "id": "0a75fe09",
   "metadata": {},
   "source": [
    "## Apagando a informação de caminho\n",
    "\n",
    "Vamos considerar dois fótons emaranhados por conversão paramétrica descendente. O fóton B é enviado para o modo espacial horizontal do IMZ com DFP. Assim, o estado inicial é\n",
    "$$|\\psi_{0}\\rangle = \\frac{1}{\\sqrt{2}}\\big(|HV\\rangle_{AB}+|VH\\rangle_{AB}\\big)|0\\rangle_{B}.$$\n",
    "O modo espacial do fóton A não importa por agora.\n",
    "Aplicando os elementos do IMZ com DFP, obteremos\n",
    "\\begin{align}\n",
    "|\\psi_{1}\\rangle & = U_{dfp}|\\psi_{0}\\rangle = \\frac{1}{\\sqrt{2}}\\big(|H\\rangle_{A}U_{dfp}|V0\\rangle_{BB}+|V\\rangle_{A}U_{dfp}|H0\\rangle_{BB}\\big) \\\\\n",
    "&  = \\frac{1}{\\sqrt{2}}\\big(|H\\rangle_{A}i|V1\\rangle_{BB}+|V\\rangle_{A}|H0\\rangle_{BB}\\big), \\\\\n",
    "|\\psi_{2}\\rangle & = U_{e}|\\psi_{1}\\rangle  = \\frac{1}{\\sqrt{2}}\\big(ii|HV0\\rangle_{ABB}+i|VH1\\rangle_{ABB}\\big), \\\\\n",
    "|\\psi_{3}\\rangle & = U_{\\phi}|\\psi_{2}\\rangle  = \\frac{1}{\\sqrt{2}}\\big(-|HV0\\rangle_{ABB}+ie^{i\\phi}|VH1\\rangle_{ABB}\\big), \\\\\n",
    "|\\psi_{4}\\rangle & = U_{df}|\\psi_{3}\\rangle  = \\frac{1}{\\sqrt{2}}\\big(-|HV\\rangle_{AB}(|0\\rangle_{B}+i|1\\rangle_{B})/\\sqrt{2}+ie^{i\\phi}|VH\\rangle_{AB}(i|0\\rangle_{B}+|1\\rangle_{B})/\\sqrt{2}\\big) \\\\\n",
    "& = \\frac{1}{2}\\Big(-\\big(|HV\\rangle_{AB}+e^{i\\phi}|VH\\rangle_{AB}\\big)|0\\rangle_{B} -i\\big(|HV\\rangle_{AB}-e^{i\\phi}|VH\\rangle_{AB}\\big)|1\\rangle_{B}\\Big).\n",
    "\\end{align}"
   ]
  },
  {
   "cell_type": "markdown",
   "id": "a1012df1",
   "metadata": {},
   "source": [
    "Como os estados $\\big(|HV\\rangle_{AB}\\pm e^{i\\phi}|VH\\rangle_{AB}\\big)/\\sqrt{2}$ são ortonormais, quando tomamos o traço parcial sobre o grau de liberdade de polarização dos dois fótons, obteremos o operador densidade reduzido do grau de liberdade espacial do fóton B:\n",
    "$$\\rho_{4}^{eB} = I/2.$$\n",
    "Portanto, a visibilidade é nula. Entendemos isso olhando para o estado \n",
    "$$|\\psi_{1}\\rangle = \\big(i|HV1\\rangle_{ABB}+|VH0\\rangle_{ABB}\\big)/\\sqrt{2}.$$ Nesse caso, a informação de caminho pode ser obtida fazendo-se uma medida de polarização no fóton A, ou no fóton B, pois esse estado é emaranhado nos 3 graus de liberdade.\n",
    "\n",
    "Uma placa de meia onda (PMO) gira a polarização de forma que\n",
    "$$U_{pmo}|H\\rangle = |V\\rangle \\text{ e } U_{pmo}|V\\rangle = |H\\rangle.$$\n",
    "Se colocarmos uma PMO depois do DFP, no caminho horizontal antes do espelho, teríamos\n",
    "$$|\\psi_{2}'\\rangle= \\frac{1}{\\sqrt{2}}\\big(|HH0\\rangle_{ABB}+i|VH1\\rangle_{ABB}\\big) = \\frac{1}{\\sqrt{2}}\\big(|H0\\rangle_{AB}+i|V1\\rangle_{AB}\\big)|H\\rangle_{B}.$$\n",
    "Com isso, desemaranhamos a polarização de B dos outros graus de liberdade. Mas ainda podemos ter informação de caminho através da polarização de A."
   ]
  },
  {
   "cell_type": "markdown",
   "id": "d6b4a595",
   "metadata": {},
   "source": [
    "Para apagar essa informação, utilizamos uma placa de quarto de onda (PQO), que atua como segue\n",
    "$$U_{pqo}|H\\rangle = (|H\\rangle+i|V\\rangle)/\\sqrt{2} \\text{ e } U_{pqo}|V\\rangle = (|H\\rangle-i|V\\rangle)/\\sqrt{2}.$$\n",
    "Aplicando essa operação no fóton A, teremos\n",
    "\\begin{align}\n",
    "|\\psi_{2}''\\rangle &= U_{pqo}|\\psi_{2}'\\rangle = \\frac{1}{\\sqrt{2}}\\big(U_{pqo}|H\\rangle|0\\rangle_{AB}+iU_{pqo}|V\\rangle|1\\rangle_{AB}\\big)|H\\rangle_{B} \\\\\n",
    "& = \\frac{1}{\\sqrt{2}}\\big(2^{-1/2}(|H\\rangle_{A}+i|V\\rangle_{A})|0\\rangle_{B}+i2^{-1/2}(|H\\rangle_{A}-i|V\\rangle_{A})|1\\rangle_{B}\\big)|H\\rangle_{B} \\\\\n",
    "& = \\frac{1}{2}\\big(|H\\rangle_{A}(|0\\rangle_{B}+i|1\\rangle_{B}) + i|V\\rangle_{A}(|0\\rangle_{B}-i|1\\rangle_{B})\\big)|H\\rangle_{B}.\n",
    "\\end{align}\n",
    "É fácil ver que a medida de polarização de A não revela mais o caminho do fóton B, cujo estado espacial colapsa para $(|0\\rangle_{B}\\pm i|1\\rangle_{B})/\\sqrt{2}.$"
   ]
  },
  {
   "cell_type": "code",
   "execution_count": null,
   "id": "ebc60c50",
   "metadata": {},
   "outputs": [],
   "source": []
  },
  {
   "cell_type": "markdown",
   "id": "fb34102a",
   "metadata": {},
   "source": [
    "## Experimento da escolha adiada de Wheeler"
   ]
  },
  {
   "cell_type": "markdown",
   "id": "17c79535",
   "metadata": {},
   "source": [
    "## Implementação do apagador quântico no IBMQ\n",
    "PMO é uma CNOT"
   ]
  },
  {
   "cell_type": "code",
   "execution_count": null,
   "id": "06016d65",
   "metadata": {},
   "outputs": [],
   "source": []
  }
 ],
 "metadata": {
  "kernelspec": {
   "display_name": "Python 3 (ipykernel)",
   "language": "python",
   "name": "python3"
  },
  "language_info": {
   "codemirror_mode": {
    "name": "ipython",
    "version": 3
   },
   "file_extension": ".py",
   "mimetype": "text/x-python",
   "name": "python",
   "nbconvert_exporter": "python",
   "pygments_lexer": "ipython3",
   "version": "3.8.11"
  }
 },
 "nbformat": 4,
 "nbformat_minor": 5
}
