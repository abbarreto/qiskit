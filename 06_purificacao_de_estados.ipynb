{
 "cells": [
  {
   "cell_type": "code",
   "execution_count": 1,
   "id": "0a7aaf48",
   "metadata": {},
   "outputs": [],
   "source": [
    "%run init.ipynb"
   ]
  },
  {
   "cell_type": "markdown",
   "id": "c7c95895",
   "metadata": {},
   "source": [
    "# Purificação de estados\n",
    "\n",
    "## Decomposição de Schmidt\n",
    "O estado puro de um sistema de 2 quantons A e B, com dimensões $d_{A}$ e $d_{B}$, respectivamente, pode ser escrito em termos de bases ortonormais locais como\n",
    "$$|\\Psi\\rangle_{AB} = \\sum_{j=0}^{d_{A}-1}\\sum_{k=0}^{d_{B}-1}C_{j,k}|j\\rangle_{A}\\otimes|k\\rangle_{B}.$$\n",
    "\n",
    "O teorema da decomposição de Schmidt diz que podemos escrever estes estados em termos de bases ortonormais locais de forma que\n",
    "$$|\\Psi\\rangle_{AB} = \\sum_{j=0}^{\\min(d_{A},d_{B})-1}\\sqrt{\\lambda_{j}}|\\alpha_{j}\\rangle_{A}\\otimes|\\beta_{j}\\rangle_{B},$$\n",
    "com $\\lambda_{j}\\in\\mathbb{R}$. O operador densidade correspondente é\n",
    "$$\\rho_{AB} = |\\Psi\\rangle_{AB}\\langle\\Psi| = \\sum_{j,k}\\sqrt{\\lambda_{j}\\lambda_{k}}|\\alpha_{j}\\rangle_{A}\\langle\\alpha_{k}|\\otimes|\\beta_{j}\\rangle_{B}\\langle\\beta_{k}|$$\n",
    "\n",
    "Usando o traço parcial\n",
    "$$Tr_{B}(|\\alpha\\rangle_{A}\\langle\\alpha'|\\otimes|\\beta\\rangle_{B}\\langle\\beta'|)=|\\alpha\\rangle_{A}\\langle\\alpha'|\\otimes_{B}\\langle\\beta'|\\beta\\rangle_{B},$$\n",
    "é fácil verificar que\n",
    "\\begin{align}\n",
    "& \\rho_{A} = \\sum_{j}\\lambda_{j}|\\alpha_{j}\\rangle_{A}\\langle\\alpha_{j}|, \\\\\n",
    "& \\rho_{B} = \\sum_{j}\\lambda_{j}|\\beta_{j}\\rangle_{B}\\langle\\beta_{j}|.\n",
    "\\end{align}"
   ]
  },
  {
   "cell_type": "markdown",
   "id": "be89cdf2",
   "metadata": {},
   "source": [
    "## Purificação\n",
    "Consideremos que queremos preparar um estado misto cuja decomposição espectral é\n",
    "$$\\rho_{A} = \\sum_{j}\\lambda_{j}|\\alpha_{j}\\rangle_{A}\\langle\\alpha_{j}|.$$\n",
    "Por causa da decomposição de Schmidt, sabemos que é possível usar um sistema auxiliar B para purificar A de forma que \n",
    "$$\\rho_{A}=Tr_{B}(|\\Psi\\rangle_{AB}\\langle\\Psi|)$$\n",
    "com\n",
    "$$|\\Psi\\rangle_{AB} = \\sum_{j=0}^{d_{A}-1}\\sqrt{\\lambda_{j}}|\\alpha_{j}\\rangle_{A}\\otimes|\\beta_{j}\\rangle_{B}.$$\n",
    "\n",
    "OBS: Obtemos o mesmo $\\rho_{A}$ se usarmos $|\\Psi\\rangle_{AB}$ ou $I\\otimes U_{B}|\\Psi\\rangle_{AB}$ para $U_{B}U_{B}^{\\dagger}=U_{B}^{\\dagger}U_{B}=I$ sendo uma transformação unitária."
   ]
  },
  {
   "cell_type": "markdown",
   "id": "2fdfd14a",
   "metadata": {},
   "source": [
    "### 1 qubit\n",
    "Um estado qualquer de um qubit pode ser escrito como\n",
    "$$\\rho_{A}=r_{+}|r_{+}\\rangle\\langle r_{+}| + r_{-}|r_{-}\\rangle\\langle r_{-}|,$$\n",
    "com $\\{r_{\\pm}\\}$ sendo uma distribuição de probabilidades, i.e., $r_{+}+r_{-}=1$, e\n",
    "\\begin{align}\n",
    "& |r_{+}\\rangle = \\cos(\\theta/2)|0\\rangle + e^{i\\phi}\\sin(\\theta/2)|1\\rangle, \\\\\n",
    "& |r_{-}\\rangle = \\sin(\\theta/2)|0\\rangle - e^{i\\phi}\\cos(\\theta/2)|1\\rangle.\n",
    "\\end{align}\n",
    "\n",
    "Usando um qubit auxiliar, é fácil verificar que o seguinte estado é uma purificação de $\\rho_{A}$:\n",
    "$$|\\Psi\\rangle_{AB} = \\sqrt{r_{+}}|r_{+}\\rangle\\otimes|0\\rangle + \\sqrt{r_{-}}|r_{-}\\rangle\\otimes|1\\rangle.$$\n",
    "Ou seja, $\\rho_{A}=Tr_{B}\\big(|\\Psi\\rangle_{AB}\\langle\\Psi|\\big).$\n",
    "\n",
    "Para implementação experimental, lembremos que a porta $U_{3}(\\theta,\\phi,\\lambda)$ atua como segue\n",
    "\\begin{align}\n",
    "& U_{3}|0\\rangle = \\cos(\\theta/2)|0\\rangle + e^{i\\phi}\\sin(\\theta/2)|1\\rangle, \\\\\n",
    "& U_{3}|1\\rangle = -e^{i\\lambda}\\sin(\\theta/2)|0\\rangle + e^{i(\\phi+\\lambda)}\\cos(\\theta/2)|1\\rangle.\n",
    "\\end{align}\n",
    "Temos assim que\n",
    "\\begin{align}\n",
    "& U_{3}(\\theta,\\phi,\\pi)|0\\rangle = |r_{+}\\rangle, \\\\\n",
    "& U_{3}(\\theta,\\phi,\\pi)|0\\rangle = |r_{-}\\rangle.\n",
    "\\end{align}\n",
    "\n",
    "Pode-se verificar que o circuito quântico abaixo prepara a almejada purificação\n",
    "<img src='fig_1qb_purification.png' width='300'>"
   ]
  },
  {
   "cell_type": "markdown",
   "id": "8a19b9ac",
   "metadata": {},
   "source": [
    "Começamos no estado $|00\\rangle$. Aplicando $U_{3}(\\vartheta,0,0)$ no qubit 0, obtemos o estado\n",
    "\\begin{align}\n",
    "|\\Psi_{1}\\rangle & = U_{3}(\\vartheta,0,0)\\otimes I|00\\rangle = \\big(\\cos(\\vartheta/2)|0\\rangle + e^{i0}\\sin(\\vartheta/2)|1\\rangle\\big)\\otimes|0\\rangle \\\\\n",
    "& = \\cos(\\vartheta/2)|00\\rangle + \\sin(\\vartheta/2)|10\\rangle.\n",
    "\\end{align}\n",
    "Aplicando a não controlada, teremos (para obter autovalores corretos)\n",
    "\\begin{align}\n",
    "|\\Psi_{2}\\rangle & = CNOT_{0\\rightarrow 1}|\\Psi_{1}\\rangle \\\\\n",
    "& = \\cos(\\vartheta/2)|00\\rangle + \\sin(\\vartheta/2)|11\\rangle.\n",
    "\\end{align}\n",
    "Por fim, aplicamos $U_{3}(\\theta,\\phi,\\pi)$ (para obter os autovetores corretos):\n",
    "\\begin{align}\n",
    "|\\Psi_{3}\\rangle & = U_{3}(\\theta,\\phi,\\pi)\\otimes I|\\Psi_{2}\\rangle \\\\\n",
    "& = \\cos(\\vartheta/2)|r_{+}\\rangle\\otimes|0\\rangle + \\sin(\\vartheta/2)|r_{-}\\rangle\\otimes|1\\rangle.\n",
    "\\end{align}\n",
    "Teremos assim a purificação \n",
    "$$|\\Psi\\rangle_{AB} = \\sqrt{r_{+}}|r_{+}\\rangle\\otimes|0\\rangle + \\sqrt{r_{-}}|r_{-}\\rangle\\otimes|1\\rangle$$ \n",
    "com\n",
    "$$r_{+} = \\cos^{2}(\\vartheta/2) \\text{ e } r_{-} = \\sin^{2}(\\vartheta/2)$$\n",
    "e\n",
    "$$r_{+}\\in[0,1]\\ \\therefore\\ \\vartheta\\in[\\pi,0].$$"
   ]
  },
  {
   "cell_type": "code",
   "execution_count": 2,
   "id": "5b17625b",
   "metadata": {},
   "outputs": [
    {
     "data": {
      "text/plain": [
       "(array([0. , 0.1, 0.2, 0.3, 0.4, 0.5, 0.6, 0.7, 0.8, 0.9, 1. ]),\n",
       " array([3.14159265, 2.49809154, 2.21429744, 1.98231317, 1.77215425,\n",
       "        1.57079633, 1.36943841, 1.15927948, 0.92729522, 0.64350111,\n",
       "        0.        ]))"
      ]
     },
     "execution_count": 2,
     "metadata": {},
     "output_type": "execute_result"
    }
   ],
   "source": [
    "rp = np.arange(0,1.1,0.1); vth = 2*np.arccos(np.sqrt(rp)); rp, vth"
   ]
  },
  {
   "cell_type": "markdown",
   "id": "83e14de2",
   "metadata": {},
   "source": [
    "#### Alguns cálculos analíticos, para verificação"
   ]
  },
  {
   "cell_type": "code",
   "execution_count": 3,
   "id": "fc27b771",
   "metadata": {},
   "outputs": [],
   "source": [
    "def ket_rp(th,phi):\n",
    "    return Matrix([[cos(th/2)],[(cos(ph)+1j*sin(ph))*sin(th/2)]])\n",
    "def ket_rm(th,phi):\n",
    "    return Matrix([[sin(th/2)],[-(cos(ph)+1j*sin(ph))*cos(th/2)]])"
   ]
  },
  {
   "cell_type": "code",
   "execution_count": 4,
   "id": "da92784b",
   "metadata": {},
   "outputs": [
    {
     "data": {
      "image/png": "[encoded data removed]",
      "text/latex": [
       "$\\displaystyle \\left( \\left[\\begin{matrix}\\cos{\\left(\\frac{\\theta}{2} \\right)}\\\\\\left(1.0 i \\sin{\\left(\\phi \\right)} + \\cos{\\left(\\phi \\right)}\\right) \\sin{\\left(\\frac{\\theta}{2} \\right)}\\end{matrix}\\right], \\  \\left[\\begin{matrix}\\sin{\\left(\\frac{\\theta}{2} \\right)}\\\\\\left(- 1.0 i \\sin{\\left(\\phi \\right)} - \\cos{\\left(\\phi \\right)}\\right) \\cos{\\left(\\frac{\\theta}{2} \\right)}\\end{matrix}\\right]\\right)$"
      ],
      "text/plain": [
       "⎛⎡               ⎛θ⎞            ⎤  ⎡             ⎛θ⎞           ⎤⎞\n",
       "⎜⎢            cos⎜─⎟            ⎥  ⎢          sin⎜─⎟           ⎥⎟\n",
       "⎜⎢               ⎝2⎠            ⎥  ⎢             ⎝2⎠           ⎥⎟\n",
       "⎜⎢                              ⎥, ⎢                           ⎥⎟\n",
       "⎜⎢                           ⎛θ⎞⎥  ⎢                        ⎛θ⎞⎥⎟\n",
       "⎜⎢(1.0⋅ⅈ⋅sin(φ) + cos(φ))⋅sin⎜─⎟⎥  ⎢(-ⅈ⋅sin(φ) - cos(φ))⋅cos⎜─⎟⎥⎟\n",
       "⎝⎣                           ⎝2⎠⎦  ⎣                        ⎝2⎠⎦⎠"
      ]
     },
     "execution_count": 4,
     "metadata": {},
     "output_type": "execute_result"
    }
   ],
   "source": [
    "rp,th,ph = symbols('r_{+} theta phi', Real=True); ket_rp(th,ph), ket_rm(th,ph)"
   ]
  },
  {
   "cell_type": "code",
   "execution_count": 5,
   "id": "d859a64c",
   "metadata": {},
   "outputs": [
    {
     "data": {
      "image/png": "[encoded data removed]",
      "text/latex": [
       "$\\displaystyle \\left[\\begin{matrix}r_{+} \\cos{\\left(\\frac{\\theta}{2} \\right)} \\cos{\\left(\\frac{\\overline{\\theta}}{2} \\right)} + r_{-} \\sin{\\left(\\frac{\\theta}{2} \\right)} \\sin{\\left(\\frac{\\overline{\\theta}}{2} \\right)} & \\left(1.0 r_{+} \\sin{\\left(\\frac{\\overline{\\theta}}{2} \\right)} \\cos{\\left(\\frac{\\theta}{2} \\right)} - 1.0 r_{-} \\sin{\\left(\\frac{\\theta}{2} \\right)} \\cos{\\left(\\frac{\\overline{\\theta}}{2} \\right)}\\right) e^{- i \\overline{\\phi}}\\\\1.0 \\left(r_{+} \\sin{\\left(\\frac{\\theta}{2} \\right)} \\cos{\\left(\\frac{\\overline{\\theta}}{2} \\right)} - r_{-} \\sin{\\left(\\frac{\\overline{\\theta}}{2} \\right)} \\cos{\\left(\\frac{\\theta}{2} \\right)}\\right) e^{i \\phi} & 1.0 \\left(r_{+} \\sin{\\left(\\frac{\\theta}{2} \\right)} \\sin{\\left(\\frac{\\overline{\\theta}}{2} \\right)} + r_{-} \\cos{\\left(\\frac{\\theta}{2} \\right)} \\cos{\\left(\\frac{\\overline{\\theta}}{2} \\right)}\\right) e^{i \\phi - i \\overline{\\phi}}\\end{matrix}\\right]$"
      ],
      "text/plain": [
       "⎡                     ⎛_⎞                   ⎛_⎞          ⎛             ⎛_⎞    \n",
       "⎢              ⎛θ⎞    ⎜θ⎟            ⎛θ⎞    ⎜θ⎟          ⎜             ⎜θ⎟    \n",
       "⎢     r_{+}⋅cos⎜─⎟⋅cos⎜─⎟ + r_{-}⋅sin⎜─⎟⋅sin⎜─⎟          ⎜1.0⋅r_{+}⋅sin⎜─⎟⋅cos\n",
       "⎢              ⎝2⎠    ⎝2⎠            ⎝2⎠    ⎝2⎠          ⎝             ⎝2⎠    \n",
       "⎢                                                                             \n",
       "⎢    ⎛                ⎛_⎞            ⎛_⎞       ⎞           ⎛                ⎛_\n",
       "⎢    ⎜         ⎛θ⎞    ⎜θ⎟            ⎜θ⎟    ⎛θ⎞⎟  ⅈ⋅φ      ⎜         ⎛θ⎞    ⎜θ\n",
       "⎢1.0⋅⎜r_{+}⋅sin⎜─⎟⋅cos⎜─⎟ - r_{-}⋅sin⎜─⎟⋅cos⎜─⎟⎟⋅ℯ     1.0⋅⎜r_{+}⋅sin⎜─⎟⋅sin⎜─\n",
       "⎣    ⎝         ⎝2⎠    ⎝2⎠            ⎝2⎠    ⎝2⎠⎠           ⎝         ⎝2⎠    ⎝2\n",
       "\n",
       "                      ⎛_⎞⎞     _   ⎤\n",
       "⎛θ⎞            ⎛θ⎞    ⎜θ⎟⎟  -ⅈ⋅φ   ⎥\n",
       "⎜─⎟ - r_{-}⋅sin⎜─⎟⋅cos⎜─⎟⎟⋅ℯ       ⎥\n",
       "⎝2⎠            ⎝2⎠    ⎝2⎠⎠         ⎥\n",
       "                                   ⎥\n",
       "⎞                   ⎛_⎞⎞          _⎥\n",
       "⎟            ⎛θ⎞    ⎜θ⎟⎟  ⅈ⋅φ - ⅈ⋅φ⎥\n",
       "⎟ + r_{-}⋅cos⎜─⎟⋅cos⎜─⎟⎟⋅ℯ         ⎥\n",
       "⎠            ⎝2⎠    ⎝2⎠⎠           ⎦"
      ]
     },
     "execution_count": 5,
     "metadata": {},
     "output_type": "execute_result"
    }
   ],
   "source": [
    "def rho(rp,rm,th,ph):\n",
    "    return rp*proj(ket_rp(th,ph)) + rm*proj(ket_rm(th,ph))\n",
    "rp,rm,th,ph = symbols('r_{+} r_{-} theta phi', Real=True); simplify(rho(rp,rm,th,ph))"
   ]
  },
  {
   "cell_type": "markdown",
   "id": "1b43030f",
   "metadata": {},
   "source": [
    "#### Parâmetros (que determinam o estado) para as simulações e experimentos"
   ]
  },
  {
   "cell_type": "code",
   "execution_count": 18,
   "id": "ff99c2ee",
   "metadata": {},
   "outputs": [
    {
     "data": {
      "image/png": "[encoded data removed]",
      "text/latex": [
       "$\\displaystyle \\left[\\begin{matrix}0.5 & 0\\\\0 & 0.5\\end{matrix}\\right]$"
      ],
      "text/plain": [
       "⎡0.5   0 ⎤\n",
       "⎢        ⎥\n",
       "⎣ 0   0.5⎦"
      ]
     },
     "execution_count": 18,
     "metadata": {},
     "output_type": "execute_result"
    }
   ],
   "source": [
    "rp = 1/2; vth = 2*math.acos(sqrt(rp)); th = 0*math.pi/4; ph = 0*math.pi/3\n",
    "simplify(rho(rp,1-rp,th,ph))"
   ]
  },
  {
   "cell_type": "code",
   "execution_count": 25,
   "id": "53c8df88",
   "metadata": {},
   "outputs": [
    {
     "name": "stdout",
     "output_type": "stream",
     "text": [
      "0.5000000000000001 1.5707963267948966 0.0 0.0\n"
     ]
    }
   ],
   "source": [
    "print(rp, vth, th, ph)"
   ]
  },
  {
   "cell_type": "markdown",
   "id": "cf84cacb",
   "metadata": {},
   "source": [
    "#### Comandos gerais para a simulação e experimentos"
   ]
  },
  {
   "cell_type": "code",
   "execution_count": 27,
   "id": "1da17b0d",
   "metadata": {},
   "outputs": [
    {
     "name": "stderr",
     "output_type": "stream",
     "text": [
      "ibmqfactory.load_account:WARNING:2021-11-08 15:19:49,749: Credentials are already in use. The existing account in the session will be replaced.\n"
     ]
    }
   ],
   "source": [
    "import qiskit\n",
    "qiskit.IBMQ.load_account()\n",
    "provider = qiskit.IBMQ.get_provider(hub = 'ibm-q-research-2', group = 'federal-uni-sant-1', project = 'main')\n",
    "simulator = provider.get_backend('ibmq_qasm_simulator')\n",
    "device = provider.get_backend('ibmq_belem')\n",
    "nshots = 8192\n",
    "from qiskit.ignis.verification.tomography import state_tomography_circuits, StateTomographyFitter\n",
    "from qiskit.tools.monitor import job_monitor"
   ]
  },
  {
   "cell_type": "code",
   "execution_count": 22,
   "id": "6729b653",
   "metadata": {},
   "outputs": [],
   "source": [
    "def pTraceL_num(dl, dr, rhoLR):\n",
    "    # Returns the left partial trace over the 'left' subsystem of rhoLR\n",
    "    rhoR = np.zeros((dr, dr), dtype=complex)\n",
    "    for j in range(0, dr):\n",
    "        for k in range(j, dr):\n",
    "            for l in range(0, dl):\n",
    "                rhoR[j,k] += rhoLR[l*dr+j,l*dr+k]\n",
    "            if j != k:\n",
    "                rhoR[k,j] = np.conj(rhoR[j,k])\n",
    "    return rhoR"
   ]
  },
  {
   "cell_type": "markdown",
   "id": "afc1e515",
   "metadata": {},
   "source": [
    "#### Simulação"
   ]
  },
  {
   "cell_type": "code",
   "execution_count": 23,
   "id": "42eecb19",
   "metadata": {},
   "outputs": [
    {
     "data": {
      "text/html": [
       "<pre style=\"word-wrap: normal;white-space: pre;background: #fff0;line-height: 1.1;font-family: &quot;Courier New&quot;,Courier,monospace\">      ┌────────────┐     ┌──────────┐\n",
       "q2_0: ┤ U(π/2,0,0) ├──■──┤ U(0,0,π) ├\n",
       "      └────────────┘┌─┴─┐└──────────┘\n",
       "q2_1: ──────────────┤ X ├────────────\n",
       "                    └───┘            </pre>"
      ],
      "text/plain": [
       "      ┌────────────┐     ┌──────────┐\n",
       "q2_0: ┤ U(π/2,0,0) ├──■──┤ U(0,0,π) ├\n",
       "      └────────────┘┌─┴─┐└──────────┘\n",
       "q2_1: ──────────────┤ X ├────────────\n",
       "                    └───┘            "
      ]
     },
     "execution_count": 23,
     "metadata": {},
     "output_type": "execute_result"
    }
   ],
   "source": [
    "qr = qiskit.QuantumRegister(2); qc = qiskit.QuantumCircuit(qr)\n",
    "qc.u(vth,0,0,qr[0]); qc.cx(qr[0],qr[1]); qc.u(th,ph,math.pi,qr[0]);\n",
    "qc.draw()"
   ]
  },
  {
   "cell_type": "code",
   "execution_count": 24,
   "id": "7674eb6b",
   "metadata": {},
   "outputs": [
    {
     "data": {
      "text/plain": [
       "array([[ 0.50050076+0.j        , -0.00059323-0.00105714j],\n",
       "       [-0.00059323+0.00105714j,  0.49949924+0.j        ]])"
      ]
     },
     "execution_count": 24,
     "metadata": {},
     "output_type": "execute_result"
    }
   ],
   "source": [
    "qstc = state_tomography_circuits(qc, [qr[0],qr[1]]); # circuito para TEQ\n",
    "job = qiskit.execute(qstc, qiskit.Aer.get_backend('qasm_simulator'), shots=nshots) # executa no simulador\n",
    "qstf = StateTomographyFitter(job.result(), qstc) # ajusta os dados\n",
    "rhoBA = qstf.fit(method='lstsq'); rhoA = pTraceL_num(2, 2, rhoBA); rhoA"
   ]
  },
  {
   "cell_type": "markdown",
   "id": "cf4f5059",
   "metadata": {},
   "source": [
    "#### Experimento"
   ]
  },
  {
   "cell_type": "code",
   "execution_count": 26,
   "id": "854b3149",
   "metadata": {},
   "outputs": [
    {
     "data": {
      "text/html": [
       "<pre style=\"word-wrap: normal;white-space: pre;background: #fff0;line-height: 1.1;font-family: &quot;Courier New&quot;,Courier,monospace\">      ┌────────────┐     ┌──────────┐\n",
       "q2_0: ┤ U(π/2,0,0) ├──■──┤ U(0,0,π) ├\n",
       "      └────────────┘┌─┴─┐└──────────┘\n",
       "q2_1: ──────────────┤ X ├────────────\n",
       "                    └───┘            </pre>"
      ],
      "text/plain": [
       "      ┌────────────┐     ┌──────────┐\n",
       "q2_0: ┤ U(π/2,0,0) ├──■──┤ U(0,0,π) ├\n",
       "      └────────────┘┌─┴─┐└──────────┘\n",
       "q2_1: ──────────────┤ X ├────────────\n",
       "                    └───┘            "
      ]
     },
     "execution_count": 26,
     "metadata": {},
     "output_type": "execute_result"
    }
   ],
   "source": [
    "qc.draw()"
   ]
  },
  {
   "cell_type": "code",
   "execution_count": 28,
   "id": "3374054a",
   "metadata": {},
   "outputs": [
    {
     "name": "stdout",
     "output_type": "stream",
     "text": [
      "61896a62641a7ae2df6c4dc6\n",
      "Job Status: job has successfully run\n"
     ]
    }
   ],
   "source": [
    "qstc = state_tomography_circuits(qc, [qr[0],qr[1]]); # circuito para TEQ\n",
    "job = qiskit.execute(qstc, backend = device, shots = nshots)\n",
    "print(job.job_id()); job_monitor(job)"
   ]
  },
  {
   "cell_type": "code",
   "execution_count": 29,
   "id": "1263315c",
   "metadata": {},
   "outputs": [
    {
     "data": {
      "text/plain": [
       "array([[0.51268375+0.j        , 0.01126854-0.04043756j],\n",
       "       [0.01126854+0.04043756j, 0.48731625+0.j        ]])"
      ]
     },
     "execution_count": 29,
     "metadata": {},
     "output_type": "execute_result"
    }
   ],
   "source": [
    "qstf = StateTomographyFitter(job.result(), qstc) # ajusta os dados\n",
    "rhoBA = qstf.fit(method='lstsq'); # extrai o operador densidade\n",
    "rhoA = pTraceL_num(2, 2, rhoBA); rhoA"
   ]
  },
  {
   "cell_type": "markdown",
   "id": "6eb4ed19",
   "metadata": {},
   "source": [
    "#### Exercício\n",
    "Testar a funcionalidade do algoritmo acima, para purificação de estados de 1 qubit, para 2 estados mistos de sua escolha."
   ]
  },
  {
   "cell_type": "markdown",
   "id": "b46f181a",
   "metadata": {},
   "source": [
    "### 2 qubits\n",
    "Fornecer algoritmos que preparem um estado misto qualquer, de 2 qubits, através de purificações é bem mais complicado que no caso de 1 qubit. Na verdade, em (https://arxiv.org/abs/1808.10533) fornecemos um algoritmo para preparar estados Bell-diagonal\n",
    "$$\\rho_{AB}^{BD} = p_{1}|\\Phi_{+}\\rangle\\langle\\Phi_{+}| + p_{2}|\\Phi_{-}\\rangle\\langle\\Phi_{-}| + p_{3}|\\Psi_{-}\\rangle\\langle\\Psi_{-}| + p_{4}|\\Psi_{+}\\rangle\\langle\\Psi_{+}|,$$\n",
    "em que\n",
    "$$|\\Phi_{\\pm}\\rangle = \\frac{1}{\\sqrt{2}}\\big(|00\\rangle\\pm|11\\rangle\\big) \\text{, } |\\Psi_{\\pm}\\rangle = \\frac{1}{\\sqrt{2}}\\big(|01\\rangle\\pm|10\\rangle\\big)$$\n",
    "são a base de Bell e $\\{p_{j}\\}$ é uma distribuição de probabilidade. Esse algoritmo foi melhorado em (https://www.mdpi.com/1160790). Recentemente, foi reportado um algoritmo para preparar estados do tipo X (https://arxiv.org/abs/2105.14581), que são mais gerais que estados Bell-diagonal."
   ]
  },
  {
   "cell_type": "code",
   "execution_count": 33,
   "id": "ab82b624",
   "metadata": {},
   "outputs": [
    {
     "data": {
      "image/png": "[encoded data removed]",
      "text/latex": [
       "$\\displaystyle \\left[\\begin{matrix}a & 0 & 0 & w\\\\0 & b & z & 0\\\\0 & z & c & 0\\\\w & 0 & 0 & d\\end{matrix}\\right]$"
      ],
      "text/plain": [
       "⎡a  0  0  w⎤\n",
       "⎢          ⎥\n",
       "⎢0  b  z  0⎥\n",
       "⎢          ⎥\n",
       "⎢0  z  c  0⎥\n",
       "⎢          ⎥\n",
       "⎣w  0  0  d⎦"
      ]
     },
     "execution_count": 33,
     "metadata": {},
     "output_type": "execute_result"
    }
   ],
   "source": [
    "a,b,c,d,z,w = symbols('a,b,c,d,z,w', Real=True)\n",
    "rhoX = Matrix([[a,0,0,w],[0,b,z,0],[0,z,c,0],[w,0,0,d]]); rhoX"
   ]
  },
  {
   "cell_type": "code",
   "execution_count": 39,
   "id": "c7bfc2dc",
   "metadata": {},
   "outputs": [
    {
     "data": {
      "image/png": "[encoded data removed]",
      "text/latex": [
       "$\\displaystyle \\left\\{ \\frac{a}{2} + \\frac{d}{2} - \\frac{\\sqrt{a^{2} - 2 a d + d^{2} + 4 w^{2}}}{2} : 1, \\  \\frac{a}{2} + \\frac{d}{2} + \\frac{\\sqrt{a^{2} - 2 a d + d^{2} + 4 w^{2}}}{2} : 1, \\  \\frac{b}{2} + \\frac{c}{2} - \\frac{\\sqrt{b^{2} - 2 b c + c^{2} + 4 z^{2}}}{2} : 1, \\  \\frac{b}{2} + \\frac{c}{2} + \\frac{\\sqrt{b^{2} - 2 b c + c^{2} + 4 z^{2}}}{2} : 1\\right\\}$"
      ],
      "text/plain": [
       "⎧           ________________________                ________________________  \n",
       "⎪          ╱  2            2      2                ╱  2            2      2   \n",
       "⎨a   d   ╲╱  a  - 2⋅a⋅d + d  + 4⋅w       a   d   ╲╱  a  - 2⋅a⋅d + d  + 4⋅w    \n",
       "⎪─ + ─ - ───────────────────────────: 1, ─ + ─ + ───────────────────────────: \n",
       "⎩2   2                2                  2   2                2               \n",
       "\n",
       "              ________________________                ________________________\n",
       "             ╱  2            2      2                ╱  2            2      2 \n",
       "   b   c   ╲╱  b  - 2⋅b⋅c + c  + 4⋅z       b   c   ╲╱  b  - 2⋅b⋅c + c  + 4⋅z  \n",
       "1, ─ + ─ - ───────────────────────────: 1, ─ + ─ + ───────────────────────────\n",
       "   2   2                2                  2   2                2             \n",
       "\n",
       "   ⎫\n",
       "   ⎪\n",
       "   ⎬\n",
       ": 1⎪\n",
       "   ⎭"
      ]
     },
     "execution_count": 39,
     "metadata": {},
     "output_type": "execute_result"
    }
   ],
   "source": [
    "rhoX.eigenvals()"
   ]
  },
  {
   "cell_type": "markdown",
   "id": "cb1d4ea4",
   "metadata": {},
   "source": [
    "Desses resultados, vemos que devemos ter\n",
    "$$w^{2}\\le ad \\text{ e } z^{2}\\le bc.$$\n",
    "\n",
    "Segundo os autores, estados do tipo X reais podem ser escritos como\n",
    "$$\\rho_{X}=\\begin{bmatrix}a&0&0&w \\\\ 0&b&z&0 \\\\ 0&z&c&0 \\\\ w&0&0&d\\end{bmatrix} = \\sum_{j,k=0}^{1}p_{jk}|\\psi_{jk}\\rangle\\langle\\psi_{jk}|,$$\n",
    "com\n",
    "\\begin{align}\n",
    "& |\\psi_{00}\\rangle = \\cos(\\theta)|00\\rangle + \\sin(\\theta)|11\\rangle, \\\\\n",
    "& |\\psi_{01}\\rangle = \\sin(\\phi)|01\\rangle + \\cos(\\phi)|10\\rangle, \\\\\n",
    "& |\\psi_{11}\\rangle = \\cos(\\phi)|01\\rangle - \\sin(\\phi)|10\\rangle, \\\\\n",
    "& |\\psi_{10}\\rangle = -\\sin(\\theta)|00\\rangle + \\cos(\\theta)|11\\rangle.\n",
    "\\end{align}\n",
    "E estes estados podem ser preparados usando o circuito quântico da figura abaixo\n",
    "<img src='fig_rhox_qc.png' width='450'>"
   ]
  },
  {
   "cell_type": "markdown",
   "id": "e0076206",
   "metadata": {},
   "source": [
    "A rotação \n",
    "$$R_{y}(\\theta)=e^{-i\\theta Y/2} = \\cos(\\theta)I-i\\sin(\\theta)Y = \\begin{bmatrix}\\cos(\\theta)&-\\sin(\\theta)\\\\\\sin(\\theta)&\\cos(\\theta)\\end{bmatrix}$$\n",
    "atua na base computacional como segue\n",
    "\\begin{align}\n",
    "& R_{y}(\\theta)|0\\rangle = \\cos(\\theta)|0\\rangle + \\sin(\\theta)|1\\rangle, \\\\\n",
    "& R_{y}(\\theta)|1\\rangle = -\\sin(\\theta)|0\\rangle + \\cos(\\theta)|1\\rangle.\n",
    "\\end{align}"
   ]
  },
  {
   "cell_type": "markdown",
   "id": "aa0aaf4a",
   "metadata": {},
   "source": [
    "Vamos verificar que o último bloco leva da base computacional $\\{|jk\\rangle\\}$ para a base $\\{|\\psi_{jk}\\rangle\\}$. Começamos com\n",
    "\\begin{align}\n",
    "& |00\\rangle\\ \\underrightarrow{R_{y}(\\theta+\\phi)}\\ \\big(\\cos(\\theta+\\phi)|0\\rangle + \\sin(\\theta+\\phi)|1\\rangle\\big)|0\\rangle\\ \\underrightarrow{CNOT_{1\\rightarrow 0}}\\ \\big(\\cos(\\theta+\\phi)|0\\rangle + \\sin(\\theta+\\phi)|1\\rangle\\big)|0\\rangle \\\\\n",
    "& \\underrightarrow{R_{y}(\\theta-\\phi)}\\ \\Big(\\cos(\\theta+\\phi)\\big(\\cos(\\theta-\\phi)|0\\rangle + \\sin(\\theta-\\phi)|1\\rangle\\big) + \\sin(\\theta+\\phi)\\big(-\\sin(\\theta-\\phi)|0\\rangle + \\cos(\\theta-\\phi)|1\\rangle\\big)\\Big)|0\\rangle \\\\\n",
    "& = \\Big(\\big(\\cos(\\theta+\\phi)\\cos(\\theta-\\phi) - \\sin(\\theta+\\phi)\\sin(\\theta-\\phi)\\Big)|00\\rangle + \\Big(\\big(\\cos(\\theta+\\phi)\\sin(\\theta-\\phi) + \\sin(\\theta+\\phi)\\cos(\\theta-\\phi)\\Big)|10\\rangle \\\\\n",
    "& = \\cos(\\theta+\\phi+\\theta-\\phi)|00\\rangle + \\sin(\\theta+\\phi+\\theta-\\phi)|10\\rangle = \\cos(2\\theta)|00\\rangle + \\sin(2\\theta)|10\\rangle \\\\\n",
    "& \\underrightarrow{CNOT_{0\\rightarrow 1}}\\ \\cos(2\\theta)|00\\rangle + \\sin(2\\theta)|11\\rangle.\n",
    "\\end{align}"
   ]
  },
  {
   "cell_type": "markdown",
   "id": "f795a696",
   "metadata": {},
   "source": [
    "Analogamente\n",
    "\\begin{align}\n",
    "& |01\\rangle\\ \\underrightarrow{R_{y}(\\theta+\\phi)}\\ \\big(\\cos(\\theta+\\phi)|0\\rangle + \\sin(\\theta+\\phi)|1\\rangle\\big)|1\\rangle\\ \\underrightarrow{CNOT_{1\\rightarrow 0}}\\ \\big(\\cos(\\theta+\\phi)|1\\rangle + \\sin(\\theta+\\phi)|0\\rangle\\big)|1\\rangle \\\\\n",
    "& \\underrightarrow{R_{y}(\\theta-\\phi)}\\ \\Big(\\cos(\\theta+\\phi)\\big(-\\sin(\\theta-\\phi)|0\\rangle + \\cos(\\theta-\\phi)|1\\rangle\\big) + \\sin(\\theta+\\phi)\\big(\\cos(\\theta-\\phi)|0\\rangle + \\sin(\\theta-\\phi)|1\\rangle\\big)\\Big)|1\\rangle \\\\\n",
    "& = \\Big(\\big(-\\cos(\\theta+\\phi)\\sin(\\theta-\\phi) + \\sin(\\theta+\\phi)\\cos(\\theta-\\phi)\\Big)|01\\rangle + \\Big(\\big(\\cos(\\theta+\\phi)\\cos(\\theta-\\phi) + \\sin(\\theta+\\phi)\\sin(\\theta-\\phi)\\Big)|11\\rangle \\\\\n",
    "& = \\cos(\\theta+\\phi-\\theta+\\phi)|01\\rangle + \\sin(\\theta+\\phi-\\theta+\\phi)|10\\rangle = \\cos(2\\phi)|01\\rangle + \\sin(2\\phi)|11\\rangle \\\\\n",
    "& \\underrightarrow{CNOT_{0\\rightarrow 1}}\\ \\cos(2\\phi)|01\\rangle + \\sin(2\\phi)|10\\rangle.\n",
    "\\end{align}"
   ]
  },
  {
   "cell_type": "markdown",
   "id": "20b0e69c",
   "metadata": {},
   "source": [
    "Seguindo\n",
    "\\begin{align}\n",
    "& |10\\rangle\\ \\underrightarrow{R_{y}(\\theta+\\phi)}\\ \\big(-\\sin(\\theta+\\phi)|0\\rangle + \\cos(\\theta+\\phi)|1\\rangle\\big)|0\\rangle\\ \\underrightarrow{CNOT_{1\\rightarrow 0}}\\ \\big(-\\sin(\\theta+\\phi)|0\\rangle + \\cos(\\theta+\\phi)|1\\rangle\\big)|0\\rangle \\\\\n",
    "& \\underrightarrow{R_{y}(\\theta-\\phi)}\\ \\Big(-\\sin(\\theta+\\phi)\\big(\\cos(\\theta-\\phi)|0\\rangle + \\sin(\\theta-\\phi)|1\\rangle\\big) + \\cos(\\theta+\\phi)\\big(-\\sin(\\theta-\\phi)|0\\rangle + \\cos(\\theta-\\phi)|1\\rangle\\big)\\Big)|0\\rangle \\\\\n",
    "& = \\Big(\\big(-\\sin(\\theta+\\phi)\\cos(\\theta-\\phi) - \\cos(\\theta+\\phi)\\sin(\\theta-\\phi)\\Big)|00\\rangle + \\Big(\\big(-\\sin(\\theta+\\phi)\\sin(\\theta-\\phi) + \\cos(\\theta+\\phi)\\cos(\\theta-\\phi)\\Big)|10\\rangle \\\\\n",
    "& = -\\sin(\\theta+\\phi+\\theta-\\phi)|00\\rangle + \\cos(\\theta+\\phi+\\theta-\\phi)|10\\rangle = -\\sin(2\\theta)|00\\rangle + \\cos(2\\theta)|10\\rangle \\\\\n",
    "& \\underrightarrow{CNOT_{0\\rightarrow 1}}\\ -\\sin(2\\theta)|00\\rangle + \\cos(2\\theta)|11\\rangle.\n",
    "\\end{align}"
   ]
  },
  {
   "cell_type": "markdown",
   "id": "b8d26f0d",
   "metadata": {},
   "source": [
    "Por fim\n",
    "\\begin{align}\n",
    "& |11\\rangle\\ \\underrightarrow{R_{y}(\\theta+\\phi)}\\ \\big(-\\sin(\\theta+\\phi)|0\\rangle + \\cos(\\theta+\\phi)|1\\rangle\\big)|1\\rangle\\ \\underrightarrow{CNOT_{1\\rightarrow 0}}\\ \\big(-\\sin(\\theta+\\phi)|1\\rangle + \\cos(\\theta+\\phi)|0\\rangle\\big)|1\\rangle \\\\\n",
    "& \\underrightarrow{R_{y}(\\theta-\\phi)}\\ \\Big(-\\sin(\\theta+\\phi)\\big(-\\sin(\\theta-\\phi)|0\\rangle + \\cos(\\theta-\\phi)|1\\rangle\\big) + \\cos(\\theta+\\phi)\\big(\\cos(\\theta-\\phi)|0\\rangle + \\sin(\\theta-\\phi)|1\\rangle\\big)\\Big)|1\\rangle \\\\\n",
    "& = \\Big(\\big(\\sin(\\theta+\\phi)\\sin(\\theta-\\phi) + \\cos(\\theta+\\phi)\\cos(\\theta-\\phi)\\Big)|01\\rangle + \\Big(\\big(-\\sin(\\theta+\\phi)\\cos(\\theta-\\phi) + \\cos(\\theta+\\phi)\\sin(\\theta-\\phi)\\Big)|11\\rangle \\\\\n",
    "& = \\cos(\\theta+\\phi-\\theta+\\phi)|01\\rangle - \\sin(\\theta+\\phi-\\theta+\\phi)|10\\rangle = \\cos(2\\phi)|01\\rangle - \\sin(2\\phi)|11\\rangle \\\\\n",
    "& \\underrightarrow{CNOT_{0\\rightarrow 1}}\\ \\cos(2\\phi)|01\\rangle - \\sin(2\\phi)|10\\rangle.\n",
    "\\end{align}"
   ]
  },
  {
   "cell_type": "code",
   "execution_count": null,
   "id": "64a545ef",
   "metadata": {},
   "outputs": [],
   "source": []
  }
 ],
 "metadata": {
  "kernelspec": {
   "display_name": "Python 3",
   "language": "python",
   "name": "python3"
  },
  "language_info": {
   "codemirror_mode": {
    "name": "ipython",
    "version": 3
   },
   "file_extension": ".py",
   "mimetype": "text/x-python",
   "name": "python",
   "nbconvert_exporter": "python",
   "pygments_lexer": "ipython3",
   "version": "3.8.8"
  }
 },
 "nbformat": 4,
 "nbformat_minor": 5
}
