{
 "cells": [
  {
   "cell_type": "markdown",
   "id": "b2a207d1",
   "metadata": {},
   "source": [
    "### Notas de aula de Computação Quântica <br> Autor: Jonas Maziero"
   ]
  },
  {
   "cell_type": "code",
   "execution_count": 52,
   "id": "f5746826",
   "metadata": {},
   "outputs": [],
   "source": [
    "from qiskit import * # import tudo do qiskit"
   ]
  },
  {
   "cell_type": "code",
   "execution_count": 67,
   "id": "7ac4560d",
   "metadata": {},
   "outputs": [],
   "source": [
    "# Determina o número de qubits e de cbits a serem utilizados\n",
    "qr = QuantumRegister(2) # determina quantos qubits serão usados\n",
    "cr = ClassicalRegister(2) # determina quantos cbits serão usados\n",
    "\n",
    "# Constrói o circuito quântico\n",
    "qc = QuantumCircuit(qr, cr)"
   ]
  },
  {
   "cell_type": "code",
   "execution_count": 68,
   "id": "2239ed0b",
   "metadata": {},
   "outputs": [],
   "source": [
    "# para o circuitos quânticos ficarem mais apresentáveis\n",
    "%matplotlib inline "
   ]
  },
  {
   "cell_type": "code",
   "execution_count": 69,
   "id": "60d14c94",
   "metadata": {},
   "outputs": [
    {
     "data": {
      "image/png": "[encoded data removed]",
      "text/plain": [
       "<Figure size 143.095x204.68 with 1 Axes>"
      ]
     },
     "execution_count": 69,
     "metadata": {},
     "output_type": "execute_result"
    }
   ],
   "source": [
    "qc.draw(output='mpl') # mostra o circuito"
   ]
  },
  {
   "cell_type": "code",
   "execution_count": 70,
   "id": "7abe2f6f",
   "metadata": {},
   "outputs": [],
   "source": [
    "# adiciona a porta lógica de Hadamard ao circuito, aplicada no qubit (registro quântico) 0\n",
    "qc.h(qr[0]); # tem que usar ; pra não dar aviso"
   ]
  },
  {
   "cell_type": "code",
   "execution_count": 71,
   "id": "a2e4f4e3",
   "metadata": {},
   "outputs": [
    {
     "data": {
      "image/png": "[encoded data removed]",
      "text/plain": [
       "<Figure size 173.195x204.68 with 1 Axes>"
      ]
     },
     "execution_count": 71,
     "metadata": {},
     "output_type": "execute_result"
    }
   ],
   "source": [
    "qc.draw(output = 'mpl') # o output = 'mpl' é para a figura ficar mais apresentável"
   ]
  },
  {
   "cell_type": "code",
   "execution_count": 72,
   "id": "99850776",
   "metadata": {},
   "outputs": [],
   "source": [
    "# adiciona uma controll-not ao circuito, com o controle sendo qr[0] e o target sendo qr[1]\n",
    "qc.cx(qr[0],qr[1]);"
   ]
  },
  {
   "cell_type": "code",
   "execution_count": 73,
   "id": "0939fff1",
   "metadata": {},
   "outputs": [
    {
     "data": {
      "image/png": "[encoded data removed]",
      "text/plain": [
       "<Figure size 233.395x204.68 with 1 Axes>"
      ]
     },
     "execution_count": 73,
     "metadata": {},
     "output_type": "execute_result"
    }
   ],
   "source": [
    "# é importante sempre mandar mostrar o circuito, pra ter certeza que é realmente o que queremos construir\n",
    "qc.draw(output = 'mpl')"
   ]
  },
  {
   "cell_type": "code",
   "execution_count": 74,
   "id": "c5263373",
   "metadata": {},
   "outputs": [],
   "source": [
    "# adiciona medidas em todos os qubits (a ser usada quando queremos acessar a distribuições de probabilidades)\n",
    "qc.measure(qr,cr);"
   ]
  },
  {
   "cell_type": "code",
   "execution_count": 75,
   "id": "16dd67ad",
   "metadata": {},
   "outputs": [
    {
     "data": {
      "image/png": "[encoded data removed]",
      "text/plain": [
       "<Figure size 353.795x204.68 with 1 Axes>"
      ]
     },
     "execution_count": 75,
     "metadata": {},
     "output_type": "execute_result"
    }
   ],
   "source": [
    "qc.draw(output = 'mpl')"
   ]
  },
  {
   "cell_type": "markdown",
   "id": "2e8d60de",
   "metadata": {},
   "source": [
    "### No simulador"
   ]
  },
  {
   "cell_type": "code",
   "execution_count": 76,
   "id": "08845f27",
   "metadata": {},
   "outputs": [],
   "source": [
    "# Determina o backend a ser usado, que poder ser um simulador ou um chip real\n",
    "# Neste caso escolhemos o simulador qasm_simulator\n",
    "simulator = Aer.get_backend('qasm_simulator')"
   ]
  },
  {
   "cell_type": "code",
   "execution_count": 77,
   "id": "e4275b27",
   "metadata": {},
   "outputs": [],
   "source": [
    "# número de medidas para estimativa de uma distribuição de probabilidades\n",
    "nshots = 8192"
   ]
  },
  {
   "cell_type": "code",
   "execution_count": 78,
   "id": "6af2f13c",
   "metadata": {},
   "outputs": [],
   "source": [
    "# executa o circuito qc no backend escolhido\n",
    "result = execute(qc, backend = simulator, shots = nshots).result()"
   ]
  },
  {
   "cell_type": "code",
   "execution_count": 79,
   "id": "78ffe26b",
   "metadata": {},
   "outputs": [
    {
     "data": {
      "image/png": "[encoded data removed]",
      "text/plain": [
       "<Figure size 504x360 with 1 Axes>"
      ]
     },
     "execution_count": 79,
     "metadata": {},
     "output_type": "execute_result"
    }
   ],
   "source": [
    "# para visualizar o histograma da distribuicao de probabilidades\n",
    "from qiskit.tools.visualization import plot_histogram\n",
    "plot_histogram(result.get_counts(qc))"
   ]
  },
  {
   "cell_type": "markdown",
   "id": "b910198f",
   "metadata": {},
   "source": [
    "### No chip"
   ]
  },
  {
   "cell_type": "code",
   "execution_count": 80,
   "id": "ff414e1f",
   "metadata": {},
   "outputs": [
    {
     "name": "stderr",
     "output_type": "stream",
     "text": [
      "ibmqfactory.load_account:WARNING:2021-10-28 14:38:51,354: Credentials are already in use. The existing account in the session will be replaced.\n"
     ]
    }
   ],
   "source": [
    "# carrega minha conta no IBMQ (o ID foi incluido no outro arquivo, nao precisa incluir aqui)\n",
    "qiskit.IBMQ.load_account();"
   ]
  },
  {
   "cell_type": "code",
   "execution_count": 81,
   "id": "0a5e9aa7",
   "metadata": {},
   "outputs": [],
   "source": [
    "#provider = IBMQ.get_provider('ibm-q')\n",
    "provider = IBMQ.get_provider(hub = 'ibm-q-research-2', group = 'federal-uni-sant-1', project = 'main')"
   ]
  },
  {
   "cell_type": "code",
   "execution_count": 82,
   "id": "f00da061",
   "metadata": {},
   "outputs": [],
   "source": [
    "# determina em qual backend vamos executar o circuito\n",
    "device = provider.get_backend('ibmq_casablanca')"
   ]
  },
  {
   "cell_type": "code",
   "execution_count": 83,
   "id": "38572d92",
   "metadata": {},
   "outputs": [
    {
     "data": {
      "text/plain": [
       "'ibmq_casablanca'"
      ]
     },
     "execution_count": 83,
     "metadata": {},
     "output_type": "execute_result"
    }
   ],
   "source": [
    "# se certifica que o backend esta certo\n",
    "device.name()"
   ]
  },
  {
   "cell_type": "code",
   "execution_count": 84,
   "id": "51dc247b",
   "metadata": {},
   "outputs": [],
   "source": [
    "# executa o circuito quantico qc no CQ escolhido\n",
    "job = execute(qc, backend = device, shots = nshots)"
   ]
  },
  {
   "cell_type": "code",
   "execution_count": 85,
   "id": "ed4594de",
   "metadata": {},
   "outputs": [],
   "source": [
    "from qiskit.tools.monitor import job_monitor"
   ]
  },
  {
   "cell_type": "code",
   "execution_count": 86,
   "id": "1127ac5f",
   "metadata": {},
   "outputs": [
    {
     "name": "stdout",
     "output_type": "stream",
     "text": [
      "Job Status: job has successfully run\n"
     ]
    }
   ],
   "source": [
    "# para monitorar a execucao do circuito\n",
    "job_monitor(job)"
   ]
  },
  {
   "cell_type": "code",
   "execution_count": 87,
   "id": "8441b516",
   "metadata": {},
   "outputs": [],
   "source": [
    "result = job.result()"
   ]
  },
  {
   "cell_type": "code",
   "execution_count": 88,
   "id": "5a1b1acb",
   "metadata": {},
   "outputs": [
    {
     "data": {
      "image/png": "[encoded data removed]",
      "text/plain": [
       "<Figure size 504x360 with 1 Axes>"
      ]
     },
     "execution_count": 88,
     "metadata": {},
     "output_type": "execute_result"
    }
   ],
   "source": [
    "plot_histogram(result.get_counts(qc))"
   ]
  },
  {
   "cell_type": "code",
   "execution_count": null,
   "id": "f2c7727b",
   "metadata": {},
   "outputs": [],
   "source": []
  }
 ],
 "metadata": {
  "kernelspec": {
   "display_name": "Python 3 (ipykernel)",
   "language": "python",
   "name": "python3"
  },
  "language_info": {
   "codemirror_mode": {
    "name": "ipython",
    "version": 3
   },
   "file_extension": ".py",
   "mimetype": "text/x-python",
   "name": "python",
   "nbconvert_exporter": "python",
   "pygments_lexer": "ipython3",
   "version": "3.8.11"
  }
 },
 "nbformat": 4,
 "nbformat_minor": 5
}
