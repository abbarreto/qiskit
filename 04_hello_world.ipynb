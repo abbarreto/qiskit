{
 "cells": [
  {
   "cell_type": "code",
   "execution_count": 21,
   "id": "f5746826",
   "metadata": {},
   "outputs": [],
   "source": [
    "from qiskit import * # import tudo do qiskit"
   ]
  },
  {
   "cell_type": "code",
   "execution_count": 22,
   "id": "7ac4560d",
   "metadata": {},
   "outputs": [],
   "source": [
    "# Determina o número de qubits e de cbits a serem utilizados\n",
    "qr = QuantumRegister(2)\n",
    "cr = ClassicalRegister(2)\n",
    "\n",
    "# Constrói o circuito quântico\n",
    "qc = QuantumCircuit(qr, cr)"
   ]
  },
  {
   "cell_type": "code",
   "execution_count": 23,
   "id": "2239ed0b",
   "metadata": {},
   "outputs": [],
   "source": [
    "# para o circuitos quânticos ficarem mais apresentáveis\n",
    "%matplotlib inline "
   ]
  },
  {
   "cell_type": "code",
   "execution_count": 24,
   "id": "805d37fe",
   "metadata": {},
   "outputs": [
    {
     "data": {
      "image/png": "[encoded data removed]",
      "text/plain": [
       "<Figure size 129.678x204.68 with 1 Axes>"
      ]
     },
     "execution_count": 24,
     "metadata": {},
     "output_type": "execute_result"
    }
   ],
   "source": [
    "# desenha o circuito quântico\n",
    "qc.draw(output = 'mpl')"
   ]
  },
  {
   "cell_type": "code",
   "execution_count": 25,
   "id": "7abe2f6f",
   "metadata": {},
   "outputs": [],
   "source": [
    "# adiciona a porta lógica de Hadamard ao circuito, aplicada no qubit (registro quântico) 0\n",
    "qc.h(qr[0]); # tem que usar ; pra não dar aviso"
   ]
  },
  {
   "cell_type": "code",
   "execution_count": 26,
   "id": "a2e4f4e3",
   "metadata": {},
   "outputs": [
    {
     "data": {
      "image/png": "[encoded data removed]",
      "text/plain": [
       "<Figure size 159.778x204.68 with 1 Axes>"
      ]
     },
     "execution_count": 26,
     "metadata": {},
     "output_type": "execute_result"
    }
   ],
   "source": [
    "qc.draw(output = 'mpl') # o output = 'mpl' é para a figura ficar mais apresentável"
   ]
  },
  {
   "cell_type": "code",
   "execution_count": 27,
   "id": "99850776",
   "metadata": {},
   "outputs": [],
   "source": [
    "# adiciona uma controll-not ao circuito, com o controle sendo qr[0] e o target sendo qr[1]\n",
    "qc.cx(qr[0],qr[1]);"
   ]
  },
  {
   "cell_type": "code",
   "execution_count": 28,
   "id": "0939fff1",
   "metadata": {},
   "outputs": [
    {
     "data": {
      "image/png": "[encoded data removed]",
      "text/plain": [
       "<Figure size 219.978x204.68 with 1 Axes>"
      ]
     },
     "execution_count": 28,
     "metadata": {},
     "output_type": "execute_result"
    }
   ],
   "source": [
    "# é importante sempre mandar mostrar o circuito, pra ter certeza que é realmente o que queremos construir\n",
    "qc.draw(output = 'mpl')"
   ]
  },
  {
   "cell_type": "code",
   "execution_count": 29,
   "id": "c5263373",
   "metadata": {},
   "outputs": [],
   "source": [
    "# adiciona medidas em todos os qubits (a ser usada quando queremos acessar a distribuições de probabilidades)\n",
    "qc.measure(qr,cr);"
   ]
  },
  {
   "cell_type": "code",
   "execution_count": 30,
   "id": "16dd67ad",
   "metadata": {},
   "outputs": [
    {
     "data": {
      "image/png": "[encoded data removed]",
      "text/plain": [
       "<Figure size 340.378x204.68 with 1 Axes>"
      ]
     },
     "execution_count": 30,
     "metadata": {},
     "output_type": "execute_result"
    }
   ],
   "source": [
    "qc.draw(output = 'mpl')"
   ]
  },
  {
   "cell_type": "code",
   "execution_count": 31,
   "id": "08845f27",
   "metadata": {},
   "outputs": [],
   "source": [
    "# Determina o backend a ser usado, que poder ser um simulador ou um chip real\n",
    "# Neste caso escolhemos o simulador qasm_simulator\n",
    "simulator = Aer.get_backend('qasm_simulator')"
   ]
  },
  {
   "cell_type": "code",
   "execution_count": 32,
   "id": "e4275b27",
   "metadata": {},
   "outputs": [],
   "source": [
    "# número de medidas para estimativa de uma distribuição de probabilidades\n",
    "nshots = 8192"
   ]
  },
  {
   "cell_type": "code",
   "execution_count": 34,
   "id": "6af2f13c",
   "metadata": {},
   "outputs": [],
   "source": [
    "# executa o circuito qc no backend escolhido\n",
    "result = execute(qc, backend = simulator, shots = nshots).result()"
   ]
  },
  {
   "cell_type": "code",
   "execution_count": 35,
   "id": "78ffe26b",
   "metadata": {},
   "outputs": [
    {
     "data": {
      "image/png": "[encoded data removed]",
      "text/plain": [
       "<Figure size 504x360 with 1 Axes>"
      ]
     },
     "execution_count": 35,
     "metadata": {},
     "output_type": "execute_result"
    }
   ],
   "source": [
    "# para visualizar o histograma da distribuicao de probabilidades\n",
    "from qiskit.tools.visualization import plot_histogram\n",
    "plot_histogram(result.get_counts(qc))"
   ]
  },
  {
   "cell_type": "code",
   "execution_count": 39,
   "id": "ff414e1f",
   "metadata": {},
   "outputs": [],
   "source": [
    "# carrega minha conta no IBMQ (o ID foi incluido no outro arquivo, nao precisa incluir aqui)\n",
    "qiskit.IBMQ.load_account();"
   ]
  },
  {
   "cell_type": "code",
   "execution_count": 40,
   "id": "0a5e9aa7",
   "metadata": {},
   "outputs": [],
   "source": [
    "#provider = IBMQ.get_provider('ibm-q')\n",
    "provider = IBMQ.get_provider(hub = 'ibm-q-research-2', group = 'federal-uni-sant-1', project = 'main')"
   ]
  },
  {
   "cell_type": "code",
   "execution_count": 41,
   "id": "f00da061",
   "metadata": {},
   "outputs": [],
   "source": [
    "# determina em qual backend vamos executar o circuito\n",
    "device = provider.get_backend('ibmq_belem')"
   ]
  },
  {
   "cell_type": "code",
   "execution_count": 42,
   "id": "38572d92",
   "metadata": {},
   "outputs": [
    {
     "data": {
      "text/plain": [
       "'ibmq_belem'"
      ]
     },
     "execution_count": 42,
     "metadata": {},
     "output_type": "execute_result"
    }
   ],
   "source": [
    "# se certifica que o backend esta certo\n",
    "device.name()"
   ]
  },
  {
   "cell_type": "code",
   "execution_count": 43,
   "id": "51dc247b",
   "metadata": {},
   "outputs": [],
   "source": [
    "# executa o circuito quantico qc no CQ escolhido\n",
    "job = execute(qc, backend = device, shots = nshots)"
   ]
  },
  {
   "cell_type": "code",
   "execution_count": 44,
   "id": "ed4594de",
   "metadata": {},
   "outputs": [],
   "source": [
    "from qiskit.tools.monitor import job_monitor"
   ]
  },
  {
   "cell_type": "code",
   "execution_count": 45,
   "id": "1127ac5f",
   "metadata": {},
   "outputs": [
    {
     "name": "stdout",
     "output_type": "stream",
     "text": [
      "Job Status: job has successfully run\n"
     ]
    }
   ],
   "source": [
    "# para monitorar a execucao do circuito\n",
    "job_monitor(job)"
   ]
  },
  {
   "cell_type": "code",
   "execution_count": 50,
   "id": "8441b516",
   "metadata": {},
   "outputs": [],
   "source": [
    "result = job.result()"
   ]
  },
  {
   "cell_type": "code",
   "execution_count": 51,
   "id": "5a1b1acb",
   "metadata": {},
   "outputs": [
    {
     "data": {
      "image/png": "[encoded data removed]",
      "text/plain": [
       "<Figure size 504x360 with 1 Axes>"
      ]
     },
     "execution_count": 51,
     "metadata": {},
     "output_type": "execute_result"
    }
   ],
   "source": [
    "plot_histogram(result.get_counts(qc))"
   ]
  },
  {
   "cell_type": "code",
   "execution_count": null,
   "id": "f2c7727b",
   "metadata": {},
   "outputs": [],
   "source": []
  }
 ],
 "metadata": {
  "kernelspec": {
   "display_name": "Python 3",
   "language": "python",
   "name": "python3"
  },
  "language_info": {
   "codemirror_mode": {
    "name": "ipython",
    "version": 3
   },
   "file_extension": ".py",
   "mimetype": "text/x-python",
   "name": "python",
   "nbconvert_exporter": "python",
   "pygments_lexer": "ipython3",
   "version": "3.8.8"
  }
 },
 "nbformat": 4,
 "nbformat_minor": 5
}
