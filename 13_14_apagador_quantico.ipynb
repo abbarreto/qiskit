{
 "cells": [
  {
   "cell_type": "code",
   "execution_count": 1,
   "id": "ae78d77c",
   "metadata": {},
   "outputs": [],
   "source": [
    "%run init.ipynb"
   ]
  },
  {
   "cell_type": "markdown",
   "id": "d06ed120",
   "metadata": {},
   "source": [
    "# Apagador quântico\n",
    "\n",
    "## Obtendo a informação de caminho\n",
    "O princípio de complementariedade de Bohr diz que não podemos observar o comportamento ondulatório do quanton (as oscilações no gráfico das probabilidades para o interferômetro de Mach-Zehnder (IMZ)) e saber seu caminho usando um único arranjo experimental. Se sabemos por qual caminho o quanton rumou, temos que $Pr(D_{0})=Pr(D_{1})=1/2\\ \\forall \\phi$. Para observarmos o padrão de interferência com máxima visibilidade, não podemos ter nenhuma informação de caminho. \n",
    "\n",
    "Podemos obter informação de caminho fazendo uma medida (forte ou fraca) em um dos caminhos, depois do primeiro divisor de feixes. Podemos obter informação de caminho também emaranhando o quanton com outro quanton auxiliar. Por agora, vamos seguir essa última possibilidade aqui. \n",
    "\n"
   ]
  },
  {
   "cell_type": "markdown",
   "id": "054c5b1a",
   "metadata": {},
   "source": [
    "Vamos considerar que o __divisor de feixes polarizado (DFP)__ deixa passar fótons com polarização horizontal, $H$, e reflete polarização vertical, $V$, para entrada por qualquer um dos modos espaciais. Veja a figura abaixo.\n",
    "<img src = 'fig_dfp_.png' width = '250'>\n",
    "Temos assim que\n",
    "\\begin{align}\n",
    "U_{dfp}|\\psi\\rangle & = c_{H0}U_{dfp}|H0\\rangle + c_{H1}U_{dfp}|H1\\rangle + c_{V0}U_{dfp}|V0\\rangle +  c_{V1}U_{dfp}|V1\\rangle \\\\\n",
    "& = c_{H0}|H0\\rangle + c_{H1}|H1\\rangle + ic_{V0}|V1\\rangle + ic_{V1}|V0\\rangle.\n",
    "\\end{align}\n",
    "Por conseguinte (__Exercício:__ Verifique)\n",
    "\\begin{align}\n",
    "U_{dfp} & \\doteq \\begin{bmatrix} 1&0&0&0 \\\\ 0&1&0&0 \\\\ 0&0&0&i \\\\ 0&0&i&0 \\end{bmatrix} = |0\\rangle\\langle 0|\\otimes I + |1\\rangle\\langle 1|\\otimes U(\\pi,\\pi/2,-\\pi/2) \\\\\n",
    "& = C_{U_{e}} = C_{y}^{12}C_{z}.\n",
    "\\end{align}"
   ]
  },
  {
   "cell_type": "markdown",
   "id": "f52f15e6",
   "metadata": {},
   "source": [
    "Vamos usar a notação\n",
    "\\begin{cases}\n",
    "\\text{A = polarização do fóton A;} \\\\\n",
    "\\text{A' = modo espacial do fóton A;} \\\\\n",
    "\\text{B = polarização do fóton B;} \\\\\n",
    "\\text{B' = modo espacial do fóton B.}\n",
    "\\end{cases}\n",
    "\n",
    "Uma __placa de meia onda (PMO)__ gira a polarização, no modo espacial no qual ela for colocada, de forma que\n",
    "\\begin{align}\n",
    "& U_{pmo}|H\\rangle = |V\\rangle, \\\\\n",
    "& U_{pmo}|V\\rangle = |H\\rangle.\n",
    "\\end{align}\n",
    "Quando colocada em um dos caminhos dentro do IMZ, essa operação, da PMO, é uma CNOT nos graus de liberdade do fóton B:\n",
    "$$U_{pmo} = X_{B}\\otimes|1\\rangle_{B'}\\langle1| + I_{B}\\otimes|0\\rangle_{B'}\\langle0| = C_{x}^{B'B}.$$\n",
    "\n",
    "Uma __placa de quarto de onda (PQO)__ atua como segue\n",
    "\\begin{align}\n",
    "& U_{pqo}|H\\rangle = (|H\\rangle+i|V\\rangle)/\\sqrt{2}=|\\oplus\\rangle, \\\\\n",
    "& U_{pqo}|V\\rangle = (|H\\rangle-i|V\\rangle)/\\sqrt{2}=|\\ominus\\rangle.\n",
    "\\end{align}\n",
    "Ou seja \n",
    "$$U_{pqo} = SH.$$\n",
    "\n",
    "O __cristal não linear (BBO)__ cria pares de fótons gêmeos emaranhados por conversão paramétrica descendente:\n",
    "$$|\\Psi_{+}\\rangle_{AB} = \\frac{1}{\\sqrt{2}}\\big(|HV\\rangle_{AB}+|VH\\rangle_{AB}\\big).$$"
   ]
  },
  {
   "cell_type": "markdown",
   "id": "916b1b4b",
   "metadata": {},
   "source": [
    "O sistema que consideraremos está mostrado na figura abaixo.\n",
    "<img src='fig_apagador.png' width='400'>\n",
    "Usaremos a notação\n",
    "$$|H\\rangle_{s}=|0\\rangle_{s}\\text{, } |V\\rangle_{s}=|1\\rangle_{s} \\text{ com } s=A,B.$$\n",
    "Teremos a seguinte sequência de estados\n",
    "\\begin{align}\n",
    "BBO:|\\psi_{0}\\rangle & = \\frac{1}{\\sqrt{2}}\\big(|01\\rangle_{AB}+|10\\rangle_{AB}\\big)|0\\rangle_{B'}|0\\rangle_{A'}, \\\\\n",
    "DFP:|\\psi_{1}\\rangle & = U_{dfp}^{BB'}|\\psi_{0}\\rangle \\\\\n",
    "& = \\frac{1}{\\sqrt{2}}\\big(|0\\rangle_{A}U_{dfp}^{BB'}|10\\rangle_{BB'}+|1\\rangle_{A}U_{dfp}^{BB'}|00\\rangle_{BB'}\\big)|0\\rangle_{A'} \\\\\n",
    "& = \\frac{1}{\\sqrt{2}}\\big(|0\\rangle_{A}i|11\\rangle_{BB'}+|1\\rangle_{A}|00\\rangle_{BB'}\\big)|0\\rangle_{A'}, \\\\\n",
    "& = \\text{ estado genuinamente emaranhado nos 3 graus de liberdade} \\\\\n",
    "PMO:|\\psi_{2}\\rangle & = U_{pmo}^{BB'}|\\psi_{1}\\rangle \\\\\n",
    "& = \\frac{1}{\\sqrt{2}}\\big(i|0\\rangle_{A}U_{pmo}^{BB'}|11\\rangle_{BB'}+|1\\rangle_{A}U_{pmo}^{BB'}|00\\rangle_{BB'}\\big)|0\\rangle_{A'} \\\\\n",
    "& = \\frac{1}{\\sqrt{2}}\\big(i|0\\rangle_{A}|01\\rangle_{BB'}+|1\\rangle_{A}|00\\rangle_{BB'}\\big)|0\\rangle_{A'} \\\\\n",
    "& = \\frac{1}{\\sqrt{2}}\\big(i|01\\rangle_{AB'}+|10\\rangle_{AB'}\\big)|0\\rangle_{B}|0\\rangle_{A'}, \\\\\n",
    "& = \\text{ emaranhou somente A e B', os descorrelacionando de B}\n",
    "\\end{align}\n",
    "Vemos assim que, nesse ponto, se medimos a polarização horizontal-vertical de A, obtemos a informação de caminho de B no IMZ."
   ]
  },
  {
   "cell_type": "markdown",
   "id": "b67eca52",
   "metadata": {},
   "source": [
    "Seguindo\n",
    "\\begin{align}\n",
    "espelho: |\\psi_{3}\\rangle & = U_{e}^{B'}|\\psi_{2}\\rangle \\\\\n",
    "& = \\frac{1}{\\sqrt{2}}\\big(ii|00\\rangle_{AB'}+i|11\\rangle_{AB'}\\big)|0\\rangle_{B}|0\\rangle_{A'} \\\\\n",
    "fase: |\\psi_{4}\\rangle & = U_{\\phi}^{B'}|\\psi_{3}\\rangle \\\\\n",
    "& = \\frac{1}{\\sqrt{2}}\\big(-|00\\rangle_{AB'}+ie^{i\\phi}|11\\rangle_{AB'}\\big)|0\\rangle_{B}|0\\rangle_{A'} \\\\\n",
    "DF: |\\psi_{5}\\rangle & = U_{df}^{B'}|\\psi_{4}\\rangle \\\\\n",
    "& = \\frac{1}{\\sqrt{2}}\\Big(-|0\\rangle_{A}\\big(|0\\rangle_{B'}+i|1\\rangle_{B'}\\big)/\\sqrt{2}+ie^{i\\phi}|1\\rangle_{A}\\big(i|0\\rangle_{B'}+|1\\rangle_{B'}\\big)/\\sqrt{2}\\Big)|0\\rangle_{B}|0\\rangle_{A'} \\\\\n",
    "&  = -\\frac{1}{2}\\Big(|0\\rangle_{A}\\big(|0\\rangle_{B'}+i|1\\rangle_{B'}\\big) + e^{i\\phi}|1\\rangle_{A}\\big(|0\\rangle_{B'}-i|1\\rangle_{B'}\\big)\\Big)|0\\rangle_{B}|0\\rangle_{A'}.\n",
    "\\end{align}"
   ]
  },
  {
   "cell_type": "markdown",
   "id": "cd15bc2d",
   "metadata": {},
   "source": [
    "A seguir, mostramos que se usamos só transformações unitárias locais, a visibilidade continua sendo nula.\n",
    "__Sem a PQO__:\n",
    "\\begin{align}\n",
    "\\rho_{5} &= \\frac{1}{4}\\Big(|0\\rangle_{A}\\langle 0|\\big(|0\\rangle_{B'}+i|1\\rangle_{B'}\\big)\\big(\\langle 0|_{B'}-i\\langle 1|_{B'}\\big) + |1\\rangle_{A}\\langle 1|\\big(|0\\rangle_{B'}-i|1\\rangle_{B'}\\big)\\big(\\langle 0|_{B'}+i\\langle 1|_{B'}\\big) \\\\\n",
    "& + \\big(e^{-i\\phi}|0\\rangle_{A}\\langle 1|\\big(|0\\rangle_{B'}+i|1\\rangle_{B'}\\big)\\big(\\langle 0|_{B'}+i\\langle 1|_{B'}\\big) + t.c.\\big)\\Big)|0\\rangle_{B}\\langle 0|\\otimes|0\\rangle_{A'}\\langle 0|.\n",
    "\\end{align}\n",
    "Assim\n",
    "\\begin{align}\n",
    "\\rho_{5}^{B'} & = Tr_{AA'B}(\\rho_{5}) \\\\\n",
    "& = \\frac{1}{4}\\Big(\\big(|0\\rangle_{B'}+i|1\\rangle_{B'}\\big)\\big(\\langle 0|_{B'}-i\\langle 1|_{B'}\\big) + \\big(|0\\rangle_{B'}-i|1\\rangle_{B'}\\big)\\big(\\langle 0|_{B'}+i\\langle 1|_{B'}\\big)\\Big) \\\\\n",
    "& = \\frac{1}{2}\\big(|0\\rangle_{B'}\\langle 0|+|1\\rangle_{B'}\\langle 1|\\big).\n",
    "\\end{align}\n",
    "Por conseguinte\n",
    "$$Pr(D_{0}) = 1/2\\ \\therefore\\ V=0.$$"
   ]
  },
  {
   "cell_type": "markdown",
   "id": "b9208d2c",
   "metadata": {},
   "source": [
    "__Com a PQO__: <br>\n",
    "Como não importa quando a PQO é aplicada, consideremos\n",
    "\\begin{align}\n",
    "|\\psi_{6}\\rangle & = U_{pqo}^{A}|\\psi_{5}\\rangle  \\\\\n",
    "& = -\\frac{1}{2}\\Big(U_{pqo}^{A}|0\\rangle_{A}\\big(|0\\rangle_{B'}+i|1\\rangle_{B'}\\big) + e^{i\\phi}U_{pqo}^{A}|1\\rangle_{A}\\big(|0\\rangle_{B'}-i|1\\rangle_{B'}\\big)\\Big)|0\\rangle_{B}|0\\rangle_{A'} \\\\\n",
    "& = -\\frac{1}{2\\sqrt{2}}\\Big(\\big(|0\\rangle_{A}+i|1\\rangle_{A}\\big)\\big(|0\\rangle_{B'}+i|1\\rangle_{B'}\\big) + e^{i\\phi}\\big(|0\\rangle_{A}-i|1\\rangle_{A}\\big)\\big(|0\\rangle_{B'}-i|1\\rangle_{B'}\\big)\\Big)|0\\rangle_{B}|0\\rangle_{A'} \\\\\n",
    "& = -\\frac{1}{2}\\Big(|\\oplus\\rangle_{A}\\big(|0\\rangle_{B'}+i|1\\rangle_{B'}\\big) + e^{i\\phi}|\\ominus\\rangle_{A}\\big(|0\\rangle_{B'}-i|1\\rangle_{B'}\\big)\\Big)|0\\rangle_{B}|0\\rangle_{A'}.\n",
    "\\end{align}\n",
    "Assim\n",
    "\\begin{align}\n",
    "\\rho_{6} & =  \\frac{1}{4}\\Big(|\\oplus\\rangle_{A}\\langle\\oplus|\\big(|0\\rangle_{B'}+i|1\\rangle_{B'}\\big)\\big(\\langle0|_{B'}-i\\langle 1|_{B'}\\big) + |\\ominus\\rangle_{A}\\langle\\ominus|\\big(|0\\rangle_{B'}-i|1\\rangle_{B'}\\big)\\big(\\langle0|_{B'}+i\\langle 1|_{B'}\\big) \\\\\n",
    "&  + \\big(e^{-i\\phi}|\\oplus\\rangle_{A}\\langle\\ominus|\\big(|0\\rangle_{B'}+i|1\\rangle_{B'}\\big)\\big(\\langle0|_{B'}-i\\langle 1|_{B'}\\big) + t.c.\\big)\\Big)\n",
    "\\end{align}\n",
    "e\n",
    "$$\\rho_{6}^{B'} = Tr_{AA'B}(\\rho_{6}) = I/2$$\n",
    "e \n",
    "$$Pr(D_{0}) = 1/2\\ \\therefore\\ V=0.$$"
   ]
  },
  {
   "cell_type": "markdown",
   "id": "c29a805c",
   "metadata": {},
   "source": [
    "De certa forma, esse resultado é esperado pois uma operação local só pode mudar propriedades locais (preditibilidade e coerência (= visibilidade)). Então uma transformação unitária em A, a PQO, não pode modificar as propriedades locais do fóton B. \n",
    "\n",
    "Esse tipo de resultado também é esperado por outro motivo. Pela relação de complementariedade completa\n",
    "$$C(\\rho_{A}) + P(\\rho_{A}) + E(|\\psi\\rangle_{AB}) = c(d_{A}) = \\text{ constante}.$$\n",
    "Então, para modificar propriedade locais, se deve aplicar transformações unitarias locais em A, o que fará com que haja uma troca entre coerência e preditibilidade\n",
    "$$U_{A}:C(\\rho_{A})\\leftrightarrow P(\\rho_{A}),$$\n",
    "ou se deve mecher no emaranhamento de A com outros sistemas\n",
    "$$U_{AB}: \\big(\\leftrightarrow E(|\\psi\\rangle_{AB}) \\leftrightarrow C(\\rho_{A})\\leftrightarrow P(\\rho_{A}) \\leftrightarrow\\big).$$\n",
    "OBS: No contexto da IMZ e apagador quântico, estamos nos referindo particularmente à __coerência de caminho depois do 1º DF ou DFP__."
   ]
  },
  {
   "cell_type": "markdown",
   "id": "0b040325",
   "metadata": {},
   "source": [
    "### Apagando a informação de caminho\n",
    "Lembrando, o estado depois do DFP é \n",
    "$$|\\psi_{1}\\rangle = \\frac{1}{\\sqrt{2}}\\big(|0\\rangle_{A}i|11\\rangle_{BB'}+|1\\rangle_{A}|00\\rangle_{BB'}\\big)|0\\rangle_{A'}.$$\n",
    "Se aplicamos a PMO obtemos \n",
    "$$|\\psi_{2}\\rangle = \\frac{1}{\\sqrt{2}}\\big(i|01\\rangle_{AB'}+|10\\rangle_{AB'}\\big)|0\\rangle_{B}|0\\rangle_{A'}.$$\n",
    "A informação de caminho está em A, por isso $V=0$, como verificamos acima. Se nesse ponto aplicamos a PQO em A, obteremos\n",
    "\\begin{align}\n",
    "|\\psi_{3}'\\rangle &= U_{pqo}^{A}|\\psi_{2}\\rangle \\\\\n",
    "& = \\frac{1}{2}\\big(i(|0\\rangle_{A}+i|1\\rangle_{A})|1\\rangle_{B'}+(|0\\rangle_{A}-i|1\\rangle_{A})|0\\rangle_{B'}\\big)|0\\rangle_{B}|0\\rangle_{A'} \\\\\n",
    "& = \\frac{1}{2}\\big(|0\\rangle_{A}(|0\\rangle_{B'}+i|1\\rangle_{B'})-i|1\\rangle_{A}(|0\\rangle_{B'}-i|1\\rangle_{B'})\\big)|0\\rangle_{B}|0\\rangle_{A'}.\n",
    "\\end{align}\n",
    "OBS: Aplicar a PQO e depois medir na base $\\{|0\\rangle_{A},|1\\rangle_{A}\\}$ é equivalente a medir na base $\\{|\\oplus\\rangle_{A},|\\ominus\\rangle_{A}\\}$.\n",
    "\n",
    "Para o estado $|\\psi_{3}'\\rangle$, se fazemos uma __medida projetiva__ na base $\\{|0\\rangle_{A},|1\\rangle_{A}\\}$, com pós-seleção,  selecionaremos os seguintes estados para o modo espacial:\n",
    "\\begin{align}\n",
    "& |0\\rangle_{A} \\longrightarrow |\\psi_{3,0}^{B'}\\rangle = (|0\\rangle_{B'}+i|1\\rangle_{B'})/\\sqrt{2} \\text{ com prob 1/2},\n",
    " \\\\\n",
    "& |1\\rangle_{A} \\longrightarrow |\\psi_{3,1}^{B'}\\rangle = -i(|0\\rangle_{B'}-i|1\\rangle_{B'})/\\sqrt{2} \\text{ com prob 1/2}.\n",
    "\\end{align}"
   ]
  },
  {
   "cell_type": "markdown",
   "id": "2bafda9c",
   "metadata": {},
   "source": [
    "Fazendo as contas até depois do DF, obteremos (__exercício__)\n",
    "\\begin{align}\n",
    "& |\\tilde{\\psi}_{3,0}^{B'}\\rangle = -\\frac{1}{2}\\big((1+e^{i\\phi})|0\\rangle_{B'}+i(1-e^{i\\phi})|1\\rangle_{B'}\\big) \\ \\therefore\\ Pr(D_{0})=(1+\\cos\\phi)/2\\ \\therefore\\ V=1, \\\\\n",
    "& |\\tilde{\\psi}_{3,1}^{B'}\\rangle = -\\frac{1}{2}\\big((1-e^{i\\phi})|0\\rangle_{B'}+i(1+e^{i\\phi})|1\\rangle_{B'}\\big) \\ \\therefore\\ Pr(D_{0})=(1-\\cos\\phi)/2\\ \\therefore\\ V=1.\n",
    "\\end{align}\n",
    "\n",
    "Ou seja, a medida projetiva na base $\\{|0\\rangle_{A},|1\\rangle_{A}\\}$, depois de aplicar a PQO a A, apaga a informação de caminho B', se olharmos para cada resultado individualmente, ou seja, se fizermos pós-seleção.\n",
    "\n",
    "Sem fazer pós-seleção, continuaremos tendo visibilidade nula pois o estado final seria\n",
    "$$\\rho = \\frac{1}{2}|\\psi_{3,0}^{B'}\\rangle\\langle\\psi_{3,0}^{B'}|+\\frac{1}{2}|\\psi_{3,1}^{B'}\\rangle\\langle\\psi_{3,1}^{B'}|.$$\n",
    "A probabilidade seria assim\n",
    "\\begin{align}\n",
    "Pr(0|\\rho)&=\\frac{1}{2}Pr(0|\\psi_{3,0}^{B'})+\\frac{1}{2}Pr(0|\\psi_{3,1}^{B'}) \\\\\n",
    "& = \\frac{1}{2}(1+\\cos\\phi)/2+ \\frac{1}{2}(1-\\cos\\phi)/2 = 1/2.\n",
    "\\end{align}\n",
    "Portanto\n",
    "$$V=0.$$"
   ]
  },
  {
   "cell_type": "markdown",
   "id": "71d5bc10",
   "metadata": {},
   "source": [
    "### Experimento da escolha adiada de Wheeler\n",
    "A observação intrigante de Wheeler, e que vem sendo debatida até hoje (05/dez/2021), é que poderíamos escolher colocar ou não a PQO e o DFP (que fazem medidas projetivas na base $\\{|\\oplus\\rangle,|\\ominus\\rangle\\}$) no caminho do fóton A somente depois de ter passado um tempo suficiente para o fóton B ter chegado no detector A ou no detector B. Mas, uma vez que se PQO e DFP estão presentes o comportamento do fóton é tipo onda e se estão ausentes o comportamento do fóton é tipo partícula, essa ação futura parece afetar o passado.\n",
    "\n",
    "## Implementação do apagador quântico no IBMQ\n",
    "<img src = 'fig_apagador_cq.png' width = '700'>"
   ]
  },
  {
   "cell_type": "code",
   "execution_count": 1,
   "id": "e80cd44e",
   "metadata": {},
   "outputs": [],
   "source": [
    "from qiskit import *\n",
    "from qiskit.ignis.verification.tomography import state_tomography_circuits, StateTomographyFitter\n",
    "nshots = 8192\n",
    "qiskit.IBMQ.load_account()\n",
    "provider = qiskit.IBMQ.get_provider(hub='ibm-q', group='open', project='main')\n",
    "device = provider.get_backend('ibmq_belem')\n",
    "from qiskit.tools.monitor import job_monitor"
   ]
  },
  {
   "cell_type": "code",
   "execution_count": 2,
   "id": "d88ff6a3",
   "metadata": {},
   "outputs": [
    {
     "data": {
      "image/png": "[encoded data removed]",
      "text/plain": [
       "<Figure size 280.033x144.48 with 1 Axes>"
      ]
     },
     "execution_count": 2,
     "metadata": {},
     "output_type": "execute_result"
    }
   ],
   "source": [
    "def state_prep_psip():\n",
    "    qr = QuantumRegister(2); qc = QuantumCircuit(qr, name = 'sprep')\n",
    "    qc.h(qr[0]); qc.cx(qr[0],qr[1]); qc.x(qr[1]) # prepara psi+_01\n",
    "    return qc\n",
    "state_prep_psip_ = state_prep_psip(); state_prep_psip_.draw(output = 'mpl')"
   ]
  },
  {
   "cell_type": "code",
   "execution_count": 3,
   "id": "9e31a90f",
   "metadata": {
    "scrolled": true
   },
   "outputs": [
    {
     "data": {
      "image/png": "[encoded data removed]",
      "text/plain": [
       "<Figure size 219.978x144.48 with 1 Axes>"
      ]
     },
     "execution_count": 3,
     "metadata": {},
     "output_type": "execute_result"
    }
   ],
   "source": [
    "def qc_dfp():\n",
    "    qr = QuantumRegister(2); qc = QuantumCircuit(qr, name='DFP')\n",
    "    qc.cz(qr[0],qr[1]); qc.cy(qr[0], qr[1])\n",
    "    return qc\n",
    "qc_dfp_ = qc_dfp(); qc_dfp_.draw(output = 'mpl')"
   ]
  },
  {
   "cell_type": "code",
   "execution_count": 4,
   "id": "7b7163bd",
   "metadata": {},
   "outputs": [
    {
     "data": {
      "image/png": "[encoded data removed]",
      "text/plain": [
       "<Figure size 267.197x84.28 with 1 Axes>"
      ]
     },
     "execution_count": 4,
     "metadata": {},
     "output_type": "execute_result"
    }
   ],
   "source": [
    "def qc_df():\n",
    "    qr = QuantumRegister(1); qc = QuantumCircuit(qr, name='DF')\n",
    "    qc.s(qr[0]); qc.h(qr[0]); qc.s(qr[0])\n",
    "    return qc\n",
    "qc_df_ = qc_df(); qc_df_.draw(output = 'mpl')"
   ]
  },
  {
   "cell_type": "code",
   "execution_count": 5,
   "id": "4b6e4a24",
   "metadata": {
    "scrolled": true
   },
   "outputs": [
    {
     "data": {
      "image/png": "[encoded data removed]",
      "text/plain": [
       "<Figure size 159.923x144.48 with 1 Axes>"
      ]
     },
     "execution_count": 5,
     "metadata": {},
     "output_type": "execute_result"
    }
   ],
   "source": [
    "def qc_pmo():\n",
    "    qr = QuantumRegister(2); qc = QuantumCircuit(qr, name='PMO')\n",
    "    qc.cx(qr[1],qr[0])\n",
    "    return qc\n",
    "qc_pmo_ = qc_pmo(); qc_pmo_.draw(output = 'mpl')"
   ]
  },
  {
   "cell_type": "code",
   "execution_count": 6,
   "id": "eabc168b",
   "metadata": {},
   "outputs": [
    {
     "data": {
      "image/png": "[encoded data removed]",
      "text/plain": [
       "<Figure size 206.997x84.28 with 1 Axes>"
      ]
     },
     "execution_count": 6,
     "metadata": {},
     "output_type": "execute_result"
    }
   ],
   "source": [
    "def qc_pqo():\n",
    "    qr = QuantumRegister(1); qc = QuantumCircuit(qr, name='PQO')\n",
    "    qc.h(qr[0]); qc.s(qr[0])\n",
    "    return qc\n",
    "qc_pqo_ = qc_pqo(); qc_pqo_.draw(output = 'mpl')"
   ]
  },
  {
   "cell_type": "code",
   "execution_count": 7,
   "id": "3b07f6f0",
   "metadata": {},
   "outputs": [
    {
     "data": {
      "image/png": "[encoded data removed]",
      "text/plain": [
       "<Figure size 206.997x84.28 with 1 Axes>"
      ]
     },
     "execution_count": 7,
     "metadata": {},
     "output_type": "execute_result"
    }
   ],
   "source": [
    "def qc_espelho():\n",
    "    qr = QuantumRegister(1); qc = QuantumCircuit(qr, name='espelho')\n",
    "    qc.z(qr[0]); qc.y(qr[0])\n",
    "    return qc\n",
    "qc_espelho_ = qc_espelho(); qc_espelho_.draw(output = 'mpl')"
   ]
  },
  {
   "cell_type": "code",
   "execution_count": 9,
   "id": "bccb1d0a",
   "metadata": {},
   "outputs": [
    {
     "data": {
      "image/png": "[encoded data removed]",
      "text/plain": [
       "<Figure size 146.652x84.28 with 1 Axes>"
      ]
     },
     "execution_count": 9,
     "metadata": {},
     "output_type": "execute_result"
    }
   ],
   "source": [
    "import math\n",
    "def qc_fase(ph):\n",
    "    qr = QuantumRegister(1); qc = QuantumCircuit(qr, name='fase')\n",
    "    qc.p(ph, qr[0])\n",
    "    return qc\n",
    "qc_fase_ = qc_fase(math.pi); qc_fase_.draw(output = 'mpl')"
   ]
  },
  {
   "cell_type": "code",
   "execution_count": 12,
   "id": "7a009230",
   "metadata": {},
   "outputs": [
    {
     "data": {
      "image/png": "[encoded data removed]",
      "text/plain": [
       "<Figure size 594.74x204.68 with 1 Axes>"
      ]
     },
     "execution_count": 12,
     "metadata": {},
     "output_type": "execute_result"
    }
   ],
   "source": [
    "def qc_apagador(ph):\n",
    "    qr = QuantumRegister(3); qc = QuantumCircuit(qr, name = 'apagador')\n",
    "    state_prep_psip_ = state_prep_psip(); qc.append(state_prep_psip_, [qr[0],qr[1]]) # sprep\n",
    "    qc_dfp_ = qc_dfp(); qc.append(qc_dfp_, [qr[1],qr[2]]) # DFP\n",
    "    qc_pmo_ = qc_pmo(); qc.append(qc_pmo_, [qr[1],qr[2]]) # PMO\n",
    "    qc_pqo_ = qc_pqo(); qc.append(qc_pqo_, [qr[0]]) # PQO\n",
    "    qc_espelho_ = qc_espelho(); qc.append(qc_espelho_, [qr[2]]) # espelho\n",
    "    qc_fase_ = qc_fase(ph); qc.append(qc_fase_, [qr[2]]) # fase\n",
    "    qc_df_ = qc_df(); qc.append(qc_df_, [qr[2]]) # DF\n",
    "    return qc\n",
    "qc_apagador_ = qc_apagador(math.pi/3)\n",
    "qc_apagador_.draw(output = 'mpl')\n",
    "#qc_apagador_.decompose().draw(output = 'mpl')"
   ]
  },
  {
   "cell_type": "code",
   "execution_count": 132,
   "id": "6d183c3a",
   "metadata": {},
   "outputs": [
    {
     "name": "stdout",
     "output_type": "stream",
     "text": [
      "[[0.49389648+0.j        0.00415039+0.0090332j]\n",
      " [0.00415039-0.0090332j 0.50610352+0.j       ]]\n"
     ]
    }
   ],
   "source": [
    "phmax = 2*math.pi; dph = phmax/20; ph = np.arange(0, phmax+dph, dph)#; ph\n",
    "d = ph.shape[0]; PD0teo = np.zeros(d); PD0sim = np.zeros(d); PD0exp = np.zeros(d)\n",
    "ri = random.randint(0,d)\n",
    "for j in range(0, d):\n",
    "    PD0teo[j] = 1/2 # theoretical\n",
    "    qr = QuantumRegister(3); qc = QuantumCircuit(qr)\n",
    "    qc_apagador_ = qc_apagador(ph[j]); qc.append(qc_apagador_, [qr[0],qr[1],qr[2]]) # apagador q\n",
    "    qstc = state_tomography_circuits(qc, qr[2]) # circuit for state tomography\n",
    "    job = qiskit.execute(qstc, Aer.get_backend('qasm_simulator'), shots=nshots)\n",
    "    qstf = StateTomographyFitter(job.result(), qstc); rho = qstf.fit(method='lstsq')\n",
    "    PD0sim[j] = rho[0,0].real\n",
    "    if j == ri:\n",
    "        print(rho)\n",
    "    # 1º fiz as simulações, só depois adicionei o código para os experimentos\n",
    "    '''job = qiskit.execute(qstc, backend = device, shots = nshots)\n",
    "    print(job.job_id()); job_monitor(job)\n",
    "    qstf = StateTomographyFitter(job.result(), qstc); rho = qstf.fit(method='lstsq')\n",
    "    PD0exp[j] = rho[0,0].real'''"
   ]
  },
  {
   "cell_type": "code",
   "execution_count": 153,
   "id": "3c84b40b",
   "metadata": {},
   "outputs": [
    {
     "data": {
      "image/png": "[encoded data removed]",
      "text/plain": [
       "<Figure size 600x400 with 1 Axes>"
      ]
     },
     "metadata": {
      "needs_background": "light"
     },
     "output_type": "display_data"
    }
   ],
   "source": [
    "matplotlib.rcParams.update({'font.size':12}); plt.figure(figsize = (6,4), dpi = 100)\n",
    "plt.plot(ph, PD0teo, label = r'$P_{teo}(D_{0})$')\n",
    "plt.plot(ph, PD0sim, 'o', label = r'$P_{sim}(D_{0})$')\n",
    "plt.plot(ph, PD0exp, '*', label = r'$P_{exp}(D_{0})$')\n",
    "plt.legend(); plt.xlabel(r'$\\phi$'); plt.ylim(-0.02,1.02); \n",
    "plt.title('IMZ com info de caminho'); plt.show()\n",
    "# Nesse caso, não foram feitas medidas projetivas para obtenção de informação de caminho "
   ]
  },
  {
   "cell_type": "markdown",
   "id": "9210cfd9",
   "metadata": {},
   "source": [
    "## Dados \"condicionados\" no resultado de medidas no IBMQ"
   ]
  },
  {
   "cell_type": "code",
   "execution_count": 15,
   "id": "4d712d26",
   "metadata": {},
   "outputs": [
    {
     "name": "stdout",
     "output_type": "stream",
     "text": [
      "z = 0,  {'1': 8, '0': 2} ,  2\n"
     ]
    },
    {
     "data": {
      "image/png": "[encoded data removed]",
      "text/plain": [
       "<Figure size 220.269x144.48 with 1 Axes>"
      ]
     },
     "execution_count": 15,
     "metadata": {},
     "output_type": "execute_result"
    }
   ],
   "source": [
    "qr = QuantumRegister(1); cr = ClassicalRegister(1); qc = QuantumCircuit(qr,cr)\n",
    "qc.h(qr[0]); qc.measure(qr[0],cr[0])\n",
    "job = qiskit.execute(qc, Aer.get_backend('qasm_simulator'), shots=10)\n",
    "res = job.result().get_counts()\n",
    "if '0' in res:\n",
    "    print('z = 0, ', res, ', ', res['0'])\n",
    "elif '1' in res:\n",
    "    print('z = 1, ', res, ', ', res['1'])\n",
    "qc.draw(output = 'mpl')"
   ]
  },
  {
   "cell_type": "code",
   "execution_count": 16,
   "id": "de9c2794",
   "metadata": {},
   "outputs": [
    {
     "name": "stdout",
     "output_type": "stream",
     "text": [
      "{'01': 5, '00': 1, '11': 4}\n",
      "P00 1\n"
     ]
    },
    {
     "data": {
      "image/png": "[encoded data removed]",
      "text/plain": [
       "<Figure size 293.449x204.68 with 1 Axes>"
      ]
     },
     "execution_count": 16,
     "metadata": {},
     "output_type": "execute_result"
    }
   ],
   "source": [
    "for j in range(0,1):\n",
    "    qr = QuantumRegister(2); cr = ClassicalRegister(2); qc = QuantumCircuit(qr,cr)\n",
    "    qc.h(qr[0]);\n",
    "    qc.measure(qr[0],cr[0])\n",
    "    qc.h(qr[1]); qc.measure(qr[1],cr[1])\n",
    "    job = qiskit.execute(qc, Aer.get_backend('qasm_simulator'), shots=10)\n",
    "    res = job.result().get_counts()\n",
    "    print(res)\n",
    "    if '00' in res:\n",
    "        P00 = 1; print('P00',P00)\n",
    "    elif '01' in res:\n",
    "        P01 = 1; print('P01',P01)\n",
    "qc.draw(output = 'mpl')"
   ]
  },
  {
   "cell_type": "code",
   "execution_count": 17,
   "id": "973da6f5",
   "metadata": {},
   "outputs": [
    {
     "data": {
      "image/png": "[encoded data removed]",
      "text/plain": [
       "<Figure size 353.795x264.88 with 1 Axes>"
      ]
     },
     "execution_count": 17,
     "metadata": {},
     "output_type": "execute_result"
    }
   ],
   "source": [
    "# O apagador quântico mesmo, com as medidas\n",
    "def apagadorM(ph):\n",
    "    qr = QuantumRegister(3); cr = ClassicalRegister(2); qc = QuantumCircuit(qr, cr)\n",
    "    qc_apagador_ = qc_apagador(ph); qc.append(qc_apagador_, [qr[0],qr[1],qr[2]])\n",
    "    qc.measure(qr[0],cr[0]) # medida da polarização de A\n",
    "    qc.measure(qr[2],cr[1]) # medida do caminho de B\n",
    "    return qc\n",
    "apagadorM_ = apagadorM(math.pi/8); apagadorM_.draw(output = 'mpl')"
   ]
  },
  {
   "cell_type": "code",
   "execution_count": 158,
   "id": "2b98dd71",
   "metadata": {},
   "outputs": [
    {
     "name": "stdout",
     "output_type": "stream",
     "text": [
      "{'01': 1}\n"
     ]
    }
   ],
   "source": [
    "qc = apagadorM(math.pi/8)\n",
    "job = qiskit.execute(qc, Aer.get_backend('qasm_simulator'), shots=1)\n",
    "res = job.result().get_counts(); print(res)"
   ]
  },
  {
   "cell_type": "code",
   "execution_count": 180,
   "id": "d4cf55b6",
   "metadata": {},
   "outputs": [],
   "source": [
    "nshots = 1000\n",
    "phmax = 2*math.pi; dph = phmax/20; ph = np.arange(0, phmax+dph, dph); d = ph.shape[0]\n",
    "PD0teo0 = np.zeros(d); PD0sim0 = np.zeros(d); PD0exp0 = np.zeros(d)\n",
    "PD0teo1 = np.zeros(d); PD0sim1 = np.zeros(d); PD0exp1 = np.zeros(d)\n",
    "for j in range(0, d):\n",
    "    PD0teo0[j] = (1 + math.cos(ph[j]))/2; PD0teo1[j] = (1 - math.cos(ph[j]))/2\n",
    "    qc = apagadorM(ph[j])\n",
    "    N0 = 0; N1 = 0; N0e = 0; N1e = 0\n",
    "    for k in range(0, nshots):  # não usar esse loop\n",
    "        job = qiskit.execute(qc, Aer.get_backend('qasm_simulator'), shots=1)\n",
    "        res = job.result().get_counts()#; print(res)\n",
    "        if '00' in res or '10' in res:\n",
    "            N0 += 1\n",
    "        elif '01' in res or '11' in res:\n",
    "            N1 += 1\n",
    "        if '00' in res:\n",
    "            PD0sim0[j] += 1\n",
    "        elif '01' in res:\n",
    "            PD0sim1[j] += 1\n",
    "        '''job = qiskit.execute(qc, Aer.get_backend(device), shots=1)\n",
    "        res = job.result().get_counts()\n",
    "        if '00' in res or '10' in res:\n",
    "            N0e += 1\n",
    "        elif '01' in res or '11' in res:\n",
    "            N1e += 1\n",
    "        if '00' in res:\n",
    "            PD0exp0[j] += 1\n",
    "        elif '01' in res:\n",
    "            PD0exp1[j] += 1'''\n",
    "PD0sim0 = PD0sim0/N0; PD0sim1 = PD0sim1/N1\n",
    "#PD0exp0 = PD0exp0/N0e; PD0exp1 = PD0exp1/N1e"
   ]
  },
  {
   "cell_type": "code",
   "execution_count": null,
   "id": "8996b5cf",
   "metadata": {},
   "outputs": [],
   "source": [
    "# sem o loop em k"
   ]
  },
  {
   "cell_type": "code",
   "execution_count": 185,
   "id": "e72c3375",
   "metadata": {
    "scrolled": true
   },
   "outputs": [
    {
     "data": {
      "image/png": "[encoded data removed]",
      "text/plain": [
       "<Figure size 500x330 with 1 Axes>"
      ]
     },
     "metadata": {
      "needs_background": "light"
     },
     "output_type": "display_data"
    }
   ],
   "source": [
    "matplotlib.rcParams.update({'font.size':12}); plt.figure(figsize = (5,3.3), dpi = 100)\n",
    "plt.plot(ph, PD0teo0, '-', label = r'$P_{teo}(0,0)$')\n",
    "plt.plot(ph, PD0teo1, '-.', label = r'$P_{teo}(1,0)$')\n",
    "plt.plot(ph, PD0sim0, 'o', label = r'$2P_{sim}(0,0)$')\n",
    "plt.plot(ph, PD0sim1, '*', label = r'$2P_{sim}(1,0)$')\n",
    "plt.plot(ph, PD0exp0, '+', label = r'$2P_{exp}(0,0)$')\n",
    "plt.plot(ph, PD0exp1, 'd', label = r'$2P_{exp}(1,0)$')\n",
    "plt.legend(bbox_to_anchor=(1.05, 1.0), loc='upper left')\n",
    "plt.xlabel(r'$\\phi$'); plt.ylim(-0.05,1.05); \n",
    "plt.title('IMZ com apagador de info de caminho'); plt.show()"
   ]
  },
  {
   "cell_type": "markdown",
   "id": "63686c10",
   "metadata": {},
   "source": [
    "## Medidas na base de Bell\n",
    "Os estados da base de Bell são\n",
    "$$|\\Phi_{\\pm}\\rangle = \\frac{1}{\\sqrt{2}}\\big(|00\\rangle\\pm|11\\rangle\\big) \\text{ e } |\\Psi_{\\pm}\\rangle = \\frac{1}{\\sqrt{2}}\\big(|01\\rangle\\pm|10\\rangle\\big).$$\n",
    "Assim, podemos escrever os estados da base computacional em termos da base de Bell como segue:\n",
    "\\begin{align}\n",
    "& |00\\rangle = \\frac{1}{\\sqrt{2}}\\big(|\\Phi_{+}\\rangle+|\\Phi_{-}\\rangle\\big)\\text{, } |11\\rangle = \\frac{1}{\\sqrt{2}}\\big(|\\Phi_{+}\\rangle-|\\Phi_{-}\\rangle\\big), \\\\\n",
    "& |01\\rangle = \\frac{1}{\\sqrt{2}}\\big(|\\Psi_{+}\\rangle+|\\Psi_{-}\\rangle\\big) \\text{, } |10\\rangle = \\frac{1}{\\sqrt{2}}\\big(|\\Psi_{+}\\rangle-|\\Psi_{-}\\rangle\\big).\n",
    "\\end{align}\n",
    "\n",
    "Notemos que a transformação unitária $C_{x}^{12}\\big(H\\otimes I\\big)$ leva da base padrão para a base de Bell (__Exercício__: Verifique):\n",
    "\\begin{align}\n",
    "C_{x}^{12}\\big(H\\otimes I\\big)|00\\rangle = |\\Phi_{+}\\rangle \\text{, } C_{x}^{12}\\big(H\\otimes I\\big)|01\\rangle = |\\Psi_{+}\\rangle, \\\\\n",
    "C_{x}^{12}\\big(H\\otimes I\\big)|10\\rangle = |\\Phi_{-}\\rangle \\text{, } C_{x}^{12}\\big(H\\otimes I\\big)|11\\rangle = |\\Psi_{-}\\rangle.\n",
    "\\end{align}\n",
    "\n",
    "A adjunta de $C_{x}^{12}\\big(H\\otimes I\\big)$, que é $\\big(H\\otimes I\\big)C_{x}^{12}$, leva então da base de Bell para a base computacional:\n",
    "\\begin{align}\n",
    "\\big(H\\otimes I\\big)C_{x}^{12}|\\Phi_{+}\\rangle= |00\\rangle \\text{, } \\big(H\\otimes I\\big)C_{x}^{12}|\\Psi_{+}\\rangle = |01\\rangle , \\\\\n",
    "\\big(H\\otimes I\\big)C_{x}^{12}|\\Phi_{-}\\rangle = |10\\rangle \\text{, } \\big(H\\otimes I\\big)C_{x}^{12}|\\Psi_{-}\\rangle = |11\\rangle.\n",
    "\\end{align}"
   ]
  },
  {
   "cell_type": "code",
   "execution_count": 18,
   "id": "5e9aee5a",
   "metadata": {},
   "outputs": [
    {
     "data": {
      "image/png": "[encoded data removed]",
      "text/plain": [
       "<Figure size 233.249x144.48 with 1 Axes>"
      ]
     },
     "execution_count": 18,
     "metadata": {},
     "output_type": "execute_result"
    }
   ],
   "source": [
    "def qc_MBB():\n",
    "    qr = QuantumRegister(2); qc = QuantumCircuit(qr)\n",
    "    qc.h(qr[0]); qc.cx(qr[0],qr[1])\n",
    "    return qc\n",
    "qc_MBB_ = qc_MBB(); qc_MBB_.draw(output = 'mpl')"
   ]
  },
  {
   "cell_type": "markdown",
   "id": "e1ab3606",
   "metadata": {},
   "source": [
    "## Apagador quântico emaranhado\n",
    "Vamos começar com o estado genuinamente emaranhado de 3 partes, que é obtido depois do DFP:\n",
    "$$|\\psi_{1}\\rangle = \\frac{1}{\\sqrt{2}}\\big(i|01\\rangle_{AB}|1\\rangle_{B'}+|10\\rangle_{AB}|0\\rangle_{B'}\\big)|0\\rangle_{A'}.$$\n",
    "Nesse caso vemos que a informação do caminho B' está disponível tanto em A quanto em B.\n",
    "\n",
    "Trocando da base computacional de polarização para a base de Bell, obtemos\n",
    "\\begin{align}\n",
    "|\\psi_{1}\\rangle & = \\frac{1}{\\sqrt{2}}\\Big(i2^{-1/2}\\big(|\\Psi_{+}\\rangle_{AB}+|\\Psi_{-}\\rangle_{AB}\\big)|1\\rangle_{B'}+2^{-1/2}\\big(|\\Psi_{+}\\rangle_{AB}-|\\Psi_{-}\\rangle_{AB}\\big)|0\\rangle_{B'}\\Big)|0\\rangle_{A'} \\\\\n",
    "& = \\frac{1}{2}\\Big(|\\Psi_{+}\\rangle_{AB}\\big(|0\\rangle_{B'}+i|1\\rangle_{B'}\\big) - |\\Psi_{-}\\rangle_{AB}\\big(|0\\rangle_{B'}-i|1\\rangle_{B'}\\big)\\Big)|0\\rangle_{A'}.\n",
    "\\end{align}\n",
    "Vemos assim que uma medida seletiva na base de Bell apaga a informação de caminho, restaurando o comportamento ondulatório.\n",
    "\n",
    "OBS: A implementação do apagador emaranhado no contexto óptico poderia ser realizada, a princípio, usando medidas na base de Bell parciais. Essas medidas exigem que os fótons passem por uma mesmo divisor de feixes, o que a princípio não seria um problema. Mas a necessidade de obsorver o fóton na detecção impossibilitaria a sequência do experimento."
   ]
  },
  {
   "cell_type": "markdown",
   "id": "9d133bc4",
   "metadata": {},
   "source": [
    "Voltando para a análise do apagador quântico emaranhado, podemos escrever\n",
    "\\begin{align}\n",
    "|\\tilde{\\psi}_{2}\\rangle & = \\big(H\\otimes I\\big)C_{x}^{12}|\\psi_{1}\\rangle \\\\\n",
    "& = \\frac{1}{2}\\Big(|01\\rangle_{AB}\\big(|0\\rangle_{B'}+i|1\\rangle_{B'}\\big) - |11\\rangle_{AB}\\big(|0\\rangle_{B'}-i|1\\rangle_{B'}\\big)\\Big)|0\\rangle_{A'}.\n",
    "\\end{align}\n",
    "Para o estado $|\\tilde{\\psi}_{2}\\rangle$, se fazemos uma __medida projetiva__ na base computacional, com pós-seleção,  selecionaremos os seguintes estados para o modo espacial:\n",
    "\\begin{align}\n",
    "& |01\\rangle_{AB} \\longrightarrow |\\psi_{3,0}^{B'}\\rangle = (|0\\rangle_{B'}+i|1\\rangle_{B'})/\\sqrt{2} \\text{ com prob 1/2},\n",
    " \\\\\n",
    "& |11\\rangle_{AB} \\longrightarrow |\\psi_{3,1}^{B'}\\rangle = -i(|0\\rangle_{B'}-i|1\\rangle_{B'})/\\sqrt{2} \\text{ com prob 1/2}.\n",
    "\\end{align}\n",
    "\n",
    "Novamente, fazendo as contas até depois do DF, obteremos\n",
    "\\begin{align}\n",
    "& |\\tilde{\\psi}_{3,0}^{B'}\\rangle = -\\frac{1}{2}\\big((1+e^{i\\phi})|0\\rangle_{B'}+i(1-e^{i\\phi})|1\\rangle_{B'}\\big) \\ \\therefore\\ Pr(D_{0})=(1+\\cos\\phi)/2\\ \\therefore\\ V=1, \\\\\n",
    "& |\\tilde{\\psi}_{3,1}^{B'}\\rangle = -\\frac{1}{2}\\big((1-e^{i\\phi})|0\\rangle_{B'}+i(1+e^{i\\phi})|1\\rangle_{B'}\\big) \\ \\therefore\\ Pr(D_{0})=(1-\\cos\\phi)/2\\ \\therefore\\ V=1.\n",
    "\\end{align}"
   ]
  },
  {
   "cell_type": "code",
   "execution_count": 19,
   "id": "f0c10fc8",
   "metadata": {},
   "outputs": [
    {
     "data": {
      "image/png": "[encoded data removed]",
      "text/plain": [
       "<Figure size 594.74x204.68 with 1 Axes>"
      ]
     },
     "execution_count": 19,
     "metadata": {},
     "output_type": "execute_result"
    }
   ],
   "source": [
    "def qc_apagadorE(ph):\n",
    "    qr = QuantumRegister(3); qc = QuantumCircuit(qr, name = 'apagador')\n",
    "    state_prep_psip_ = state_prep_psip(); qc.append(state_prep_psip_, [qr[0],qr[1]]) # sprep\n",
    "    qc_dfp_ = qc_dfp(); qc.append(qc_dfp_, [qr[1],qr[2]]) # DFP\n",
    "    qc_pmo_ = qc_pmo(); qc.append(qc_pmo_, [qr[1],qr[2]]) # PMO\n",
    "    qc_pqo_ = qc_pqo(); qc.append(qc_pqo_, [qr[0]]) # PQO\n",
    "    qc_espelho_ = qc_espelho(); qc.append(qc_espelho_, [qr[2]]) # espelho\n",
    "    qc_fase_ = qc_fase(ph); qc.append(qc_fase_, [qr[2]]) # fase\n",
    "    qc_df_ = qc_df(); qc.append(qc_df_, [qr[2]]) # DF\n",
    "    return qc\n",
    "qc_apagador_ = qc_apagador(math.pi/3); qc_apagador_.draw(output = 'mpl')"
   ]
  }
 ],
 "metadata": {
  "kernelspec": {
   "display_name": "Python 3 (ipykernel)",
   "language": "python",
   "name": "python3"
  },
  "language_info": {
   "codemirror_mode": {
    "name": "ipython",
    "version": 3
   },
   "file_extension": ".py",
   "mimetype": "text/x-python",
   "name": "python",
   "nbconvert_exporter": "python",
   "pygments_lexer": "ipython3",
   "version": "3.8.8"
  }
 },
 "nbformat": 4,
 "nbformat_minor": 5
}
