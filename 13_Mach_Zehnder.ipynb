{
 "cells": [
  {
   "cell_type": "code",
   "execution_count": 1,
   "id": "e9bd8edb",
   "metadata": {},
   "outputs": [],
   "source": [
    "%run init.ipynb"
   ]
  },
  {
   "cell_type": "markdown",
   "id": "28d278d9",
   "metadata": {},
   "source": [
    "# Interferômetro de Mach-Zehnder"
   ]
  },
  {
   "cell_type": "markdown",
   "id": "69413828",
   "metadata": {},
   "source": [
    "# Apagador quântico"
   ]
  },
  {
   "cell_type": "markdown",
   "id": "2ea31896",
   "metadata": {},
   "source": [
    "# Experimento da escolha adiada de Wheeler"
   ]
  },
  {
   "cell_type": "code",
   "execution_count": null,
   "id": "0b9b0c20",
   "metadata": {},
   "outputs": [],
   "source": []
  }
 ],
 "metadata": {
  "kernelspec": {
   "display_name": "Python 3",
   "language": "python",
   "name": "python3"
  },
  "language_info": {
   "codemirror_mode": {
    "name": "ipython",
    "version": 3
   },
   "file_extension": ".py",
   "mimetype": "text/x-python",
   "name": "python",
   "nbconvert_exporter": "python",
   "pygments_lexer": "ipython3",
   "version": "3.8.8"
  }
 },
 "nbformat": 4,
 "nbformat_minor": 5
}
