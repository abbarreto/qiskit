{
 "cells": [
  {
   "cell_type": "markdown",
   "id": "cafbe343",
   "metadata": {},
   "source": [
    "### Notas de aula de Computação Quântica <br> Autor: Jonas Maziero"
   ]
  },
  {
   "cell_type": "code",
   "execution_count": 1,
   "id": "03e1d09a",
   "metadata": {},
   "outputs": [],
   "source": [
    "# importa o qiskit, cujas funcoes podemos entao usar\n",
    "import qiskit"
   ]
  },
  {
   "cell_type": "code",
   "execution_count": 2,
   "id": "3e29f09a",
   "metadata": {},
   "outputs": [
    {
     "name": "stderr",
     "output_type": "stream",
     "text": [
      "/Users/jonasmaziero/opt/anaconda3/lib/python3.8/site-packages/qiskit/aqua/__init__.py:86: DeprecationWarning: The package qiskit.aqua is deprecated. It was moved/refactored to qiskit-terra For more information see <https://github.com/Qiskit/qiskit-aqua/blob/main/README.md#migration-guide>\n",
      "  warn_package('aqua', 'qiskit-terra')\n"
     ]
    },
    {
     "data": {
      "text/plain": [
       "{'qiskit-terra': '0.18.3', 'qiskit-aer': '0.9.1', 'qiskit-ignis': '0.6.0', 'qiskit-ibmq-provider': '0.18.0', 'qiskit-aqua': '0.9.5', 'qiskit': '0.32.0', 'qiskit-nature': None, 'qiskit-finance': None, 'qiskit-optimization': None, 'qiskit-machine-learning': None}"
      ]
     },
     "execution_count": 2,
     "metadata": {},
     "output_type": "execute_result"
    }
   ],
   "source": [
    "# para ver que versoes das ferramentas do qiskit temos instaladas\n",
    "qiskit.__qiskit_version__"
   ]
  },
  {
   "cell_type": "code",
   "execution_count": 3,
   "id": "1f6f7da4",
   "metadata": {},
   "outputs": [],
   "source": [
    "# determina o API token a ser usado\n",
    "qiskit.IBMQ.save_account('738e6d6b835f0fa6edef51fa6379f73b44e90f232ba22c31e7ea0303a063493456d16040855b1463a287166dd690fb18048624203101630f8048d9afa9b674c8', \n",
    "                  overwrite = True)"
   ]
  },
  {
   "cell_type": "code",
   "execution_count": 4,
   "id": "45df71a4",
   "metadata": {},
   "outputs": [
    {
     "data": {
      "text/plain": [
       "<AccountProvider for IBMQ(hub='ibm-q', group='open', project='main')>"
      ]
     },
     "execution_count": 4,
     "metadata": {},
     "output_type": "execute_result"
    }
   ],
   "source": [
    "# conecta meu computador com minha conta IBMQ na nuvem\n",
    "qiskit.IBMQ.load_account()"
   ]
  },
  {
   "cell_type": "code",
   "execution_count": 5,
   "id": "f81f2805",
   "metadata": {},
   "outputs": [],
   "source": [
    "# determina qual das minhas \"contas\" vou usar. \n",
    "#provider = qiskit.IBMQ.get_provider(hub='ibm-q', group='open', project='main')\n",
    "provider = qiskit.IBMQ.get_provider(hub = 'ibm-q-research-2', group = 'federal-uni-sant-1', project = 'main')"
   ]
  },
  {
   "cell_type": "code",
   "execution_count": 7,
   "id": "cedf8fdd",
   "metadata": {},
   "outputs": [
    {
     "data": {
      "text/plain": [
       "[<IBMQSimulator('ibmq_qasm_simulator') from IBMQ(hub='ibm-q-research-2', group='federal-uni-sant-1', project='main')>,\n",
       " <IBMQBackend('ibmq_armonk') from IBMQ(hub='ibm-q-research-2', group='federal-uni-sant-1', project='main')>,\n",
       " <IBMQBackend('ibmq_santiago') from IBMQ(hub='ibm-q-research-2', group='federal-uni-sant-1', project='main')>,\n",
       " <IBMQBackend('ibmq_bogota') from IBMQ(hub='ibm-q-research-2', group='federal-uni-sant-1', project='main')>,\n",
       " <IBMQBackend('ibmq_lima') from IBMQ(hub='ibm-q-research-2', group='federal-uni-sant-1', project='main')>,\n",
       " <IBMQBackend('ibmq_belem') from IBMQ(hub='ibm-q-research-2', group='federal-uni-sant-1', project='main')>,\n",
       " <IBMQBackend('ibmq_quito') from IBMQ(hub='ibm-q-research-2', group='federal-uni-sant-1', project='main')>,\n",
       " <IBMQSimulator('simulator_statevector') from IBMQ(hub='ibm-q-research-2', group='federal-uni-sant-1', project='main')>,\n",
       " <IBMQSimulator('simulator_mps') from IBMQ(hub='ibm-q-research-2', group='federal-uni-sant-1', project='main')>,\n",
       " <IBMQSimulator('simulator_extended_stabilizer') from IBMQ(hub='ibm-q-research-2', group='federal-uni-sant-1', project='main')>,\n",
       " <IBMQSimulator('simulator_stabilizer') from IBMQ(hub='ibm-q-research-2', group='federal-uni-sant-1', project='main')>,\n",
       " <IBMQBackend('ibmq_jakarta') from IBMQ(hub='ibm-q-research-2', group='federal-uni-sant-1', project='main')>,\n",
       " <IBMQBackend('ibmq_manila') from IBMQ(hub='ibm-q-research-2', group='federal-uni-sant-1', project='main')>,\n",
       " <IBMQBackend('ibm_lagos') from IBMQ(hub='ibm-q-research-2', group='federal-uni-sant-1', project='main')>,\n",
       " <IBMQBackend('ibm_nairobi') from IBMQ(hub='ibm-q-research-2', group='federal-uni-sant-1', project='main')>,\n",
       " <IBMQBackend('ibm_perth') from IBMQ(hub='ibm-q-research-2', group='federal-uni-sant-1', project='main')>,\n",
       " <IBMQBackend('ibm_oslo') from IBMQ(hub='ibm-q-research-2', group='federal-uni-sant-1', project='main')>]"
      ]
     },
     "execution_count": 7,
     "metadata": {},
     "output_type": "execute_result"
    }
   ],
   "source": [
    "# mostra quais beckends posso utilizar\n",
    "provider.backends()"
   ]
  },
  {
   "cell_type": "code",
   "execution_count": 9,
   "id": "575d962c",
   "metadata": {},
   "outputs": [],
   "source": [
    "# utilizado para obter informacoes sobre um determinado backend\n",
    "simulator = provider.get_backend('ibmq_qasm_simulator')\n",
    "device = provider.get_backend('ibmq_bogota')"
   ]
  },
  {
   "cell_type": "code",
   "execution_count": 10,
   "id": "ba24054f",
   "metadata": {},
   "outputs": [
    {
     "ename": "RequestsApiError",
     "evalue": "'404 Client Error: Not Found for url: https://api-qcon.quantum-computing.ibm.com/api/Network/ibm-q-research-2/Groups/federal-uni-sant-1/Projects/main/devices/ibmq_santiago/queue/status. Invalid Hub/Group/Project., Error code: 2911.'",
     "output_type": "error",
     "traceback": [
      "\u001b[0;31m---------------------------------------------------------------------------\u001b[0m",
      "\u001b[0;31mHTTPError\u001b[0m                                 Traceback (most recent call last)",
      "File \u001b[0;32m~/opt/anaconda3/lib/python3.8/site-packages/qiskit/providers/ibmq/api/session.py:278\u001b[0m, in \u001b[0;36mRetrySession.request\u001b[0;34m(self, method, url, bare, **kwargs)\u001b[0m\n\u001b[1;32m    277\u001b[0m     response \u001b[38;5;241m=\u001b[39m \u001b[38;5;28msuper\u001b[39m()\u001b[38;5;241m.\u001b[39mrequest(method, final_url, headers\u001b[38;5;241m=\u001b[39mheaders, \u001b[38;5;241m*\u001b[39m\u001b[38;5;241m*\u001b[39mkwargs)\n\u001b[0;32m--> 278\u001b[0m     \u001b[43mresponse\u001b[49m\u001b[38;5;241;43m.\u001b[39;49m\u001b[43mraise_for_status\u001b[49m\u001b[43m(\u001b[49m\u001b[43m)\u001b[49m\n\u001b[1;32m    279\u001b[0m \u001b[38;5;28;01mexcept\u001b[39;00m RequestException \u001b[38;5;28;01mas\u001b[39;00m ex:\n\u001b[1;32m    280\u001b[0m     \u001b[38;5;66;03m# Wrap the requests exceptions into a IBM Q custom one, for\u001b[39;00m\n\u001b[1;32m    281\u001b[0m     \u001b[38;5;66;03m# compatibility.\u001b[39;00m\n",
      "File \u001b[0;32m~/opt/anaconda3/lib/python3.8/site-packages/requests/models.py:960\u001b[0m, in \u001b[0;36mResponse.raise_for_status\u001b[0;34m(self)\u001b[0m\n\u001b[1;32m    959\u001b[0m \u001b[38;5;28;01mif\u001b[39;00m http_error_msg:\n\u001b[0;32m--> 960\u001b[0m     \u001b[38;5;28;01mraise\u001b[39;00m HTTPError(http_error_msg, response\u001b[38;5;241m=\u001b[39m\u001b[38;5;28mself\u001b[39m)\n",
      "\u001b[0;31mHTTPError\u001b[0m: 404 Client Error: Not Found for url: https://api-qcon.quantum-computing.ibm.com/api/Network/ibm-q-research-2/Groups/federal-uni-sant-1/Projects/main/devices/ibmq_santiago/queue/status",
      "\nThe above exception was the direct cause of the following exception:\n",
      "\u001b[0;31mRequestsApiError\u001b[0m                          Traceback (most recent call last)",
      "Input \u001b[0;32mIn [10]\u001b[0m, in \u001b[0;36m<cell line: 3>\u001b[0;34m()\u001b[0m\n\u001b[1;32m      1\u001b[0m \u001b[38;5;66;03m# para ter um panorama do tipo e status dos backends disponiveis\u001b[39;00m\n\u001b[1;32m      2\u001b[0m \u001b[38;5;28;01mfrom\u001b[39;00m \u001b[38;5;21;01mqiskit\u001b[39;00m\u001b[38;5;21;01m.\u001b[39;00m\u001b[38;5;21;01mtools\u001b[39;00m\u001b[38;5;21;01m.\u001b[39;00m\u001b[38;5;21;01mmonitor\u001b[39;00m \u001b[38;5;28;01mimport\u001b[39;00m backend_overview, backend_monitor\n\u001b[0;32m----> 3\u001b[0m \u001b[43mbackend_overview\u001b[49m\u001b[43m(\u001b[49m\u001b[43m)\u001b[49m\n",
      "File \u001b[0;32m~/opt/anaconda3/lib/python3.8/site-packages/qiskit/tools/monitor/overview.py:170\u001b[0m, in \u001b[0;36mbackend_overview\u001b[0;34m()\u001b[0m\n\u001b[1;32m    168\u001b[0m \u001b[38;5;66;03m# Sort backends by operational or not\u001b[39;00m\n\u001b[1;32m    169\u001b[0m \u001b[38;5;28;01mfor\u001b[39;00m idx, back \u001b[38;5;129;01min\u001b[39;00m \u001b[38;5;28menumerate\u001b[39m(unique_hardware_backends):\n\u001b[0;32m--> 170\u001b[0m     \u001b[38;5;28;01mif\u001b[39;00m \u001b[43mback\u001b[49m\u001b[38;5;241;43m.\u001b[39;49m\u001b[43mstatus\u001b[49m\u001b[43m(\u001b[49m\u001b[43m)\u001b[49m\u001b[38;5;241m.\u001b[39moperational:\n\u001b[1;32m    171\u001b[0m         _backends \u001b[38;5;241m=\u001b[39m [back] \u001b[38;5;241m+\u001b[39m _backends\n\u001b[1;32m    172\u001b[0m     \u001b[38;5;28;01melse\u001b[39;00m:\n",
      "File \u001b[0;32m~/opt/anaconda3/lib/python3.8/site-packages/qiskit/providers/ibmq/ibmqbackend.py:468\u001b[0m, in \u001b[0;36mIBMQBackend.status\u001b[0;34m(self)\u001b[0m\n\u001b[1;32m    454\u001b[0m \u001b[38;5;28;01mdef\u001b[39;00m \u001b[38;5;21mstatus\u001b[39m(\u001b[38;5;28mself\u001b[39m) \u001b[38;5;241m-\u001b[39m\u001b[38;5;241m>\u001b[39m BackendStatus:\n\u001b[1;32m    455\u001b[0m     \u001b[38;5;124;03m\"\"\"Return the backend status.\u001b[39;00m\n\u001b[1;32m    456\u001b[0m \n\u001b[1;32m    457\u001b[0m \u001b[38;5;124;03m    Note:\u001b[39;00m\n\u001b[0;32m   (...)\u001b[0m\n\u001b[1;32m    466\u001b[0m \u001b[38;5;124;03m        IBMQBackendApiProtocolError: If the status for the backend cannot be formatted properly.\u001b[39;00m\n\u001b[1;32m    467\u001b[0m \u001b[38;5;124;03m    \"\"\"\u001b[39;00m\n\u001b[0;32m--> 468\u001b[0m     api_status \u001b[38;5;241m=\u001b[39m \u001b[38;5;28;43mself\u001b[39;49m\u001b[38;5;241;43m.\u001b[39;49m\u001b[43m_api_client\u001b[49m\u001b[38;5;241;43m.\u001b[39;49m\u001b[43mbackend_status\u001b[49m\u001b[43m(\u001b[49m\u001b[38;5;28;43mself\u001b[39;49m\u001b[38;5;241;43m.\u001b[39;49m\u001b[43mname\u001b[49m\u001b[43m(\u001b[49m\u001b[43m)\u001b[49m\u001b[43m)\u001b[49m\n\u001b[1;32m    470\u001b[0m     \u001b[38;5;28;01mtry\u001b[39;00m:\n\u001b[1;32m    471\u001b[0m         \u001b[38;5;28;01mreturn\u001b[39;00m BackendStatus\u001b[38;5;241m.\u001b[39mfrom_dict(api_status)\n",
      "File \u001b[0;32m~/opt/anaconda3/lib/python3.8/site-packages/qiskit/providers/ibmq/api/clients/account.py:83\u001b[0m, in \u001b[0;36mAccountClient.backend_status\u001b[0;34m(self, backend_name)\u001b[0m\n\u001b[1;32m     74\u001b[0m \u001b[38;5;28;01mdef\u001b[39;00m \u001b[38;5;21mbackend_status\u001b[39m(\u001b[38;5;28mself\u001b[39m, backend_name: \u001b[38;5;28mstr\u001b[39m) \u001b[38;5;241m-\u001b[39m\u001b[38;5;241m>\u001b[39m Dict[\u001b[38;5;28mstr\u001b[39m, Any]:\n\u001b[1;32m     75\u001b[0m     \u001b[38;5;124;03m\"\"\"Return the status of the backend.\u001b[39;00m\n\u001b[1;32m     76\u001b[0m \n\u001b[1;32m     77\u001b[0m \u001b[38;5;124;03m    Args:\u001b[39;00m\n\u001b[0;32m   (...)\u001b[0m\n\u001b[1;32m     81\u001b[0m \u001b[38;5;124;03m        Backend status.\u001b[39;00m\n\u001b[1;32m     82\u001b[0m \u001b[38;5;124;03m    \"\"\"\u001b[39;00m\n\u001b[0;32m---> 83\u001b[0m     \u001b[38;5;28;01mreturn\u001b[39;00m \u001b[38;5;28;43mself\u001b[39;49m\u001b[38;5;241;43m.\u001b[39;49m\u001b[43maccount_api\u001b[49m\u001b[38;5;241;43m.\u001b[39;49m\u001b[43mbackend\u001b[49m\u001b[43m(\u001b[49m\u001b[43mbackend_name\u001b[49m\u001b[43m)\u001b[49m\u001b[38;5;241;43m.\u001b[39;49m\u001b[43mstatus\u001b[49m\u001b[43m(\u001b[49m\u001b[43m)\u001b[49m\n",
      "File \u001b[0;32m~/opt/anaconda3/lib/python3.8/site-packages/qiskit/providers/ibmq/api/rest/backend.py:92\u001b[0m, in \u001b[0;36mBackend.status\u001b[0;34m(self)\u001b[0m\n\u001b[1;32m     86\u001b[0m \u001b[38;5;124;03m\"\"\"Return backend status.\u001b[39;00m\n\u001b[1;32m     87\u001b[0m \n\u001b[1;32m     88\u001b[0m \u001b[38;5;124;03mReturns:\u001b[39;00m\n\u001b[1;32m     89\u001b[0m \u001b[38;5;124;03m    JSON response of backend status.\u001b[39;00m\n\u001b[1;32m     90\u001b[0m \u001b[38;5;124;03m\"\"\"\u001b[39;00m\n\u001b[1;32m     91\u001b[0m url \u001b[38;5;241m=\u001b[39m \u001b[38;5;28mself\u001b[39m\u001b[38;5;241m.\u001b[39mget_url(\u001b[38;5;124m'\u001b[39m\u001b[38;5;124mstatus\u001b[39m\u001b[38;5;124m'\u001b[39m)\n\u001b[0;32m---> 92\u001b[0m response \u001b[38;5;241m=\u001b[39m \u001b[38;5;28;43mself\u001b[39;49m\u001b[38;5;241;43m.\u001b[39;49m\u001b[43msession\u001b[49m\u001b[38;5;241;43m.\u001b[39;49m\u001b[43mget\u001b[49m\u001b[43m(\u001b[49m\u001b[43murl\u001b[49m\u001b[43m)\u001b[49m\u001b[38;5;241m.\u001b[39mjson()\n\u001b[1;32m     94\u001b[0m \u001b[38;5;66;03m# Adjust fields according to the specs (BackendStatus).\u001b[39;00m\n\u001b[1;32m     95\u001b[0m ret \u001b[38;5;241m=\u001b[39m {\n\u001b[1;32m     96\u001b[0m     \u001b[38;5;124m'\u001b[39m\u001b[38;5;124mbackend_name\u001b[39m\u001b[38;5;124m'\u001b[39m: \u001b[38;5;28mself\u001b[39m\u001b[38;5;241m.\u001b[39mbackend_name,\n\u001b[1;32m     97\u001b[0m     \u001b[38;5;124m'\u001b[39m\u001b[38;5;124mbackend_version\u001b[39m\u001b[38;5;124m'\u001b[39m: response\u001b[38;5;241m.\u001b[39mget(\u001b[38;5;124m'\u001b[39m\u001b[38;5;124mbackend_version\u001b[39m\u001b[38;5;124m'\u001b[39m, \u001b[38;5;124m'\u001b[39m\u001b[38;5;124m0.0.0\u001b[39m\u001b[38;5;124m'\u001b[39m),\n\u001b[1;32m     98\u001b[0m     \u001b[38;5;124m'\u001b[39m\u001b[38;5;124mstatus_msg\u001b[39m\u001b[38;5;124m'\u001b[39m: response\u001b[38;5;241m.\u001b[39mget(\u001b[38;5;124m'\u001b[39m\u001b[38;5;124mstatus\u001b[39m\u001b[38;5;124m'\u001b[39m, \u001b[38;5;124m'\u001b[39m\u001b[38;5;124m'\u001b[39m),\n\u001b[1;32m     99\u001b[0m     \u001b[38;5;124m'\u001b[39m\u001b[38;5;124moperational\u001b[39m\u001b[38;5;124m'\u001b[39m: \u001b[38;5;28mbool\u001b[39m(response\u001b[38;5;241m.\u001b[39mget(\u001b[38;5;124m'\u001b[39m\u001b[38;5;124mstate\u001b[39m\u001b[38;5;124m'\u001b[39m, \u001b[38;5;28;01mFalse\u001b[39;00m))\n\u001b[1;32m    100\u001b[0m }\n",
      "File \u001b[0;32m~/opt/anaconda3/lib/python3.8/site-packages/requests/sessions.py:542\u001b[0m, in \u001b[0;36mSession.get\u001b[0;34m(self, url, **kwargs)\u001b[0m\n\u001b[1;32m    534\u001b[0m \u001b[38;5;124mr\u001b[39m\u001b[38;5;124;03m\"\"\"Sends a GET request. Returns :class:`Response` object.\u001b[39;00m\n\u001b[1;32m    535\u001b[0m \n\u001b[1;32m    536\u001b[0m \u001b[38;5;124;03m:param url: URL for the new :class:`Request` object.\u001b[39;00m\n\u001b[1;32m    537\u001b[0m \u001b[38;5;124;03m:param \\*\\*kwargs: Optional arguments that ``request`` takes.\u001b[39;00m\n\u001b[1;32m    538\u001b[0m \u001b[38;5;124;03m:rtype: requests.Response\u001b[39;00m\n\u001b[1;32m    539\u001b[0m \u001b[38;5;124;03m\"\"\"\u001b[39;00m\n\u001b[1;32m    541\u001b[0m kwargs\u001b[38;5;241m.\u001b[39msetdefault(\u001b[38;5;124m'\u001b[39m\u001b[38;5;124mallow_redirects\u001b[39m\u001b[38;5;124m'\u001b[39m, \u001b[38;5;28;01mTrue\u001b[39;00m)\n\u001b[0;32m--> 542\u001b[0m \u001b[38;5;28;01mreturn\u001b[39;00m \u001b[38;5;28;43mself\u001b[39;49m\u001b[38;5;241;43m.\u001b[39;49m\u001b[43mrequest\u001b[49m\u001b[43m(\u001b[49m\u001b[38;5;124;43m'\u001b[39;49m\u001b[38;5;124;43mGET\u001b[39;49m\u001b[38;5;124;43m'\u001b[39;49m\u001b[43m,\u001b[49m\u001b[43m \u001b[49m\u001b[43murl\u001b[49m\u001b[43m,\u001b[49m\u001b[43m \u001b[49m\u001b[38;5;241;43m*\u001b[39;49m\u001b[38;5;241;43m*\u001b[39;49m\u001b[43mkwargs\u001b[49m\u001b[43m)\u001b[49m\n",
      "File \u001b[0;32m~/opt/anaconda3/lib/python3.8/site-packages/qiskit/providers/ibmq/api/session.py:300\u001b[0m, in \u001b[0;36mRetrySession.request\u001b[0;34m(self, method, url, bare, **kwargs)\u001b[0m\n\u001b[1;32m    297\u001b[0m         \u001b[38;5;66;03m# Modify the original message on the chained exceptions.\u001b[39;00m\n\u001b[1;32m    298\u001b[0m         \u001b[38;5;28mself\u001b[39m\u001b[38;5;241m.\u001b[39m_modify_chained_exception_messages(ex)\n\u001b[0;32m--> 300\u001b[0m     \u001b[38;5;28;01mraise\u001b[39;00m RequestsApiError(message, status_code) \u001b[38;5;28;01mfrom\u001b[39;00m \u001b[38;5;21;01mex\u001b[39;00m\n\u001b[1;32m    302\u001b[0m \u001b[38;5;28;01mreturn\u001b[39;00m response\n",
      "\u001b[0;31mRequestsApiError\u001b[0m: '404 Client Error: Not Found for url: https://api-qcon.quantum-computing.ibm.com/api/Network/ibm-q-research-2/Groups/federal-uni-sant-1/Projects/main/devices/ibmq_santiago/queue/status. Invalid Hub/Group/Project., Error code: 2911.'"
     ]
    }
   ],
   "source": [
    "# para ter um panorama do tipo e status dos backends disponiveis\n",
    "from qiskit.tools.monitor import backend_overview, backend_monitor\n",
    "backend_overview()"
   ]
  },
  {
   "cell_type": "code",
   "execution_count": 13,
   "id": "41cef668",
   "metadata": {},
   "outputs": [
    {
     "name": "stdout",
     "output_type": "stream",
     "text": [
      "ibmq_bogota\n",
      "===========\n",
      "Configuration\n",
      "-------------\n",
      "    n_qubits: 5\n",
      "    operational: True\n",
      "    status_msg: active\n",
      "    pending_jobs: 59\n",
      "    backend_version: 1.6.30\n",
      "    basis_gates: ['id', 'rz', 'sx', 'x', 'cx', 'reset']\n",
      "    local: False\n",
      "    simulator: False\n",
      "    conditional_latency: []\n",
      "    meas_kernels: ['hw_qmfk']\n",
      "    n_uchannels: 8\n",
      "    supported_features: ['qobj']\n",
      "    sample_name: family: Falcon, revision: 4, segment: L\n",
      "    processor_type: {'family': 'Falcon', 'revision': 4, 'segment': 'L'}\n",
      "    allow_q_object: True\n",
      "    quantum_volume: 32\n",
      "    timing_constraints: {'acquire_alignment': 16, 'granularity': 16, 'min_length': 64, 'pulse_alignment': 1}\n",
      "    u_channel_lo: [[{'q': 1, 'scale': (1+0j)}], [{'q': 0, 'scale': (1+0j)}], [{'q': 2, 'scale': (1+0j)}], [{'q': 1, 'scale': (1+0j)}], [{'q': 3, 'scale': (1+0j)}], [{'q': 2, 'scale': (1+0j)}], [{'q': 4, 'scale': (1+0j)}], [{'q': 3, 'scale': (1+0j)}]]\n",
      "    live_data: False\n",
      "    measure_esp_enabled: False\n",
      "    multi_meas_enabled: True\n",
      "    pulse_num_qubits: 3\n",
      "    allow_object_storage: True\n",
      "    uchannels_enabled: True\n",
      "    max_shots: 20000\n",
      "    dynamic_reprate_enabled: True\n",
      "    rep_delay_range: [0.0, 500.0]\n",
      "    open_pulse: False\n",
      "    qubit_channel_mapping: [['u1', 'u0', 'd0', 'm0'], ['d1', 'u0', 'm1', 'u2', 'u3', 'u1'], ['m2', 'd2', 'u2', 'u3', 'u4', 'u5'], ['u7', 'u6', 'm3', 'd3', 'u4', 'u5'], ['m4', 'u7', 'd4', 'u6']]\n",
      "    backend_name: ibmq_bogota\n",
      "    description: 5 qubit device\n",
      "    acquisition_latency: []\n",
      "    meas_lo_range: [[6.772076418, 7.772076418], [6.888069559000001, 7.888069559000001], [6.834793510000001, 7.834793510000001], [6.703996181000001, 7.703996181000001], [6.949439617, 7.949439617]]\n",
      "    discriminators: ['linear_discriminator', 'quadratic_discriminator', 'hw_qmfk']\n",
      "    clops: 2304\n",
      "    supported_instructions: ['x', 'id', 'sx', 'setf', 'shiftf', 'u2', 'reset', 'delay', 'rz', 'acquire', 'play', 'cx', 'u3', 'measure', 'u1']\n",
      "    parametric_pulses: ['gaussian', 'gaussian_square', 'drag', 'constant']\n",
      "    default_rep_delay: 250.0\n",
      "    channels: {'acquire0': {'operates': {'qubits': [0]}, 'purpose': 'acquire', 'type': 'acquire'}, 'acquire1': {'operates': {'qubits': [1]}, 'purpose': 'acquire', 'type': 'acquire'}, 'acquire2': {'operates': {'qubits': [2]}, 'purpose': 'acquire', 'type': 'acquire'}, 'acquire3': {'operates': {'qubits': [3]}, 'purpose': 'acquire', 'type': 'acquire'}, 'acquire4': {'operates': {'qubits': [4]}, 'purpose': 'acquire', 'type': 'acquire'}, 'd0': {'operates': {'qubits': [0]}, 'purpose': 'drive', 'type': 'drive'}, 'd1': {'operates': {'qubits': [1]}, 'purpose': 'drive', 'type': 'drive'}, 'd2': {'operates': {'qubits': [2]}, 'purpose': 'drive', 'type': 'drive'}, 'd3': {'operates': {'qubits': [3]}, 'purpose': 'drive', 'type': 'drive'}, 'd4': {'operates': {'qubits': [4]}, 'purpose': 'drive', 'type': 'drive'}, 'm0': {'operates': {'qubits': [0]}, 'purpose': 'measure', 'type': 'measure'}, 'm1': {'operates': {'qubits': [1]}, 'purpose': 'measure', 'type': 'measure'}, 'm2': {'operates': {'qubits': [2]}, 'purpose': 'measure', 'type': 'measure'}, 'm3': {'operates': {'qubits': [3]}, 'purpose': 'measure', 'type': 'measure'}, 'm4': {'operates': {'qubits': [4]}, 'purpose': 'measure', 'type': 'measure'}, 'u0': {'operates': {'qubits': [0, 1]}, 'purpose': 'cross-resonance', 'type': 'control'}, 'u1': {'operates': {'qubits': [1, 0]}, 'purpose': 'cross-resonance', 'type': 'control'}, 'u2': {'operates': {'qubits': [1, 2]}, 'purpose': 'cross-resonance', 'type': 'control'}, 'u3': {'operates': {'qubits': [2, 1]}, 'purpose': 'cross-resonance', 'type': 'control'}, 'u4': {'operates': {'qubits': [2, 3]}, 'purpose': 'cross-resonance', 'type': 'control'}, 'u5': {'operates': {'qubits': [3, 2]}, 'purpose': 'cross-resonance', 'type': 'control'}, 'u6': {'operates': {'qubits': [3, 4]}, 'purpose': 'cross-resonance', 'type': 'control'}, 'u7': {'operates': {'qubits': [4, 3]}, 'purpose': 'cross-resonance', 'type': 'control'}}\n",
      "    url: None\n",
      "    pulse_num_channels: 9\n",
      "    qubit_lo_range: [[4.5005000035503375, 5.5005000035503375], [4.349827253858796, 5.349827253858796], [4.282800033281538, 5.282800033281538], [4.358443085215396, 5.358443085215396], [4.478018677458313, 5.478018677458313]]\n",
      "    credits_required: True\n",
      "    max_experiments: 100\n",
      "    dt: 0.2222222222222222\n",
      "    meas_map: [[0, 1, 2, 3, 4]]\n",
      "    rep_times: [1000.0]\n",
      "    hamiltonian: {'description': 'Qubits are modeled as Duffing oscillators. In this case, the system includes higher energy states, i.e. not just |0> and |1>. The Pauli operators are generalized via the following set of transformations:\\n\\n$(\\\\mathbb{I}-\\\\sigma_{i}^z)/2 \\\\rightarrow O_i \\\\equiv b^\\\\dagger_{i} b_{i}$,\\n\\n$\\\\sigma_{+} \\\\rightarrow b^\\\\dagger$,\\n\\n$\\\\sigma_{-} \\\\rightarrow b$,\\n\\n$\\\\sigma_{i}^X \\\\rightarrow b^\\\\dagger_{i} + b_{i}$.\\n\\nQubits are coupled through resonator buses. The provided Hamiltonian has been projected into the zero excitation subspace of the resonator buses leading to an effective qubit-qubit flip-flop interaction. The qubit resonance frequencies in the Hamiltonian are the cavity dressed frequencies and not exactly what is returned by the backend defaults, which also includes the dressing due to the qubit-qubit interactions.\\n\\nQuantities are returned in angular frequencies, with units 2*pi*GHz.\\n\\nWARNING: Currently not all system Hamiltonian information is available to the public, missing values have been replaced with 0.\\n', 'h_latex': '\\\\begin{align} \\\\mathcal{H}/\\\\hbar = & \\\\sum_{i=0}^{4}\\\\left(\\\\frac{\\\\omega_{q,i}}{2}(\\\\mathbb{I}-\\\\sigma_i^{z})+\\\\frac{\\\\Delta_{i}}{2}(O_i^2-O_i)+\\\\Omega_{d,i}D_i(t)\\\\sigma_i^{X}\\\\right) \\\\\\\\ & + J_{0,1}(\\\\sigma_{0}^{+}\\\\sigma_{1}^{-}+\\\\sigma_{0}^{-}\\\\sigma_{1}^{+}) + J_{1,2}(\\\\sigma_{1}^{+}\\\\sigma_{2}^{-}+\\\\sigma_{1}^{-}\\\\sigma_{2}^{+}) + J_{2,3}(\\\\sigma_{2}^{+}\\\\sigma_{3}^{-}+\\\\sigma_{2}^{-}\\\\sigma_{3}^{+}) + J_{3,4}(\\\\sigma_{3}^{+}\\\\sigma_{4}^{-}+\\\\sigma_{3}^{-}\\\\sigma_{4}^{+}) \\\\\\\\ & + \\\\Omega_{d,0}(U_{0}^{(0,1)}(t))\\\\sigma_{0}^{X} + \\\\Omega_{d,1}(U_{1}^{(1,0)}(t)+U_{2}^{(1,2)}(t))\\\\sigma_{1}^{X} \\\\\\\\ & + \\\\Omega_{d,2}(U_{3}^{(2,1)}(t)+U_{4}^{(2,3)}(t))\\\\sigma_{2}^{X} + \\\\Omega_{d,3}(U_{6}^{(3,4)}(t)+U_{5}^{(3,2)}(t))\\\\sigma_{3}^{X} \\\\\\\\ & + \\\\Omega_{d,4}(U_{7}^{(4,3)}(t))\\\\sigma_{4}^{X} \\\\\\\\ \\\\end{align}', 'h_str': ['_SUM[i,0,4,wq{i}/2*(I{i}-Z{i})]', '_SUM[i,0,4,delta{i}/2*O{i}*O{i}]', '_SUM[i,0,4,-delta{i}/2*O{i}]', '_SUM[i,0,4,omegad{i}*X{i}||D{i}]', 'jq0q1*Sp0*Sm1', 'jq0q1*Sm0*Sp1', 'jq1q2*Sp1*Sm2', 'jq1q2*Sm1*Sp2', 'jq2q3*Sp2*Sm3', 'jq2q3*Sm2*Sp3', 'jq3q4*Sp3*Sm4', 'jq3q4*Sm3*Sp4', 'omegad1*X0||U0', 'omegad0*X1||U1', 'omegad2*X1||U2', 'omegad1*X2||U3', 'omegad3*X2||U4', 'omegad4*X3||U6', 'omegad2*X3||U5', 'omegad3*X4||U7'], 'osc': {}, 'qub': {'0': 3, '1': 3, '2': 3, '3': 3, '4': 3}, 'vars': {'delta0': -2.1168066248956294, 'delta1': -2.045587493860228, 'delta2': -2.136766405037212, 'delta3': -2.0439252061775535, 'delta4': -2.1196800859699487, 'jq0q1': 0.008308293226045198, 'jq1q2': 0.00742380429123757, 'jq2q3': 0.008306892304618858, 'jq3q4': 0.008809523135217767, 'omegad0': 1.0105778040709568, 'omegad1': 1.1049532704053748, 'omegad2': 1.0083378904641986, 'omegad3': 1.0017448191222433, 'omegad4': 1.0239908715014594, 'wq0': 31.419068150858944, 'wq1': 30.47236334380471, 'wq2': 30.051218896292596, 'wq3': 30.526498208793633, 'wq4': 31.277813813071635}}\n",
      "    n_registers: 1\n",
      "    dtm: 0.2222222222222222\n",
      "    memory: True\n",
      "    conditional: False\n",
      "    coupling_map: [[0, 1], [1, 0], [1, 2], [2, 1], [2, 3], [3, 2], [3, 4], [4, 3]]\n",
      "    meas_levels: [1, 2]\n",
      "    input_allowed: ['job', 'runtime']\n",
      "    online_date: 2020-06-03 04:00:00+00:00\n",
      "\n",
      "Qubits [Name / Freq / T1 / T2 / RZ err / SX err / X err / Readout err]\n",
      "----------------------------------------------------------------------\n",
      "    Q0 / 5.00050 GHz / 99.21401 us / 85.70281 us / 0.00000 / 0.00036 / 0.00036 / 0.02580 \n",
      "    Q1 / 4.84983 GHz / 99.87410 us / 122.10498 us / 0.00000 / 0.00022 / 0.00022 / 0.08710 \n",
      "    Q2 / 4.78280 GHz / 166.16832 us / 195.61202 us / 0.00000 / 0.00013 / 0.00013 / 0.06220 \n",
      "    Q3 / 4.85844 GHz / 93.12870 us / 249.42516 us / 0.00000 / 0.03627 / 0.03627 / 0.04670 \n",
      "    Q4 / 4.97802 GHz / 148.76013 us / 112.77572 us / 0.00000 / 0.00020 / 0.00020 / 0.01690 \n",
      "\n",
      "Multi-Qubit Gates [Name / Type / Gate Error]\n",
      "--------------------------------------------\n",
      "    cx4_3 / cx / 0.01376\n",
      "    cx3_4 / cx / 0.01376\n",
      "    cx3_2 / cx / 0.01550\n",
      "    cx2_3 / cx / 0.01550\n",
      "    cx1_2 / cx / 0.00633\n",
      "    cx2_1 / cx / 0.00633\n",
      "    cx1_0 / cx / 0.01232\n",
      "    cx0_1 / cx / 0.01232\n",
      "None\n"
     ]
    }
   ],
   "source": [
    "# informacao detalhada sobre um determinado backend\n",
    "chip_info = backend_monitor(device); print(chip_info)"
   ]
  },
  {
   "cell_type": "code",
   "execution_count": 17,
   "id": "f2b21d0a",
   "metadata": {},
   "outputs": [
    {
     "data": {
      "text/plain": [
       "15.0"
      ]
     },
     "execution_count": 17,
     "metadata": {},
     "output_type": "execute_result"
    }
   ],
   "source": [
    "(60*25)/100"
   ]
  },
  {
   "cell_type": "code",
   "execution_count": null,
   "id": "ed7f6598",
   "metadata": {},
   "outputs": [],
   "source": []
  }
 ],
 "metadata": {
  "kernelspec": {
   "display_name": "Python 3 (ipykernel)",
   "language": "python",
   "name": "python3"
  },
  "language_info": {
   "codemirror_mode": {
    "name": "ipython",
    "version": 3
   },
   "file_extension": ".py",
   "mimetype": "text/x-python",
   "name": "python",
   "nbconvert_exporter": "python",
   "pygments_lexer": "ipython3",
   "version": "3.8.8"
  }
 },
 "nbformat": 4,
 "nbformat_minor": 5
}
