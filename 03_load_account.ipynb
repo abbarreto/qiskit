{
 "cells": [
  {
   "cell_type": "code",
   "execution_count": 1,
   "id": "03e1d09a",
   "metadata": {},
   "outputs": [],
   "source": [
    "# importa o qiskit, cujas funcoes podemos entao usar\n",
    "import qiskit\n"
   ]
  },
  {
   "cell_type": "code",
   "execution_count": null,
   "id": "3e29f09a",
   "metadata": {},
   "outputs": [],
   "source": [
    "# para ver que versoes das ferramentas do qiskit temos instaladas\n",
    "qiskit.__qiskit_version__"
   ]
  },
  {
   "cell_type": "code",
   "execution_count": 2,
   "id": "1f6f7da4",
   "metadata": {},
   "outputs": [],
   "source": [
    "# determina o API token a ser usado\n",
    "qiskit.IBMQ.save_account('c3abc4f5e279bf0f21119ed5d30806ba3f6aed40fdf881bf182fc59c8aca0b0746bb8dfa73a4b92af86d3d7705101e36633b4f23854bdbac6f2f94304c5d524c', \n",
    "                  overwrite = True)"
   ]
  },
  {
   "cell_type": "code",
   "execution_count": 3,
   "id": "45df71a4",
   "metadata": {},
   "outputs": [],
   "source": [
    "# conecta meu computador com minha conta IBMQ na nuvem\n",
    "qiskit.IBMQ.load_account();"
   ]
  },
  {
   "cell_type": "code",
   "execution_count": 4,
   "id": "f81f2805",
   "metadata": {},
   "outputs": [],
   "source": [
    "# determina qual das minhas \"contas\" vou usar. \n",
    "#provider = qiskit.IBMQ.get_provider(hub='ibm-q', group='open', project='main')\n",
    "provider = qiskit.IBMQ.get_provider(hub = 'ibm-q-research-2', group = 'federal-uni-sant-1', project = 'main')"
   ]
  },
  {
   "cell_type": "code",
   "execution_count": 5,
   "id": "cedf8fdd",
   "metadata": {},
   "outputs": [
    {
     "data": {
      "text/plain": [
       "[<IBMQSimulator('ibmq_qasm_simulator') from IBMQ(hub='ibm-q-research-2', group='federal-uni-sant-1', project='main')>,\n",
       " <IBMQBackend('ibmq_armonk') from IBMQ(hub='ibm-q-research-2', group='federal-uni-sant-1', project='main')>,\n",
       " <IBMQBackend('ibmq_santiago') from IBMQ(hub='ibm-q-research-2', group='federal-uni-sant-1', project='main')>,\n",
       " <IBMQBackend('ibmq_bogota') from IBMQ(hub='ibm-q-research-2', group='federal-uni-sant-1', project='main')>,\n",
       " <IBMQBackend('ibmq_casablanca') from IBMQ(hub='ibm-q-research-2', group='federal-uni-sant-1', project='main')>,\n",
       " <IBMQBackend('ibmq_lima') from IBMQ(hub='ibm-q-research-2', group='federal-uni-sant-1', project='main')>,\n",
       " <IBMQBackend('ibmq_belem') from IBMQ(hub='ibm-q-research-2', group='federal-uni-sant-1', project='main')>,\n",
       " <IBMQBackend('ibmq_quito') from IBMQ(hub='ibm-q-research-2', group='federal-uni-sant-1', project='main')>,\n",
       " <IBMQSimulator('simulator_statevector') from IBMQ(hub='ibm-q-research-2', group='federal-uni-sant-1', project='main')>,\n",
       " <IBMQSimulator('simulator_mps') from IBMQ(hub='ibm-q-research-2', group='federal-uni-sant-1', project='main')>,\n",
       " <IBMQSimulator('simulator_extended_stabilizer') from IBMQ(hub='ibm-q-research-2', group='federal-uni-sant-1', project='main')>,\n",
       " <IBMQSimulator('simulator_stabilizer') from IBMQ(hub='ibm-q-research-2', group='federal-uni-sant-1', project='main')>,\n",
       " <IBMQBackend('ibmq_jakarta') from IBMQ(hub='ibm-q-research-2', group='federal-uni-sant-1', project='main')>,\n",
       " <IBMQBackend('ibmq_manila') from IBMQ(hub='ibm-q-research-2', group='federal-uni-sant-1', project='main')>,\n",
       " <IBMQBackend('ibm_lagos') from IBMQ(hub='ibm-q-research-2', group='federal-uni-sant-1', project='main')>]"
      ]
     },
     "execution_count": 5,
     "metadata": {},
     "output_type": "execute_result"
    }
   ],
   "source": [
    "# mostra quais beckends posso utilizar\n",
    "provider.backends()"
   ]
  },
  {
   "cell_type": "code",
   "execution_count": null,
   "id": "575d962c",
   "metadata": {},
   "outputs": [],
   "source": [
    "# utilizado para obter informacoes sobre um determinado backend\n",
    "simulator = provider.get_backend('ibmq_qasm_simulator')\n",
    "device = provider.get_backend('ibmq_belem')"
   ]
  },
  {
   "cell_type": "code",
   "execution_count": 37,
   "id": "77202ede",
   "metadata": {},
   "outputs": [],
   "source": [
    "from qiskit.tools.monitor import backend_overview, backend_monitor"
   ]
  },
  {
   "cell_type": "code",
   "execution_count": 38,
   "id": "ba24054f",
   "metadata": {},
   "outputs": [
    {
     "name": "stdout",
     "output_type": "stream",
     "text": [
      "ibm_lagos                    ibmq_jakarta                 ibmq_casablanca\n",
      "---------                    ------------                 ---------------\n",
      "Num. Qubits:  7              Num. Qubits:  7              Num. Qubits:  7\n",
      "Pending Jobs: 9              Pending Jobs: 4              Pending Jobs: 10\n",
      "Least busy:   False          Least busy:   True           Least busy:   False\n",
      "Operational:  True           Operational:  True           Operational:  True\n",
      "Avg. T1:      131.0          Avg. T1:      132.4          Avg. T1:      98.1\n",
      "Avg. T2:      73.8           Avg. T2:      38.1           Avg. T2:      123.1\n",
      "\n",
      "\n",
      "\n",
      "ibmq_manila                  ibmq_quito                   ibmq_belem\n",
      "-----------                  ----------                   ----------\n",
      "Num. Qubits:  5              Num. Qubits:  5              Num. Qubits:  5\n",
      "Pending Jobs: 40             Pending Jobs: 8              Pending Jobs: 21\n",
      "Least busy:   False          Least busy:   False          Least busy:   False\n",
      "Operational:  True           Operational:  True           Operational:  True\n",
      "Avg. T1:      154.5          Avg. T1:      84.9           Avg. T1:      78.6\n",
      "Avg. T2:      60.6           Avg. T2:      114.9          Avg. T2:      103.4\n",
      "\n",
      "\n",
      "\n",
      "ibmq_lima                    ibmq_bogota                  ibmq_santiago\n",
      "---------                    -----------                  -------------\n",
      "Num. Qubits:  5              Num. Qubits:  5              Num. Qubits:  5\n",
      "Pending Jobs: 18             Pending Jobs: 762            Pending Jobs: 120\n",
      "Least busy:   False          Least busy:   False          Least busy:   False\n",
      "Operational:  True           Operational:  True           Operational:  True\n",
      "Avg. T1:      92.2           Avg. T1:      71.1           Avg. T1:      67.4\n",
      "Avg. T2:      104.1          Avg. T2:      79.2           Avg. T2:      80.4\n",
      "\n",
      "\n",
      "\n",
      "ibmq_armonk\n",
      "-----------\n",
      "Num. Qubits:  1\n",
      "Pending Jobs: 9\n",
      "Least busy:   False\n",
      "Operational:  True\n",
      "Avg. T1:      75.4\n",
      "Avg. T2:      175.6\n",
      "\n",
      "\n",
      "\n"
     ]
    }
   ],
   "source": [
    "# para ter um panorama do tipo e status dos backends disponiveis\n",
    "backend_overview()"
   ]
  },
  {
   "cell_type": "code",
   "execution_count": 39,
   "id": "41cef668",
   "metadata": {},
   "outputs": [
    {
     "name": "stdout",
     "output_type": "stream",
     "text": [
      "ibmq_belem\n",
      "==========\n",
      "Configuration\n",
      "-------------\n",
      "    n_qubits: 5\n",
      "    operational: True\n",
      "    status_msg: active\n",
      "    pending_jobs: 1\n",
      "    backend_version: 1.0.22\n",
      "    basis_gates: ['id', 'rz', 'sx', 'x', 'cx', 'reset']\n",
      "    local: False\n",
      "    simulator: False\n",
      "    qubit_lo_range: [[4.5901491069611684e+18, 5.590149106961168e+18], [4.745567934905724e+18, 5.745567934905724e+18], [4.861417914941474e+18, 5.861417914941474e+18], [4.670382927988095e+18, 5.670382927988095e+18], [4.758461545136133e+18, 5.758461545136133e+18]]\n",
      "    rep_times: [0.001]\n",
      "    allow_object_storage: True\n",
      "    measure_esp_enabled: False\n",
      "    supported_instructions: ['sx', 'setf', 'reset', 'u3', 'u2', 'u1', 'cx', 'id', 'rz', 'play', 'measure', 'shiftf', 'x', 'acquire', 'delay']\n",
      "    quantum_volume: 16\n",
      "    timing_constraints: {'acquire_alignment': 16, 'granularity': 16, 'min_length': 64, 'pulse_alignment': 1}\n",
      "    dt: 0.2222222222222222\n",
      "    multi_meas_enabled: True\n",
      "    qubit_channel_mapping: [['u1', 'm0', 'd0', 'u0'], ['m1', 'u3', 'u2', 'u4', 'u1', 'u0', 'd1', 'u5'], ['d2', 'u2', 'u4', 'm2'], ['m3', 'u7', 'u3', 'd3', 'u6', 'u5'], ['m4', 'u7', 'd4', 'u6']]\n",
      "    acquisition_latency: []\n",
      "    open_pulse: False\n",
      "    meas_lo_range: [[6.801661824e+18, 7.801661824e+18], [6.893433372e+18, 7.893433372e+18], [6.860214726e+18, 7.860214726e+18], [6.803382327e+18, 7.803382327e+18], [6.926310916e+18, 7.926310916e+18]]\n",
      "    memory: True\n",
      "    meas_map: [[0, 1, 2, 3, 4]]\n",
      "    coupling_map: [[0, 1], [1, 0], [1, 2], [1, 3], [2, 1], [3, 1], [3, 4], [4, 3]]\n",
      "    rep_delay_range: [0.0, 500.0]\n",
      "    dtm: 0.2222222222222222\n",
      "    processor_type: {'family': 'Falcon', 'revision': 4, 'segment': 'T'}\n",
      "    dynamic_reprate_enabled: True\n",
      "    channels: {'acquire0': {'operates': {'qubits': [0]}, 'purpose': 'acquire', 'type': 'acquire'}, 'acquire1': {'operates': {'qubits': [1]}, 'purpose': 'acquire', 'type': 'acquire'}, 'acquire2': {'operates': {'qubits': [2]}, 'purpose': 'acquire', 'type': 'acquire'}, 'acquire3': {'operates': {'qubits': [3]}, 'purpose': 'acquire', 'type': 'acquire'}, 'acquire4': {'operates': {'qubits': [4]}, 'purpose': 'acquire', 'type': 'acquire'}, 'd0': {'operates': {'qubits': [0]}, 'purpose': 'drive', 'type': 'drive'}, 'd1': {'operates': {'qubits': [1]}, 'purpose': 'drive', 'type': 'drive'}, 'd2': {'operates': {'qubits': [2]}, 'purpose': 'drive', 'type': 'drive'}, 'd3': {'operates': {'qubits': [3]}, 'purpose': 'drive', 'type': 'drive'}, 'd4': {'operates': {'qubits': [4]}, 'purpose': 'drive', 'type': 'drive'}, 'm0': {'operates': {'qubits': [0]}, 'purpose': 'measure', 'type': 'measure'}, 'm1': {'operates': {'qubits': [1]}, 'purpose': 'measure', 'type': 'measure'}, 'm2': {'operates': {'qubits': [2]}, 'purpose': 'measure', 'type': 'measure'}, 'm3': {'operates': {'qubits': [3]}, 'purpose': 'measure', 'type': 'measure'}, 'm4': {'operates': {'qubits': [4]}, 'purpose': 'measure', 'type': 'measure'}, 'u0': {'operates': {'qubits': [0, 1]}, 'purpose': 'cross-resonance', 'type': 'control'}, 'u1': {'operates': {'qubits': [1, 0]}, 'purpose': 'cross-resonance', 'type': 'control'}, 'u2': {'operates': {'qubits': [1, 2]}, 'purpose': 'cross-resonance', 'type': 'control'}, 'u3': {'operates': {'qubits': [1, 3]}, 'purpose': 'cross-resonance', 'type': 'control'}, 'u4': {'operates': {'qubits': [2, 1]}, 'purpose': 'cross-resonance', 'type': 'control'}, 'u5': {'operates': {'qubits': [3, 1]}, 'purpose': 'cross-resonance', 'type': 'control'}, 'u6': {'operates': {'qubits': [3, 4]}, 'purpose': 'cross-resonance', 'type': 'control'}, 'u7': {'operates': {'qubits': [4, 3]}, 'purpose': 'cross-resonance', 'type': 'control'}}\n",
      "    u_channel_lo: [[{'q': 1, 'scale': (1+0j)}], [{'q': 0, 'scale': (1+0j)}], [{'q': 2, 'scale': (1+0j)}], [{'q': 3, 'scale': (1+0j)}], [{'q': 1, 'scale': (1+0j)}], [{'q': 1, 'scale': (1+0j)}], [{'q': 4, 'scale': (1+0j)}], [{'q': 3, 'scale': (1+0j)}]]\n",
      "    pulse_num_channels: 9\n",
      "    backend_name: ibmq_belem\n",
      "    meas_levels: [1, 2]\n",
      "    n_registers: 1\n",
      "    input_allowed: ['job', 'runtime']\n",
      "    n_uchannels: 8\n",
      "    max_shots: 8192\n",
      "    url: None\n",
      "    credits_required: True\n",
      "    uchannels_enabled: True\n",
      "    hamiltonian: {'description': 'Qubits are modeled as Duffing oscillators. In this case, the system includes higher energy states, i.e. not just |0> and |1>. The Pauli operators are generalized via the following set of transformations:\\n\\n$(\\\\mathbb{I}-\\\\sigma_{i}^z)/2 \\\\rightarrow O_i \\\\equiv b^\\\\dagger_{i} b_{i}$,\\n\\n$\\\\sigma_{+} \\\\rightarrow b^\\\\dagger$,\\n\\n$\\\\sigma_{-} \\\\rightarrow b$,\\n\\n$\\\\sigma_{i}^X \\\\rightarrow b^\\\\dagger_{i} + b_{i}$.\\n\\nQubits are coupled through resonator buses. The provided Hamiltonian has been projected into the zero excitation subspace of the resonator buses leading to an effective qubit-qubit flip-flop interaction. The qubit resonance frequencies in the Hamiltonian are the cavity dressed frequencies and not exactly what is returned by the backend defaults, which also includes the dressing due to the qubit-qubit interactions.\\n\\nQuantities are returned in angular frequencies, with units 2*pi*GHz.\\n\\nWARNING: Currently not all system Hamiltonian information is available to the public, missing values have been replaced with 0.\\n', 'h_latex': '\\\\begin{align} \\\\mathcal{H}/\\\\hbar = & \\\\sum_{i=0}^{4}\\\\left(\\\\frac{\\\\omega_{q,i}}{2}(\\\\mathbb{I}-\\\\sigma_i^{z})+\\\\frac{\\\\Delta_{i}}{2}(O_i^2-O_i)+\\\\Omega_{d,i}D_i(t)\\\\sigma_i^{X}\\\\right) \\\\\\\\ & + J_{0,1}(\\\\sigma_{0}^{+}\\\\sigma_{1}^{-}+\\\\sigma_{0}^{-}\\\\sigma_{1}^{+}) + J_{1,2}(\\\\sigma_{1}^{+}\\\\sigma_{2}^{-}+\\\\sigma_{1}^{-}\\\\sigma_{2}^{+}) + J_{1,3}(\\\\sigma_{1}^{+}\\\\sigma_{3}^{-}+\\\\sigma_{1}^{-}\\\\sigma_{3}^{+}) + J_{3,4}(\\\\sigma_{3}^{+}\\\\sigma_{4}^{-}+\\\\sigma_{3}^{-}\\\\sigma_{4}^{+}) \\\\\\\\ & + \\\\Omega_{d,0}(U_{0}^{(0,1)}(t))\\\\sigma_{0}^{X} + \\\\Omega_{d,1}(U_{1}^{(1,0)}(t)+U_{3}^{(1,3)}(t)+U_{2}^{(1,2)}(t))\\\\sigma_{1}^{X} \\\\\\\\ & + \\\\Omega_{d,2}(U_{4}^{(2,1)}(t))\\\\sigma_{2}^{X} + \\\\Omega_{d,3}(U_{6}^{(3,4)}(t)+U_{5}^{(3,1)}(t))\\\\sigma_{3}^{X} \\\\\\\\ & + \\\\Omega_{d,4}(U_{7}^{(4,3)}(t))\\\\sigma_{4}^{X} \\\\\\\\ \\\\end{align}', 'h_str': ['_SUM[i,0,4,wq{i}/2*(I{i}-Z{i})]', '_SUM[i,0,4,delta{i}/2*O{i}*O{i}]', '_SUM[i,0,4,-delta{i}/2*O{i}]', '_SUM[i,0,4,omegad{i}*X{i}||D{i}]', 'jq0q1*Sp0*Sm1', 'jq0q1*Sm0*Sp1', 'jq1q2*Sp1*Sm2', 'jq1q2*Sm1*Sp2', 'jq1q3*Sp1*Sm3', 'jq1q3*Sm1*Sp3', 'jq3q4*Sp3*Sm4', 'jq3q4*Sm3*Sp4', 'omegad1*X0||U0', 'omegad0*X1||U1', 'omegad3*X1||U3', 'omegad2*X1||U2', 'omegad1*X2||U4', 'omegad4*X3||U6', 'omegad1*X3||U5', 'omegad3*X4||U7'], 'osc': {}, 'qub': {'0': 3, '1': 3, '2': 3, '3': 3, '4': 3}, 'vars': {'delta0': -2.1119231275656283, 'delta1': -1.989081364755034, 'delta2': -2.0773937776320905, 'delta3': -2.096945401946966, 'delta4': -2.0819029355928373, 'jq0q1': 0.011772262300160973, 'jq1q2': 0.012605700949390706, 'jq1q3': 0.012591488659137172, 'jq3q4': 0.01051661912410011, 'omegad0': 0.796191891916047, 'omegad1': 0.7977189918150115, 'omegad2': 1.9785491864636544, 'omegad3': 0.775194901545128, 'omegad4': 0.605634845108825, 'wq0': 31.982350080211706, 'wq1': 32.95887537641201, 'wq2': 33.68678226880969, 'wq3': 32.48647404562697, 'wq4': 33.03988831876822}}\n",
      "    max_experiments: 75\n",
      "    parametric_pulses: ['gaussian', 'gaussian_square', 'drag', 'constant']\n",
      "    allow_q_object: True\n",
      "    online_date: 2021-01-08 05:00:00+00:00\n",
      "    description: 5 qubit device Belem\n",
      "    discriminators: ['quadratic_discriminator', 'linear_discriminator', 'hw_centroid']\n",
      "    pulse_num_qubits: 3\n",
      "    conditional: False\n",
      "    sample_name: family: Falcon, revision: 4, segment: T\n",
      "    meas_kernels: ['hw_boxcar']\n",
      "    conditional_latency: []\n",
      "    default_rep_delay: 250.0\n",
      "\n",
      "Qubits [Name / Freq / T1 / T2 / RZ err / SX err / X err / Readout err]\n",
      "----------------------------------------------------------------------\n",
      "    Q0 / 5.09015 GHz / 91.00293 us / 132.83334 us / 0.00000 / 0.00017 / 0.00017 / 0.01970 \n",
      "    Q1 / 5.24557 GHz / 58.46375 us / 89.20201 us / 0.00000 / 0.00024 / 0.00024 / 0.02140 \n",
      "    Q2 / 5.36143 GHz / 77.42641 us / 45.32583 us / 0.00000 / 0.00077 / 0.00077 / 0.06930 \n",
      "    Q3 / 5.17038 GHz / 108.06912 us / 141.07473 us / 0.00000 / 0.00031 / 0.00031 / 0.05090 \n",
      "    Q4 / 5.25846 GHz / 58.19410 us / 108.41123 us / 0.00000 / 0.00022 / 0.00022 / 0.02360 \n",
      "\n",
      "Multi-Qubit Gates [Name / Type / Gate Error]\n",
      "--------------------------------------------\n",
      "    cx4_3 / cx / 0.00741\n",
      "    cx3_4 / cx / 0.00741\n",
      "    cx3_1 / cx / 0.01348\n",
      "    cx1_3 / cx / 0.01348\n",
      "    cx2_1 / cx / 0.00893\n",
      "    cx1_2 / cx / 0.00893\n",
      "    cx1_0 / cx / 0.01501\n",
      "    cx0_1 / cx / 0.01501\n"
     ]
    }
   ],
   "source": [
    "# informacao detalhada sobre um determinado backend\n",
    "backend_monitor(device)"
   ]
  },
  {
   "cell_type": "code",
   "execution_count": null,
   "id": "f2b21d0a",
   "metadata": {},
   "outputs": [],
   "source": []
  }
 ],
 "metadata": {
  "kernelspec": {
   "display_name": "Python 3",
   "language": "python",
   "name": "python3"
  },
  "language_info": {
   "codemirror_mode": {
    "name": "ipython",
    "version": 3
   },
   "file_extension": ".py",
   "mimetype": "text/x-python",
   "name": "python",
   "nbconvert_exporter": "python",
   "pygments_lexer": "ipython3",
   "version": "3.8.11"
  }
 },
 "nbformat": 4,
 "nbformat_minor": 5
}
