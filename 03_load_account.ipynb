{
 "cells": [
  {
   "cell_type": "code",
   "execution_count": 1,
   "id": "03e1d09a",
   "metadata": {},
   "outputs": [],
   "source": [
    "# importa o qiskit, cujas funcoes podemos entao usar\n",
    "import qiskit\n"
   ]
  },
  {
   "cell_type": "code",
   "execution_count": 2,
   "id": "3e29f09a",
   "metadata": {},
   "outputs": [
    {
     "name": "stderr",
     "output_type": "stream",
     "text": [
      "/Users/jonasmaziero/opt/anaconda3/lib/python3.8/site-packages/qiskit/aqua/__init__.py:86: DeprecationWarning: The package qiskit.aqua is deprecated. It was moved/refactored to qiskit-terra For more information see <https://github.com/Qiskit/qiskit-aqua/blob/main/README.md#migration-guide>\n",
      "  warn_package('aqua', 'qiskit-terra')\n"
     ]
    },
    {
     "data": {
      "text/plain": [
       "{'qiskit-terra': '0.18.3', 'qiskit-aer': '0.9.1', 'qiskit-ignis': '0.6.0', 'qiskit-ibmq-provider': '0.18.0', 'qiskit-aqua': '0.9.5', 'qiskit': '0.32.0', 'qiskit-nature': None, 'qiskit-finance': None, 'qiskit-optimization': None, 'qiskit-machine-learning': None}"
      ]
     },
     "execution_count": 2,
     "metadata": {},
     "output_type": "execute_result"
    }
   ],
   "source": [
    "# para ver que versoes das ferramentas do qiskit temos instaladas\n",
    "qiskit.__qiskit_version__"
   ]
  },
  {
   "cell_type": "code",
   "execution_count": 2,
   "id": "1f6f7da4",
   "metadata": {},
   "outputs": [],
   "source": [
    "# determina o API token a ser usado\n",
    "qiskit.IBMQ.save_account('b36d88619d5a6e900342c6435e38a4cae71fffefbfdcbb66a224ab3bf3d90453045eaf62d99af6dff6c2f6225b263aef9b91b12f09550c90f2104a2c7cf21911', \n",
    "                  overwrite = True)"
   ]
  },
  {
   "cell_type": "code",
   "execution_count": 4,
   "id": "45df71a4",
   "metadata": {},
   "outputs": [
    {
     "data": {
      "text/plain": [
       "<AccountProvider for IBMQ(hub='ibm-q', group='open', project='main')>"
      ]
     },
     "execution_count": 4,
     "metadata": {},
     "output_type": "execute_result"
    }
   ],
   "source": [
    "# conecta meu computador com minha conta IBMQ na nuvem\n",
    "qiskit.IBMQ.load_account()"
   ]
  },
  {
   "cell_type": "code",
   "execution_count": 4,
   "id": "f81f2805",
   "metadata": {},
   "outputs": [],
   "source": [
    "# determina qual das minhas \"contas\" vou usar. \n",
    "#provider = qiskit.IBMQ.get_provider(hub='ibm-q', group='open', project='main')\n",
    "provider = qiskit.IBMQ.get_provider(hub = 'ibm-q-research-2', group = 'federal-uni-sant-1', project = 'main')"
   ]
  },
  {
   "cell_type": "code",
   "execution_count": 5,
   "id": "cedf8fdd",
   "metadata": {},
   "outputs": [
    {
     "data": {
      "text/plain": [
       "[<IBMQSimulator('ibmq_qasm_simulator') from IBMQ(hub='ibm-q-research-2', group='federal-uni-sant-1', project='main')>,\n",
       " <IBMQBackend('ibmq_armonk') from IBMQ(hub='ibm-q-research-2', group='federal-uni-sant-1', project='main')>,\n",
       " <IBMQBackend('ibmq_santiago') from IBMQ(hub='ibm-q-research-2', group='federal-uni-sant-1', project='main')>,\n",
       " <IBMQBackend('ibmq_bogota') from IBMQ(hub='ibm-q-research-2', group='federal-uni-sant-1', project='main')>,\n",
       " <IBMQBackend('ibmq_casablanca') from IBMQ(hub='ibm-q-research-2', group='federal-uni-sant-1', project='main')>,\n",
       " <IBMQBackend('ibmq_lima') from IBMQ(hub='ibm-q-research-2', group='federal-uni-sant-1', project='main')>,\n",
       " <IBMQBackend('ibmq_belem') from IBMQ(hub='ibm-q-research-2', group='federal-uni-sant-1', project='main')>,\n",
       " <IBMQBackend('ibmq_quito') from IBMQ(hub='ibm-q-research-2', group='federal-uni-sant-1', project='main')>,\n",
       " <IBMQSimulator('simulator_statevector') from IBMQ(hub='ibm-q-research-2', group='federal-uni-sant-1', project='main')>,\n",
       " <IBMQSimulator('simulator_mps') from IBMQ(hub='ibm-q-research-2', group='federal-uni-sant-1', project='main')>,\n",
       " <IBMQSimulator('simulator_extended_stabilizer') from IBMQ(hub='ibm-q-research-2', group='federal-uni-sant-1', project='main')>,\n",
       " <IBMQSimulator('simulator_stabilizer') from IBMQ(hub='ibm-q-research-2', group='federal-uni-sant-1', project='main')>,\n",
       " <IBMQBackend('ibmq_jakarta') from IBMQ(hub='ibm-q-research-2', group='federal-uni-sant-1', project='main')>,\n",
       " <IBMQBackend('ibmq_manila') from IBMQ(hub='ibm-q-research-2', group='federal-uni-sant-1', project='main')>,\n",
       " <IBMQBackend('ibm_lagos') from IBMQ(hub='ibm-q-research-2', group='federal-uni-sant-1', project='main')>,\n",
       " <IBMQBackend('ibm_perth') from IBMQ(hub='ibm-q-research-2', group='federal-uni-sant-1', project='main')>]"
      ]
     },
     "execution_count": 5,
     "metadata": {},
     "output_type": "execute_result"
    }
   ],
   "source": [
    "# mostra quais beckends posso utilizar\n",
    "provider.backends()"
   ]
  },
  {
   "cell_type": "code",
   "execution_count": 10,
   "id": "575d962c",
   "metadata": {},
   "outputs": [],
   "source": [
    "# utilizado para obter informacoes sobre um determinado backend\n",
    "simulator = provider.get_backend('ibmq_qasm_simulator')\n",
    "device = provider.get_backend('ibmq_jakarta')"
   ]
  },
  {
   "cell_type": "code",
   "execution_count": 9,
   "id": "77202ede",
   "metadata": {},
   "outputs": [],
   "source": [
    "from qiskit.tools.monitor import backend_overview, backend_monitor"
   ]
  },
  {
   "cell_type": "code",
   "execution_count": 8,
   "id": "ba24054f",
   "metadata": {},
   "outputs": [
    {
     "name": "stdout",
     "output_type": "stream",
     "text": [
      "ibm_perth                    ibm_lagos                    ibmq_jakarta\n",
      "---------                    ---------                    ------------\n",
      "Num. Qubits:  7              Num. Qubits:  7              Num. Qubits:  7\n",
      "Pending Jobs: 12             Pending Jobs: 22             Pending Jobs: 28\n",
      "Least busy:   False          Least busy:   False          Least busy:   False\n",
      "Operational:  True           Operational:  True           Operational:  True\n",
      "Avg. T1:      162.0          Avg. T1:      117.1          Avg. T1:      150.1\n",
      "Avg. T2:      155.1          Avg. T2:      102.3          Avg. T2:      40.5\n",
      "\n",
      "\n",
      "\n",
      "ibmq_casablanca              ibmq_manila                  ibmq_quito\n",
      "---------------              -----------                  ----------\n",
      "Num. Qubits:  7              Num. Qubits:  5              Num. Qubits:  5\n",
      "Pending Jobs: 5              Pending Jobs: 31             Pending Jobs: 14\n",
      "Least busy:   True           Least busy:   False          Least busy:   False\n",
      "Operational:  True           Operational:  True           Operational:  True\n",
      "Avg. T1:      103.5          Avg. T1:      163.6          Avg. T1:      100.6\n",
      "Avg. T2:      97.7           Avg. T2:      57.7           Avg. T2:      101.3\n",
      "\n",
      "\n",
      "\n",
      "ibmq_belem                   ibmq_lima                    ibmq_bogota\n",
      "----------                   ---------                    -----------\n",
      "Num. Qubits:  5              Num. Qubits:  5              Num. Qubits:  5\n",
      "Pending Jobs: 16             Pending Jobs: 14             Pending Jobs: 15\n",
      "Least busy:   False          Least busy:   False          Least busy:   False\n",
      "Operational:  True           Operational:  True           Operational:  True\n",
      "Avg. T1:      75.9           Avg. T1:      74.2           Avg. T1:      100.4\n",
      "Avg. T2:      94.7           Avg. T2:      104.0          Avg. T2:      124.1\n",
      "\n",
      "\n",
      "\n",
      "ibmq_santiago                ibmq_armonk\n",
      "-------------                -----------\n",
      "Num. Qubits:  5              Num. Qubits:  1\n",
      "Pending Jobs: 1386           Pending Jobs: 8\n",
      "Least busy:   False          Least busy:   False\n",
      "Operational:  True           Operational:  True\n",
      "Avg. T1:      74.1           Avg. T1:      118.1\n",
      "Avg. T2:      107.8          Avg. T2:      149.2\n",
      "\n",
      "\n",
      "\n"
     ]
    }
   ],
   "source": [
    "# para ter um panorama do tipo e status dos backends disponiveis\n",
    "backend_overview()"
   ]
  },
  {
   "cell_type": "code",
   "execution_count": 12,
   "id": "41cef668",
   "metadata": {},
   "outputs": [
    {
     "name": "stdout",
     "output_type": "stream",
     "text": [
      "ibmq_jakarta\n",
      "============\n",
      "Configuration\n",
      "-------------\n",
      "    n_qubits: 7\n",
      "    operational: True\n",
      "    status_msg: active\n",
      "    pending_jobs: 4\n",
      "    backend_version: 1.0.25\n",
      "    basis_gates: ['id', 'rz', 'sx', 'x', 'cx', 'reset']\n",
      "    local: False\n",
      "    simulator: False\n",
      "    processor_type: {'family': 'Falcon', 'revision': '5.11', 'segment': 'H'}\n",
      "    clops: 2438\n",
      "    discriminators: ['linear_discriminator', 'hw_qmfk', 'quadratic_discriminator']\n",
      "    pulse_num_qubits: 3\n",
      "    url: None\n",
      "    description: 7 qubit device\n",
      "    online_date: 2021-04-28 04:00:00+00:00\n",
      "    max_shots: 32000\n",
      "    supported_features: ['q', 'o', 'b', 'j']\n",
      "    max_experiments: 300\n",
      "    supported_instructions: ['play', 'reset', 'rz', 'sx', 'acquire', 'u1', 'u2', 'setf', 'shiftf', 'cx', 'u3', 'x', 'measure', 'delay', 'id']\n",
      "    input_allowed: ['job', 'runtime']\n",
      "    conditional: False\n",
      "    rep_delay_range: [0.0, 500.0]\n",
      "    dtm: 0.2222222222222222\n",
      "    dt: 0.2222222222222222\n",
      "    qubit_channel_mapping: [['d0', 'u0', 'm0', 'u1'], ['u0', 'u1', 'u5', 'u2', 'm1', 'd1', 'u3', 'u4'], ['u4', 'u2', 'm2', 'd2'], ['d3', 'u5', 'u6', 'u8', 'u3', 'm3'], ['d4', 'u7', 'm4', 'u9'], ['u7', 'u10', 'm5', 'u6', 'u8', 'u11', 'd5', 'u9'], ['d6', 'm6', 'u10', 'u11']]\n",
      "    timing_constraints: {'acquire_alignment': 16, 'granularity': 16, 'min_length': 64, 'pulse_alignment': 1}\n",
      "    coupling_map: [[0, 1], [1, 0], [1, 2], [1, 3], [2, 1], [3, 1], [3, 5], [4, 5], [5, 3], [5, 4], [5, 6], [6, 5]]\n",
      "    credits_required: True\n",
      "    multi_meas_enabled: True\n",
      "    hamiltonian: {'description': 'Qubits are modeled as Duffing oscillators. In this case, the system includes higher energy states, i.e. not just |0> and |1>. The Pauli operators are generalized via the following set of transformations:\\n\\n$(\\\\mathbb{I}-\\\\sigma_{i}^z)/2 \\\\rightarrow O_i \\\\equiv b^\\\\dagger_{i} b_{i}$,\\n\\n$\\\\sigma_{+} \\\\rightarrow b^\\\\dagger$,\\n\\n$\\\\sigma_{-} \\\\rightarrow b$,\\n\\n$\\\\sigma_{i}^X \\\\rightarrow b^\\\\dagger_{i} + b_{i}$.\\n\\nQubits are coupled through resonator buses. The provided Hamiltonian has been projected into the zero excitation subspace of the resonator buses leading to an effective qubit-qubit flip-flop interaction. The qubit resonance frequencies in the Hamiltonian are the cavity dressed frequencies and not exactly what is returned by the backend defaults, which also includes the dressing due to the qubit-qubit interactions.\\n\\nQuantities are returned in angular frequencies, with units 2*pi*GHz.\\n\\nWARNING: Currently not all system Hamiltonian information is available to the public, missing values have been replaced with 0.\\n', 'h_latex': '\\\\begin{align} \\\\mathcal{H}/\\\\hbar = & \\\\sum_{i=0}^{6}\\\\left(\\\\frac{\\\\omega_{q,i}}{2}(\\\\mathbb{I}-\\\\sigma_i^{z})+\\\\frac{\\\\Delta_{i}}{2}(O_i^2-O_i)+\\\\Omega_{d,i}D_i(t)\\\\sigma_i^{X}\\\\right) \\\\\\\\ & + J_{0,1}(\\\\sigma_{0}^{+}\\\\sigma_{1}^{-}+\\\\sigma_{0}^{-}\\\\sigma_{1}^{+}) + J_{1,2}(\\\\sigma_{1}^{+}\\\\sigma_{2}^{-}+\\\\sigma_{1}^{-}\\\\sigma_{2}^{+}) + J_{4,5}(\\\\sigma_{4}^{+}\\\\sigma_{5}^{-}+\\\\sigma_{4}^{-}\\\\sigma_{5}^{+}) + J_{5,6}(\\\\sigma_{5}^{+}\\\\sigma_{6}^{-}+\\\\sigma_{5}^{-}\\\\sigma_{6}^{+}) \\\\\\\\ & + J_{1,3}(\\\\sigma_{1}^{+}\\\\sigma_{3}^{-}+\\\\sigma_{1}^{-}\\\\sigma_{3}^{+}) + J_{3,5}(\\\\sigma_{3}^{+}\\\\sigma_{5}^{-}+\\\\sigma_{3}^{-}\\\\sigma_{5}^{+}) \\\\\\\\ & + \\\\Omega_{d,0}(U_{0}^{(0,1)}(t))\\\\sigma_{0}^{X} + \\\\Omega_{d,1}(U_{1}^{(1,0)}(t)+U_{3}^{(1,3)}(t)+U_{2}^{(1,2)}(t))\\\\sigma_{1}^{X} \\\\\\\\ & + \\\\Omega_{d,2}(U_{4}^{(2,1)}(t))\\\\sigma_{2}^{X} + \\\\Omega_{d,3}(U_{5}^{(3,1)}(t)+U_{6}^{(3,5)}(t))\\\\sigma_{3}^{X} \\\\\\\\ & + \\\\Omega_{d,4}(U_{7}^{(4,5)}(t))\\\\sigma_{4}^{X} + \\\\Omega_{d,5}(U_{8}^{(5,3)}(t)+U_{10}^{(5,6)}(t)+U_{9}^{(5,4)}(t))\\\\sigma_{5}^{X} \\\\\\\\ & + \\\\Omega_{d,6}(U_{11}^{(6,5)}(t))\\\\sigma_{6}^{X} \\\\\\\\ \\\\end{align}', 'h_str': ['_SUM[i,0,6,wq{i}/2*(I{i}-Z{i})]', '_SUM[i,0,6,delta{i}/2*O{i}*O{i}]', '_SUM[i,0,6,-delta{i}/2*O{i}]', '_SUM[i,0,6,omegad{i}*X{i}||D{i}]', 'jq0q1*Sp0*Sm1', 'jq0q1*Sm0*Sp1', 'jq1q2*Sp1*Sm2', 'jq1q2*Sm1*Sp2', 'jq4q5*Sp4*Sm5', 'jq4q5*Sm4*Sp5', 'jq5q6*Sp5*Sm6', 'jq5q6*Sm5*Sp6', 'jq1q3*Sp1*Sm3', 'jq1q3*Sm1*Sp3', 'jq3q5*Sp3*Sm5', 'jq3q5*Sm3*Sp5', 'omegad1*X0||U0', 'omegad0*X1||U1', 'omegad3*X1||U3', 'omegad2*X1||U2', 'omegad1*X2||U4', 'omegad1*X3||U5', 'omegad5*X3||U6', 'omegad5*X4||U7', 'omegad3*X5||U8', 'omegad6*X5||U10', 'omegad4*X5||U9', 'omegad5*X6||U11'], 'osc': {}, 'qub': {'0': 3, '1': 3, '2': 3, '3': 3, '4': 3, '5': 3, '6': 3}, 'vars': {'delta0': -2.13555173817207, 'delta1': -2.1563927057817027, 'delta2': -2.146430374895862, 'delta3': -2.143302106510836, 'delta4': -2.1315918993490253, 'delta5': -2.1443842681217924, 'delta6': -2.126003036762104, 'jq0q1': 0.012286377631357464, 'jq1q2': 0.012580420010373893, 'jq1q3': 0.012895897946888989, 'jq3q5': 0.012535018234570119, 'jq4q5': 0.012857428747059304, 'jq5q6': 0.01314290048759992, 'omegad0': 0.9552216026539404, 'omegad1': 0.9884569594053993, 'omegad2': 0.9853679367519792, 'omegad3': 0.9754795152105595, 'omegad4': 0.985177175153551, 'omegad5': 1.0012933664979844, 'omegad6': 0.9769575661988436, 'wq0': 32.90099752379153, 'wq1': 31.504991765478618, 'wq2': 32.09284804618767, 'wq3': 32.53678842270209, 'wq4': 32.7566262637548, 'wq5': 31.8133622394088, 'wq6': 33.300720661663284}}\n",
      "    open_pulse: False\n",
      "    uchannels_enabled: True\n",
      "    meas_levels: [1, 2]\n",
      "    backend_name: ibmq_jakarta\n",
      "    acquisition_latency: []\n",
      "    meas_lo_range: [[6.778403705000001, 7.778403705000001], [6.837870946000001, 7.837870946000001], [6.714724146, 7.714724146000001], [6.670601296, 7.670601296], [6.858364424, 7.858364424], [6.604986923, 7.604986923], [6.741873548, 7.741873548]]\n",
      "    allow_object_storage: True\n",
      "    rep_times: [1000.0]\n",
      "    conditional_latency: []\n",
      "    measure_esp_enabled: False\n",
      "    pulse_num_channels: 9\n",
      "    n_registers: 1\n",
      "    allow_q_object: True\n",
      "    meas_map: [[0, 1, 2, 3, 4, 5, 6]]\n",
      "    channels: {'acquire0': {'operates': {'qubits': [0]}, 'purpose': 'acquire', 'type': 'acquire'}, 'acquire1': {'operates': {'qubits': [1]}, 'purpose': 'acquire', 'type': 'acquire'}, 'acquire2': {'operates': {'qubits': [2]}, 'purpose': 'acquire', 'type': 'acquire'}, 'acquire3': {'operates': {'qubits': [3]}, 'purpose': 'acquire', 'type': 'acquire'}, 'acquire4': {'operates': {'qubits': [4]}, 'purpose': 'acquire', 'type': 'acquire'}, 'acquire5': {'operates': {'qubits': [5]}, 'purpose': 'acquire', 'type': 'acquire'}, 'acquire6': {'operates': {'qubits': [6]}, 'purpose': 'acquire', 'type': 'acquire'}, 'd0': {'operates': {'qubits': [0]}, 'purpose': 'drive', 'type': 'drive'}, 'd1': {'operates': {'qubits': [1]}, 'purpose': 'drive', 'type': 'drive'}, 'd2': {'operates': {'qubits': [2]}, 'purpose': 'drive', 'type': 'drive'}, 'd3': {'operates': {'qubits': [3]}, 'purpose': 'drive', 'type': 'drive'}, 'd4': {'operates': {'qubits': [4]}, 'purpose': 'drive', 'type': 'drive'}, 'd5': {'operates': {'qubits': [5]}, 'purpose': 'drive', 'type': 'drive'}, 'd6': {'operates': {'qubits': [6]}, 'purpose': 'drive', 'type': 'drive'}, 'm0': {'operates': {'qubits': [0]}, 'purpose': 'measure', 'type': 'measure'}, 'm1': {'operates': {'qubits': [1]}, 'purpose': 'measure', 'type': 'measure'}, 'm2': {'operates': {'qubits': [2]}, 'purpose': 'measure', 'type': 'measure'}, 'm3': {'operates': {'qubits': [3]}, 'purpose': 'measure', 'type': 'measure'}, 'm4': {'operates': {'qubits': [4]}, 'purpose': 'measure', 'type': 'measure'}, 'm5': {'operates': {'qubits': [5]}, 'purpose': 'measure', 'type': 'measure'}, 'm6': {'operates': {'qubits': [6]}, 'purpose': 'measure', 'type': 'measure'}, 'u0': {'operates': {'qubits': [0, 1]}, 'purpose': 'cross-resonance', 'type': 'control'}, 'u1': {'operates': {'qubits': [1, 0]}, 'purpose': 'cross-resonance', 'type': 'control'}, 'u10': {'operates': {'qubits': [5, 6]}, 'purpose': 'cross-resonance', 'type': 'control'}, 'u11': {'operates': {'qubits': [6, 5]}, 'purpose': 'cross-resonance', 'type': 'control'}, 'u2': {'operates': {'qubits': [1, 2]}, 'purpose': 'cross-resonance', 'type': 'control'}, 'u3': {'operates': {'qubits': [1, 3]}, 'purpose': 'cross-resonance', 'type': 'control'}, 'u4': {'operates': {'qubits': [2, 1]}, 'purpose': 'cross-resonance', 'type': 'control'}, 'u5': {'operates': {'qubits': [3, 1]}, 'purpose': 'cross-resonance', 'type': 'control'}, 'u6': {'operates': {'qubits': [3, 5]}, 'purpose': 'cross-resonance', 'type': 'control'}, 'u7': {'operates': {'qubits': [4, 5]}, 'purpose': 'cross-resonance', 'type': 'control'}, 'u8': {'operates': {'qubits': [5, 3]}, 'purpose': 'cross-resonance', 'type': 'control'}, 'u9': {'operates': {'qubits': [5, 4]}, 'purpose': 'cross-resonance', 'type': 'control'}}\n",
      "    qubit_lo_range: [[4.736356388565631, 5.736356388565631], [4.5141751715453795, 5.51417517154538], [4.607735404447843, 5.607735404447843], [4.678390709808189, 5.678390709808189], [4.713378988890379, 5.713378988890379], [4.563253856774959, 5.563253856774959], [4.799974301826124, 5.799974301826124]]\n",
      "    dynamic_reprate_enabled: True\n",
      "    sample_name: family: Falcon, revision: 5.11, segment: H\n",
      "    n_uchannels: 12\n",
      "    meas_kernels: ['hw_qmfk']\n",
      "    quantum_volume: 16\n",
      "    memory: True\n",
      "    u_channel_lo: [[{'q': 1, 'scale': (1+0j)}], [{'q': 0, 'scale': (1+0j)}], [{'q': 2, 'scale': (1+0j)}], [{'q': 3, 'scale': (1+0j)}], [{'q': 1, 'scale': (1+0j)}], [{'q': 1, 'scale': (1+0j)}], [{'q': 5, 'scale': (1+0j)}], [{'q': 5, 'scale': (1+0j)}], [{'q': 3, 'scale': (1+0j)}], [{'q': 4, 'scale': (1+0j)}], [{'q': 6, 'scale': (1+0j)}], [{'q': 5, 'scale': (1+0j)}]]\n",
      "    default_rep_delay: 250.0\n",
      "    parametric_pulses: ['gaussian', 'gaussian_square', 'drag', 'constant']\n",
      "\n",
      "Qubits [Name / Freq / T1 / T2 / RZ err / SX err / X err / Readout err]\n",
      "----------------------------------------------------------------------\n",
      "    Q0 / 5.23636 GHz / 142.41230 us / 46.72736 us / 0.00000 / 0.00031 / 0.00031 / 0.03650 \n",
      "    Q1 / 5.01418 GHz / 140.92110 us / 23.11451 us / 0.00000 / 0.00022 / 0.00022 / 0.01740 \n",
      "    Q2 / 5.10774 GHz / 142.56848 us / 29.79965 us / 0.00000 / 0.00028 / 0.00028 / 0.01680 \n",
      "    Q3 / 5.17839 GHz / 112.70339 us / 42.23898 us / 0.00000 / 0.00051 / 0.00051 / 0.07580 \n",
      "    Q4 / 5.21338 GHz / 150.96801 us / 56.72493 us / 0.00000 / 0.00020 / 0.00020 / 0.02320 \n",
      "    Q5 / 5.06325 GHz / 106.23175 us / 51.35162 us / 0.00000 / 0.00021 / 0.00021 / 0.02950 \n",
      "    Q6 / 5.29997 GHz / 95.67437 us / 28.63174 us / 0.00000 / 0.00028 / 0.00028 / 0.04210 \n",
      "\n",
      "Multi-Qubit Gates [Name / Type / Gate Error]\n",
      "--------------------------------------------\n",
      "    cx5_4 / cx / 0.00740\n",
      "    cx4_5 / cx / 0.00740\n",
      "    cx1_3 / cx / 0.01994\n",
      "    cx3_1 / cx / 0.01994\n",
      "    cx6_5 / cx / 0.00616\n",
      "    cx5_6 / cx / 0.00616\n",
      "    cx3_5 / cx / 0.01368\n",
      "    cx5_3 / cx / 0.01368\n",
      "    cx2_1 / cx / 0.00974\n",
      "    cx1_2 / cx / 0.00974\n",
      "    cx0_1 / cx / 0.00673\n",
      "    cx1_0 / cx / 0.00673\n",
      "None\n"
     ]
    }
   ],
   "source": [
    "# informacao detalhada sobre um determinado backend\n",
    "jakarta_info = backend_monitor(device); print(jakarta_info)"
   ]
  },
  {
   "cell_type": "code",
   "execution_count": null,
   "id": "f2b21d0a",
   "metadata": {},
   "outputs": [],
   "source": []
  }
 ],
 "metadata": {
  "kernelspec": {
   "display_name": "Python 3 (ipykernel)",
   "language": "python",
   "name": "python3"
  },
  "language_info": {
   "codemirror_mode": {
    "name": "ipython",
    "version": 3
   },
   "file_extension": ".py",
   "mimetype": "text/x-python",
   "name": "python",
   "nbconvert_exporter": "python",
   "pygments_lexer": "ipython3",
   "version": "3.8.8"
  }
 },
 "nbformat": 4,
 "nbformat_minor": 5
}
