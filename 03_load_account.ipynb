{
 "cells": [
  {
   "cell_type": "markdown",
   "id": "cafbe343",
   "metadata": {},
   "source": [
    "### Notas de aula de Computação Quântica <br> Autor: Jonas Maziero"
   ]
  },
  {
   "cell_type": "code",
   "execution_count": 1,
   "id": "03e1d09a",
   "metadata": {},
   "outputs": [],
   "source": [
    "# importa o qiskit, cujas funcoes podemos entao usar\n",
    "import qiskit"
   ]
  },
  {
   "cell_type": "code",
   "execution_count": 2,
   "id": "3e29f09a",
   "metadata": {},
   "outputs": [
    {
     "name": "stderr",
     "output_type": "stream",
     "text": [
      "/home/jonasmaziero/anaconda3/lib/python3.8/site-packages/qiskit/aqua/__init__.py:86: DeprecationWarning: The package qiskit.aqua is deprecated. It was moved/refactored to qiskit-terra For more information see <https://github.com/Qiskit/qiskit-aqua/blob/main/README.md#migration-guide>\n",
      "  warn_package('aqua', 'qiskit-terra')\n"
     ]
    },
    {
     "data": {
      "text/plain": [
       "{'qiskit-terra': '0.18.3', 'qiskit-aer': '0.9.1', 'qiskit-ignis': '0.6.0', 'qiskit-ibmq-provider': '0.18.0', 'qiskit-aqua': '0.9.5', 'qiskit': '0.32.0', 'qiskit-nature': None, 'qiskit-finance': None, 'qiskit-optimization': None, 'qiskit-machine-learning': None}"
      ]
     },
     "execution_count": 2,
     "metadata": {},
     "output_type": "execute_result"
    }
   ],
   "source": [
    "# para ver que versoes das ferramentas do qiskit temos instaladas\n",
    "qiskit.__qiskit_version__"
   ]
  },
  {
   "cell_type": "code",
   "execution_count": 3,
   "id": "1f6f7da4",
   "metadata": {},
   "outputs": [],
   "source": [
    "# determina o API token a ser usado\n",
    "qiskit.IBMQ.save_account('b36d88619d5a6e900342c6435e38a4cae71fffefbfdcbb66a224ab3bf3d90453045eaf62d99af6dff6c2f6225b263aef9b91b12f09550c90f2104a2c7cf21911', \n",
    "                  overwrite = True)"
   ]
  },
  {
   "cell_type": "code",
   "execution_count": 4,
   "id": "45df71a4",
   "metadata": {},
   "outputs": [
    {
     "data": {
      "text/plain": [
       "<AccountProvider for IBMQ(hub='ibm-q', group='open', project='main')>"
      ]
     },
     "execution_count": 4,
     "metadata": {},
     "output_type": "execute_result"
    }
   ],
   "source": [
    "# conecta meu computador com minha conta IBMQ na nuvem\n",
    "qiskit.IBMQ.load_account()"
   ]
  },
  {
   "cell_type": "code",
   "execution_count": 5,
   "id": "f81f2805",
   "metadata": {},
   "outputs": [],
   "source": [
    "# determina qual das minhas \"contas\" vou usar. \n",
    "#provider = qiskit.IBMQ.get_provider(hub='ibm-q', group='open', project='main')\n",
    "provider = qiskit.IBMQ.get_provider(hub = 'ibm-q-research-2', group = 'federal-uni-sant-1', project = 'main')"
   ]
  },
  {
   "cell_type": "code",
   "execution_count": 6,
   "id": "cedf8fdd",
   "metadata": {},
   "outputs": [
    {
     "data": {
      "text/plain": [
       "[<IBMQSimulator('ibmq_qasm_simulator') from IBMQ(hub='ibm-q-research-2', group='federal-uni-sant-1', project='main')>,\n",
       " <IBMQBackend('ibmq_armonk') from IBMQ(hub='ibm-q-research-2', group='federal-uni-sant-1', project='main')>,\n",
       " <IBMQBackend('ibmq_santiago') from IBMQ(hub='ibm-q-research-2', group='federal-uni-sant-1', project='main')>,\n",
       " <IBMQBackend('ibmq_bogota') from IBMQ(hub='ibm-q-research-2', group='federal-uni-sant-1', project='main')>,\n",
       " <IBMQBackend('ibmq_lima') from IBMQ(hub='ibm-q-research-2', group='federal-uni-sant-1', project='main')>,\n",
       " <IBMQBackend('ibmq_belem') from IBMQ(hub='ibm-q-research-2', group='federal-uni-sant-1', project='main')>,\n",
       " <IBMQBackend('ibmq_quito') from IBMQ(hub='ibm-q-research-2', group='federal-uni-sant-1', project='main')>,\n",
       " <IBMQSimulator('simulator_statevector') from IBMQ(hub='ibm-q-research-2', group='federal-uni-sant-1', project='main')>,\n",
       " <IBMQSimulator('simulator_mps') from IBMQ(hub='ibm-q-research-2', group='federal-uni-sant-1', project='main')>,\n",
       " <IBMQSimulator('simulator_extended_stabilizer') from IBMQ(hub='ibm-q-research-2', group='federal-uni-sant-1', project='main')>,\n",
       " <IBMQSimulator('simulator_stabilizer') from IBMQ(hub='ibm-q-research-2', group='federal-uni-sant-1', project='main')>,\n",
       " <IBMQBackend('ibmq_jakarta') from IBMQ(hub='ibm-q-research-2', group='federal-uni-sant-1', project='main')>,\n",
       " <IBMQBackend('ibmq_manila') from IBMQ(hub='ibm-q-research-2', group='federal-uni-sant-1', project='main')>,\n",
       " <IBMQBackend('ibm_lagos') from IBMQ(hub='ibm-q-research-2', group='federal-uni-sant-1', project='main')>,\n",
       " <IBMQBackend('ibm_perth') from IBMQ(hub='ibm-q-research-2', group='federal-uni-sant-1', project='main')>]"
      ]
     },
     "execution_count": 6,
     "metadata": {},
     "output_type": "execute_result"
    }
   ],
   "source": [
    "# mostra quais beckends posso utilizar\n",
    "provider.backends()"
   ]
  },
  {
   "cell_type": "code",
   "execution_count": 12,
   "id": "575d962c",
   "metadata": {},
   "outputs": [],
   "source": [
    "# utilizado para obter informacoes sobre um determinado backend\n",
    "simulator = provider.get_backend('ibmq_qasm_simulator')\n",
    "device = provider.get_backend('ibmq_bogota')"
   ]
  },
  {
   "cell_type": "code",
   "execution_count": 7,
   "id": "77202ede",
   "metadata": {},
   "outputs": [],
   "source": [
    "from qiskit.tools.monitor import backend_overview, backend_monitor"
   ]
  },
  {
   "cell_type": "code",
   "execution_count": 15,
   "id": "ba24054f",
   "metadata": {},
   "outputs": [
    {
     "name": "stdout",
     "output_type": "stream",
     "text": [
      "ibm_perth                    ibm_lagos                    ibmq_jakarta\n",
      "---------                    ---------                    ------------\n",
      "Num. Qubits:  7              Num. Qubits:  7              Num. Qubits:  7\n",
      "Pending Jobs: 395            Pending Jobs: 433            Pending Jobs: 353\n",
      "Least busy:   False          Least busy:   False          Least busy:   False\n",
      "Operational:  True           Operational:  True           Operational:  True\n",
      "Avg. T1:      150.4          Avg. T1:      131.7          Avg. T1:      126.8\n",
      "Avg. T2:      154.6          Avg. T2:      93.8           Avg. T2:      40.2\n",
      "\n",
      "\n",
      "\n",
      "ibmq_manila                  ibmq_quito                   ibmq_lima\n",
      "-----------                  ----------                   ---------\n",
      "Num. Qubits:  5              Num. Qubits:  5              Num. Qubits:  5\n",
      "Pending Jobs: 2              Pending Jobs: 4              Pending Jobs: 7\n",
      "Least busy:   True           Least busy:   False          Least busy:   False\n",
      "Operational:  True           Operational:  True           Operational:  True\n",
      "Avg. T1:      118.5          Avg. T1:      107.6          Avg. T1:      101.1\n",
      "Avg. T2:      61.2           Avg. T2:      121.8          Avg. T2:      96.7\n",
      "\n",
      "\n",
      "\n",
      "ibmq_bogota                  ibmq_santiago                ibmq_armonk\n",
      "-----------                  -------------                -----------\n",
      "Num. Qubits:  5              Num. Qubits:  5              Num. Qubits:  1\n",
      "Pending Jobs: 456            Pending Jobs: 6              Pending Jobs: 3\n",
      "Least busy:   False          Least busy:   False          Least busy:   False\n",
      "Operational:  True           Operational:  True           Operational:  True\n",
      "Avg. T1:      121.4          Avg. T1:      129.9          Avg. T1:      166.0\n",
      "Avg. T2:      153.1          Avg. T2:      83.3           Avg. T2:      276.0\n",
      "\n",
      "\n",
      "\n",
      "ibmq_belem\n",
      "----------\n",
      "Num. Qubits:  5\n",
      "Pending Jobs: 6\n",
      "Least busy:   False\n",
      "Operational:  False\n",
      "Avg. T1:      112.1\n",
      "Avg. T2:      127.8\n",
      "\n",
      "\n",
      "\n"
     ]
    }
   ],
   "source": [
    "# para ter um panorama do tipo e status dos backends disponiveis\n",
    "backend_overview()"
   ]
  },
  {
   "cell_type": "code",
   "execution_count": 13,
   "id": "41cef668",
   "metadata": {},
   "outputs": [
    {
     "name": "stdout",
     "output_type": "stream",
     "text": [
      "ibmq_bogota\n",
      "===========\n",
      "Configuration\n",
      "-------------\n",
      "    n_qubits: 5\n",
      "    operational: True\n",
      "    status_msg: active\n",
      "    pending_jobs: 59\n",
      "    backend_version: 1.6.30\n",
      "    basis_gates: ['id', 'rz', 'sx', 'x', 'cx', 'reset']\n",
      "    local: False\n",
      "    simulator: False\n",
      "    conditional_latency: []\n",
      "    meas_kernels: ['hw_qmfk']\n",
      "    n_uchannels: 8\n",
      "    supported_features: ['qobj']\n",
      "    sample_name: family: Falcon, revision: 4, segment: L\n",
      "    processor_type: {'family': 'Falcon', 'revision': 4, 'segment': 'L'}\n",
      "    allow_q_object: True\n",
      "    quantum_volume: 32\n",
      "    timing_constraints: {'acquire_alignment': 16, 'granularity': 16, 'min_length': 64, 'pulse_alignment': 1}\n",
      "    u_channel_lo: [[{'q': 1, 'scale': (1+0j)}], [{'q': 0, 'scale': (1+0j)}], [{'q': 2, 'scale': (1+0j)}], [{'q': 1, 'scale': (1+0j)}], [{'q': 3, 'scale': (1+0j)}], [{'q': 2, 'scale': (1+0j)}], [{'q': 4, 'scale': (1+0j)}], [{'q': 3, 'scale': (1+0j)}]]\n",
      "    live_data: False\n",
      "    measure_esp_enabled: False\n",
      "    multi_meas_enabled: True\n",
      "    pulse_num_qubits: 3\n",
      "    allow_object_storage: True\n",
      "    uchannels_enabled: True\n",
      "    max_shots: 20000\n",
      "    dynamic_reprate_enabled: True\n",
      "    rep_delay_range: [0.0, 500.0]\n",
      "    open_pulse: False\n",
      "    qubit_channel_mapping: [['u1', 'u0', 'd0', 'm0'], ['d1', 'u0', 'm1', 'u2', 'u3', 'u1'], ['m2', 'd2', 'u2', 'u3', 'u4', 'u5'], ['u7', 'u6', 'm3', 'd3', 'u4', 'u5'], ['m4', 'u7', 'd4', 'u6']]\n",
      "    backend_name: ibmq_bogota\n",
      "    description: 5 qubit device\n",
      "    acquisition_latency: []\n",
      "    meas_lo_range: [[6.772076418, 7.772076418], [6.888069559000001, 7.888069559000001], [6.834793510000001, 7.834793510000001], [6.703996181000001, 7.703996181000001], [6.949439617, 7.949439617]]\n",
      "    discriminators: ['linear_discriminator', 'quadratic_discriminator', 'hw_qmfk']\n",
      "    clops: 2304\n",
      "    supported_instructions: ['x', 'id', 'sx', 'setf', 'shiftf', 'u2', 'reset', 'delay', 'rz', 'acquire', 'play', 'cx', 'u3', 'measure', 'u1']\n",
      "    parametric_pulses: ['gaussian', 'gaussian_square', 'drag', 'constant']\n",
      "    default_rep_delay: 250.0\n",
      "    channels: {'acquire0': {'operates': {'qubits': [0]}, 'purpose': 'acquire', 'type': 'acquire'}, 'acquire1': {'operates': {'qubits': [1]}, 'purpose': 'acquire', 'type': 'acquire'}, 'acquire2': {'operates': {'qubits': [2]}, 'purpose': 'acquire', 'type': 'acquire'}, 'acquire3': {'operates': {'qubits': [3]}, 'purpose': 'acquire', 'type': 'acquire'}, 'acquire4': {'operates': {'qubits': [4]}, 'purpose': 'acquire', 'type': 'acquire'}, 'd0': {'operates': {'qubits': [0]}, 'purpose': 'drive', 'type': 'drive'}, 'd1': {'operates': {'qubits': [1]}, 'purpose': 'drive', 'type': 'drive'}, 'd2': {'operates': {'qubits': [2]}, 'purpose': 'drive', 'type': 'drive'}, 'd3': {'operates': {'qubits': [3]}, 'purpose': 'drive', 'type': 'drive'}, 'd4': {'operates': {'qubits': [4]}, 'purpose': 'drive', 'type': 'drive'}, 'm0': {'operates': {'qubits': [0]}, 'purpose': 'measure', 'type': 'measure'}, 'm1': {'operates': {'qubits': [1]}, 'purpose': 'measure', 'type': 'measure'}, 'm2': {'operates': {'qubits': [2]}, 'purpose': 'measure', 'type': 'measure'}, 'm3': {'operates': {'qubits': [3]}, 'purpose': 'measure', 'type': 'measure'}, 'm4': {'operates': {'qubits': [4]}, 'purpose': 'measure', 'type': 'measure'}, 'u0': {'operates': {'qubits': [0, 1]}, 'purpose': 'cross-resonance', 'type': 'control'}, 'u1': {'operates': {'qubits': [1, 0]}, 'purpose': 'cross-resonance', 'type': 'control'}, 'u2': {'operates': {'qubits': [1, 2]}, 'purpose': 'cross-resonance', 'type': 'control'}, 'u3': {'operates': {'qubits': [2, 1]}, 'purpose': 'cross-resonance', 'type': 'control'}, 'u4': {'operates': {'qubits': [2, 3]}, 'purpose': 'cross-resonance', 'type': 'control'}, 'u5': {'operates': {'qubits': [3, 2]}, 'purpose': 'cross-resonance', 'type': 'control'}, 'u6': {'operates': {'qubits': [3, 4]}, 'purpose': 'cross-resonance', 'type': 'control'}, 'u7': {'operates': {'qubits': [4, 3]}, 'purpose': 'cross-resonance', 'type': 'control'}}\n",
      "    url: None\n",
      "    pulse_num_channels: 9\n",
      "    qubit_lo_range: [[4.5005000035503375, 5.5005000035503375], [4.349827253858796, 5.349827253858796], [4.282800033281538, 5.282800033281538], [4.358443085215396, 5.358443085215396], [4.478018677458313, 5.478018677458313]]\n",
      "    credits_required: True\n",
      "    max_experiments: 100\n",
      "    dt: 0.2222222222222222\n",
      "    meas_map: [[0, 1, 2, 3, 4]]\n",
      "    rep_times: [1000.0]\n",
      "    hamiltonian: {'description': 'Qubits are modeled as Duffing oscillators. In this case, the system includes higher energy states, i.e. not just |0> and |1>. The Pauli operators are generalized via the following set of transformations:\\n\\n$(\\\\mathbb{I}-\\\\sigma_{i}^z)/2 \\\\rightarrow O_i \\\\equiv b^\\\\dagger_{i} b_{i}$,\\n\\n$\\\\sigma_{+} \\\\rightarrow b^\\\\dagger$,\\n\\n$\\\\sigma_{-} \\\\rightarrow b$,\\n\\n$\\\\sigma_{i}^X \\\\rightarrow b^\\\\dagger_{i} + b_{i}$.\\n\\nQubits are coupled through resonator buses. The provided Hamiltonian has been projected into the zero excitation subspace of the resonator buses leading to an effective qubit-qubit flip-flop interaction. The qubit resonance frequencies in the Hamiltonian are the cavity dressed frequencies and not exactly what is returned by the backend defaults, which also includes the dressing due to the qubit-qubit interactions.\\n\\nQuantities are returned in angular frequencies, with units 2*pi*GHz.\\n\\nWARNING: Currently not all system Hamiltonian information is available to the public, missing values have been replaced with 0.\\n', 'h_latex': '\\\\begin{align} \\\\mathcal{H}/\\\\hbar = & \\\\sum_{i=0}^{4}\\\\left(\\\\frac{\\\\omega_{q,i}}{2}(\\\\mathbb{I}-\\\\sigma_i^{z})+\\\\frac{\\\\Delta_{i}}{2}(O_i^2-O_i)+\\\\Omega_{d,i}D_i(t)\\\\sigma_i^{X}\\\\right) \\\\\\\\ & + J_{0,1}(\\\\sigma_{0}^{+}\\\\sigma_{1}^{-}+\\\\sigma_{0}^{-}\\\\sigma_{1}^{+}) + J_{1,2}(\\\\sigma_{1}^{+}\\\\sigma_{2}^{-}+\\\\sigma_{1}^{-}\\\\sigma_{2}^{+}) + J_{2,3}(\\\\sigma_{2}^{+}\\\\sigma_{3}^{-}+\\\\sigma_{2}^{-}\\\\sigma_{3}^{+}) + J_{3,4}(\\\\sigma_{3}^{+}\\\\sigma_{4}^{-}+\\\\sigma_{3}^{-}\\\\sigma_{4}^{+}) \\\\\\\\ & + \\\\Omega_{d,0}(U_{0}^{(0,1)}(t))\\\\sigma_{0}^{X} + \\\\Omega_{d,1}(U_{1}^{(1,0)}(t)+U_{2}^{(1,2)}(t))\\\\sigma_{1}^{X} \\\\\\\\ & + \\\\Omega_{d,2}(U_{3}^{(2,1)}(t)+U_{4}^{(2,3)}(t))\\\\sigma_{2}^{X} + \\\\Omega_{d,3}(U_{6}^{(3,4)}(t)+U_{5}^{(3,2)}(t))\\\\sigma_{3}^{X} \\\\\\\\ & + \\\\Omega_{d,4}(U_{7}^{(4,3)}(t))\\\\sigma_{4}^{X} \\\\\\\\ \\\\end{align}', 'h_str': ['_SUM[i,0,4,wq{i}/2*(I{i}-Z{i})]', '_SUM[i,0,4,delta{i}/2*O{i}*O{i}]', '_SUM[i,0,4,-delta{i}/2*O{i}]', '_SUM[i,0,4,omegad{i}*X{i}||D{i}]', 'jq0q1*Sp0*Sm1', 'jq0q1*Sm0*Sp1', 'jq1q2*Sp1*Sm2', 'jq1q2*Sm1*Sp2', 'jq2q3*Sp2*Sm3', 'jq2q3*Sm2*Sp3', 'jq3q4*Sp3*Sm4', 'jq3q4*Sm3*Sp4', 'omegad1*X0||U0', 'omegad0*X1||U1', 'omegad2*X1||U2', 'omegad1*X2||U3', 'omegad3*X2||U4', 'omegad4*X3||U6', 'omegad2*X3||U5', 'omegad3*X4||U7'], 'osc': {}, 'qub': {'0': 3, '1': 3, '2': 3, '3': 3, '4': 3}, 'vars': {'delta0': -2.1168066248956294, 'delta1': -2.045587493860228, 'delta2': -2.136766405037212, 'delta3': -2.0439252061775535, 'delta4': -2.1196800859699487, 'jq0q1': 0.008308293226045198, 'jq1q2': 0.00742380429123757, 'jq2q3': 0.008306892304618858, 'jq3q4': 0.008809523135217767, 'omegad0': 1.0105778040709568, 'omegad1': 1.1049532704053748, 'omegad2': 1.0083378904641986, 'omegad3': 1.0017448191222433, 'omegad4': 1.0239908715014594, 'wq0': 31.419068150858944, 'wq1': 30.47236334380471, 'wq2': 30.051218896292596, 'wq3': 30.526498208793633, 'wq4': 31.277813813071635}}\n",
      "    n_registers: 1\n",
      "    dtm: 0.2222222222222222\n",
      "    memory: True\n",
      "    conditional: False\n",
      "    coupling_map: [[0, 1], [1, 0], [1, 2], [2, 1], [2, 3], [3, 2], [3, 4], [4, 3]]\n",
      "    meas_levels: [1, 2]\n",
      "    input_allowed: ['job', 'runtime']\n",
      "    online_date: 2020-06-03 04:00:00+00:00\n",
      "\n",
      "Qubits [Name / Freq / T1 / T2 / RZ err / SX err / X err / Readout err]\n",
      "----------------------------------------------------------------------\n",
      "    Q0 / 5.00050 GHz / 99.21401 us / 85.70281 us / 0.00000 / 0.00036 / 0.00036 / 0.02580 \n",
      "    Q1 / 4.84983 GHz / 99.87410 us / 122.10498 us / 0.00000 / 0.00022 / 0.00022 / 0.08710 \n",
      "    Q2 / 4.78280 GHz / 166.16832 us / 195.61202 us / 0.00000 / 0.00013 / 0.00013 / 0.06220 \n",
      "    Q3 / 4.85844 GHz / 93.12870 us / 249.42516 us / 0.00000 / 0.03627 / 0.03627 / 0.04670 \n",
      "    Q4 / 4.97802 GHz / 148.76013 us / 112.77572 us / 0.00000 / 0.00020 / 0.00020 / 0.01690 \n",
      "\n",
      "Multi-Qubit Gates [Name / Type / Gate Error]\n",
      "--------------------------------------------\n",
      "    cx4_3 / cx / 0.01376\n",
      "    cx3_4 / cx / 0.01376\n",
      "    cx3_2 / cx / 0.01550\n",
      "    cx2_3 / cx / 0.01550\n",
      "    cx1_2 / cx / 0.00633\n",
      "    cx2_1 / cx / 0.00633\n",
      "    cx1_0 / cx / 0.01232\n",
      "    cx0_1 / cx / 0.01232\n",
      "None\n"
     ]
    }
   ],
   "source": [
    "# informacao detalhada sobre um determinado backend\n",
    "chip_info = backend_monitor(device); print(chip_info)"
   ]
  },
  {
   "cell_type": "code",
   "execution_count": 17,
   "id": "f2b21d0a",
   "metadata": {},
   "outputs": [
    {
     "data": {
      "text/plain": [
       "15.0"
      ]
     },
     "execution_count": 17,
     "metadata": {},
     "output_type": "execute_result"
    }
   ],
   "source": [
    "(60*25)/100"
   ]
  },
  {
   "cell_type": "code",
   "execution_count": null,
   "id": "ed7f6598",
   "metadata": {},
   "outputs": [],
   "source": []
  }
 ],
 "metadata": {
  "kernelspec": {
   "display_name": "Python 3 (ipykernel)",
   "language": "python",
   "name": "python3"
  },
  "language_info": {
   "codemirror_mode": {
    "name": "ipython",
    "version": 3
   },
   "file_extension": ".py",
   "mimetype": "text/x-python",
   "name": "python",
   "nbconvert_exporter": "python",
   "pygments_lexer": "ipython3",
   "version": "3.8.11"
  }
 },
 "nbformat": 4,
 "nbformat_minor": 5
}
