{
 "cells": [
  {
   "cell_type": "code",
   "execution_count": 1,
   "id": "9bb7c614",
   "metadata": {},
   "outputs": [],
   "source": [
    "%run init.ipynb"
   ]
  },
  {
   "cell_type": "markdown",
   "id": "87114fba",
   "metadata": {},
   "source": [
    "# Algumas portas lógicas do IBMQ\n",
    "\n",
    "A descrição das portas lógicas do IBMQ pode ser encontrada em https://qiskit.org/documentation/apidoc/circuit_library.html."
   ]
  },
  {
   "cell_type": "markdown",
   "id": "dbfd9c06",
   "metadata": {},
   "source": [
    "## Sobre kets\n",
    "\n",
    "### Base computacional\n",
    "$$|0\\rangle = \\begin{bmatrix} 1 \\\\ 0 \\end{bmatrix}, |1\\rangle = \\begin{bmatrix} 0 \\\\ 1 \\end{bmatrix}$$\n",
    "\n",
    "### Estado geral\n",
    "$$|\\psi\\rangle = \\begin{bmatrix} c_{0} \\\\ c_{1} \\end{bmatrix} = c_{0}\\begin{bmatrix} 1 \\\\ 0 \\end{bmatrix}+c_{1}\\begin{bmatrix} 0 \\\\ 1 \\end{bmatrix} = c_{0}|0\\rangle+c_{1}|1\\rangle$$ com $c_{j}\\in\\mathbb{C}$\n",
    "\n",
    "### Produto tensorial\n",
    "$$|\\psi\\rangle\\otimes|\\psi'\\rangle = \\begin{bmatrix} c_{0} \\\\ c_{1} \\end{bmatrix}\\otimes\\begin{bmatrix} c_{0}' \\\\ c_{1}' \\end{bmatrix} = \\begin{bmatrix} c_{0}c_{0}' \\\\ c_{0}c_{1}' \\\\ c_{1}c_{0}' \\\\ c_{1}c_{1}' \\end{bmatrix}$$"
   ]
  },
  {
   "cell_type": "markdown",
   "id": "ecc26769",
   "metadata": {},
   "source": [
    "## Portas lógicas de 1 qubit\n",
    "\n",
    "### NOT\n",
    "$$X=\\begin{bmatrix}0&1\\\\1&0\\end{bmatrix}$$\n",
    "Assim $X|0\\rangle=|1\\rangle$ e $X|1\\rangle=|0\\rangle$\n",
    "\n",
    "### Porta de Hadamard\n",
    "Muda da base $\\{|0\\rangle,|1\\rangle\\}$ para a base $\\{|+\\rangle,|-\\rangle\\}$, em que $|\\pm\\rangle=(|0\\rangle\\pm|1\\rangle)/\\sqrt{2}$, e vice-versa:\n",
    "$$H = \\frac{1}{\\sqrt{2}}\\begin{bmatrix}1&1\\\\1&-1\\end{bmatrix}$$\n",
    "\n",
    "### Porta $U3$ (rotação geral)\n",
    "\\begin{align}\n",
    "U3(\\theta,\\phi,\\lambda) & = RZ(\\phi)RX(-\\pi/2)RZ(\\theta)RX(\\pi/2)RZ(\\lambda) \\\\\n",
    "& = \\begin{bmatrix} \\cos(\\theta/2) & -e^{i\\lambda}\\sin(\\theta/2) \\\\ e^{i\\phi}\\sin(\\theta/2) & e^{i(\\phi+\\lambda)}\\cos(\\theta/2) \\end{bmatrix}\n",
    "\\end{align}\n",
    "\n",
    "### Portas $S$ ($S^{\\dagger}$)\n",
    "Essa porta lógica é representada matricialmente por\n",
    "\\begin{align}\n",
    "S = \\begin{bmatrix}1&0\\\\0&i\\end{bmatrix},\n",
    "\\end{align}\n",
    "e induz uma fase $\\pi/2$ no estado $|1\\rangle$:\n",
    "\\begin{align}\n",
    "S|0\\rangle=|0\\rangle, S|1\\rangle=i|1\\rangle = e^{i\\pi/2}|1\\rangle.\n",
    "\\end{align}"
   ]
  },
  {
   "cell_type": "markdown",
   "id": "431c67a6",
   "metadata": {},
   "source": [
    "## Medidas\n",
    "\n",
    "### Medidas na base $\\{|0\\rangle,|1\\rangle\\}$\n",
    "Medidas nessa base, usualmente chamada de base $Z$, são implementadas diretamente no IBMQ.\n",
    "\n",
    "### Medidas na base $\\{|+\\rangle,|-\\rangle\\}$\n",
    "Notamos que\n",
    "\\begin{align}\n",
    "Pr(+|\\psi) = |\\langle +|\\psi\\rangle|^{2} \\equiv |\\langle 0|H|\\psi\\rangle|^{2} =: |\\langle 0|\\psi'\\rangle|^{2} = Pr(0|\\psi')\n",
    "\\end{align}\n",
    "Vemos facilmente que o análog vale para $Pr(-|\\psi)=Pr(1|\\psi')$, com $$|\\psi'\\rangle=H|\\psi\\rangle.$$\n",
    "Portanto, medidas na base $\\{|0\\rangle,|1\\rangle\\}$, usualmente chamada de base $X$, são implementadas aplicando-se uma porta de Hadamard e subsequentemente fzendo-se medida na base $Z$.\n",
    "\n",
    "### Medidas na base $\\{|\\oplus\\rangle,|\\ominus\\rangle\\}$\n",
    "Temos que\n",
    "\\begin{align}\n",
    "& S|+\\rangle = (S|0\\rangle+S|1\\rangle)/\\sqrt{2} = (|0\\rangle+i|1\\rangle)/\\sqrt{2} = |\\oplus\\rangle \\ \\therefore \\langle\\oplus|=\\langle+|S^{\\dagger}=\\langle 0|HS^{\\dagger}, \\\\\n",
    "& S|-\\rangle = (S|0\\rangle-S|1\\rangle)/\\sqrt{2} = (|0\\rangle-i|1\\rangle)/\\sqrt{2} = |\\ominus\\rangle \\ \\therefore \\langle\\ominus|=\\langle-|S^{\\dagger}=\\langle 1|HS^{\\dagger}.\n",
    "\\end{align}\n",
    "Vem assim que\n",
    "\\begin{align}\n",
    "Pr(\\oplus|\\psi) = |\\langle\\oplus|\\psi\\rangle|^{2} \\equiv |\\langle 0|HS^{\\dagger}|\\psi\\rangle|^{2} =: |\\langle 0|\\psi'\\rangle|^{2} = Pr(0|\\psi')\n",
    "\\end{align}\n",
    "com \n",
    "$$|\\psi'\\rangle = HS^{\\dagger}|\\psi\\rangle.$$\n",
    "Analogamente, $Pr(\\ominus|\\psi)=Pr(1|\\psi')$."
   ]
  },
  {
   "cell_type": "markdown",
   "id": "c23d9f90",
   "metadata": {},
   "source": [
    "## Portas lógicas de 2 ou mais qubits\n",
    "\n",
    "### Control-Not (CNOT=CX)\n",
    "\\begin{align}\n",
    "CNOT_{c\\rightarrow t} = |0\\rangle\\langle 0|\\otimes \\mathbb{I} +  |1\\rangle\\langle 1|\\otimes X\n",
    "\\end{align}\n",
    "Ação da CNOT_12\n",
    "\\begin{align}\n",
    "& CNOT_{c\\rightarrow t}|0\\rangle\\otimes|0\\rangle = |0\\rangle\\langle 0||0\\rangle\\otimes \\mathbb{I}|0\\rangle +  |1\\rangle\\langle 1||0\\rangle\\otimes X|0\\rangle = |0\\rangle\\otimes|0\\rangle, \\\\\n",
    "& CNOT_{c\\rightarrow t}|0\\rangle\\otimes|1\\rangle = |0\\rangle\\otimes|1\\rangle, \\\\\n",
    "& CNOT_{c\\rightarrow t}|1\\rangle\\otimes|0\\rangle = |1\\rangle\\otimes|1\\rangle, \\\\\n",
    "& CNOT_{c\\rightarrow t}|1\\rangle\\otimes|1\\rangle = |1\\rangle\\otimes|0\\rangle.\n",
    "\\end{align}\n",
    "Ou seja,\n",
    "$$CNOT_{c\\rightarrow t}|j\\rangle\\otimes|k\\rangle = |j\\rangle\\otimes|j\\oplus k\\rangle$$"
   ]
  },
  {
   "cell_type": "code",
   "execution_count": 6,
   "id": "e881ec6c",
   "metadata": {},
   "outputs": [
    {
     "data": {
      "image/png": "[encoded data removed]",
      "text/latex": [
       "$\\displaystyle \\left[\\begin{matrix}1 & 0 & 0 & 0\\\\0 & 1 & 0 & 0\\\\0 & 0 & 0 & 1\\\\0 & 0 & 1 & 0\\end{matrix}\\right]$"
      ],
      "text/plain": [
       "⎡1  0  0  0⎤\n",
       "⎢          ⎥\n",
       "⎢0  1  0  0⎥\n",
       "⎢          ⎥\n",
       "⎢0  0  0  1⎥\n",
       "⎢          ⎥\n",
       "⎣0  0  1  0⎦"
      ]
     },
     "execution_count": 6,
     "metadata": {},
     "output_type": "execute_result"
    }
   ],
   "source": [
    "CX_12 = tp(proj(cb(2,0)),id(2)) + tp(proj(cb(2,1)),pauli(1)); CX_12"
   ]
  },
  {
   "cell_type": "markdown",
   "id": "5454d8b7",
   "metadata": {},
   "source": [
    "### SWAP (troca)\n",
    "\n",
    "$$SWAP = CNOT_{12}\\ CNOT_{21}\\ CNOT_{12}$$\n",
    "\n",
    "Exemplo:\n",
    "\\begin{align}\n",
    "\n",
    "\\end{align}"
   ]
  },
  {
   "cell_type": "code",
   "execution_count": 8,
   "id": "e4c34499",
   "metadata": {},
   "outputs": [
    {
     "data": {
      "image/png": "[encoded data removed]",
      "text/latex": [
       "$\\displaystyle \\left[\\begin{matrix}1 & 0 & 0 & 0\\\\0 & 0 & 0 & 1\\\\0 & 0 & 1 & 0\\\\0 & 1 & 0 & 0\\end{matrix}\\right]$"
      ],
      "text/plain": [
       "⎡1  0  0  0⎤\n",
       "⎢          ⎥\n",
       "⎢0  0  0  1⎥\n",
       "⎢          ⎥\n",
       "⎢0  0  1  0⎥\n",
       "⎢          ⎥\n",
       "⎣0  1  0  0⎦"
      ]
     },
     "execution_count": 8,
     "metadata": {},
     "output_type": "execute_result"
    }
   ],
   "source": [
    "CX_21 = tp(id(2),proj(cb(2,0))) + tp(pauli(1),proj(cb(2,1))); CX_21"
   ]
  },
  {
   "cell_type": "code",
   "execution_count": 9,
   "id": "afcef796",
   "metadata": {},
   "outputs": [
    {
     "data": {
      "image/png": "[encoded data removed]",
      "text/latex": [
       "$\\displaystyle \\left[\\begin{matrix}1 & 0 & 0 & 0\\\\0 & 0 & 1 & 0\\\\0 & 1 & 0 & 0\\\\0 & 0 & 0 & 1\\end{matrix}\\right]$"
      ],
      "text/plain": [
       "⎡1  0  0  0⎤\n",
       "⎢          ⎥\n",
       "⎢0  0  1  0⎥\n",
       "⎢          ⎥\n",
       "⎢0  1  0  0⎥\n",
       "⎢          ⎥\n",
       "⎣0  0  0  1⎦"
      ]
     },
     "execution_count": 9,
     "metadata": {},
     "output_type": "execute_result"
    }
   ],
   "source": [
    "SWAP = CX_12*CX_21*CX_12; SWAP"
   ]
  },
  {
   "cell_type": "code",
   "execution_count": null,
   "id": "aad86482",
   "metadata": {},
   "outputs": [],
   "source": []
  }
 ],
 "metadata": {
  "kernelspec": {
   "display_name": "Python 3",
   "language": "python",
   "name": "python3"
  },
  "language_info": {
   "codemirror_mode": {
    "name": "ipython",
    "version": 3
   },
   "file_extension": ".py",
   "mimetype": "text/x-python",
   "name": "python",
   "nbconvert_exporter": "python",
   "pygments_lexer": "ipython3",
   "version": "3.8.8"
  }
 },
 "nbformat": 4,
 "nbformat_minor": 5
}
