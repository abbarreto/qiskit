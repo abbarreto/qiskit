{
 "cells": [
  {
   "cell_type": "markdown",
   "id": "39950d90",
   "metadata": {},
   "source": [
    "# Temas para os trabalhos/seminários\n",
    "\n",
    "\n",
    "* _Douglas_: Distribuição de emaranhamento\n",
    "\n",
    "* _Marcelo_: \n",
    "\n",
    "* _Said_: Violação das desigualdades de Bell\n",
    "\n",
    "* _Tiago_: Redes neurais quânticas\n",
    "\n",
    "* _Diego_: Complementariedade\n",
    "\n",
    "* _Vitor_: Swap de emaranhamento\n",
    "\n",
    "\n",
    "* _Marcos_: Medidas não reveladas\n",
    "\n",
    "* _Rene_: QAOA\n",
    "\n",
    "* _Isabella_: Teleportação\n",
    "\n",
    "* _João_: Compilador\n",
    "\n",
    "* _Lucas_: \n",
    "\n",
    "* _Victor_:"
   ]
  },
  {
   "cell_type": "markdown",
   "id": "45bcceff",
   "metadata": {},
   "source": [
    "## Outros temas\n",
    "\n",
    "* Codificação superdensa\n",
    "\n",
    "* \n"
   ]
  }
 ],
 "metadata": {
  "kernelspec": {
   "display_name": "Python 3",
   "language": "python",
   "name": "python3"
  },
  "language_info": {
   "codemirror_mode": {
    "name": "ipython",
    "version": 3
   },
   "file_extension": ".py",
   "mimetype": "text/x-python",
   "name": "python",
   "nbconvert_exporter": "python",
   "pygments_lexer": "ipython3",
   "version": "3.8.8"
  }
 },
 "nbformat": 4,
 "nbformat_minor": 5
}
